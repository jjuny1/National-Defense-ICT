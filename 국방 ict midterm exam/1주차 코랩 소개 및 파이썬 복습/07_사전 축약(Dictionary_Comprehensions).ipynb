{
  "cells": [
    {
      "cell_type": "markdown",
      "id": "f76cf3b1",
      "metadata": {
        "id": "f76cf3b1"
      },
      "source": [
        "## Dictionary Comprehensions"
      ]
    },
    {
      "cell_type": "code",
      "source": [
        "# Example 1: Create a dictionary of squares of numbers from 1 to 10\n",
        "\n",
        "squares = {x: x**2 for x in range(1, 11)}\n",
        "print(squares)"
      ],
      "metadata": {
        "colab": {
          "base_uri": "https://localhost:8080/"
        },
        "id": "M9yjX44KiN_m",
        "outputId": "693468aa-f027-4b69-daf7-0570e67f5fb9"
      },
      "id": "M9yjX44KiN_m",
      "execution_count": 1,
      "outputs": [
        {
          "output_type": "stream",
          "name": "stdout",
          "text": [
            "{1: 1, 2: 4, 3: 9, 4: 16, 5: 25, 6: 36, 7: 49, 8: 64, 9: 81, 10: 100}\n"
          ]
        }
      ]
    },
    {
      "cell_type": "code",
      "source": [
        "# Example 2: Create a dictionary from two lists\n",
        "\n",
        "keys = [\"a\", \"b\", \"c\"]\n",
        "values = [1, 2, 3]\n",
        "my_dict = {key: value for key, value in zip(keys, values)}\n",
        "print(my_dict)\n"
      ],
      "metadata": {
        "colab": {
          "base_uri": "https://localhost:8080/"
        },
        "id": "fyMnywxqiPvH",
        "outputId": "3d08d8b8-a149-4d79-ecad-f34b5fddd4ed"
      },
      "id": "fyMnywxqiPvH",
      "execution_count": 2,
      "outputs": [
        {
          "output_type": "stream",
          "name": "stdout",
          "text": [
            "{'a': 1, 'b': 2, 'c': 3}\n"
          ]
        }
      ]
    },
    {
      "cell_type": "code",
      "source": [
        "# Example 3: Filter a dictionary based on a condition\n",
        "\n",
        "my_dict = {'a': 1, 'b': 2, 'c': 3, 'd': 4, 'e': 5}\n",
        "filtered_dict = {key: value for key, value in my_dict.items() if value % 2 == 0}\n",
        "print(filtered_dict)\n"
      ],
      "metadata": {
        "colab": {
          "base_uri": "https://localhost:8080/"
        },
        "id": "_hcoECPkiSDw",
        "outputId": "fd0b9bca-b75e-4ee2-afa4-da7148e13ef2"
      },
      "id": "_hcoECPkiSDw",
      "execution_count": 3,
      "outputs": [
        {
          "output_type": "stream",
          "name": "stdout",
          "text": [
            "{'b': 2, 'd': 4}\n"
          ]
        }
      ]
    },
    {
      "cell_type": "code",
      "source": [],
      "metadata": {
        "id": "xD6in63diUsl"
      },
      "id": "xD6in63diUsl",
      "execution_count": null,
      "outputs": []
    }
  ],
  "metadata": {
    "kernelspec": {
      "display_name": "Python 3 (ipykernel)",
      "language": "python",
      "name": "python3"
    },
    "language_info": {
      "codemirror_mode": {
        "name": "ipython",
        "version": 3
      },
      "file_extension": ".py",
      "mimetype": "text/x-python",
      "name": "python",
      "nbconvert_exporter": "python",
      "pygments_lexer": "ipython3",
      "version": "3.10.2"
    },
    "colab": {
      "provenance": []
    }
  },
  "nbformat": 4,
  "nbformat_minor": 5
}