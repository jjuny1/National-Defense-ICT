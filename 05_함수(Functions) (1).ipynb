{
  "cells": [
    {
      "cell_type": "markdown",
      "id": "ba586f0c",
      "metadata": {
        "id": "ba586f0c"
      },
      "source": [
        "## 함수 (Functions)"
      ]
    },
    {
      "cell_type": "code",
      "execution_count": null,
      "id": "dd1cfd33",
      "metadata": {
        "id": "dd1cfd33",
        "outputId": "3d38f6b1-760e-4b5b-e05a-13c15b5a11b2"
      },
      "outputs": [
        {
          "name": "stdout",
          "output_type": "stream",
          "text": [
            "Hello, World!\n"
          ]
        }
      ],
      "source": [
        "print('Hello, World!')  # print는 함수이다. "
      ]
    },
    {
      "cell_type": "code",
      "execution_count": 1,
      "id": "ad0049c8",
      "metadata": {
        "colab": {
          "base_uri": "https://localhost:8080/"
        },
        "id": "ad0049c8",
        "outputId": "6bd2911a-e572-407e-d120-59484833cb8c"
      },
      "outputs": [
        {
          "output_type": "execute_result",
          "data": {
            "text/plain": [
              "12"
            ]
          },
          "metadata": {},
          "execution_count": 1
        }
      ],
      "source": [
        "def multiplyByThree(val):  # 함수 정의 \n",
        "    return 3 * val\n",
        "\n",
        "multiplyByThree(4)         # 함수 호출 "
      ]
    },
    {
      "cell_type": "code",
      "execution_count": 2,
      "id": "5b73fcaa",
      "metadata": {
        "id": "5b73fcaa"
      },
      "outputs": [],
      "source": [
        "def multiply(val1, val2):\n",
        "    return val1 * val2"
      ]
    },
    {
      "cell_type": "code",
      "execution_count": 3,
      "id": "9b62e051",
      "metadata": {
        "colab": {
          "base_uri": "https://localhost:8080/"
        },
        "id": "9b62e051",
        "outputId": "7889df21-36f6-4cc0-fb9f-73af23a63d73"
      },
      "outputs": [
        {
          "output_type": "execute_result",
          "data": {
            "text/plain": [
              "12"
            ]
          },
          "metadata": {},
          "execution_count": 3
        }
      ],
      "source": [
        "multiply(3, 4)"
      ]
    },
    {
      "cell_type": "code",
      "execution_count": 4,
      "id": "2cec9e99",
      "metadata": {
        "colab": {
          "base_uri": "https://localhost:8080/"
        },
        "id": "2cec9e99",
        "outputId": "3ba9ef61-e5dc-425d-8f4d-0bf9922d7928"
      },
      "outputs": [
        {
          "output_type": "stream",
          "name": "stdout",
          "text": [
            "[1, 2, 3, 4]\n"
          ]
        }
      ],
      "source": [
        "a = [1,2,3]\n",
        "\n",
        "def appendFour(myList):\n",
        "    myList.append(4)\n",
        "    \n",
        "appendFour(a)\n",
        "print(a)"
      ]
    },
    {
      "cell_type": "code",
      "execution_count": 7,
      "id": "beb2bc22",
      "metadata": {
        "colab": {
          "base_uri": "https://localhost:8080/"
        },
        "id": "beb2bc22",
        "outputId": "577f90bd-ba02-460d-e185-30d3d1eb6fdc"
      },
      "outputs": [
        {
          "output_type": "stream",
          "name": "stdout",
          "text": [
            "Hello, World!\n",
            "None\n"
          ]
        }
      ],
      "source": [
        "print(print('Hello, World!'))   # print는 None을 반환한다. "
      ]
    },
    {
      "cell_type": "code",
      "source": [
        "y = print(\"Hello World!\")\n",
        "print(y)"
      ],
      "metadata": {
        "colab": {
          "base_uri": "https://localhost:8080/"
        },
        "id": "G4ABiSpgbNiU",
        "outputId": "a1df80e2-8b30-4563-f327-d7e4324ee191"
      },
      "id": "G4ABiSpgbNiU",
      "execution_count": 13,
      "outputs": [
        {
          "output_type": "stream",
          "name": "stdout",
          "text": [
            "Hello World!\n",
            "None\n"
          ]
        }
      ]
    },
    {
      "cell_type": "code",
      "execution_count": 8,
      "id": "ebcd84f9",
      "metadata": {
        "colab": {
          "base_uri": "https://localhost:8080/"
        },
        "id": "ebcd84f9",
        "outputId": "b0a72c1e-22ec-4c7c-c5c2-e9544b9efecc"
      },
      "outputs": [
        {
          "output_type": "execute_result",
          "data": {
            "text/plain": [
              "NoneType"
            ]
          },
          "metadata": {},
          "execution_count": 8
        }
      ],
      "source": [
        "type(None)"
      ]
    },
    {
      "cell_type": "code",
      "execution_count": 9,
      "id": "856a2d61",
      "metadata": {
        "colab": {
          "base_uri": "https://localhost:8080/",
          "height": 166
        },
        "id": "856a2d61",
        "outputId": "aac87e65-fc8f-4229-ca5a-801f6ab5a131"
      },
      "outputs": [
        {
          "output_type": "error",
          "ename": "TypeError",
          "evalue": "ignored",
          "traceback": [
            "\u001b[0;31m---------------------------------------------------------------------------\u001b[0m",
            "\u001b[0;31mTypeError\u001b[0m                                 Traceback (most recent call last)",
            "\u001b[0;32m<ipython-input-9-3fd8740bf8ab>\u001b[0m in \u001b[0;36m<module>\u001b[0;34m\u001b[0m\n\u001b[0;32m----> 1\u001b[0;31m \u001b[0;32mNone\u001b[0m \u001b[0;34m+\u001b[0m \u001b[0;36m1\u001b[0m\u001b[0;34m\u001b[0m\u001b[0;34m\u001b[0m\u001b[0m\n\u001b[0m",
            "\u001b[0;31mTypeError\u001b[0m: unsupported operand type(s) for +: 'NoneType' and 'int'"
          ]
        }
      ],
      "source": [
        "None + 1"
      ]
    },
    {
      "cell_type": "markdown",
      "source": [
        "### 람다 함수 (Lambda functions)"
      ],
      "metadata": {
        "id": "XEzoyvtmoDm0"
      },
      "id": "XEzoyvtmoDm0"
    },
    {
      "cell_type": "code",
      "execution_count": null,
      "id": "8a011328",
      "metadata": {
        "id": "8a011328"
      },
      "outputs": [],
      "source": [
        "2 + 3"
      ]
    },
    {
      "cell_type": "code",
      "source": [
        "(lambda x: x + 3)(5)"
      ],
      "metadata": {
        "colab": {
          "base_uri": "https://localhost:8080/"
        },
        "id": "ZpF2EnADoIDX",
        "outputId": "b92f67fc-32d0-4a2c-d45c-2459dca0ac48"
      },
      "id": "ZpF2EnADoIDX",
      "execution_count": 1,
      "outputs": [
        {
          "output_type": "execute_result",
          "data": {
            "text/plain": [
              "8"
            ]
          },
          "metadata": {},
          "execution_count": 1
        }
      ]
    },
    {
      "cell_type": "code",
      "source": [
        "myList = [5,4,3,2]\n",
        "sorted(myList)"
      ],
      "metadata": {
        "colab": {
          "base_uri": "https://localhost:8080/"
        },
        "id": "G3G2zZNvoLAZ",
        "outputId": "c67e7991-08bb-46ff-b451-4c53bb0b2f00"
      },
      "id": "G3G2zZNvoLAZ",
      "execution_count": 2,
      "outputs": [
        {
          "output_type": "execute_result",
          "data": {
            "text/plain": [
              "[2, 3, 4, 5]"
            ]
          },
          "metadata": {},
          "execution_count": 2
        }
      ]
    },
    {
      "cell_type": "code",
      "source": [
        "myList = [{'num': 3}, {'num': 2}, {'num': 1}]\n",
        "sorted(myList, key=lambda x: x['num'])"
      ],
      "metadata": {
        "id": "U3e5czgpoMao"
      },
      "id": "U3e5czgpoMao",
      "execution_count": null,
      "outputs": []
    }
  ],
  "metadata": {
    "kernelspec": {
      "display_name": "Python 3 (ipykernel)",
      "language": "python",
      "name": "python3"
    },
    "language_info": {
      "codemirror_mode": {
        "name": "ipython",
        "version": 3
      },
      "file_extension": ".py",
      "mimetype": "text/x-python",
      "name": "python",
      "nbconvert_exporter": "python",
      "pygments_lexer": "ipython3",
      "version": "3.10.2"
    },
    "colab": {
      "provenance": []
    }
  },
  "nbformat": 4,
  "nbformat_minor": 5
}