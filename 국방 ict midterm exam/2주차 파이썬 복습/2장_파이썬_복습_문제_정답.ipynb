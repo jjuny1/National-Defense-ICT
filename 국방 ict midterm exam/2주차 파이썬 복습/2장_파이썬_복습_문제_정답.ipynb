{
  "nbformat": 4,
  "nbformat_minor": 0,
  "metadata": {
    "colab": {
      "provenance": []
    },
    "kernelspec": {
      "name": "python3",
      "display_name": "Python 3"
    },
    "language_info": {
      "name": "python"
    }
  },
  "cells": [
    {
      "cell_type": "code",
      "metadata": {
        "colab": {
          "base_uri": "https://localhost:8080/"
        },
        "id": "Qw4wiYyRjUGR",
        "outputId": "a264251f-c562-4e44-c817-3dc5a9dfcbd2"
      },
      "source": [
        "#Q1 해답\n",
        "list1 = eval(input())\n",
        "sum = 0\n",
        "for x in list1:\n",
        "  sum = sum + x\n",
        "print(sum)"
      ],
      "execution_count": null,
      "outputs": [
        {
          "output_type": "stream",
          "text": [
            "[1, 2, -2, 1]\n",
            "4\n"
          ],
          "name": "stdout"
        }
      ]
    },
    {
      "cell_type": "code",
      "metadata": {
        "id": "8KexH7dhjXJb"
      },
      "source": [
        "#Q2 해답\n",
        "list1 = eval(input())\n",
        "sum = 0\n",
        "for x in list1:\n",
        "  if x > 0:\n",
        "    sum = sum + x\n",
        "print(sum)"
      ],
      "execution_count": null,
      "outputs": []
    },
    {
      "cell_type": "code",
      "metadata": {
        "colab": {
          "base_uri": "https://localhost:8080/"
        },
        "id": "AkQoZXF1jXUI",
        "outputId": "32e21590-7f75-47c8-e241-dc11fe9d3f8f"
      },
      "source": [
        "#Q3 해답\n",
        "r = int(input())\n",
        "import math\n",
        "print(math.pi*r*r, 2 * math.pi * r)"
      ],
      "execution_count": null,
      "outputs": [
        {
          "output_type": "stream",
          "text": [
            "1\n",
            "3.141592653589793 6.283185307179586\n"
          ],
          "name": "stdout"
        }
      ]
    },
    {
      "cell_type": "code",
      "source": [],
      "metadata": {
        "id": "vA6vr0KUYfzn"
      },
      "execution_count": null,
      "outputs": []
    },
    {
      "cell_type": "code",
      "metadata": {
        "colab": {
          "base_uri": "https://localhost:8080/"
        },
        "id": "_dmg112fjXb4",
        "outputId": "7e4fd94e-579e-4367-ec07-ad36fd267ad5"
      },
      "source": [
        "#Q4 해답\n",
        "import math\n",
        "print(math.factorial(10))\n",
        "print(math.sqrt(10))\n",
        "print(math.cos(0))"
      ],
      "execution_count": null,
      "outputs": [
        {
          "output_type": "stream",
          "text": [
            "3628800\n",
            "3.1622776601683795\n",
            "1.0\n"
          ],
          "name": "stdout"
        }
      ]
    },
    {
      "cell_type": "code",
      "metadata": {
        "id": "1VzkGOOqjXs1"
      },
      "source": [
        "#Q5 해답\n",
        "x = int(input())\n",
        "import math\n",
        "y = x**3\n",
        "z = math.factorial(x)\n",
        "if y > z:\n",
        "  print(\"n^3이 더 큽니다!\")\n",
        "elif y < z:\n",
        "  print(\"n!이 더 큽니다!\")"
      ],
      "execution_count": null,
      "outputs": []
    },
    {
      "cell_type": "code",
      "metadata": {
        "colab": {
          "base_uri": "https://localhost:8080/"
        },
        "id": "8rIETAfzjXyF",
        "outputId": "646a3916-8a45-47cc-d844-2aeab8c15765"
      },
      "source": [
        "#Q6 해답\n",
        "list1 = eval(input())\n",
        "basket = []\n",
        "lenth = len(list1)\n",
        "for x in range(0, lenth):\n",
        "   basket.ppend(list1[x])\n",
        "#  basket.append(min(list1))\n",
        "   basket.sort()\n",
        "#  list1.remove(min(list1))\n",
        "print(basket)"
      ],
      "execution_count": null,
      "outputs": [
        {
          "output_type": "stream",
          "text": [
            "[10,20,30,40,30,20,10]\n",
            "[10, 10, 20, 20, 30, 30, 40]\n"
          ],
          "name": "stdout"
        }
      ]
    },
    {
      "cell_type": "code",
      "metadata": {
        "colab": {
          "base_uri": "https://localhost:8080/"
        },
        "id": "CpZdJyB6SiNA",
        "outputId": "47492c55-d73e-4e3d-be3b-7e50a8777332"
      },
      "source": [
        "#Q7 해답\n",
        "price = int(input())\n",
        "return1 = 1000 - price\n",
        "basket = []\n",
        "basket.append(return1 // 500)\n",
        "basket.append((return1 % 500) // 100)\n",
        "basket.append((return1 % 100) // 50)\n",
        "basket.append((return1 % 50) // 10)\n",
        "print(basket)"
      ],
      "execution_count": null,
      "outputs": [
        {
          "output_type": "stream",
          "text": [
            "320\n",
            "[1, 1, 1, 3]\n"
          ],
          "name": "stdout"
        }
      ]
    },
    {
      "cell_type": "code",
      "metadata": {
        "colab": {
          "base_uri": "https://localhost:8080/"
        },
        "id": "OiYelI_RSicS",
        "outputId": "de68f51e-543e-47b1-ea84-b5ff573dc28a"
      },
      "source": [
        "#Q8 해답Q8 해답\n",
        "def function(n):\n",
        "  sum = 0\n",
        "    for x in range(1, n+1):\n",
        "        sum += (4*(-1)**(x+1))/(2*x-1)\n",
        "          return sum  \n",
        "          print(function(10))\n",
        "          print(function(100))\n",
        "          print(function(1000))\n",
        "def function(n):\n",
        "  sum = 0\n",
        "  for x in range(1, n+1):\n",
        "    sum += (4*(-1)**(x+1))/(2*x-1)\n",
        "  return sum  \n",
        "print(function(10))\n",
        "print(function(100))\n",
        "print(function(1000))"
      ],
      "execution_count": null,
      "outputs": [
        {
          "output_type": "stream",
          "text": [
            "3.0418396189294032\n",
            "3.1315929035585537\n",
            "3.140592653839794\n"
          ],
          "name": "stdout"
        }
      ]
    },
    {
      "cell_type": "code",
      "metadata": {
        "colab": {
          "base_uri": "https://localhost:8080/"
        },
        "id": "o4ZGdoFgSikS",
        "outputId": "b279e9d2-9f66-43b8-a668-56f46e017ffd"
      },
      "source": [
        "#Q9 해답\n",
        "list1 = eval(input())\n",
        "list2 = eval(input())\n",
        "total = 0\n",
        "for x in range(0, len(list1)):\n",
        "  if list1[x] > list2[x]:\n",
        "    total += 1\n",
        "print(total)"
      ],
      "execution_count": null,
      "outputs": [
        {
          "output_type": "stream",
          "text": [
            "[4,4,4,4]\n",
            "[3,3,8,2]\n",
            "3\n"
          ],
          "name": "stdout"
        }
      ]
    },
    {
      "cell_type": "code",
      "metadata": {
        "colab": {
          "base_uri": "https://localhost:8080/"
        },
        "id": "p7DqqDFkSiwZ",
        "outputId": "a9c45c31-61e6-4b78-e7d6-6612b9ddd0e7"
      },
      "source": [
        "#Q10 해답\n",
        "list1 = eval(input())\n",
        "type1 = set(list1)\n",
        "sum = 0\n",
        "for x in type1:\n",
        "  sum += list1.count(x) // 2\n",
        "print(sum)"
      ],
      "execution_count": null,
      "outputs": [
        {
          "output_type": "stream",
          "text": [
            "[10,20,30,10]\n",
            "1\n"
          ],
          "name": "stdout"
        }
      ]
    },
    {
      "cell_type": "code",
      "metadata": {
        "id": "mokie8B9U8ck"
      },
      "source": [
        "#Q11 해답: 개미 수열의 경우, 풀이가 다양하게 존재합니다.\n",
        "#이 문제는, 코딩 실력이 좋은 학생들이 위 문제를 다 풀고 노는 것을 방지하기 위해서 넣었습니다.\n",
        "#첨부해드린 링크를 참고 부탁드립니다. https://devmoons.tistory.com/entry/%EA%B0%9C%EB%AF%B8%EC%88%98%EC%97%B4\n",
        "\n"
      ],
      "execution_count": null,
      "outputs": []
    }
  ]
}