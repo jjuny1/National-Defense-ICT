{
 "cells": [
  {
   "cell_type": "markdown",
   "metadata": {},
   "source": [
    "## 선형회귀 실습"
   ]
  },
  {
   "cell_type": "markdown",
   "metadata": {},
   "source": [
    "- 출력값은 입력값에 1을 더한 값이다. "
   ]
  },
  {
   "cell_type": "code",
   "execution_count": 1,
   "metadata": {
    "ExecuteTime": {
     "end_time": "2020-04-30T23:00:11.737054Z",
     "start_time": "2020-04-30T23:00:11.478701Z"
    }
   },
   "outputs": [
    {
     "name": "stdout",
     "output_type": "stream",
     "text": [
      "x_data.shape =  (5, 1) , t_data.shape =  (5, 1)\n"
     ]
    }
   ],
   "source": [
    "import numpy as np\n",
    "\n",
    "x_data = np.array([1, 2, 3, 4, 5]).reshape(5,1) # 입력값\n",
    "t_data = np.array([2, 3, 4, 5, 6]).reshape(5,1) # target, 즉 정답값\n",
    "\n",
    "# raw_data = [ [1, 2], [2, 3], [3, 4], [4, 5], [5, 6] ]\n",
    "\n",
    "print(\"x_data.shape = \", x_data.shape, \", t_data.shape = \", t_data.shape)"
   ]
  },
  {
   "cell_type": "code",
   "execution_count": 2,
   "metadata": {
    "ExecuteTime": {
     "end_time": "2020-04-30T23:00:11.744018Z",
     "start_time": "2020-04-30T23:00:11.738033Z"
    }
   },
   "outputs": [
    {
     "name": "stdout",
     "output_type": "stream",
     "text": [
      "W =  [[0.89415749]] , W.shape =  (1, 1) , b =  [0.39582683] , b.shape =  (1,)\n"
     ]
    }
   ],
   "source": [
    "W = np.random.rand(1,1)    # 임의의 값을 생성  \n",
    "b = np.random.rand(1)      # 임의의 값을 생성 \n",
    "print(\"W = \", W, \", W.shape = \", W.shape, \", b = \", b, \", b.shape = \", b.shape)"
   ]
  },
  {
   "cell_type": "code",
   "execution_count": 3,
   "metadata": {
    "ExecuteTime": {
     "end_time": "2020-04-30T23:00:11.755986Z",
     "start_time": "2020-04-30T23:00:11.746012Z"
    }
   },
   "outputs": [],
   "source": [
    "# 손실함수는 MSE를 사용\n",
    "# 손실함수 정의\n",
    "def loss_func(x, t):\n",
    "    y = np.dot(x,W) + b\n",
    "    \n",
    "    return ( np.sum( (t - y)**2 ) ) / ( len(x) )"
   ]
  },
  {
   "cell_type": "code",
   "execution_count": 4,
   "metadata": {
    "ExecuteTime": {
     "end_time": "2020-04-30T23:00:11.788908Z",
     "start_time": "2020-04-30T23:00:11.777927Z"
    }
   },
   "outputs": [],
   "source": [
    "# 수치 미분 부분은 우선 그냥 넘어간다. 별도의 시간에 아래 내용에 대해서 상세히 다룸. \n",
    "# 수치 미분 함수 \n",
    "def numerical_derivative(f, x):\n",
    "    delta_x = 1e-4 # 0.0001     # \n",
    "    grad = np.zeros_like(x)      # x와 같은 shape의 변수를 만든다. \n",
    "      \n",
    "    it = np.nditer(x, flags=['multi_index'], op_flags=['readwrite'])  # \n",
    "    \n",
    "    while not it.finished:\n",
    "        idx = it.multi_index        \n",
    "        tmp_val = x[idx]\n",
    "        x[idx] = float(tmp_val) + delta_x\n",
    "        fx1 = f(x) # f(x+delta_x)\n",
    "        \n",
    "        x[idx] = tmp_val - delta_x \n",
    "        fx2 = f(x) # f(x-delta_x)\n",
    "        grad[idx] = (fx1 - fx2) / (2*delta_x)\n",
    "        \n",
    "        x[idx] = tmp_val \n",
    "        it.iternext()   \n",
    "        \n",
    "    return grad"
   ]
  },
  {
   "cell_type": "code",
   "execution_count": 5,
   "metadata": {
    "ExecuteTime": {
     "end_time": "2020-04-30T23:00:11.844766Z",
     "start_time": "2020-04-30T23:00:11.792889Z"
    }
   },
   "outputs": [],
   "source": [
    "# 손실함수 값 계산 함수\n",
    "# 입력변수 x, t : numpy type\n",
    "def error_val(x, t):\n",
    "    y = np.dot(x,W) + b\n",
    "    \n",
    "    return ( np.sum( (t - y)**2 ) ) / ( len(x) )\n",
    "\n",
    "# 학습을 마친 후, 임의의 데이터에 대해 미래 값 예측 함수\n",
    "# 입력변수 x : numpy type\n",
    "def predict(x):\n",
    "    y = np.dot(x,W) + b\n",
    "    \n",
    "    return y"
   ]
  },
  {
   "cell_type": "code",
   "execution_count": 6,
   "metadata": {
    "ExecuteTime": {
     "end_time": "2020-04-30T23:00:12.888467Z",
     "start_time": "2020-04-30T23:00:11.846742Z"
    }
   },
   "outputs": [
    {
     "name": "stdout",
     "output_type": "stream",
     "text": [
      "Initial error value =  0.8719374524581787 Initial W =  [[0.89415749]] \n",
      " , b =  [0.39582683]\n",
      "step =  0 error value =  0.5346099009065639 W =  [[0.95369323]] , b =  [0.41068869]\n",
      "step =  400 error value =  0.003469740222075203 W =  [[1.03825121]] , b =  [0.86193478]\n",
      "step =  800 error value =  0.00022138993917831818 W =  [[1.00966219]] , b =  [0.96512496]\n",
      "step =  1200 error value =  1.4125986970880614e-05 W =  [[1.00244065]] , b =  [0.99119062]\n",
      "step =  1600 error value =  9.013214811931706e-07 W =  [[1.0006165]] , b =  [0.99777477]\n",
      "step =  2000 error value =  5.7509639088194094e-08 W =  [[1.00015573]] , b =  [0.99943791]\n",
      "step =  2400 error value =  3.6694549692111096e-09 W =  [[1.00003934]] , b =  [0.99985802]\n",
      "step =  2800 error value =  2.3413292075969666e-10 W =  [[1.00000994]] , b =  [0.99996414]\n",
      "step =  3200 error value =  1.4939064532515263e-11 W =  [[1.00000251]] , b =  [0.99999094]\n",
      "step =  3600 error value =  9.53200636503663e-13 W =  [[1.00000063]] , b =  [0.99999771]\n",
      "step =  4000 error value =  6.081983599372952e-14 W =  [[1.00000016]] , b =  [0.99999942]\n",
      "step =  4400 error value =  3.880665100482527e-15 W =  [[1.00000004]] , b =  [0.99999985]\n",
      "step =  4800 error value =  2.4760937229044927e-16 W =  [[1.00000001]] , b =  [0.99999996]\n",
      "step =  5200 error value =  1.5798943845744928e-17 W =  [[1.]] , b =  [0.99999999]\n",
      "step =  5600 error value =  1.008065826730867e-18 W =  [[1.]] , b =  [1.]\n",
      "step =  6000 error value =  6.432086088751119e-20 W =  [[1.]] , b =  [1.]\n",
      "step =  6400 error value =  4.104031092884222e-21 W =  [[1.]] , b =  [1.]\n",
      "step =  6800 error value =  2.618628741943838e-22 W =  [[1.]] , b =  [1.]\n",
      "step =  7200 error value =  1.67105095806259e-23 W =  [[1.]] , b =  [1.]\n",
      "step =  7600 error value =  1.067984269290177e-24 W =  [[1.]] , b =  [1.]\n",
      "step =  8000 error value =  6.842611046323265e-26 W =  [[1.]] , b =  [1.]\n"
     ]
    }
   ],
   "source": [
    "learning_rate = 1e-2  # 발산하는 경우, 1e-3 ~ 1e-6 등으로 바꾸어서 실행\n",
    "\n",
    "f = lambda x : loss_func(x_data,t_data)\n",
    "\n",
    "print(\"Initial error value = \", error_val(x_data, t_data), \"Initial W = \", W, \"\\n\", \", b = \", b )\n",
    "\n",
    "for step in  range(8001):  \n",
    "    \n",
    "    W -= learning_rate * numerical_derivative(f, W)\n",
    "    \n",
    "    b -= learning_rate * numerical_derivative(f, b)\n",
    "    \n",
    "    if (step % 400 == 0):\n",
    "        print(\"step = \", step, \"error value = \", error_val(x_data, t_data), \"W = \", W, \", b = \",b )"
   ]
  },
  {
   "cell_type": "code",
   "execution_count": 7,
   "metadata": {
    "ExecuteTime": {
     "end_time": "2020-04-30T23:00:12.925368Z",
     "start_time": "2020-04-30T23:00:12.903433Z"
    }
   },
   "outputs": [
    {
     "data": {
      "text/plain": [
       "array([[56.]])"
      ]
     },
     "execution_count": 7,
     "metadata": {},
     "output_type": "execute_result"
    }
   ],
   "source": [
    "predict(55) "
   ]
  },
  {
   "cell_type": "code",
   "execution_count": null,
   "metadata": {},
   "outputs": [],
   "source": []
  }
 ],
 "metadata": {
  "anaconda-cloud": {},
  "kernelspec": {
   "display_name": "Python 3",
   "language": "python",
   "name": "python3"
  },
  "language_info": {
   "codemirror_mode": {
    "name": "ipython",
    "version": 3
   },
   "file_extension": ".py",
   "mimetype": "text/x-python",
   "name": "python",
   "nbconvert_exporter": "python",
   "pygments_lexer": "ipython3",
   "version": "3.7.6"
  },
  "varInspector": {
   "cols": {
    "lenName": 16,
    "lenType": 16,
    "lenVar": 40
   },
   "kernels_config": {
    "python": {
     "delete_cmd_postfix": "",
     "delete_cmd_prefix": "del ",
     "library": "var_list.py",
     "varRefreshCmd": "print(var_dic_list())"
    },
    "r": {
     "delete_cmd_postfix": ") ",
     "delete_cmd_prefix": "rm(",
     "library": "var_list.r",
     "varRefreshCmd": "cat(var_dic_list()) "
    }
   },
   "types_to_exclude": [
    "module",
    "function",
    "builtin_function_or_method",
    "instance",
    "_Feature"
   ],
   "window_display": false
  }
 },
 "nbformat": 4,
 "nbformat_minor": 1
}
