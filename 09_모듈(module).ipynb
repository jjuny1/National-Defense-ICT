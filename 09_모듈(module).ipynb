{
  "cells": [
    {
      "cell_type": "markdown",
      "id": "f76cf3b1",
      "metadata": {
        "id": "f76cf3b1"
      },
      "source": [
        "## Module\n",
        "* A module is a file containing Python definitions and statements. \n",
        "* A module can define **functions**, **classes**, and **variables**, or it can simply contain **code** that is intended to be run when the module is imported.\n",
        "\n",
        "## Module 사용법\n",
        "* import 모듈명 as 약칭 \n",
        "  * 모듈 이름을 축약어(약칭)로 가져올 때 \n",
        "  * ex) import numpy as np \n",
        "\n",
        "* from 모듈명 import 변수/함수 \n",
        "  * 모듈의 일부만을 가져올 때 \n",
        "  * ex) from math import pi, gcd\n",
        "\n",
        "* from 모듈명 import * \n",
        "  * 모듈의 전부를 가져올 때 \n",
        "  * ex) from math import * \n",
        "\n",
        "* from 모듈 import 변수/함수 as 약칭 \n",
        "  * 모듈의 일부만을 축약어(약칭)로 가져올 때 \n",
        "  * ex) from math import pi as p, gcd as g"
      ]
    },
    {
      "cell_type": "code",
      "source": [
        "## import 모듈명 as 약칭 \n",
        "\n",
        "import math as m \n",
        "\n",
        "gcd_num = m.gcd(6, 18)\n",
        "print(gcd_num)\n",
        "print(m.pi)\n"
      ],
      "metadata": {
        "colab": {
          "base_uri": "https://localhost:8080/"
        },
        "id": "M9yjX44KiN_m",
        "outputId": "fa7b9dd2-85bd-40a5-fc48-dc9f30abdbb5"
      },
      "id": "M9yjX44KiN_m",
      "execution_count": 1,
      "outputs": [
        {
          "output_type": "stream",
          "name": "stdout",
          "text": [
            "6\n",
            "3.141592653589793\n"
          ]
        }
      ]
    },
    {
      "cell_type": "code",
      "source": [
        "## from 모듈명 import 변수/함수 \n",
        "\n",
        "from math import pi, gcd\n",
        "\n",
        "gcd(6, 18)    # 모듈명이 불필요 \n",
        "print(pi)     # 모듈명이 불필요 \n"
      ],
      "metadata": {
        "colab": {
          "base_uri": "https://localhost:8080/"
        },
        "id": "fyMnywxqiPvH",
        "outputId": "4a617289-f95f-4bf5-c033-e9e84807eb83"
      },
      "id": "fyMnywxqiPvH",
      "execution_count": 2,
      "outputs": [
        {
          "output_type": "stream",
          "name": "stdout",
          "text": [
            "3.141592653589793\n"
          ]
        }
      ]
    },
    {
      "cell_type": "code",
      "source": [
        "## from 모듈명 import * \n",
        "\n",
        "from math import * \n",
        "\n",
        "print(pi)\n",
        "print(gcd(6, 18))\n",
        "print(sqrt(4))\n"
      ],
      "metadata": {
        "colab": {
          "base_uri": "https://localhost:8080/"
        },
        "id": "_hcoECPkiSDw",
        "outputId": "6a0fe2b1-929f-43d4-dda8-904a538cd1b4"
      },
      "id": "_hcoECPkiSDw",
      "execution_count": 4,
      "outputs": [
        {
          "output_type": "stream",
          "name": "stdout",
          "text": [
            "3.141592653589793\n",
            "6\n",
            "2.0\n"
          ]
        }
      ]
    },
    {
      "cell_type": "code",
      "source": [
        "## from 모듈 import 변수/함수 as 약칭 \n",
        "\n",
        "from math import pi as p, gcd as g \n",
        "\n",
        "print(p)\n",
        "print(g(6, 18))"
      ],
      "metadata": {
        "id": "xD6in63diUsl",
        "colab": {
          "base_uri": "https://localhost:8080/"
        },
        "outputId": "f87f3d37-2cfe-4612-c60a-f9dfb5e577ce"
      },
      "id": "xD6in63diUsl",
      "execution_count": 8,
      "outputs": [
        {
          "output_type": "stream",
          "name": "stdout",
          "text": [
            "3.141592653589793\n",
            "6\n"
          ]
        }
      ]
    },
    {
      "cell_type": "code",
      "source": [],
      "metadata": {
        "id": "9cBl5Zdn10yd"
      },
      "id": "9cBl5Zdn10yd",
      "execution_count": null,
      "outputs": []
    }
  ],
  "metadata": {
    "kernelspec": {
      "display_name": "Python 3 (ipykernel)",
      "language": "python",
      "name": "python3"
    },
    "language_info": {
      "codemirror_mode": {
        "name": "ipython",
        "version": 3
      },
      "file_extension": ".py",
      "mimetype": "text/x-python",
      "name": "python",
      "nbconvert_exporter": "python",
      "pygments_lexer": "ipython3",
      "version": "3.10.2"
    },
    "colab": {
      "provenance": []
    }
  },
  "nbformat": 4,
  "nbformat_minor": 5
}