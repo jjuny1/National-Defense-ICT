{
  "nbformat": 4,
  "nbformat_minor": 0,
  "metadata": {
    "colab": {
      "provenance": []
    },
    "kernelspec": {
      "name": "python3",
      "display_name": "Python 3"
    },
    "language_info": {
      "name": "python"
    }
  },
  "cells": [
    {
      "cell_type": "markdown",
      "source": [
        "# [시험 유의사항]\n",
        "1. 명예시험 절차를 준수하여 작성하시오.\n",
        "2. 본 시험은 **총 5개 문제**로 구성되어 있으며, **시험 시간은 25분**이다.\n",
        "3. 답안은 반드시 답안셀에 기입할 것.\n",
        "4. 휴대하고 있는 **모든 자료(강의슬라이드, 교재 등)의 열람이 가능**하다.\n",
        "5. **인터넷은 제한없이 사용이 가능**하다. 단, 채팅 등을 통한 **타인과의 대화는 불가능**하다. \n",
        "6. 답안 코드 작성 후 실행 여부를 반드시 확인하라. \n",
        "7. 시험 시작 후 노트북 충전 등의 목적으로 자리 이동은 불가하다. \n",
        "8. 주피터 노트북 파일의 **파일명**은 아래 예시와 같이 **자신의 교번과 이름**으로 하라. <br/>\n",
        "    예) 22_1학기_수시1_교번_13525_이름_홍길동\n",
        "9. 시험 종료 후 파일을 **LMS에 제출**하라 <br/>\n",
        "  - **지연 제출시 10점 감점**"
      ],
      "metadata": {
        "id": "O8LfB6R2cdTN"
      }
    },
    {
      "cell_type": "markdown",
      "source": [
        "## 1. 선형회귀 실습 -  sklearn "
      ],
      "metadata": {
        "id": "lbKG89tNbr32"
      }
    },
    {
      "cell_type": "code",
      "execution_count": null,
      "metadata": {
        "id": "79bTHldibnhW"
      },
      "outputs": [],
      "source": [
        "######################################\n",
        "## 아래 코드를 실행하시오. (수정 금지)\n",
        "###################################### \n",
        "from sklearn.linear_model import LinearRegression\n",
        "import pandas as pd\n",
        "import numpy as np\n",
        "import matplotlib.pyplot as plt\n",
        "from sklearn.model_selection import train_test_split\n",
        "\n",
        "\n",
        "## 파일 읽어오기 \n",
        "df = pd.read_csv(\"weight-height.csv\")\n"
      ]
    },
    {
      "cell_type": "markdown",
      "source": [
        "1. 주어진 데이터에서 Hight, Weight의 상관관계를 scatter 그래프로 표현하시오.</br>이때, x축은 Hight, y축은 Weight로 하시오. "
      ],
      "metadata": {
        "id": "W3AxfTEicxqk"
      }
    },
    {
      "cell_type": "code",
      "source": [
        "###################################### \n",
        "### 아래에 코드를 작성하시오. \n",
        "###################################### \n",
        "\n",
        "\n",
        "\n",
        "\n"
      ],
      "metadata": {
        "id": "R0-xHYBqb220"
      },
      "execution_count": null,
      "outputs": []
    },
    {
      "cell_type": "markdown",
      "source": [
        "2. 주어진 데이터를 train_test_split 함수를 이용하여 훈련데이터셋과 테스트데이터셋으로 구분하시오. </br>\n",
        "이때, 훈련데이터와 테스트데이터의 비율은 8:2로 하시오. "
      ],
      "metadata": {
        "id": "jB_xp33tgOuP"
      }
    },
    {
      "cell_type": "code",
      "source": [
        "###################################### \n",
        "### 아래에 코드를 작성하시오. \n",
        "###################################### \n",
        "\n",
        "\n",
        "\n",
        "\n"
      ],
      "metadata": {
        "id": "JylHCkTOgAkU"
      },
      "execution_count": null,
      "outputs": []
    },
    {
      "cell_type": "markdown",
      "source": [
        "3. sklearn의 LinearRegression()와 앞 문제에서 구한 학습데이터셋을 이용하여 모델을 생성하고 fit() 함수를 이용하여 학습하시오. \n"
      ],
      "metadata": {
        "id": "jSPVekrrgFBh"
      }
    },
    {
      "cell_type": "code",
      "source": [
        "###################################### \n",
        "### 아래에 코드를 작성하시오. \n",
        "###################################### \n",
        "\n",
        "\n",
        "\n"
      ],
      "metadata": {
        "id": "mJV0dT_WeW-y"
      },
      "execution_count": null,
      "outputs": []
    },
    {
      "cell_type": "markdown",
      "source": [
        "4. 학습된 선형회귀 모델의 파라미터들을 출력하시오. \n"
      ],
      "metadata": {
        "id": "hUOwsdcTg4Pj"
      }
    },
    {
      "cell_type": "code",
      "source": [
        "###################################### \n",
        "### 아래에 코드를 작성하시오. \n",
        "###################################### \n",
        "\n"
      ],
      "metadata": {
        "id": "39SyF2JnclJs"
      },
      "execution_count": null,
      "outputs": []
    },
    {
      "cell_type": "markdown",
      "source": [
        "5. 모델의 결정계수를 출력하시오. "
      ],
      "metadata": {
        "id": "z6DbsmGzfFW9"
      }
    },
    {
      "cell_type": "code",
      "source": [
        "###################################### \n",
        "### 아래에 코드를 작성하시오. \n",
        "###################################### \n",
        "\n"
      ],
      "metadata": {
        "id": "pJNIQd9fg-LX"
      },
      "execution_count": null,
      "outputs": []
    }
  ]
}