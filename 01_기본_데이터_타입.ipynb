{
  "cells": [
    {
      "cell_type": "markdown",
      "id": "72e8177d",
      "metadata": {
        "id": "72e8177d"
      },
      "source": [
        "# 기본 데이터 타입(Basic Data Types)"
      ]
    },
    {
      "cell_type": "markdown",
      "id": "62f373f2",
      "metadata": {
        "id": "62f373f2"
      },
      "source": [
        "## 변수 정의 (Defining a Variable)"
      ]
    },
    {
      "cell_type": "code",
      "execution_count": 2,
      "id": "c625d1e8",
      "metadata": {
        "id": "c625d1e8"
      },
      "outputs": [],
      "source": [
        "x = 5   # 변수 x, 변수의 타입은? int?, float? string?"
      ]
    },
    {
      "cell_type": "code",
      "execution_count": 3,
      "id": "e33dd9d1",
      "metadata": {
        "colab": {
          "base_uri": "https://localhost:8080/"
        },
        "id": "e33dd9d1",
        "outputId": "637feb89-8416-4944-83c5-f22dfdbf8a5a"
      },
      "outputs": [
        {
          "output_type": "stream",
          "name": "stdout",
          "text": [
            "5\n"
          ]
        }
      ],
      "source": [
        "print(x)"
      ]
    },
    {
      "cell_type": "code",
      "execution_count": 4,
      "id": "396bd3c1",
      "metadata": {
        "colab": {
          "base_uri": "https://localhost:8080/"
        },
        "id": "396bd3c1",
        "outputId": "d848e227-3fbe-4820-cdac-b0fb062024db"
      },
      "outputs": [
        {
          "output_type": "execute_result",
          "data": {
            "text/plain": [
              "5"
            ]
          },
          "metadata": {},
          "execution_count": 4
        }
      ],
      "source": [
        "x"
      ]
    },
    {
      "cell_type": "code",
      "execution_count": 5,
      "id": "e26b25dc",
      "metadata": {
        "colab": {
          "base_uri": "https://localhost:8080/",
          "height": 131
        },
        "id": "e26b25dc",
        "outputId": "e9b6e207-7835-43be-ec20-702a3949ef51"
      },
      "outputs": [
        {
          "output_type": "error",
          "ename": "SyntaxError",
          "evalue": "ignored",
          "traceback": [
            "\u001b[0;36m  File \u001b[0;32m\"<ipython-input-5-4bec10af70e4>\"\u001b[0;36m, line \u001b[0;32m1\u001b[0m\n\u001b[0;31m    1x    # 숫자로 시작하는 명수명은 불가\u001b[0m\n\u001b[0m     ^\u001b[0m\n\u001b[0;31mSyntaxError\u001b[0m\u001b[0;31m:\u001b[0m invalid syntax\n"
          ]
        }
      ],
      "source": [
        "1x    # 숫자로 시작하는 명수명은 불가"
      ]
    },
    {
      "cell_type": "code",
      "execution_count": 6,
      "id": "d045d01a",
      "metadata": {
        "id": "d045d01a"
      },
      "outputs": [],
      "source": [
        "name = 'Ryan'    # 변수의 타입은 언제 결정되는가?"
      ]
    },
    {
      "cell_type": "code",
      "execution_count": 8,
      "id": "eac35943",
      "metadata": {
        "colab": {
          "base_uri": "https://localhost:8080/"
        },
        "id": "eac35943",
        "outputId": "01beaaea-65f3-48ce-d29c-7cf5e1dd90ae"
      },
      "outputs": [
        {
          "output_type": "execute_result",
          "data": {
            "text/plain": [
              "str"
            ]
          },
          "metadata": {},
          "execution_count": 8
        }
      ],
      "source": [
        "type(name)"
      ]
    },
    {
      "cell_type": "code",
      "execution_count": 9,
      "id": "1a93aa83",
      "metadata": {
        "colab": {
          "base_uri": "https://localhost:8080/"
        },
        "id": "1a93aa83",
        "outputId": "ecd4c78f-f789-4d8f-c6a8-ee98a9f6be65"
      },
      "outputs": [
        {
          "output_type": "execute_result",
          "data": {
            "text/plain": [
              "int"
            ]
          },
          "metadata": {},
          "execution_count": 9
        }
      ],
      "source": [
        "type(x)"
      ]
    },
    {
      "cell_type": "markdown",
      "id": "8b7a8afe",
      "metadata": {
        "id": "8b7a8afe"
      },
      "source": [
        "## 숫자 (Numbers)"
      ]
    },
    {
      "cell_type": "code",
      "execution_count": 10,
      "id": "66b59611",
      "metadata": {
        "colab": {
          "base_uri": "https://localhost:8080/"
        },
        "id": "66b59611",
        "outputId": "9a809828-0479-4c0a-e9eb-132b120f423e"
      },
      "outputs": [
        {
          "output_type": "execute_result",
          "data": {
            "text/plain": [
              "float"
            ]
          },
          "metadata": {},
          "execution_count": 10
        }
      ],
      "source": [
        "type(1.5)"
      ]
    },
    {
      "cell_type": "code",
      "source": [
        "type(1)"
      ],
      "metadata": {
        "colab": {
          "base_uri": "https://localhost:8080/"
        },
        "id": "ims9SqOvPMlM",
        "outputId": "fdbfcbf4-4ff7-4ef0-840a-25a987730f2a"
      },
      "id": "ims9SqOvPMlM",
      "execution_count": 16,
      "outputs": [
        {
          "output_type": "execute_result",
          "data": {
            "text/plain": [
              "int"
            ]
          },
          "metadata": {},
          "execution_count": 16
        }
      ]
    },
    {
      "cell_type": "code",
      "execution_count": 11,
      "id": "260be4ae",
      "metadata": {
        "colab": {
          "base_uri": "https://localhost:8080/"
        },
        "id": "260be4ae",
        "outputId": "366e09ae-2c56-4ea8-a41d-c53fb3570540"
      },
      "outputs": [
        {
          "output_type": "execute_result",
          "data": {
            "text/plain": [
              "1.23456789"
            ]
          },
          "metadata": {},
          "execution_count": 11
        }
      ],
      "source": [
        "1.23456789"
      ]
    },
    {
      "cell_type": "code",
      "execution_count": 12,
      "id": "b0c62fcc",
      "metadata": {
        "colab": {
          "base_uri": "https://localhost:8080/"
        },
        "id": "b0c62fcc",
        "outputId": "cd7abe98-5078-4ebf-9310-4afac84dc8b5"
      },
      "outputs": [
        {
          "output_type": "execute_result",
          "data": {
            "text/plain": [
              "12345678.9"
            ]
          },
          "metadata": {},
          "execution_count": 12
        }
      ],
      "source": [
        "12345678.9"
      ]
    },
    {
      "cell_type": "code",
      "execution_count": 13,
      "id": "b57e9f24",
      "metadata": {
        "colab": {
          "base_uri": "https://localhost:8080/"
        },
        "id": "b57e9f24",
        "outputId": "5b205ff2-c1e7-45cd-aeca-4899b8a37677"
      },
      "outputs": [
        {
          "output_type": "execute_result",
          "data": {
            "text/plain": [
              "complex"
            ]
          },
          "metadata": {},
          "execution_count": 13
        }
      ],
      "source": [
        "type(2j)"
      ]
    },
    {
      "cell_type": "code",
      "execution_count": 14,
      "id": "70f204ce",
      "metadata": {
        "colab": {
          "base_uri": "https://localhost:8080/"
        },
        "id": "70f204ce",
        "outputId": "5e39f6af-94b3-4451-9101-d3b0f9e1d75d"
      },
      "outputs": [
        {
          "output_type": "execute_result",
          "data": {
            "text/plain": [
              "(-1+0j)"
            ]
          },
          "metadata": {},
          "execution_count": 14
        }
      ],
      "source": [
        "1j * 1j"
      ]
    },
    {
      "cell_type": "markdown",
      "id": "d6b29b9e",
      "metadata": {
        "id": "d6b29b9e"
      },
      "source": [
        "## 문자열(Strings)\n",
        "* a string is a sequence of characters enclosed within single quotes ('...') or double quotes (\"...\").\n",
        "* Strings are a built-in data type and are used to represent text and other types of data that can be represented as text.\n",
        "*Strings are also indexed, which means you can access individual characters * within a string using their position or index. "
      ]
    },
    {
      "cell_type": "code",
      "source": [
        "first_name = \"John\"\n",
        "last_name = \"Doe\"\n",
        "full_name = first_name + \" \" + last_name  # 여기서 + 연산자는 어떤 기능을 하는가?\n",
        "print(full_name)   # Output: John Doe\n"
      ],
      "metadata": {
        "colab": {
          "base_uri": "https://localhost:8080/"
        },
        "id": "QH7lUSOXQmKW",
        "outputId": "a3b6a5c1-1f02-4145-a72f-c4c8bff7bf15"
      },
      "id": "QH7lUSOXQmKW",
      "execution_count": 28,
      "outputs": [
        {
          "output_type": "stream",
          "name": "stdout",
          "text": [
            "John Doe\n"
          ]
        }
      ]
    },
    {
      "cell_type": "code",
      "execution_count": 18,
      "id": "14c2ced2",
      "metadata": {
        "colab": {
          "base_uri": "https://localhost:8080/",
          "height": 35
        },
        "id": "14c2ced2",
        "outputId": "e3168a3f-61af-4db4-bdb0-1daad0fc6cfc"
      },
      "outputs": [
        {
          "output_type": "execute_result",
          "data": {
            "text/plain": [
              "'11'"
            ],
            "application/vnd.google.colaboratory.intrinsic+json": {
              "type": "string"
            }
          },
          "metadata": {},
          "execution_count": 18
        }
      ],
      "source": [
        "'1' + '1'"
      ]
    },
    {
      "cell_type": "code",
      "source": [],
      "metadata": {
        "id": "U6RErY7lb7Je"
      },
      "id": "U6RErY7lb7Je",
      "execution_count": null,
      "outputs": []
    },
    {
      "cell_type": "code",
      "source": [],
      "metadata": {
        "id": "NieTDupIb7YJ"
      },
      "id": "NieTDupIb7YJ",
      "execution_count": null,
      "outputs": []
    },
    {
      "cell_type": "code",
      "execution_count": 20,
      "id": "1b327896",
      "metadata": {
        "colab": {
          "base_uri": "https://localhost:8080/",
          "height": 166
        },
        "id": "1b327896",
        "outputId": "fb12e5b2-d6c3-4272-c81a-9866c12a6a45"
      },
      "outputs": [
        {
          "output_type": "error",
          "ename": "TypeError",
          "evalue": "ignored",
          "traceback": [
            "\u001b[0;31m---------------------------------------------------------------------------\u001b[0m",
            "\u001b[0;31mTypeError\u001b[0m                                 Traceback (most recent call last)",
            "\u001b[0;32m<ipython-input-20-c66a55806d57>\u001b[0m in \u001b[0;36m<module>\u001b[0;34m\u001b[0m\n\u001b[0;32m----> 1\u001b[0;31m \u001b[0;34m'1'\u001b[0m \u001b[0;34m+\u001b[0m \u001b[0;36m1\u001b[0m     \u001b[0;31m# 피연산자의 데이터 타입이 같아야 한다.\u001b[0m\u001b[0;34m\u001b[0m\u001b[0;34m\u001b[0m\u001b[0m\n\u001b[0m",
            "\u001b[0;31mTypeError\u001b[0m: can only concatenate str (not \"int\") to str"
          ]
        }
      ],
      "source": [
        "'1' + 1     # 피연산자의 데이터 타입이 같아야 한다. "
      ]
    },
    {
      "cell_type": "code",
      "source": [
        "my_string = \"Hello, World!\"\n",
        "print(my_string[0])   # Output: H"
      ],
      "metadata": {
        "colab": {
          "base_uri": "https://localhost:8080/"
        },
        "id": "p541xwiPQgqW",
        "outputId": "cbf547a7-3774-4bf6-ed9c-1b3c35cf95f9"
      },
      "id": "p541xwiPQgqW",
      "execution_count": 27,
      "outputs": [
        {
          "output_type": "stream",
          "name": "stdout",
          "text": [
            "H\n"
          ]
        }
      ]
    },
    {
      "cell_type": "markdown",
      "id": "9afbc149",
      "metadata": {
        "id": "9afbc149"
      },
      "source": [
        "## 불린 타입 (Booleans) - 참(True)/거짓(False)\n",
        "* Boolean values can only have two possible states, True or False, and are used to represent logical values and conditions.\n",
        "\n"
      ]
    },
    {
      "cell_type": "code",
      "execution_count": 21,
      "id": "a3d9b9bc",
      "metadata": {
        "colab": {
          "base_uri": "https://localhost:8080/"
        },
        "id": "a3d9b9bc",
        "outputId": "a99a1e95-0ea3-423a-e53d-89fd4d47a89a"
      },
      "outputs": [
        {
          "output_type": "execute_result",
          "data": {
            "text/plain": [
              "True"
            ]
          },
          "metadata": {},
          "execution_count": 21
        }
      ],
      "source": [
        "True"
      ]
    },
    {
      "cell_type": "code",
      "execution_count": 22,
      "id": "a8379a41",
      "metadata": {
        "colab": {
          "base_uri": "https://localhost:8080/"
        },
        "id": "a8379a41",
        "outputId": "8b40bba3-9ddb-4465-e510-bb6da1df2d96"
      },
      "outputs": [
        {
          "output_type": "execute_result",
          "data": {
            "text/plain": [
              "False"
            ]
          },
          "metadata": {},
          "execution_count": 22
        }
      ],
      "source": [
        "False"
      ]
    },
    {
      "cell_type": "code",
      "execution_count": 23,
      "id": "e3c34286",
      "metadata": {
        "id": "e3c34286"
      },
      "outputs": [],
      "source": [
        "true = True"
      ]
    },
    {
      "cell_type": "code",
      "execution_count": 24,
      "id": "85d586ae",
      "metadata": {
        "colab": {
          "base_uri": "https://localhost:8080/"
        },
        "id": "85d586ae",
        "outputId": "af7f1a64-4256-49f2-aa2b-528e7907fae5"
      },
      "outputs": [
        {
          "output_type": "execute_result",
          "data": {
            "text/plain": [
              "True"
            ]
          },
          "metadata": {},
          "execution_count": 24
        }
      ],
      "source": [
        "1 == 1"
      ]
    },
    {
      "cell_type": "code",
      "execution_count": 25,
      "id": "4992ca39",
      "metadata": {
        "colab": {
          "base_uri": "https://localhost:8080/"
        },
        "id": "4992ca39",
        "outputId": "ec801b00-8ae0-4b2c-f299-8deea3fcc88b"
      },
      "outputs": [
        {
          "output_type": "execute_result",
          "data": {
            "text/plain": [
              "False"
            ]
          },
          "metadata": {},
          "execution_count": 25
        }
      ],
      "source": [
        "1 == 2"
      ]
    },
    {
      "cell_type": "code",
      "execution_count": 26,
      "id": "bde64579",
      "metadata": {
        "colab": {
          "base_uri": "https://localhost:8080/"
        },
        "id": "bde64579",
        "outputId": "3079274b-5383-44d5-fb62-c757acb6f175"
      },
      "outputs": [
        {
          "output_type": "stream",
          "name": "stdout",
          "text": [
            "a is greater than b\n"
          ]
        }
      ],
      "source": [
        "a = 10\n",
        "b = 5\n",
        "\n",
        "if a > b:\n",
        "    print(\"a is greater than b\")\n",
        "else:\n",
        "    print(\"a is not greater than b\")\n"
      ]
    }
  ],
  "metadata": {
    "kernelspec": {
      "display_name": "Python 3 (ipykernel)",
      "language": "python",
      "name": "python3"
    },
    "language_info": {
      "codemirror_mode": {
        "name": "ipython",
        "version": 3
      },
      "file_extension": ".py",
      "mimetype": "text/x-python",
      "name": "python",
      "nbconvert_exporter": "python",
      "pygments_lexer": "ipython3",
      "version": "3.10.4"
    },
    "colab": {
      "provenance": []
    }
  },
  "nbformat": 4,
  "nbformat_minor": 5
}