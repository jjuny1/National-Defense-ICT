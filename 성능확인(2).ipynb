{
  "nbformat": 4,
  "nbformat_minor": 0,
  "metadata": {
    "colab": {
      "name": "성능확인(2).ipynb",
      "provenance": [],
      "collapsed_sections": [],
      "machine_shape": "hm"
    },
    "kernelspec": {
      "name": "python3",
      "display_name": "Python 3"
    },
    "accelerator": "GPU"
  },
  "cells": [
    {
      "cell_type": "markdown",
      "metadata": {
        "id": "YaFLq4jEhEZZ"
      },
      "source": [
        "## 코랩의 쥬피터 노트북에서 cat, ls, head, wget 등의 리눅스 쉘 명령어를 사용하기 위해서는 명령문 앞에 느낌표(!)를 붙이면 쥬피터 노트북에서 바로 실행할 수 있음"
      ]
    },
    {
      "cell_type": "markdown",
      "metadata": {
        "id": "3tkUNTt6h_pY"
      },
      "source": [
        "### # Colab OS 종류"
      ]
    },
    {
      "cell_type": "code",
      "metadata": {
        "colab": {
          "base_uri": "https://localhost:8080/"
        },
        "id": "hZz-Y76QhgCx",
        "outputId": "eb0a1055-71c8-42dc-a6f6-e12c6cab5042"
      },
      "source": [
        "# Colalb OS 종류\n",
        "!cat /etc/issue.net"
      ],
      "execution_count": 1,
      "outputs": [
        {
          "output_type": "stream",
          "text": [
            "Ubuntu 18.04.5 LTS\n"
          ],
          "name": "stdout"
        }
      ]
    },
    {
      "cell_type": "markdown",
      "metadata": {
        "id": "Sbm_K6auh7D1"
      },
      "source": [
        "### # Colab CPU 사양"
      ]
    },
    {
      "cell_type": "code",
      "metadata": {
        "id": "cgbNOTsgIUPE",
        "colab": {
          "base_uri": "https://localhost:8080/"
        },
        "outputId": "4d687e30-64e1-4c70-a5b2-e66f4a1c00f9"
      },
      "source": [
        "!head /proc/cpuinfo"
      ],
      "execution_count": 3,
      "outputs": [
        {
          "output_type": "stream",
          "text": [
            "processor\t: 0\n",
            "vendor_id\t: GenuineIntel\n",
            "cpu family\t: 6\n",
            "model\t\t: 79\n",
            "model name\t: Intel(R) Xeon(R) CPU @ 2.20GHz\n",
            "stepping\t: 0\n",
            "microcode\t: 0x1\n",
            "cpu MHz\t\t: 2199.998\n",
            "cache size\t: 56320 KB\n",
            "physical id\t: 0\n"
          ],
          "name": "stdout"
        }
      ]
    },
    {
      "cell_type": "markdown",
      "metadata": {
        "id": "0TR1PppqiOth"
      },
      "source": [
        "###  Colab 메모리 사양"
      ]
    },
    {
      "cell_type": "code",
      "metadata": {
        "id": "ttQ1A2OsIWhc",
        "colab": {
          "base_uri": "https://localhost:8080/"
        },
        "outputId": "6b160bc9-cc1d-42f8-bd6e-2b38f04e01c5"
      },
      "source": [
        "!head -n 3 /proc/meminfo"
      ],
      "execution_count": 2,
      "outputs": [
        {
          "output_type": "stream",
          "text": [
            "MemTotal:       13302916 kB\n",
            "MemFree:        10408500 kB\n",
            "MemAvailable:   12482556 kB\n"
          ],
          "name": "stdout"
        }
      ]
    },
    {
      "cell_type": "markdown",
      "metadata": {
        "id": "fLOhZ7cTiUeQ"
      },
      "source": [
        "### Colab 디스크 사양"
      ]
    },
    {
      "cell_type": "code",
      "metadata": {
        "id": "UYmytDYQInK8",
        "colab": {
          "base_uri": "https://localhost:8080/"
        },
        "outputId": "f39bcd4d-a460-4fe4-c3fd-d1254fcf0d46"
      },
      "source": [
        "!df -h"
      ],
      "execution_count": 9,
      "outputs": [
        {
          "output_type": "stream",
          "text": [
            "Filesystem      Size  Used Avail Use% Mounted on\n",
            "overlay          69G   38G   32G  55% /\n",
            "tmpfs            64M     0   64M   0% /dev\n",
            "tmpfs           6.4G     0  6.4G   0% /sys/fs/cgroup\n",
            "shm             5.8G     0  5.8G   0% /dev/shm\n",
            "tmpfs           6.4G   36K  6.4G   1% /var/colab\n",
            "/dev/sda1        76G   42G   35G  55% /opt/bin/.nvidia\n",
            "tmpfs           6.4G     0  6.4G   0% /proc/acpi\n",
            "tmpfs           6.4G     0  6.4G   0% /proc/scsi\n",
            "tmpfs           6.4G     0  6.4G   0% /sys/firmware\n"
          ],
          "name": "stdout"
        }
      ]
    },
    {
      "cell_type": "markdown",
      "metadata": {
        "id": "PAHvbQNXiZZx"
      },
      "source": [
        "### 현재 디렉토리 확인"
      ]
    },
    {
      "cell_type": "code",
      "metadata": {
        "colab": {
          "base_uri": "https://localhost:8080/"
        },
        "id": "3Y-GTgnCidWj",
        "outputId": "c8ec46fc-94b2-4474-929a-ba718abd587a"
      },
      "source": [
        "!pwd"
      ],
      "execution_count": 2,
      "outputs": [
        {
          "output_type": "stream",
          "text": [
            "/content\n"
          ],
          "name": "stdout"
        }
      ]
    },
    {
      "cell_type": "markdown",
      "metadata": {
        "id": "RQy6waEEilDw"
      },
      "source": [
        "### 현재 디렉토리 파일 목록 확인"
      ]
    },
    {
      "cell_type": "code",
      "metadata": {
        "colab": {
          "base_uri": "https://localhost:8080/"
        },
        "id": "3sPwWxJIixz5",
        "outputId": "8dfb125b-28f6-48a3-e72a-f94b45b86e8e"
      },
      "source": [
        "!ls -al"
      ],
      "execution_count": 3,
      "outputs": [
        {
          "output_type": "stream",
          "text": [
            "total 16\n",
            "drwxr-xr-x 1 root root 4096 Aug 13 13:35 .\n",
            "drwxr-xr-x 1 root root 4096 Aug 24 04:57 ..\n",
            "drwxr-xr-x 4 root root 4096 Aug 13 13:34 .config\n",
            "drwxr-xr-x 1 root root 4096 Aug 13 13:35 sample_data\n"
          ],
          "name": "stdout"
        }
      ]
    },
    {
      "cell_type": "code",
      "metadata": {
        "id": "rNnJspjGIqIj",
        "colab": {
          "base_uri": "https://localhost:8080/"
        },
        "outputId": "f6833cdc-2046-415d-b4db-9913d2650e88"
      },
      "source": [
        "!nvidia-smi"
      ],
      "execution_count": null,
      "outputs": [
        {
          "output_type": "stream",
          "text": [
            "Mon Aug 23 01:34:13 2021       \n",
            "+-----------------------------------------------------------------------------+\n",
            "| NVIDIA-SMI 470.57.02    Driver Version: 460.32.03    CUDA Version: 11.2     |\n",
            "|-------------------------------+----------------------+----------------------+\n",
            "| GPU  Name        Persistence-M| Bus-Id        Disp.A | Volatile Uncorr. ECC |\n",
            "| Fan  Temp  Perf  Pwr:Usage/Cap|         Memory-Usage | GPU-Util  Compute M. |\n",
            "|                               |                      |               MIG M. |\n",
            "|===============================+======================+======================|\n",
            "|   0  Tesla K80           Off  | 00000000:00:04.0 Off |                    0 |\n",
            "| N/A   44C    P8    31W / 149W |      0MiB / 11441MiB |      0%      Default |\n",
            "|                               |                      |                  N/A |\n",
            "+-------------------------------+----------------------+----------------------+\n",
            "                                                                               \n",
            "+-----------------------------------------------------------------------------+\n",
            "| Processes:                                                                  |\n",
            "|  GPU   GI   CI        PID   Type   Process name                  GPU Memory |\n",
            "|        ID   ID                                                   Usage      |\n",
            "|=============================================================================|\n",
            "|  No running processes found                                                 |\n",
            "+-----------------------------------------------------------------------------+\n"
          ],
          "name": "stdout"
        }
      ]
    },
    {
      "cell_type": "markdown",
      "metadata": {
        "id": "qoo5PmwLkRHI"
      },
      "source": [
        "### Python 버전 확인"
      ]
    },
    {
      "cell_type": "code",
      "metadata": {
        "colab": {
          "base_uri": "https://localhost:8080/"
        },
        "id": "An2u6QeKkbRa",
        "outputId": "4ee54db9-e29f-4767-8b79-e97a2a2f8de7"
      },
      "source": [
        "!python --version"
      ],
      "execution_count": 5,
      "outputs": [
        {
          "output_type": "stream",
          "text": [
            "Python 3.7.11\n"
          ],
          "name": "stdout"
        }
      ]
    },
    {
      "cell_type": "markdown",
      "metadata": {
        "id": "LVYJOaoakZY_"
      },
      "source": [
        "### TensoFlow 버전 확인"
      ]
    },
    {
      "cell_type": "code",
      "metadata": {
        "colab": {
          "base_uri": "https://localhost:8080/"
        },
        "id": "oA8zT4A6knm4",
        "outputId": "5e1db95f-10c2-42fc-a42f-ee9bc80ad8fe"
      },
      "source": [
        "import tensorflow as tf\n",
        "\n",
        "print(tf.__version__)"
      ],
      "execution_count": 7,
      "outputs": [
        {
          "output_type": "stream",
          "text": [
            "2.6.0\n"
          ],
          "name": "stdout"
        }
      ]
    },
    {
      "cell_type": "markdown",
      "metadata": {
        "id": "cnKbq0iDlG2b"
      },
      "source": [
        "### 필요한 라이브러리 설치"
      ]
    },
    {
      "cell_type": "code",
      "metadata": {
        "colab": {
          "base_uri": "https://localhost:8080/"
        },
        "id": "SHMaWFKElKFp",
        "outputId": "8703e476-d272-4f94-e4d0-b29c4285feef"
      },
      "source": [
        "!pip install tensorflow-hub"
      ],
      "execution_count": 8,
      "outputs": [
        {
          "output_type": "stream",
          "text": [
            "Requirement already satisfied: tensorflow-hub in /usr/local/lib/python3.7/dist-packages (0.12.0)\n",
            "Requirement already satisfied: protobuf>=3.8.0 in /usr/local/lib/python3.7/dist-packages (from tensorflow-hub) (3.17.3)\n",
            "Requirement already satisfied: numpy>=1.12.0 in /usr/local/lib/python3.7/dist-packages (from tensorflow-hub) (1.19.5)\n",
            "Requirement already satisfied: six>=1.9 in /usr/local/lib/python3.7/dist-packages (from protobuf>=3.8.0->tensorflow-hub) (1.15.0)\n"
          ],
          "name": "stdout"
        }
      ]
    }
  ]
}