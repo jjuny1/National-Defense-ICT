{
  "nbformat": 4,
  "nbformat_minor": 0,
  "metadata": {
    "colab": {
      "provenance": []
    },
    "kernelspec": {
      "name": "python3",
      "display_name": "Python 3"
    },
    "language_info": {
      "name": "python"
    }
  },
  "cells": [
    {
      "cell_type": "markdown",
      "source": [
        "# [시험 유의사항]\n",
        "1. 명예시험 절차를 준수하여 작성하시오.\n",
        "2. 본 시험은 **총 8개 문제**로 구성되어 있으며, **시험 시간은 30분**이다.\n",
        "3. 답안은 반드시 답안셀에 기입할 것.\n",
        "4. 휴대하고 있는 **모든 자료(강의슬라이드, 교재 등)의 열람이 가능**하다.\n",
        "5. **인터넷은 제한없이 사용이 가능**하다. 단, 채팅 등을 통한 **타인과의 대화는 불가능**하다. \n",
        "6. 답안 코드 작성 후 실행 여부를 반드시 확인하라. \n",
        "7. 시험 시작 후 노트북 충전 등의 목적으로 자리 이동은 불가하다. \n",
        "8. 주피터 노트북 파일의 **파일명**은 아래 예시와 같이 **자신의 교번과 이름**으로 하라. <br/>\n",
        "    예) 23_1학기_수시2_교번_13525_이름_홍길동\n",
        "9. 시험 종료 후 파일을 **LMS에 제출**하라 <br/>\n",
        "  - **지연 제출시 10점 감점**"
      ],
      "metadata": {
        "id": "xtmf0n0lejNl"
      }
    },
    {
      "cell_type": "markdown",
      "source": [
        "## 문제 1. Numpy (20점)\n",
        "\n",
        "\n",
        "\n",
        "\n",
        "\n",
        "\n",
        "\n",
        " "
      ],
      "metadata": {
        "id": "nVSZOSSlJwry"
      }
    },
    {
      "cell_type": "markdown",
      "source": [
        "### 문제 1.1. 모든 원소가 1인 3x3 크기의 numpy 배열을 생성하여 answer1 변수에 할당하고 출력하는 코드를 작성하시오. "
      ],
      "metadata": {
        "id": "t5vy-J-NYTUE"
      }
    },
    {
      "cell_type": "code",
      "source": [
        "###### 아래 부터 코드를 작성하시오. ###############\n",
        "import numpy as np\n",
        "\n",
        "answer1 = np.ones((3, 3))\n",
        "print(answer1)\n"
      ],
      "metadata": {
        "id": "Q0SGFBjSfMVt",
        "colab": {
          "base_uri": "https://localhost:8080/"
        },
        "outputId": "5177edad-924f-4877-c844-28e91722d6cc"
      },
      "execution_count": 1,
      "outputs": [
        {
          "output_type": "stream",
          "name": "stdout",
          "text": [
            "[[1. 1. 1.]\n",
            " [1. 1. 1.]\n",
            " [1. 1. 1.]]\n"
          ]
        }
      ]
    },
    {
      "cell_type": "markdown",
      "source": [
        "### 문제 1.2. 아래 numpy 배열에서 2행 3열의 값을 answer2 변수에 할당하고 출력하는 코드를 작성하시오. \n"
      ],
      "metadata": {
        "id": "_GOQELx6YZFg"
      }
    },
    {
      "cell_type": "code",
      "source": [
        "import numpy as np\n",
        "import random \n",
        "\n",
        "data1 = np.array([[random.randint(1, 10) for x in range(10)] for x in range(10)])\n",
        "\n",
        "###### 아래 부터 코드를 작성하시오. ###############\n",
        "\n",
        "answer2 = data1[1, 2]\n",
        "print(answer2)\n",
        "\n"
      ],
      "metadata": {
        "id": "Tt-dNfzGWAsz",
        "colab": {
          "base_uri": "https://localhost:8080/"
        },
        "outputId": "6ec79dae-0456-45fc-9720-b7914f4e09db"
      },
      "execution_count": 2,
      "outputs": [
        {
          "output_type": "stream",
          "name": "stdout",
          "text": [
            "7\n"
          ]
        }
      ]
    },
    {
      "cell_type": "markdown",
      "source": [
        "### 문제 1.3. 아래 numpy 배열에서 2행의 평균값을 계산하여 answer3 변수에 할당하고 출력하는 코드를 작성하시오. \n"
      ],
      "metadata": {
        "id": "fA7qcGzdYacA"
      }
    },
    {
      "cell_type": "code",
      "source": [
        "import numpy as np\n",
        "import random \n",
        "\n",
        "data3 = np.array([[random.randint(1, 10) for x in range(10)] for x in range(10)])\n",
        "\n",
        "###### 아래 부터 코드를 작성하시오. ###############\n",
        "\n",
        "answer3 = np.mean(data3[1])\n",
        "\n",
        "print(answer3)\n",
        "\n",
        "\n"
      ],
      "metadata": {
        "id": "mLd7TfKQWdHL",
        "colab": {
          "base_uri": "https://localhost:8080/"
        },
        "outputId": "b7e3c6bf-c992-48a6-a3b4-e3a45f919a89"
      },
      "execution_count": 3,
      "outputs": [
        {
          "output_type": "stream",
          "name": "stdout",
          "text": [
            "5.2\n"
          ]
        }
      ]
    },
    {
      "cell_type": "markdown",
      "source": [
        "### 문제 1.4. 아래 numpy 배열을 6행으로 구성된 2차원 배열로 변경하여 answer4에 할당하고 출력하는 코드를 작성하시오. \n"
      ],
      "metadata": {
        "id": "EBp2R7CzZMp1"
      }
    },
    {
      "cell_type": "code",
      "source": [
        "import numpy as np\n",
        "import random \n",
        "data4 = np.array([[random.randint(1, 10) for x in range(60)] for x in range(10)])\n",
        "\n",
        "###### 아래 부터 코드를 작성하시오. ###############\n",
        "\n",
        "answer4 = data4.reshape((6, -1))\n",
        "\n",
        "print(answer4)\n",
        "\n",
        "\n",
        "\n"
      ],
      "metadata": {
        "id": "WGQdZxYqZkhY",
        "colab": {
          "base_uri": "https://localhost:8080/"
        },
        "outputId": "93dd63a2-394d-4ace-f045-fc8eff000f44"
      },
      "execution_count": 4,
      "outputs": [
        {
          "output_type": "stream",
          "name": "stdout",
          "text": [
            "[[ 9  5  9  4  1  4  6  1 10  3  1  2  8  7  3  7  6  6  6  3  5  9  9  9\n",
            "   3  4  6  5  7  4  9  9  3  9  4  2  8 10  5  3  6  4  4  8  6  8  5  1\n",
            "   4  3  7  2  2  3  4 10 10 10  5  1  7  6 10  8  2  9  1  7  1  1  7  1\n",
            "   1  7  3  6 10  7  1  2  3  6  1  9  8  9  8  2  7  9  5  2  8  1  1  8\n",
            "   7  4  9  3]\n",
            " [ 8  8  5  7  3  3  5  9  2  7  5  9  9  7  6  4  4 10  9 10  9  4  5  5\n",
            "  10  1  4  8  1  8  8  2  2  8  7  8  9  1  7  3  1  6  7  1  1  9 10  3\n",
            "   1  4  9 10  3  3  9  9  6  3  1  3  7  6  9  7  3  7  1  5 10  9  4  3\n",
            "   8  7  6  3  1  4  2 10  5  5  5  6  6  5  4  1  6  3 10  2  3  8  9  4\n",
            "   4  9  1  7]\n",
            " [ 2  6  3  8 10  6  2  5  7  8  9 10  2 10  5  1  1  4  6  1  6  3  3  9\n",
            "   8  2  4  7  1 10  8  3  6  8  3  8  5  6  8  6  8  7 10  1  9  5  5  9\n",
            "   6  9  8  1  5  2  8  7  2  7  9  7  8  1  8  3  9 10  3  6  9  1  7  8\n",
            "   7  1  2  7  3 10  8  1  7 10  7  7  2  9  9  3  7  4  4  2 10  5 10  7\n",
            "   4  8  1  3]\n",
            " [ 2  6  8  5  9  4  3  1  9  3  1  6  7  1  4  4  4  2  5  7  7  3  6  6\n",
            "   3  6  4  1 10  3  1  7  2  9  3 10  3  2  3 10  4  7  3 10  4  2  7  6\n",
            "   9  8  6  4  4  6  8  2  8  1  9 10 10  6  3  4  7  4  2  9  3  6  6  3\n",
            "   8  7  1  2 10  7  2  6  1  6  3  7  5  2  9  5  3  8  5  7  2  5  3  5\n",
            "   4  8  6  6]\n",
            " [ 9  4  9  1  4  7  1  3  5  8  5  2  6  8  4  4  9  4  6  4  5  2  2  3\n",
            "   6  4  2  1  2  6  2  4  4  7  9  5 10  2  7  9  7  1  4  2 10  8  5  8\n",
            "   3  7  2  7  5 10  6  2  2 10  1  8  4  2  1  9  1  1  6  8 10 10  3  8\n",
            "   4  3  7  2  6  6  6  1  5  6  5  5  7  3  7  5  6 10  9  1  3  1  2  1\n",
            "   1  6  9  6]\n",
            " [ 6  3  5  1  9  2 10  8  3  8  7  9  9 10 10  8  5  1 10  4  1  2  8  2\n",
            "   3  9  1  6 10  1  7  4  8 10  9  2  5  7  7  9  6  9  1  5  5  1  4  2\n",
            "   2  8  1  9  1 10  8  7  7  6  7  5  7  5  6  2  8  4  7  7  6  1  8  1\n",
            "   9  9  3  1  9  7 10  4  5  6 10  2  6  1  9  9  9  3  3 10 10  8  6  4\n",
            "   5  1  9  2]]\n"
          ]
        }
      ]
    },
    {
      "cell_type": "markdown",
      "source": [
        "## 2. matplotlib (20점) \n",
        "### 2.1. 아래 조건을 참고하여 함수 f(x)= $x^{2}$에 대한 선그래프를 출력하는 코드를 작성하시오. \n",
        "* matploblib 라이브러리를 사용할 것. \n",
        "* 선그래프가 부드러운 형태로 나타나게 할 것. \n",
        "* x 축의 범위 : -2 ~ 2 \n",
        "* 선의 형태 : 점선 \n",
        "* 선의 색상 : blue \n",
        "* grid 추가 \n",
        "* x축 이름 : 'x'\n",
        "* y축 이름 : 'f(x)'\n",
        "* 챠트 제목 : 'f(x) = x^2'\n",
        "\n",
        "![image.png](data:image/png;base64,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)\n"
      ],
      "metadata": {
        "id": "DgzsTozKUr2b"
      }
    },
    {
      "cell_type": "code",
      "source": [
        "###### 아래 부터 코드를 작성하시오. ###############\n",
        "import matplotlib.pyplot as plt\n",
        "import numpy as np\n",
        "\n",
        "def f(x):\n",
        "  return x ** 2\n",
        "\n",
        "x = np.linspace(-2, 2, 1000)\n",
        "\n",
        "plt.plot(x, f(x), linestyle='dotted', color='blue')\n",
        "\n",
        "plt.title(\"f(x) = x^2\")\n",
        "plt.xlabel(\"x\")\n",
        "plt.ylabel(\"f(x)\")\n",
        "plt.grid()\n",
        "plt.show()\n",
        "\n",
        "\n",
        "\n",
        "\n"
      ],
      "metadata": {
        "id": "_nJEItKGcZLc",
        "colab": {
          "base_uri": "https://localhost:8080/",
          "height": 472
        },
        "outputId": "950cb17d-c1eb-43ef-c698-5c057a4f5a88"
      },
      "execution_count": 8,
      "outputs": [
        {
          "output_type": "display_data",
          "data": {
            "text/plain": [
              "<Figure size 640x480 with 1 Axes>"
            ],
            "image/png": "[encoded data removed]"
          },
          "metadata": {}
        }
      ]
    },
    {
      "cell_type": "markdown",
      "source": [
        "## 3. Pandas  (20점)\n"
      ],
      "metadata": {
        "id": "EqWYmRj2VNVc"
      }
    },
    {
      "cell_type": "markdown",
      "source": [
        "### 문제 3.1. DataFrame으로 아래의 그림에 해당하는 출력하는 코드를 작성하시오. "
      ],
      "metadata": {
        "id": "NgU8FvNBbm7u"
      }
    },
    {
      "cell_type": "markdown",
      "source": [
        "![image.png](data:image/png;base64,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)"
      ],
      "metadata": {
        "id": "tHHKO8wgeKQO"
      }
    },
    {
      "cell_type": "code",
      "source": [
        "import pandas as pd\n",
        "mydict = [{'a': 10, 'b': 20, 'c': 30, 'd': 40},\n",
        "          {'a': 100, 'b': 200, 'c': 300, 'd': 400},\n",
        "          {'a': 1000, 'b': 2000, 'c': 3000, 'd': 4000 }]\n",
        "\n",
        "###### 아래 부터 코드를 작성하시오. ###############\n",
        "columns = [\"a\", \"b\", \"c\", \"d\"]\n",
        "index = [\"0\", \"1\", \"2\"]\n",
        "df = pd.DataFrame(mydict, index=index, columns=columns)\n",
        "\n",
        "\n",
        "print(df)\n",
        "\n",
        "\n",
        "\n",
        "\n"
      ],
      "metadata": {
        "id": "goVhfR8abs05",
        "colab": {
          "base_uri": "https://localhost:8080/"
        },
        "outputId": "939d8a91-08c2-457a-de4a-db489aa5226c"
      },
      "execution_count": 17,
      "outputs": [
        {
          "output_type": "stream",
          "name": "stdout",
          "text": [
            "      a     b     c     d\n",
            "0    10    20    30    40\n",
            "1   100   200   300   400\n",
            "2  1000  2000  3000  4000\n"
          ]
        }
      ]
    },
    {
      "cell_type": "markdown",
      "source": [
        "### 문제 3.2. 위 3.1의 문제에서 아래 그림처럼 나오도록 iloc를 사용하여 출력하는 코드를 작성하시오 "
      ],
      "metadata": {
        "id": "epgzgTBEfN8o"
      }
    },
    {
      "cell_type": "markdown",
      "source": [
        "![image.png](data:image/png;base64,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)"
      ],
      "metadata": {
        "id": "-VItxsIefeDx"
      }
    },
    {
      "cell_type": "code",
      "source": [
        "###### 아래 부터 코드를 작성하시오. ###############\n",
        "result = df.iloc[[1, 2], [0, 1, 2, 3]]\n",
        "\n",
        "print(result)"
      ],
      "metadata": {
        "id": "Hv8xm9fRfQuw",
        "colab": {
          "base_uri": "https://localhost:8080/"
        },
        "outputId": "67159406-882c-45d3-a6d7-3f54cf2964bf"
      },
      "execution_count": 18,
      "outputs": [
        {
          "output_type": "stream",
          "name": "stdout",
          "text": [
            "      a     b     c     d\n",
            "1   100   200   300   400\n",
            "2  1000  2000  3000  4000\n"
          ]
        }
      ]
    },
    {
      "cell_type": "markdown",
      "source": [
        "## 문제 3. KNN, 의사결정트리 알고리즘을 적용하여 iris(붓꽃) 종류를 분류하는 모델을 각각 만들고자 한다. 다음 물음에 코드를 작성하여 답안을 제시하시오. </br>\n",
        "- 시험문제와 함께 제공된 iris 데이터셋 파일(iris.csv)을 학습 및 평가에 활용하시오.\n",
        "- 제공된 iris(붓꽃) 데이터셋을 직접 확인하고 문제를 해결하시오. \n",
        "- 데이터셋 요약  \n",
        "  - 꽃잎의 각 부분의 너비와 길이 등을 측정한 데이터\n",
        "  - 총 150개의 데이터로 구성 \n",
        "  - 붓꽃 종류 : \"Iris-setona\", \"Iris-virginica\", \"Iris-versicolor\"  "
      ],
      "metadata": {
        "id": "Wl0ly8AlMCOz"
      }
    },
    {
      "cell_type": "code",
      "source": [
        "## 아래 코드를 실행한 후 답안을 작성하시오. (수정 금지) ##\n",
        "\n",
        "import pandas as pd\n",
        "from sklearn.tree import DecisionTreeClassifier\n",
        "from sklearn.neighbors import KNeighborsClassifier\n",
        "from sklearn.model_selection import train_test_split\n",
        "from sklearn.metrics import accuracy_score\n",
        "\n",
        "import pandas as pd\n",
        "from google.colab import files\n",
        "files.upload()\n",
        "data = pd.read_csv('Iris.csv')\n",
        "data"
      ],
      "metadata": {
        "id": "FBggROEvJu0e",
        "colab": {
          "base_uri": "https://localhost:8080/",
          "height": 481
        },
        "outputId": "191a991c-9bef-47df-c3e5-71765bad6d26"
      },
      "execution_count": 16,
      "outputs": [
        {
          "output_type": "display_data",
          "data": {
            "text/plain": [
              "<IPython.core.display.HTML object>"
            ],
            "text/html": [
              "\n",
              "     <input type=\"file\" id=\"files-766d19b3-657b-4f25-b913-87f3c9c41b78\" name=\"files[]\" multiple disabled\n",
              "        style=\"border:none\" />\n",
              "     <output id=\"result-766d19b3-657b-4f25-b913-87f3c9c41b78\">\n",
              "      Upload widget is only available when the cell has been executed in the\n",
              "      current browser session. Please rerun this cell to enable.\n",
              "      </output>\n",
              "      <script>// Copyright 2017 Google LLC\n",
              "//\n",
              "// Licensed under the Apache License, Version 2.0 (the \"License\");\n",
              "// you may not use this file except in compliance with the License.\n",
              "// You may obtain a copy of the License at\n",
              "//\n",
              "//      http://www.apache.org/licenses/LICENSE-2.0\n",
              "//\n",
              "// Unless required by applicable law or agreed to in writing, software\n",
              "// distributed under the License is distributed on an \"AS IS\" BASIS,\n",
              "// WITHOUT WARRANTIES OR CONDITIONS OF ANY KIND, either express or implied.\n",
              "// See the License for the specific language governing permissions and\n",
              "// limitations under the License.\n",
              "\n",
              "/**\n",
              " * @fileoverview Helpers for google.colab Python module.\n",
              " */\n",
              "(function(scope) {\n",
              "function span(text, styleAttributes = {}) {\n",
              "  const element = document.createElement('span');\n",
              "  element.textContent = text;\n",
              "  for (const key of Object.keys(styleAttributes)) {\n",
              "    element.style[key] = styleAttributes[key];\n",
              "  }\n",
              "  return element;\n",
              "}\n",
              "\n",
              "// Max number of bytes which will be uploaded at a time.\n",
              "const MAX_PAYLOAD_SIZE = 100 * 1024;\n",
              "\n",
              "function _uploadFiles(inputId, outputId) {\n",
              "  const steps = uploadFilesStep(inputId, outputId);\n",
              "  const outputElement = document.getElementById(outputId);\n",
              "  // Cache steps on the outputElement to make it available for the next call\n",
              "  // to uploadFilesContinue from Python.\n",
              "  outputElement.steps = steps;\n",
              "\n",
              "  return _uploadFilesContinue(outputId);\n",
              "}\n",
              "\n",
              "// This is roughly an async generator (not supported in the browser yet),\n",
              "// where there are multiple asynchronous steps and the Python side is going\n",
              "// to poll for completion of each step.\n",
              "// This uses a Promise to block the python side on completion of each step,\n",
              "// then passes the result of the previous step as the input to the next step.\n",
              "function _uploadFilesContinue(outputId) {\n",
              "  const outputElement = document.getElementById(outputId);\n",
              "  const steps = outputElement.steps;\n",
              "\n",
              "  const next = steps.next(outputElement.lastPromiseValue);\n",
              "  return Promise.resolve(next.value.promise).then((value) => {\n",
              "    // Cache the last promise value to make it available to the next\n",
              "    // step of the generator.\n",
              "    outputElement.lastPromiseValue = value;\n",
              "    return next.value.response;\n",
              "  });\n",
              "}\n",
              "\n",
              "/**\n",
              " * Generator function which is called between each async step of the upload\n",
              " * process.\n",
              " * @param {string} inputId Element ID of the input file picker element.\n",
              " * @param {string} outputId Element ID of the output display.\n",
              " * @return {!Iterable<!Object>} Iterable of next steps.\n",
              " */\n",
              "function* uploadFilesStep(inputId, outputId) {\n",
              "  const inputElement = document.getElementById(inputId);\n",
              "  inputElement.disabled = false;\n",
              "\n",
              "  const outputElement = document.getElementById(outputId);\n",
              "  outputElement.innerHTML = '';\n",
              "\n",
              "  const pickedPromise = new Promise((resolve) => {\n",
              "    inputElement.addEventListener('change', (e) => {\n",
              "      resolve(e.target.files);\n",
              "    });\n",
              "  });\n",
              "\n",
              "  const cancel = document.createElement('button');\n",
              "  inputElement.parentElement.appendChild(cancel);\n",
              "  cancel.textContent = 'Cancel upload';\n",
              "  const cancelPromise = new Promise((resolve) => {\n",
              "    cancel.onclick = () => {\n",
              "      resolve(null);\n",
              "    };\n",
              "  });\n",
              "\n",
              "  // Wait for the user to pick the files.\n",
              "  const files = yield {\n",
              "    promise: Promise.race([pickedPromise, cancelPromise]),\n",
              "    response: {\n",
              "      action: 'starting',\n",
              "    }\n",
              "  };\n",
              "\n",
              "  cancel.remove();\n",
              "\n",
              "  // Disable the input element since further picks are not allowed.\n",
              "  inputElement.disabled = true;\n",
              "\n",
              "  if (!files) {\n",
              "    return {\n",
              "      response: {\n",
              "        action: 'complete',\n",
              "      }\n",
              "    };\n",
              "  }\n",
              "\n",
              "  for (const file of files) {\n",
              "    const li = document.createElement('li');\n",
              "    li.append(span(file.name, {fontWeight: 'bold'}));\n",
              "    li.append(span(\n",
              "        `(${file.type || 'n/a'}) - ${file.size} bytes, ` +\n",
              "        `last modified: ${\n",
              "            file.lastModifiedDate ? file.lastModifiedDate.toLocaleDateString() :\n",
              "                                    'n/a'} - `));\n",
              "    const percent = span('0% done');\n",
              "    li.appendChild(percent);\n",
              "\n",
              "    outputElement.appendChild(li);\n",
              "\n",
              "    const fileDataPromise = new Promise((resolve) => {\n",
              "      const reader = new FileReader();\n",
              "      reader.onload = (e) => {\n",
              "        resolve(e.target.result);\n",
              "      };\n",
              "      reader.readAsArrayBuffer(file);\n",
              "    });\n",
              "    // Wait for the data to be ready.\n",
              "    let fileData = yield {\n",
              "      promise: fileDataPromise,\n",
              "      response: {\n",
              "        action: 'continue',\n",
              "      }\n",
              "    };\n",
              "\n",
              "    // Use a chunked sending to avoid message size limits. See b/62115660.\n",
              "    let position = 0;\n",
              "    do {\n",
              "      const length = Math.min(fileData.byteLength - position, MAX_PAYLOAD_SIZE);\n",
              "      const chunk = new Uint8Array(fileData, position, length);\n",
              "      position += length;\n",
              "\n",
              "      const base64 = btoa(String.fromCharCode.apply(null, chunk));\n",
              "      yield {\n",
              "        response: {\n",
              "          action: 'append',\n",
              "          file: file.name,\n",
              "          data: base64,\n",
              "        },\n",
              "      };\n",
              "\n",
              "      let percentDone = fileData.byteLength === 0 ?\n",
              "          100 :\n",
              "          Math.round((position / fileData.byteLength) * 100);\n",
              "      percent.textContent = `${percentDone}% done`;\n",
              "\n",
              "    } while (position < fileData.byteLength);\n",
              "  }\n",
              "\n",
              "  // All done.\n",
              "  yield {\n",
              "    response: {\n",
              "      action: 'complete',\n",
              "    }\n",
              "  };\n",
              "}\n",
              "\n",
              "scope.google = scope.google || {};\n",
              "scope.google.colab = scope.google.colab || {};\n",
              "scope.google.colab._files = {\n",
              "  _uploadFiles,\n",
              "  _uploadFilesContinue,\n",
              "};\n",
              "})(self);\n",
              "</script> "
            ]
          },
          "metadata": {}
        },
        {
          "output_type": "stream",
          "name": "stdout",
          "text": [
            "Saving Iris.csv to Iris (1).csv\n"
          ]
        },
        {
          "output_type": "execute_result",
          "data": {
            "text/plain": [
              "      Id  SepalLengthCm  SepalWidthCm  PetalLengthCm  PetalWidthCm  \\\n",
              "0      1            5.1           3.5            1.4           0.2   \n",
              "1      2            4.9           3.0            1.4           0.2   \n",
              "2      3            4.7           3.2            1.3           0.2   \n",
              "3      4            4.6           3.1            1.5           0.2   \n",
              "4      5            5.0           3.6            1.4           0.2   \n",
              "..   ...            ...           ...            ...           ...   \n",
              "145  146            6.7           3.0            5.2           2.3   \n",
              "146  147            6.3           2.5            5.0           1.9   \n",
              "147  148            6.5           3.0            5.2           2.0   \n",
              "148  149            6.2           3.4            5.4           2.3   \n",
              "149  150            5.9           3.0            5.1           1.8   \n",
              "\n",
              "            Species  \n",
              "0       Iris-setosa  \n",
              "1       Iris-setosa  \n",
              "2       Iris-setosa  \n",
              "3       Iris-setosa  \n",
              "4       Iris-setosa  \n",
              "..              ...  \n",
              "145  Iris-virginica  \n",
              "146  Iris-virginica  \n",
              "147  Iris-virginica  \n",
              "148  Iris-virginica  \n",
              "149  Iris-virginica  \n",
              "\n",
              "[150 rows x 6 columns]"
            ],
            "text/html": [
              "\n",
              "  <div id=\"df-4529e58c-8836-40c2-8b91-9c020688abc1\">\n",
              "    <div class=\"colab-df-container\">\n",
              "      <div>\n",
              "<style scoped>\n",
              "    .dataframe tbody tr th:only-of-type {\n",
              "        vertical-align: middle;\n",
              "    }\n",
              "\n",
              "    .dataframe tbody tr th {\n",
              "        vertical-align: top;\n",
              "    }\n",
              "\n",
              "    .dataframe thead th {\n",
              "        text-align: right;\n",
              "    }\n",
              "</style>\n",
              "<table border=\"1\" class=\"dataframe\">\n",
              "  <thead>\n",
              "    <tr style=\"text-align: right;\">\n",
              "      <th></th>\n",
              "      <th>Id</th>\n",
              "      <th>SepalLengthCm</th>\n",
              "      <th>SepalWidthCm</th>\n",
              "      <th>PetalLengthCm</th>\n",
              "      <th>PetalWidthCm</th>\n",
              "      <th>Species</th>\n",
              "    </tr>\n",
              "  </thead>\n",
              "  <tbody>\n",
              "    <tr>\n",
              "      <th>0</th>\n",
              "      <td>1</td>\n",
              "      <td>5.1</td>\n",
              "      <td>3.5</td>\n",
              "      <td>1.4</td>\n",
              "      <td>0.2</td>\n",
              "      <td>Iris-setosa</td>\n",
              "    </tr>\n",
              "    <tr>\n",
              "      <th>1</th>\n",
              "      <td>2</td>\n",
              "      <td>4.9</td>\n",
              "      <td>3.0</td>\n",
              "      <td>1.4</td>\n",
              "      <td>0.2</td>\n",
              "      <td>Iris-setosa</td>\n",
              "    </tr>\n",
              "    <tr>\n",
              "      <th>2</th>\n",
              "      <td>3</td>\n",
              "      <td>4.7</td>\n",
              "      <td>3.2</td>\n",
              "      <td>1.3</td>\n",
              "      <td>0.2</td>\n",
              "      <td>Iris-setosa</td>\n",
              "    </tr>\n",
              "    <tr>\n",
              "      <th>3</th>\n",
              "      <td>4</td>\n",
              "      <td>4.6</td>\n",
              "      <td>3.1</td>\n",
              "      <td>1.5</td>\n",
              "      <td>0.2</td>\n",
              "      <td>Iris-setosa</td>\n",
              "    </tr>\n",
              "    <tr>\n",
              "      <th>4</th>\n",
              "      <td>5</td>\n",
              "      <td>5.0</td>\n",
              "      <td>3.6</td>\n",
              "      <td>1.4</td>\n",
              "      <td>0.2</td>\n",
              "      <td>Iris-setosa</td>\n",
              "    </tr>\n",
              "    <tr>\n",
              "      <th>...</th>\n",
              "      <td>...</td>\n",
              "      <td>...</td>\n",
              "      <td>...</td>\n",
              "      <td>...</td>\n",
              "      <td>...</td>\n",
              "      <td>...</td>\n",
              "    </tr>\n",
              "    <tr>\n",
              "      <th>145</th>\n",
              "      <td>146</td>\n",
              "      <td>6.7</td>\n",
              "      <td>3.0</td>\n",
              "      <td>5.2</td>\n",
              "      <td>2.3</td>\n",
              "      <td>Iris-virginica</td>\n",
              "    </tr>\n",
              "    <tr>\n",
              "      <th>146</th>\n",
              "      <td>147</td>\n",
              "      <td>6.3</td>\n",
              "      <td>2.5</td>\n",
              "      <td>5.0</td>\n",
              "      <td>1.9</td>\n",
              "      <td>Iris-virginica</td>\n",
              "    </tr>\n",
              "    <tr>\n",
              "      <th>147</th>\n",
              "      <td>148</td>\n",
              "      <td>6.5</td>\n",
              "      <td>3.0</td>\n",
              "      <td>5.2</td>\n",
              "      <td>2.0</td>\n",
              "      <td>Iris-virginica</td>\n",
              "    </tr>\n",
              "    <tr>\n",
              "      <th>148</th>\n",
              "      <td>149</td>\n",
              "      <td>6.2</td>\n",
              "      <td>3.4</td>\n",
              "      <td>5.4</td>\n",
              "      <td>2.3</td>\n",
              "      <td>Iris-virginica</td>\n",
              "    </tr>\n",
              "    <tr>\n",
              "      <th>149</th>\n",
              "      <td>150</td>\n",
              "      <td>5.9</td>\n",
              "      <td>3.0</td>\n",
              "      <td>5.1</td>\n",
              "      <td>1.8</td>\n",
              "      <td>Iris-virginica</td>\n",
              "    </tr>\n",
              "  </tbody>\n",
              "</table>\n",
              "<p>150 rows × 6 columns</p>\n",
              "</div>\n",
              "      <button class=\"colab-df-convert\" onclick=\"convertToInteractive('df-4529e58c-8836-40c2-8b91-9c020688abc1')\"\n",
              "              title=\"Convert this dataframe to an interactive table.\"\n",
              "              style=\"display:none;\">\n",
              "        \n",
              "  <svg xmlns=\"http://www.w3.org/2000/svg\" height=\"24px\"viewBox=\"0 0 24 24\"\n",
              "       width=\"24px\">\n",
              "    <path d=\"M0 0h24v24H0V0z\" fill=\"none\"/>\n",
              "    <path d=\"M18.56 5.44l.94 2.06.94-2.06 2.06-.94-2.06-.94-.94-2.06-.94 2.06-2.06.94zm-11 1L8.5 8.5l.94-2.06 2.06-.94-2.06-.94L8.5 2.5l-.94 2.06-2.06.94zm10 10l.94 2.06.94-2.06 2.06-.94-2.06-.94-.94-2.06-.94 2.06-2.06.94z\"/><path d=\"M17.41 7.96l-1.37-1.37c-.4-.4-.92-.59-1.43-.59-.52 0-1.04.2-1.43.59L10.3 9.45l-7.72 7.72c-.78.78-.78 2.05 0 2.83L4 21.41c.39.39.9.59 1.41.59.51 0 1.02-.2 1.41-.59l7.78-7.78 2.81-2.81c.8-.78.8-2.07 0-2.86zM5.41 20L4 18.59l7.72-7.72 1.47 1.35L5.41 20z\"/>\n",
              "  </svg>\n",
              "      </button>\n",
              "      \n",
              "  <style>\n",
              "    .colab-df-container {\n",
              "      display:flex;\n",
              "      flex-wrap:wrap;\n",
              "      gap: 12px;\n",
              "    }\n",
              "\n",
              "    .colab-df-convert {\n",
              "      background-color: #E8F0FE;\n",
              "      border: none;\n",
              "      border-radius: 50%;\n",
              "      cursor: pointer;\n",
              "      display: none;\n",
              "      fill: #1967D2;\n",
              "      height: 32px;\n",
              "      padding: 0 0 0 0;\n",
              "      width: 32px;\n",
              "    }\n",
              "\n",
              "    .colab-df-convert:hover {\n",
              "      background-color: #E2EBFA;\n",
              "      box-shadow: 0px 1px 2px rgba(60, 64, 67, 0.3), 0px 1px 3px 1px rgba(60, 64, 67, 0.15);\n",
              "      fill: #174EA6;\n",
              "    }\n",
              "\n",
              "    [theme=dark] .colab-df-convert {\n",
              "      background-color: #3B4455;\n",
              "      fill: #D2E3FC;\n",
              "    }\n",
              "\n",
              "    [theme=dark] .colab-df-convert:hover {\n",
              "      background-color: #434B5C;\n",
              "      box-shadow: 0px 1px 3px 1px rgba(0, 0, 0, 0.15);\n",
              "      filter: drop-shadow(0px 1px 2px rgba(0, 0, 0, 0.3));\n",
              "      fill: #FFFFFF;\n",
              "    }\n",
              "  </style>\n",
              "\n",
              "      <script>\n",
              "        const buttonEl =\n",
              "          document.querySelector('#df-4529e58c-8836-40c2-8b91-9c020688abc1 button.colab-df-convert');\n",
              "        buttonEl.style.display =\n",
              "          google.colab.kernel.accessAllowed ? 'block' : 'none';\n",
              "\n",
              "        async function convertToInteractive(key) {\n",
              "          const element = document.querySelector('#df-4529e58c-8836-40c2-8b91-9c020688abc1');\n",
              "          const dataTable =\n",
              "            await google.colab.kernel.invokeFunction('convertToInteractive',\n",
              "                                                     [key], {});\n",
              "          if (!dataTable) return;\n",
              "\n",
              "          const docLinkHtml = 'Like what you see? Visit the ' +\n",
              "            '<a target=\"_blank\" href=https://colab.research.google.com/notebooks/data_table.ipynb>data table notebook</a>'\n",
              "            + ' to learn more about interactive tables.';\n",
              "          element.innerHTML = '';\n",
              "          dataTable['output_type'] = 'display_data';\n",
              "          await google.colab.output.renderOutput(dataTable, element);\n",
              "          const docLink = document.createElement('div');\n",
              "          docLink.innerHTML = docLinkHtml;\n",
              "          element.appendChild(docLink);\n",
              "        }\n",
              "      </script>\n",
              "    </div>\n",
              "  </div>\n",
              "  "
            ]
          },
          "metadata": {},
          "execution_count": 16
        }
      ]
    },
    {
      "cell_type": "markdown",
      "source": [
        "###(a) 'train_test_split' 함수를 이용하여, 제공된 데이터(data)를 7:3의 비율로 학습용 데이터와 테스트용 데이터로 구분하고 각각 train_test, test_data 변수에 저장하시오."
      ],
      "metadata": {
        "id": "US67_RkunGY8"
      }
    },
    {
      "cell_type": "code",
      "source": [
        "################ (a) 답안 (아래에 코드 작성)##############\n",
        "X = data.iloc[:, :-1].values\n",
        "y = data.iloc[:, -1].values\n",
        "\n",
        "\n",
        "\n",
        "X_train, X_test, y_train, y_test = train_test_split(X, y, test_size=0.3, random_state=42)\n",
        "train_test, test_data = train_test_split(data, test_size=0.3, random_state=42)"
      ],
      "metadata": {
        "id": "EazEZKSNnHUc"
      },
      "execution_count": 37,
      "outputs": []
    },
    {
      "cell_type": "markdown",
      "source": [
        "###(b) 아래 조건에 따라 의사결정트리를 생성하고 학습시키시오. \n",
        "- 사용할 속성(4가지)\n",
        "  - \"SepalLengthCm\"\n",
        "  - \"SepalWidthCm\"\n",
        "  - \"PetalLengthCm\"\n",
        "  - \"PetalWidthCm\"\n",
        "- criterion : \"entropy\"\n",
        "- max_depth : 3"
      ],
      "metadata": {
        "id": "WEWMO0EtnLHG"
      }
    },
    {
      "cell_type": "code",
      "source": [
        "## 아래 코드를 실행을 하시오. (수정 금지) ##\n",
        "from sklearn.tree import DecisionTreeClassifier\n",
        "from sklearn import tree\n",
        "\n",
        "# 모델 생성 및 학습\n",
        "clf = DecisionTreeClassifier(criterion = 'entropy', max_depth = 3)\n",
        "clf.fit(train_test[['SepalLengthCm','SepalWidthCm', 'PetalLengthCm', 'PetalWidthCm']], train_test[\"Species\"])\n"
      ],
      "metadata": {
        "id": "0thc1v1HnOUl",
        "colab": {
          "base_uri": "https://localhost:8080/",
          "height": 75
        },
        "outputId": "bc5f8f83-990c-40f5-be6d-0ee232236764"
      },
      "execution_count": 38,
      "outputs": [
        {
          "output_type": "execute_result",
          "data": {
            "text/plain": [
              "DecisionTreeClassifier(criterion='entropy', max_depth=3)"
            ],
            "text/html": [
              "<style>#sk-container-id-5 {color: black;background-color: white;}#sk-container-id-5 pre{padding: 0;}#sk-container-id-5 div.sk-toggleable {background-color: white;}#sk-container-id-5 label.sk-toggleable__label {cursor: pointer;display: block;width: 100%;margin-bottom: 0;padding: 0.3em;box-sizing: border-box;text-align: center;}#sk-container-id-5 label.sk-toggleable__label-arrow:before {content: \"▸\";float: left;margin-right: 0.25em;color: #696969;}#sk-container-id-5 label.sk-toggleable__label-arrow:hover:before {color: black;}#sk-container-id-5 div.sk-estimator:hover label.sk-toggleable__label-arrow:before {color: black;}#sk-container-id-5 div.sk-toggleable__content {max-height: 0;max-width: 0;overflow: hidden;text-align: left;background-color: #f0f8ff;}#sk-container-id-5 div.sk-toggleable__content pre {margin: 0.2em;color: black;border-radius: 0.25em;background-color: #f0f8ff;}#sk-container-id-5 input.sk-toggleable__control:checked~div.sk-toggleable__content {max-height: 200px;max-width: 100%;overflow: auto;}#sk-container-id-5 input.sk-toggleable__control:checked~label.sk-toggleable__label-arrow:before {content: \"▾\";}#sk-container-id-5 div.sk-estimator input.sk-toggleable__control:checked~label.sk-toggleable__label {background-color: #d4ebff;}#sk-container-id-5 div.sk-label input.sk-toggleable__control:checked~label.sk-toggleable__label {background-color: #d4ebff;}#sk-container-id-5 input.sk-hidden--visually {border: 0;clip: rect(1px 1px 1px 1px);clip: rect(1px, 1px, 1px, 1px);height: 1px;margin: -1px;overflow: hidden;padding: 0;position: absolute;width: 1px;}#sk-container-id-5 div.sk-estimator {font-family: monospace;background-color: #f0f8ff;border: 1px dotted black;border-radius: 0.25em;box-sizing: border-box;margin-bottom: 0.5em;}#sk-container-id-5 div.sk-estimator:hover {background-color: #d4ebff;}#sk-container-id-5 div.sk-parallel-item::after {content: \"\";width: 100%;border-bottom: 1px solid gray;flex-grow: 1;}#sk-container-id-5 div.sk-label:hover label.sk-toggleable__label {background-color: #d4ebff;}#sk-container-id-5 div.sk-serial::before {content: \"\";position: absolute;border-left: 1px solid gray;box-sizing: border-box;top: 0;bottom: 0;left: 50%;z-index: 0;}#sk-container-id-5 div.sk-serial {display: flex;flex-direction: column;align-items: center;background-color: white;padding-right: 0.2em;padding-left: 0.2em;position: relative;}#sk-container-id-5 div.sk-item {position: relative;z-index: 1;}#sk-container-id-5 div.sk-parallel {display: flex;align-items: stretch;justify-content: center;background-color: white;position: relative;}#sk-container-id-5 div.sk-item::before, #sk-container-id-5 div.sk-parallel-item::before {content: \"\";position: absolute;border-left: 1px solid gray;box-sizing: border-box;top: 0;bottom: 0;left: 50%;z-index: -1;}#sk-container-id-5 div.sk-parallel-item {display: flex;flex-direction: column;z-index: 1;position: relative;background-color: white;}#sk-container-id-5 div.sk-parallel-item:first-child::after {align-self: flex-end;width: 50%;}#sk-container-id-5 div.sk-parallel-item:last-child::after {align-self: flex-start;width: 50%;}#sk-container-id-5 div.sk-parallel-item:only-child::after {width: 0;}#sk-container-id-5 div.sk-dashed-wrapped {border: 1px dashed gray;margin: 0 0.4em 0.5em 0.4em;box-sizing: border-box;padding-bottom: 0.4em;background-color: white;}#sk-container-id-5 div.sk-label label {font-family: monospace;font-weight: bold;display: inline-block;line-height: 1.2em;}#sk-container-id-5 div.sk-label-container {text-align: center;}#sk-container-id-5 div.sk-container {/* jupyter's `normalize.less` sets `[hidden] { display: none; }` but bootstrap.min.css set `[hidden] { display: none !important; }` so we also need the `!important` here to be able to override the default hidden behavior on the sphinx rendered scikit-learn.org. See: https://github.com/scikit-learn/scikit-learn/issues/21755 */display: inline-block !important;position: relative;}#sk-container-id-5 div.sk-text-repr-fallback {display: none;}</style><div id=\"sk-container-id-5\" class=\"sk-top-container\"><div class=\"sk-text-repr-fallback\"><pre>DecisionTreeClassifier(criterion=&#x27;entropy&#x27;, max_depth=3)</pre><b>In a Jupyter environment, please rerun this cell to show the HTML representation or trust the notebook. <br />On GitHub, the HTML representation is unable to render, please try loading this page with nbviewer.org.</b></div><div class=\"sk-container\" hidden><div class=\"sk-item\"><div class=\"sk-estimator sk-toggleable\"><input class=\"sk-toggleable__control sk-hidden--visually\" id=\"sk-estimator-id-5\" type=\"checkbox\" checked><label for=\"sk-estimator-id-5\" class=\"sk-toggleable__label sk-toggleable__label-arrow\">DecisionTreeClassifier</label><div class=\"sk-toggleable__content\"><pre>DecisionTreeClassifier(criterion=&#x27;entropy&#x27;, max_depth=3)</pre></div></div></div></div></div>"
            ]
          },
          "metadata": {},
          "execution_count": 38
        }
      ]
    },
    {
      "cell_type": "markdown",
      "source": [
        "###(c) 학습시킨 의사트리결정 모델의 정확도를 test_data를 이용하여 출력하시오. "
      ],
      "metadata": {
        "id": "bpC5KwvtngUv"
      }
    },
    {
      "cell_type": "code",
      "source": [
        "## 아래 코드를 실행을 하시오. (수정 금지) ##\n",
        "\n",
        "y_pred = clf.predict(test_data[['SepalLengthCm','SepalWidthCm', 'PetalLengthCm', 'PetalWidthCm']])\n",
        "test_data[\"pred\"]=y_pred\n",
        "accuracy_score(test_data[\"Species\"], test_data[\"pred\"])\n"
      ],
      "metadata": {
        "id": "EUYUd5YvnhlW",
        "colab": {
          "base_uri": "https://localhost:8080/"
        },
        "outputId": "da360b24-b52e-43c2-9db6-0c8f34e9a3cb"
      },
      "execution_count": 39,
      "outputs": [
        {
          "output_type": "execute_result",
          "data": {
            "text/plain": [
              "1.0"
            ]
          },
          "metadata": {},
          "execution_count": 39
        }
      ]
    },
    {
      "cell_type": "markdown",
      "source": [
        "###(d) 아래 조건에 따라 KNN를 생성하고 학습시키시오. \n",
        "- 사용할 속성(4가지)\n",
        "  - \"SepalLengthCm\"\n",
        "  - \"SepalWidthCm\"\n",
        "  - \"PetalLengthCm\"\n",
        "  - \"PetalWidthCm\"\n",
        "- k 값 : 3\n",
        "- 거리 : \"euclidean\""
      ],
      "metadata": {
        "id": "rPzU0YdVnk2O"
      }
    },
    {
      "cell_type": "code",
      "source": [
        "################7번(d) 답안 (아래에 코드 작성)##############\n",
        "# KNN 모델 생성 및 학습\n",
        "knn = KNeighborsClassifier(n_neighbors=3, metric='euclidean')\n",
        "knn.fit(X_train, y_train)\n"
      ],
      "metadata": {
        "id": "_rz32n82nrv_",
        "colab": {
          "base_uri": "https://localhost:8080/",
          "height": 75
        },
        "outputId": "b0c01466-284c-42b0-9e5c-c3cdb2d5b53d"
      },
      "execution_count": 40,
      "outputs": [
        {
          "output_type": "execute_result",
          "data": {
            "text/plain": [
              "KNeighborsClassifier(metric='euclidean', n_neighbors=3)"
            ],
            "text/html": [
              "<style>#sk-container-id-6 {color: black;background-color: white;}#sk-container-id-6 pre{padding: 0;}#sk-container-id-6 div.sk-toggleable {background-color: white;}#sk-container-id-6 label.sk-toggleable__label {cursor: pointer;display: block;width: 100%;margin-bottom: 0;padding: 0.3em;box-sizing: border-box;text-align: center;}#sk-container-id-6 label.sk-toggleable__label-arrow:before {content: \"▸\";float: left;margin-right: 0.25em;color: #696969;}#sk-container-id-6 label.sk-toggleable__label-arrow:hover:before {color: black;}#sk-container-id-6 div.sk-estimator:hover label.sk-toggleable__label-arrow:before {color: black;}#sk-container-id-6 div.sk-toggleable__content {max-height: 0;max-width: 0;overflow: hidden;text-align: left;background-color: #f0f8ff;}#sk-container-id-6 div.sk-toggleable__content pre {margin: 0.2em;color: black;border-radius: 0.25em;background-color: #f0f8ff;}#sk-container-id-6 input.sk-toggleable__control:checked~div.sk-toggleable__content {max-height: 200px;max-width: 100%;overflow: auto;}#sk-container-id-6 input.sk-toggleable__control:checked~label.sk-toggleable__label-arrow:before {content: \"▾\";}#sk-container-id-6 div.sk-estimator input.sk-toggleable__control:checked~label.sk-toggleable__label {background-color: #d4ebff;}#sk-container-id-6 div.sk-label input.sk-toggleable__control:checked~label.sk-toggleable__label {background-color: #d4ebff;}#sk-container-id-6 input.sk-hidden--visually {border: 0;clip: rect(1px 1px 1px 1px);clip: rect(1px, 1px, 1px, 1px);height: 1px;margin: -1px;overflow: hidden;padding: 0;position: absolute;width: 1px;}#sk-container-id-6 div.sk-estimator {font-family: monospace;background-color: #f0f8ff;border: 1px dotted black;border-radius: 0.25em;box-sizing: border-box;margin-bottom: 0.5em;}#sk-container-id-6 div.sk-estimator:hover {background-color: #d4ebff;}#sk-container-id-6 div.sk-parallel-item::after {content: \"\";width: 100%;border-bottom: 1px solid gray;flex-grow: 1;}#sk-container-id-6 div.sk-label:hover label.sk-toggleable__label {background-color: #d4ebff;}#sk-container-id-6 div.sk-serial::before {content: \"\";position: absolute;border-left: 1px solid gray;box-sizing: border-box;top: 0;bottom: 0;left: 50%;z-index: 0;}#sk-container-id-6 div.sk-serial {display: flex;flex-direction: column;align-items: center;background-color: white;padding-right: 0.2em;padding-left: 0.2em;position: relative;}#sk-container-id-6 div.sk-item {position: relative;z-index: 1;}#sk-container-id-6 div.sk-parallel {display: flex;align-items: stretch;justify-content: center;background-color: white;position: relative;}#sk-container-id-6 div.sk-item::before, #sk-container-id-6 div.sk-parallel-item::before {content: \"\";position: absolute;border-left: 1px solid gray;box-sizing: border-box;top: 0;bottom: 0;left: 50%;z-index: -1;}#sk-container-id-6 div.sk-parallel-item {display: flex;flex-direction: column;z-index: 1;position: relative;background-color: white;}#sk-container-id-6 div.sk-parallel-item:first-child::after {align-self: flex-end;width: 50%;}#sk-container-id-6 div.sk-parallel-item:last-child::after {align-self: flex-start;width: 50%;}#sk-container-id-6 div.sk-parallel-item:only-child::after {width: 0;}#sk-container-id-6 div.sk-dashed-wrapped {border: 1px dashed gray;margin: 0 0.4em 0.5em 0.4em;box-sizing: border-box;padding-bottom: 0.4em;background-color: white;}#sk-container-id-6 div.sk-label label {font-family: monospace;font-weight: bold;display: inline-block;line-height: 1.2em;}#sk-container-id-6 div.sk-label-container {text-align: center;}#sk-container-id-6 div.sk-container {/* jupyter's `normalize.less` sets `[hidden] { display: none; }` but bootstrap.min.css set `[hidden] { display: none !important; }` so we also need the `!important` here to be able to override the default hidden behavior on the sphinx rendered scikit-learn.org. See: https://github.com/scikit-learn/scikit-learn/issues/21755 */display: inline-block !important;position: relative;}#sk-container-id-6 div.sk-text-repr-fallback {display: none;}</style><div id=\"sk-container-id-6\" class=\"sk-top-container\"><div class=\"sk-text-repr-fallback\"><pre>KNeighborsClassifier(metric=&#x27;euclidean&#x27;, n_neighbors=3)</pre><b>In a Jupyter environment, please rerun this cell to show the HTML representation or trust the notebook. <br />On GitHub, the HTML representation is unable to render, please try loading this page with nbviewer.org.</b></div><div class=\"sk-container\" hidden><div class=\"sk-item\"><div class=\"sk-estimator sk-toggleable\"><input class=\"sk-toggleable__control sk-hidden--visually\" id=\"sk-estimator-id-6\" type=\"checkbox\" checked><label for=\"sk-estimator-id-6\" class=\"sk-toggleable__label sk-toggleable__label-arrow\">KNeighborsClassifier</label><div class=\"sk-toggleable__content\"><pre>KNeighborsClassifier(metric=&#x27;euclidean&#x27;, n_neighbors=3)</pre></div></div></div></div></div>"
            ]
          },
          "metadata": {},
          "execution_count": 40
        }
      ]
    },
    {
      "cell_type": "markdown",
      "source": [
        "###(e) 학습시킨 KNN의 정확도를 test_data를 이용하여 출력하시오. "
      ],
      "metadata": {
        "id": "ABElxviknscA"
      }
    },
    {
      "cell_type": "code",
      "source": [
        "from sklearn.metrics import accuracy_score # confusion_matrix 등 다양한 성능평가 함수 존재 \n",
        "import numpy as np\n",
        "################7번(e) 답안 (아래에 코드 작성)##############\n",
        "# 테스트 데이터를 사용한 예측\n",
        "y_pred_knn = knn.predict(X_test)\n",
        "\n",
        "# 정확도 계산 및 출력\n",
        "accuracy_knn = accuracy_score(y_test, y_pred_knn)\n",
        "print(accuracy_knn)\n",
        "\n",
        "\n",
        "\n"
      ],
      "metadata": {
        "id": "nqpn48iynvhg",
        "colab": {
          "base_uri": "https://localhost:8080/"
        },
        "outputId": "bc4505c9-e323-4606-e959-ab01d8ce8f90"
      },
      "execution_count": 43,
      "outputs": [
        {
          "output_type": "stream",
          "name": "stdout",
          "text": [
            "1.0\n"
          ]
        }
      ]
    }
  ]
}