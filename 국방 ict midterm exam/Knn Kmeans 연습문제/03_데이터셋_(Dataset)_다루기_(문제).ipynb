{
  "cells": [
    {
      "cell_type": "markdown",
      "metadata": {
        "id": "r8AY69BKVHsc"
      },
      "source": [
        "# 데이터 셋 (Dataset) 다루기"
      ]
    },
    {
      "cell_type": "markdown",
      "metadata": {
        "id": "eL2KgpFGVHsd"
      },
      "source": [
        "`sklearn.dataset` 안에는 빌트인 (built-in) 데이터 셋들이 존재합니다. 물론 튜토리얼 진행을 위한 수준이므로, 규모가 크지는 않습니다 (Toy Dataset 이라고도 불리웁니다.)\n",
        "\n",
        "그렇지만, mldata.org 데이터 셋은 조금 더 규모가 큰 데이터 셋을 제공하며, 온라인에서 동적으로 다운로드를 받을 수 있습니다.\n",
        "\n",
        "이번 튜토리얼에서는 Built-in 데이터 셋을 활용하는 방법에 대해서 알아보도록 하겠습니다."
      ]
    },
    {
      "cell_type": "code",
      "execution_count": 1,
      "metadata": {
        "id": "rHXHZg8Kxr-V"
      },
      "outputs": [],
      "source": [
        "import warnings\n",
        "\n",
        "# 경고 메시지 출력 표기 생략\n",
        "warnings.filterwarnings('ignore')"
      ]
    },
    {
      "cell_type": "markdown",
      "metadata": {
        "id": "92ExO_F7VHsd"
      },
      "source": [
        "## 빌트인 (Built-in) 데이터셋 활용"
      ]
    },
    {
      "cell_type": "markdown",
      "metadata": {
        "id": "mxTsZpI3VHse"
      },
      "source": [
        "### 데이터 셋의 종류"
      ]
    },
    {
      "cell_type": "markdown",
      "metadata": {
        "id": "un8ZRUX_VHse"
      },
      "source": [
        "- `load_boston`: 보스톤 집값 데이터\n",
        "- `load_iris`: 아이리스 붓꽃 데이터\n",
        "- `load_diabetes`: 당뇨병 환자 데이터\n",
        "- `load_digits`: 손글씨 데이터\n",
        "- `load_linnerud`: multi-output regression 용 데이터\n",
        "- `load_wine`: 와인 데이터\n",
        "- `load_breast_cancer`: 위스콘신 유방암 환자 데이터"
      ]
    },
    {
      "cell_type": "markdown",
      "metadata": {
        "id": "hLgTsdXxVHse"
      },
      "source": [
        "### 데이터 셋 조회"
      ]
    },
    {
      "cell_type": "markdown",
      "metadata": {
        "id": "Ei7RW6dmVHsf"
      },
      "source": [
        "빌트인 데이터셋은 `sklearn.utils.Bunch` 라는 자료구조를 활용합니다.\n",
        "\n",
        "**key-value** 형식으로 구성되어 있으며, 사전(dict)형 타입과 유사한 구조를 가지고 있습니다.\n",
        "\n",
        "공통 **key**는 다음과 같습니다.\n",
        "\n",
        "- `data`: 샘플 데이터, Numpy 배열로 이루어져 있습니다.\n",
        "- `target`: Label 데이터, Numpy 배열로 이루어져 있습니다.\n",
        "- `feature_names`: Feature 데이터의 이름\n",
        "- `target_names`: Label 데이터의 이름\n",
        "- `DESCR`: 데이터 셋의 설명\n",
        "- `filename`: 데이터 셋의 파일 저장 위치 (csv)\n"
      ]
    },
    {
      "cell_type": "markdown",
      "metadata": {
        "id": "0gmCPA1BVHsf"
      },
      "source": [
        " 간단한 실습으로 빌트인 데이터셋의 활용법에 대하여 알아보겠습니다."
      ]
    },
    {
      "cell_type": "markdown",
      "metadata": {
        "id": "rIQnvIlpVHsg"
      },
      "source": [
        "### iris 붓꽃 데이터 로드하기"
      ]
    },
    {
      "cell_type": "code",
      "execution_count": 2,
      "metadata": {
        "id": "YoyR1Vh5VHsg",
        "colab": {
          "base_uri": "https://localhost:8080/",
          "height": 302
        },
        "outputId": "bd16a73c-6971-492c-bf76-e1dbe3ec6560"
      },
      "outputs": [
        {
          "output_type": "execute_result",
          "data": {
            "text/html": [
              "<img src=\"https://user-images.githubusercontent.com/15958325/56006707-f69f3680-5d10-11e9-8609-25ba5034607e.png\"/>"
            ],
            "text/plain": [
              "<IPython.core.display.Image object>"
            ]
          },
          "metadata": {},
          "execution_count": 2
        }
      ],
      "source": [
        "from IPython.display import Image\n",
        "\n",
        "Image(url='https://user-images.githubusercontent.com/15958325/56006707-f69f3680-5d10-11e9-8609-25ba5034607e.png')"
      ]
    },
    {
      "cell_type": "code",
      "execution_count": 3,
      "metadata": {
        "id": "ffKcq0gJVHsl"
      },
      "outputs": [],
      "source": [
        "# iris 붓꽃 데이터 로드\n",
        "from sklearn.datasets import load_iris"
      ]
    },
    {
      "cell_type": "markdown",
      "metadata": {
        "id": "k8acyXyJVHsn"
      },
      "source": [
        "`load_iris`로 데이터 셋을 불러와서 `iris` 변수에 저장합니다."
      ]
    },
    {
      "cell_type": "code",
      "execution_count": 4,
      "metadata": {
        "id": "T9xuvCmXVHsn",
        "colab": {
          "base_uri": "https://localhost:8080/",
          "height": 138
        },
        "outputId": "63d3dc4c-fea2-4af1-e2d2-a2cec2470f93"
      },
      "outputs": [
        {
          "output_type": "error",
          "ename": "SyntaxError",
          "evalue": "ignored",
          "traceback": [
            "\u001b[0;36m  File \u001b[0;32m\"<ipython-input-4-00ebb96c3bb3>\"\u001b[0;36m, line \u001b[0;32m2\u001b[0m\n\u001b[0;31m    iris =\u001b[0m\n\u001b[0m           ^\u001b[0m\n\u001b[0;31mSyntaxError\u001b[0m\u001b[0;31m:\u001b[0m invalid syntax\n"
          ]
        }
      ],
      "source": [
        "# 코드를 입력해 주세요\n",
        "iris = "
      ]
    },
    {
      "cell_type": "markdown",
      "metadata": {
        "id": "Gj6tjjODVHsp"
      },
      "source": [
        "변수를 출력해 보면 다음과 같이 key-value 로 이루어진 데이터셋이 로드됩니다."
      ]
    },
    {
      "cell_type": "code",
      "execution_count": null,
      "metadata": {
        "id": "1G-JPUOAVHsp"
      },
      "outputs": [],
      "source": [
        "iris"
      ]
    },
    {
      "cell_type": "markdown",
      "metadata": {
        "id": "aYW41ufpVHss"
      },
      "source": [
        "## Feature 데이터 (X)"
      ]
    },
    {
      "cell_type": "markdown",
      "metadata": {
        "id": "y7IKsbadVHss"
      },
      "source": [
        "### feature 데이터 값 조회하기"
      ]
    },
    {
      "cell_type": "markdown",
      "metadata": {
        "id": "ANHqlChEVHss"
      },
      "source": [
        "feature data는 `data` 키로 접근하여 가져올 수 있습니다.\n",
        "\n",
        "`features` 변수에 `data`를 대입해 주세요."
      ]
    },
    {
      "cell_type": "code",
      "execution_count": null,
      "metadata": {
        "id": "ayrg67GnVHst"
      },
      "outputs": [],
      "source": [
        "# 코드를 입력해 주세요\n",
        "features = "
      ]
    },
    {
      "cell_type": "markdown",
      "metadata": {
        "id": "GmAE4YMjVHsu"
      },
      "source": [
        "5개만 출력해 본다면 다음과 같은 모양새를 띄고 있습니다."
      ]
    },
    {
      "cell_type": "code",
      "execution_count": null,
      "metadata": {
        "id": "Pp0NBIrJVHsv"
      },
      "outputs": [],
      "source": [
        "features[:5]"
      ]
    },
    {
      "cell_type": "markdown",
      "metadata": {
        "id": "DC0V9a33VHsx"
      },
      "source": [
        "feature data 에 대한 이름은 `feature_names` 로 가져올 수 있습니다.\n",
        "\n",
        "iris 데이터의 경우 총 **4개의 feature**를 가지고 있음을 확인할 수 있습니다.\n",
        "\n",
        "[참고]\n",
        "- **sepal**: 꽃받침\n",
        "- **petal**: 꽃잎"
      ]
    },
    {
      "cell_type": "code",
      "execution_count": null,
      "metadata": {
        "id": "w9VXhfBdVHsx"
      },
      "outputs": [],
      "source": [
        "feature_names = iris['feature_names']\n",
        "feature_names"
      ]
    },
    {
      "cell_type": "markdown",
      "metadata": {
        "id": "hwrdfnPCVHsz"
      },
      "source": [
        "## Label 데이터 (Y)"
      ]
    },
    {
      "cell_type": "markdown",
      "metadata": {
        "id": "YLAAHky7VHsz"
      },
      "source": [
        "label data는 `target` 키로 접근하여 가져올 수 있습니다."
      ]
    },
    {
      "cell_type": "code",
      "execution_count": null,
      "metadata": {
        "id": "lcf1zqnBVHs0"
      },
      "outputs": [],
      "source": [
        "labels = iris['target']\n",
        "labels"
      ]
    },
    {
      "cell_type": "markdown",
      "metadata": {
        "id": "_fPtnVjsVHs2"
      },
      "source": [
        "feature data와 마찬가지로, label 데이터도 `target_names`라는 키로 target에 대한 클래쓰 이름을 확인해 볼 수 있습니다."
      ]
    },
    {
      "cell_type": "markdown",
      "metadata": {
        "id": "HY7mIBPWVHs2"
      },
      "source": [
        "## 데이터 셋을 DataFrame으로 변환"
      ]
    },
    {
      "cell_type": "code",
      "execution_count": null,
      "metadata": {
        "id": "6rJOeGoCVHs2"
      },
      "outputs": [],
      "source": [
        "import pandas as pd"
      ]
    },
    {
      "cell_type": "markdown",
      "metadata": {
        "id": "MaDZJ13jVHs4"
      },
      "source": [
        "첫번째로 `data`와 `feature_names` 키로 가져온 데이터를 활용하여 데이터 프레임을 만들어 줍니다."
      ]
    },
    {
      "cell_type": "code",
      "execution_count": null,
      "metadata": {
        "id": "RRNH0JTuVHs4"
      },
      "outputs": [],
      "source": [
        "# 코드를 입력해 주세요\n",
        "df = \n",
        "df.head()"
      ]
    },
    {
      "cell_type": "markdown",
      "metadata": {
        "id": "dZD2aWw5xr-w"
      },
      "source": [
        "<p><strong>[출력 결과]</strong></p><div>\n",
        "<style scoped>\n",
        "    .dataframe tbody tr th:only-of-type {\n",
        "        vertical-align: middle;\n",
        "    }\n",
        "\n",
        "    .dataframe tbody tr th {\n",
        "        vertical-align: top;\n",
        "    }\n",
        "\n",
        "    .dataframe thead th {\n",
        "        text-align: right;\n",
        "    }\n",
        "</style>\n",
        "<table border=\"1\" class=\"dataframe\">\n",
        "  <thead>\n",
        "    <tr style=\"text-align: right;\">\n",
        "      <th></th>\n",
        "      <th>sepal length (cm)</th>\n",
        "      <th>sepal width (cm)</th>\n",
        "      <th>petal length (cm)</th>\n",
        "      <th>petal width (cm)</th>\n",
        "    </tr>\n",
        "  </thead>\n",
        "  <tbody>\n",
        "    <tr>\n",
        "      <th>0</th>\n",
        "      <td>5.1</td>\n",
        "      <td>3.5</td>\n",
        "      <td>1.4</td>\n",
        "      <td>0.2</td>\n",
        "    </tr>\n",
        "    <tr>\n",
        "      <th>1</th>\n",
        "      <td>4.9</td>\n",
        "      <td>3.0</td>\n",
        "      <td>1.4</td>\n",
        "      <td>0.2</td>\n",
        "    </tr>\n",
        "    <tr>\n",
        "      <th>2</th>\n",
        "      <td>4.7</td>\n",
        "      <td>3.2</td>\n",
        "      <td>1.3</td>\n",
        "      <td>0.2</td>\n",
        "    </tr>\n",
        "    <tr>\n",
        "      <th>3</th>\n",
        "      <td>4.6</td>\n",
        "      <td>3.1</td>\n",
        "      <td>1.5</td>\n",
        "      <td>0.2</td>\n",
        "    </tr>\n",
        "    <tr>\n",
        "      <th>4</th>\n",
        "      <td>5.0</td>\n",
        "      <td>3.6</td>\n",
        "      <td>1.4</td>\n",
        "      <td>0.2</td>\n",
        "    </tr>\n",
        "  </tbody>\n",
        "</table>\n",
        "</div>"
      ]
    },
    {
      "cell_type": "markdown",
      "metadata": {
        "id": "ZE-gdBigVHs9"
      },
      "source": [
        "그런 다음 `target` 데이터를 새로운 컬럼을 만들어 추가해 줍니다. 여기서 target 데이터의 column 명 임의로 지정해 주면 됩니다."
      ]
    },
    {
      "cell_type": "code",
      "execution_count": null,
      "metadata": {
        "id": "5n2b3Rq-VHs9"
      },
      "outputs": [],
      "source": [
        "# 코드를 입력해 주세요\n",
        "df['target'] = "
      ]
    },
    {
      "cell_type": "code",
      "execution_count": null,
      "metadata": {
        "id": "4wB3LZAxVHs_"
      },
      "outputs": [],
      "source": [
        "df.head()"
      ]
    },
    {
      "cell_type": "code",
      "execution_count": null,
      "metadata": {
        "id": "o03qBlDfVHtB"
      },
      "outputs": [],
      "source": [
        "import matplotlib.pyplot as plt\n",
        "import seaborn as sns"
      ]
    },
    {
      "cell_type": "markdown",
      "metadata": {
        "id": "3HbnndwqVHtG"
      },
      "source": [
        "## 데이터 분할 (train_test_split)"
      ]
    },
    {
      "cell_type": "markdown",
      "metadata": {
        "id": "XcT3ocjaVHtH"
      },
      "source": [
        "기계학습에서 데이터 분할을 중요한 전처리 과정입니다.\n",
        "\n",
        "`sklearn.model_selection`의 `train_test_split`은 클래스 이름 그대로 **학습과 검증 (혹은 테스트) 셋**을 나누어 주는 역할을 합니다.\n",
        "\n",
        "학습 (Train) / 검증 (Validation or Test) 세트로 나누며, 검증 세트로 **과대 적합**여부를 모니터링 할 수 있습니다.\n",
        "\n",
        "또한, 검증 세트를 활용하여 모델의 성능 평가를 진행할 수 있습니다."
      ]
    },
    {
      "cell_type": "markdown",
      "metadata": {
        "id": "XsT10zvKVHtH"
      },
      "source": [
        "**샘플 데이터** 확인"
      ]
    },
    {
      "cell_type": "code",
      "execution_count": null,
      "metadata": {
        "id": "DteaicwYVHtH"
      },
      "outputs": [],
      "source": [
        "df.head()"
      ]
    },
    {
      "cell_type": "markdown",
      "metadata": {
        "id": "97ikSKUZVHtJ"
      },
      "source": [
        "feature(x), label(y) 데이터를 분할 합니다."
      ]
    },
    {
      "cell_type": "code",
      "execution_count": null,
      "metadata": {
        "id": "2UsjQAB_VHtJ"
      },
      "outputs": [],
      "source": [
        "from sklearn.model_selection import train_test_split"
      ]
    },
    {
      "cell_type": "markdown",
      "metadata": {
        "id": "_MPlgtyuxr-8"
      },
      "source": [
        "`target` 변수를 제외한 나머지 컬럼은 `x`변수에 대입합니다."
      ]
    },
    {
      "cell_type": "code",
      "execution_count": null,
      "metadata": {
        "id": "8zrHbppMVHtL"
      },
      "outputs": [],
      "source": [
        "x = df.iloc[:, :4]\n",
        "x.head()"
      ]
    },
    {
      "cell_type": "markdown",
      "metadata": {
        "id": "SwWZP8rWxr--"
      },
      "source": [
        "`y`변수에 `df['target']`을 대입합니다."
      ]
    },
    {
      "cell_type": "code",
      "execution_count": null,
      "metadata": {
        "id": "IUEXvXrHVHtN"
      },
      "outputs": [],
      "source": [
        "y = df['target']\n",
        "y.head()"
      ]
    },
    {
      "cell_type": "markdown",
      "metadata": {
        "id": "ngzgraw8VHtO"
      },
      "source": [
        "**주요 hyperparameter**\n",
        "\n",
        "* `test_size`: validation set에 할당할 비율 (20% -> 0.2), 기본값 0.25\n",
        "* `stratify`: 분할된 샘플의 class 갯수가 동일한 비율로 유지\n",
        "* `random_state`: 랜덤 시드값\n",
        "* `shuffle`: 셔플 옵션, 기본값 True"
      ]
    },
    {
      "cell_type": "code",
      "execution_count": null,
      "metadata": {
        "id": "NIBiAgQ2VHtP"
      },
      "outputs": [],
      "source": [
        "x_train, x_test, y_train, y_test = train_test_split(x, y, stratify=y, test_size=0.2, random_state=123)"
      ]
    },
    {
      "cell_type": "markdown",
      "metadata": {
        "id": "9fRnoCZRVHtQ"
      },
      "source": [
        "원본 **x**의 shape"
      ]
    },
    {
      "cell_type": "code",
      "execution_count": null,
      "metadata": {
        "id": "WL6PrNo2VHtQ"
      },
      "outputs": [],
      "source": [
        "x.shape"
      ]
    },
    {
      "cell_type": "markdown",
      "metadata": {
        "id": "Qg4I8KQPVHtS"
      },
      "source": [
        "분할된 **x**의 shape"
      ]
    },
    {
      "cell_type": "code",
      "execution_count": null,
      "metadata": {
        "id": "Ooxc5_A1VHtS"
      },
      "outputs": [],
      "source": [
        "x_train.shape, x_test.shape"
      ]
    },
    {
      "cell_type": "markdown",
      "metadata": {
        "id": "AyXMXu42VHtU"
      },
      "source": [
        "원본 **y**의 shape"
      ]
    },
    {
      "cell_type": "code",
      "execution_count": null,
      "metadata": {
        "id": "KHdXNu-HVHtU"
      },
      "outputs": [],
      "source": [
        "y.shape"
      ]
    },
    {
      "cell_type": "markdown",
      "metadata": {
        "id": "Kx-sZ5RXVHtW"
      },
      "source": [
        "분할된 **y**의 shape"
      ]
    },
    {
      "cell_type": "code",
      "execution_count": null,
      "metadata": {
        "id": "T9EmqpauVHtW"
      },
      "outputs": [],
      "source": [
        "y_train.shape, y_test.shape"
      ]
    }
  ],
  "metadata": {
    "colab": {
      "provenance": []
    },
    "kernelspec": {
      "display_name": "Python 3 (ipykernel)",
      "language": "python",
      "name": "python3"
    },
    "language_info": {
      "codemirror_mode": {
        "name": "ipython",
        "version": 3
      },
      "file_extension": ".py",
      "mimetype": "text/x-python",
      "name": "python",
      "nbconvert_exporter": "python",
      "pygments_lexer": "ipython3",
      "version": "3.7.10"
    }
  },
  "nbformat": 4,
  "nbformat_minor": 0
}