{
  "nbformat": 4,
  "nbformat_minor": 0,
  "metadata": {
    "colab": {
      "provenance": []
    },
    "kernelspec": {
      "name": "python3",
      "display_name": "Python 3"
    },
    "language_info": {
      "name": "python"
    }
  },
  "cells": [
    {
      "cell_type": "markdown",
      "source": [
        "# [시험 유의사항]\n",
        "1. 명예시험 절차를 준수하여 작성하시오.\n",
        "2. 본 시험은 **총 5개 문제**로 구성되어 있으며, **시험 시간은 25분**이다.\n",
        "3. 답안은 반드시 답안셀에 기입할 것.\n",
        "4. 휴대하고 있는 **모든 자료(강의슬라이드, 교재 등)의 열람이 가능**하다.\n",
        "5. **인터넷은 제한없이 사용이 가능**하다. 단, 채팅 등을 통한 **타인과의 대화는 불가능**하다. \n",
        "6. 답안 코드 작성 후 실행 여부를 반드시 확인하라. \n",
        "7. 시험 시작 후 노트북 충전 등의 목적으로 자리 이동은 불가하다. \n",
        "8. 주피터 노트북 파일의 **파일명**은 아래 예시와 같이 **자신의 교번과 이름**으로 하라. <br/>\n",
        "    예) 22_1학기_수시1_교번_13525_이름_홍길동\n",
        "9. 시험 종료 후 파일을 **LMS에 제출**하라 <br/>\n",
        "  - **지연 제출시 10점 감점**"
      ],
      "metadata": {
        "id": "O8LfB6R2cdTN"
      }
    },
    {
      "cell_type": "markdown",
      "source": [
        "## 1. 선형회귀 실습 -  sklearn "
      ],
      "metadata": {
        "id": "lbKG89tNbr32"
      }
    },
    {
      "cell_type": "code",
      "execution_count": null,
      "metadata": {
        "id": "79bTHldibnhW"
      },
      "outputs": [],
      "source": [
        "######################################\n",
        "## 아래 코드를 실행하시오. (수정 금지)\n",
        "###################################### \n",
        "from sklearn.linear_model import LinearRegression\n",
        "import pandas as pd\n",
        "import numpy as np\n",
        "import matplotlib.pyplot as plt\n",
        "from sklearn.model_selection import train_test_split\n",
        "\n",
        "\n",
        "## 파일 읽어오기 \n",
        "df = pd.read_csv(\"weight-height.csv\")\n"
      ]
    },
    {
      "cell_type": "markdown",
      "source": [
        "1. 주어진 데이터에서 Hight, Weight의 상관관계를 scatter 그래프로 표현하시오.</br>이때, x축은 Hight, y축은 Weight로 하시오. "
      ],
      "metadata": {
        "id": "W3AxfTEicxqk"
      }
    },
    {
      "cell_type": "code",
      "source": [
        "###################################### \n",
        "### 아래에 코드를 작성하시오. \n",
        "###################################### \n",
        "x = df[\"Height\"]\n",
        "y = df[\"Weight\"]\n",
        "plt.plot(x, y, 'o')\n",
        "plt.show()\n"
      ],
      "metadata": {
        "id": "R0-xHYBqb220",
        "colab": {
          "base_uri": "https://localhost:8080/",
          "height": 430
        },
        "outputId": "b67ffca4-10ce-48a5-db98-5dd2af366840"
      },
      "execution_count": null,
      "outputs": [
        {
          "output_type": "display_data",
          "data": {
            "text/plain": [
              "<Figure size 640x480 with 1 Axes>"
            ],
            "image/png": "[encoded data removed]"
          },
          "metadata": {}
        }
      ]
    },
    {
      "cell_type": "markdown",
      "source": [
        "2. 주어진 데이터를 train_test_split 함수를 이용하여 훈련데이터셋과 테스트데이터셋으로 구분하시오. </br>\n",
        "이때, 훈련데이터와 테스트데이터의 비율은 8:2로 하시오. "
      ],
      "metadata": {
        "id": "jB_xp33tgOuP"
      }
    },
    {
      "cell_type": "code",
      "source": [
        "###################################### \n",
        "### 아래에 코드를 작성하시오. \n",
        "###################################### \n",
        "\n",
        "from sklearn.model_selection import train_test_split\n",
        "x = df[['Height']]\n",
        "y = df[['Weight']]\n",
        "x_train, x_test, y_train, y_test = train_test_split(x, y, train_size=0.8, test_size=0.2)"
      ],
      "metadata": {
        "id": "JylHCkTOgAkU"
      },
      "execution_count": null,
      "outputs": []
    },
    {
      "cell_type": "markdown",
      "source": [
        "3. sklearn의 LinearRegression()와 앞 문제에서 구한 학습데이터셋을 이용하여 모델을 생성하고 fit() 함수를 이용하여 학습하시오. \n"
      ],
      "metadata": {
        "id": "jSPVekrrgFBh"
      }
    },
    {
      "cell_type": "code",
      "source": [
        "###################################### \n",
        "### 아래에 코드를 작성하시오. \n",
        "###################################### \n",
        "lr = LinearRegression()\n",
        "lr.fit(x_train, y_train)"
      ],
      "metadata": {
        "id": "mJV0dT_WeW-y",
        "colab": {
          "base_uri": "https://localhost:8080/",
          "height": 74
        },
        "outputId": "ec9b1377-77d7-46f3-b327-a717677a5044"
      },
      "execution_count": null,
      "outputs": [
        {
          "output_type": "execute_result",
          "data": {
            "text/plain": [
              "LinearRegression()"
            ],
            "text/html": [
              "<style>#sk-container-id-1 {color: black;background-color: white;}#sk-container-id-1 pre{padding: 0;}#sk-container-id-1 div.sk-toggleable {background-color: white;}#sk-container-id-1 label.sk-toggleable__label {cursor: pointer;display: block;width: 100%;margin-bottom: 0;padding: 0.3em;box-sizing: border-box;text-align: center;}#sk-container-id-1 label.sk-toggleable__label-arrow:before {content: \"▸\";float: left;margin-right: 0.25em;color: #696969;}#sk-container-id-1 label.sk-toggleable__label-arrow:hover:before {color: black;}#sk-container-id-1 div.sk-estimator:hover label.sk-toggleable__label-arrow:before {color: black;}#sk-container-id-1 div.sk-toggleable__content {max-height: 0;max-width: 0;overflow: hidden;text-align: left;background-color: #f0f8ff;}#sk-container-id-1 div.sk-toggleable__content pre {margin: 0.2em;color: black;border-radius: 0.25em;background-color: #f0f8ff;}#sk-container-id-1 input.sk-toggleable__control:checked~div.sk-toggleable__content {max-height: 200px;max-width: 100%;overflow: auto;}#sk-container-id-1 input.sk-toggleable__control:checked~label.sk-toggleable__label-arrow:before {content: \"▾\";}#sk-container-id-1 div.sk-estimator input.sk-toggleable__control:checked~label.sk-toggleable__label {background-color: #d4ebff;}#sk-container-id-1 div.sk-label input.sk-toggleable__control:checked~label.sk-toggleable__label {background-color: #d4ebff;}#sk-container-id-1 input.sk-hidden--visually {border: 0;clip: rect(1px 1px 1px 1px);clip: rect(1px, 1px, 1px, 1px);height: 1px;margin: -1px;overflow: hidden;padding: 0;position: absolute;width: 1px;}#sk-container-id-1 div.sk-estimator {font-family: monospace;background-color: #f0f8ff;border: 1px dotted black;border-radius: 0.25em;box-sizing: border-box;margin-bottom: 0.5em;}#sk-container-id-1 div.sk-estimator:hover {background-color: #d4ebff;}#sk-container-id-1 div.sk-parallel-item::after {content: \"\";width: 100%;border-bottom: 1px solid gray;flex-grow: 1;}#sk-container-id-1 div.sk-label:hover label.sk-toggleable__label {background-color: #d4ebff;}#sk-container-id-1 div.sk-serial::before {content: \"\";position: absolute;border-left: 1px solid gray;box-sizing: border-box;top: 0;bottom: 0;left: 50%;z-index: 0;}#sk-container-id-1 div.sk-serial {display: flex;flex-direction: column;align-items: center;background-color: white;padding-right: 0.2em;padding-left: 0.2em;position: relative;}#sk-container-id-1 div.sk-item {position: relative;z-index: 1;}#sk-container-id-1 div.sk-parallel {display: flex;align-items: stretch;justify-content: center;background-color: white;position: relative;}#sk-container-id-1 div.sk-item::before, #sk-container-id-1 div.sk-parallel-item::before {content: \"\";position: absolute;border-left: 1px solid gray;box-sizing: border-box;top: 0;bottom: 0;left: 50%;z-index: -1;}#sk-container-id-1 div.sk-parallel-item {display: flex;flex-direction: column;z-index: 1;position: relative;background-color: white;}#sk-container-id-1 div.sk-parallel-item:first-child::after {align-self: flex-end;width: 50%;}#sk-container-id-1 div.sk-parallel-item:last-child::after {align-self: flex-start;width: 50%;}#sk-container-id-1 div.sk-parallel-item:only-child::after {width: 0;}#sk-container-id-1 div.sk-dashed-wrapped {border: 1px dashed gray;margin: 0 0.4em 0.5em 0.4em;box-sizing: border-box;padding-bottom: 0.4em;background-color: white;}#sk-container-id-1 div.sk-label label {font-family: monospace;font-weight: bold;display: inline-block;line-height: 1.2em;}#sk-container-id-1 div.sk-label-container {text-align: center;}#sk-container-id-1 div.sk-container {/* jupyter's `normalize.less` sets `[hidden] { display: none; }` but bootstrap.min.css set `[hidden] { display: none !important; }` so we also need the `!important` here to be able to override the default hidden behavior on the sphinx rendered scikit-learn.org. See: https://github.com/scikit-learn/scikit-learn/issues/21755 */display: inline-block !important;position: relative;}#sk-container-id-1 div.sk-text-repr-fallback {display: none;}</style><div id=\"sk-container-id-1\" class=\"sk-top-container\"><div class=\"sk-text-repr-fallback\"><pre>LinearRegression()</pre><b>In a Jupyter environment, please rerun this cell to show the HTML representation or trust the notebook. <br />On GitHub, the HTML representation is unable to render, please try loading this page with nbviewer.org.</b></div><div class=\"sk-container\" hidden><div class=\"sk-item\"><div class=\"sk-estimator sk-toggleable\"><input class=\"sk-toggleable__control sk-hidden--visually\" id=\"sk-estimator-id-1\" type=\"checkbox\" checked><label for=\"sk-estimator-id-1\" class=\"sk-toggleable__label sk-toggleable__label-arrow\">LinearRegression</label><div class=\"sk-toggleable__content\"><pre>LinearRegression()</pre></div></div></div></div></div>"
            ]
          },
          "metadata": {},
          "execution_count": 5
        }
      ]
    },
    {
      "cell_type": "markdown",
      "source": [
        "4. 학습된 선형회귀 모델의 파라미터들을 출력하시오. \n"
      ],
      "metadata": {
        "id": "hUOwsdcTg4Pj"
      }
    },
    {
      "cell_type": "code",
      "source": [
        "###################################### \n",
        "### 아래에 코드를 작성하시오. \n",
        "###################################### \n",
        "print(lr.coef_)\n",
        "print(lr.intercept_)"
      ],
      "metadata": {
        "id": "39SyF2JnclJs",
        "colab": {
          "base_uri": "https://localhost:8080/"
        },
        "outputId": "02297c34-636e-4097-beeb-2d444511edd9"
      },
      "execution_count": null,
      "outputs": [
        {
          "output_type": "stream",
          "name": "stdout",
          "text": [
            "[[7.71099101]]\n",
            "[-350.41014739]\n"
          ]
        }
      ]
    },
    {
      "cell_type": "markdown",
      "source": [
        "5. 모델의 결정계수를 출력하시오. "
      ],
      "metadata": {
        "id": "z6DbsmGzfFW9"
      }
    },
    {
      "cell_type": "code",
      "source": [
        "###################################### \n",
        "### 아래에 코드를 작성하시오. \n",
        "###################################### \n",
        "print(lr.score(x_test, y_test))\n"
      ],
      "metadata": {
        "id": "pJNIQd9fg-LX",
        "colab": {
          "base_uri": "https://localhost:8080/"
        },
        "outputId": "38286221-0009-4ad7-ba6d-babe4fd62376"
      },
      "execution_count": null,
      "outputs": [
        {
          "output_type": "stream",
          "name": "stdout",
          "text": [
            "0.8557768090298028\n"
          ]
        }
      ]
    }
  ]
}