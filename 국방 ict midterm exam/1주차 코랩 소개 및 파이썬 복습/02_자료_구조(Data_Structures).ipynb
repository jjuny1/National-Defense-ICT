{
  "cells": [
    {
      "cell_type": "markdown",
      "id": "2d0359bf",
      "metadata": {
        "id": "2d0359bf"
      },
      "source": [
        "# 자료구조 (Data Structures)"
      ]
    },
    {
      "cell_type": "markdown",
      "id": "cc61a7fd",
      "metadata": {
        "id": "cc61a7fd"
      },
      "source": [
        "## 리스트 (Lists) : 순서가 있는(ordered), 수정 가능한(mutable) 값들의 집합 \n",
        "* 어떤 형태의 값들도 리스트 안에 기입 가능 \n",
        "* 리스트 내부의 값을 원소/요소(element), 항목(item)이라고 함 \n",
        "* 원소들을 대괄호로 감싸 리스트를 생성, 리스트 내의 원소들은 쉼표로 구분 "
      ]
    },
    {
      "cell_type": "code",
      "execution_count": 1,
      "id": "124dfa4d",
      "metadata": {
        "colab": {
          "base_uri": "https://localhost:8080/"
        },
        "id": "124dfa4d",
        "outputId": "2258b5cd-e8ff-4e32-e628-b8fe7decdd31"
      },
      "outputs": [
        {
          "output_type": "stream",
          "name": "stdout",
          "text": [
            "[1, 2, 3, 4]\n"
          ]
        }
      ],
      "source": [
        "my_list = [1,2,3,4]\n",
        "print(my_list)"
      ]
    },
    {
      "cell_type": "code",
      "execution_count": 2,
      "id": "343cab68",
      "metadata": {
        "id": "343cab68"
      },
      "outputs": [],
      "source": [
        "my_list = ['list', 'of', 'strings']  # 문자열을 원소로 하는 리스트 "
      ]
    },
    {
      "cell_type": "code",
      "execution_count": 3,
      "id": "31dd5ace",
      "metadata": {
        "id": "31dd5ace"
      },
      "outputs": [],
      "source": [
        "my_list = [1,'list', False, []]      # 다양한 원소로 구성된 리스트 "
      ]
    },
    {
      "cell_type": "code",
      "execution_count": 4,
      "id": "341e6193",
      "metadata": {
        "id": "341e6193"
      },
      "outputs": [],
      "source": [
        "my_list = [[1,2,3],[False, True], []]  # 리스트를 원소로 하는 리스트 "
      ]
    },
    {
      "cell_type": "code",
      "execution_count": 5,
      "id": "71054a67",
      "metadata": {
        "colab": {
          "base_uri": "https://localhost:8080/"
        },
        "id": "71054a67",
        "outputId": "11c7d14f-2957-44b8-8d13-4e31c3f4b42b"
      },
      "outputs": [
        {
          "output_type": "execute_result",
          "data": {
            "text/plain": [
              "3"
            ]
          },
          "metadata": {},
          "execution_count": 5
        }
      ],
      "source": [
        "len(my_list)     # 리스트의 원소의 갯수를 반환"
      ]
    },
    {
      "cell_type": "markdown",
      "id": "fe9bdfd8",
      "metadata": {
        "id": "fe9bdfd8"
      },
      "source": [
        "## Sets : 순서가 없는(unordered), 수정 가능한(mutable) 중복이 없는 값들의(unique) 집합 "
      ]
    },
    {
      "cell_type": "code",
      "execution_count": 23,
      "id": "2cd42f05",
      "metadata": {
        "colab": {
          "base_uri": "https://localhost:8080/"
        },
        "id": "2cd42f05",
        "outputId": "96cf1360-0688-4114-ef22-60171d206357"
      },
      "outputs": [
        {
          "output_type": "stream",
          "name": "stdout",
          "text": [
            "{1, 2, 3, 4, 5}\n"
          ]
        }
      ],
      "source": [
        "my_set = {1,2,3,4,5}\n",
        "print(my_set)"
      ]
    },
    {
      "cell_type": "code",
      "execution_count": 24,
      "id": "ce2034e0",
      "metadata": {
        "colab": {
          "base_uri": "https://localhost:8080/"
        },
        "id": "ce2034e0",
        "outputId": "d800ae9f-5708-4708-d5b3-0f4fe2bea848"
      },
      "outputs": [
        {
          "output_type": "execute_result",
          "data": {
            "text/plain": [
              "set"
            ]
          },
          "metadata": {},
          "execution_count": 24
        }
      ],
      "source": [
        "type(my_set)"
      ]
    },
    {
      "cell_type": "code",
      "execution_count": 25,
      "id": "c40a0c41",
      "metadata": {
        "colab": {
          "base_uri": "https://localhost:8080/"
        },
        "id": "c40a0c41",
        "outputId": "bedf8cba-8fa4-4cc8-97f4-a2a02ce90894"
      },
      "outputs": [
        {
          "output_type": "execute_result",
          "data": {
            "text/plain": [
              "5"
            ]
          },
          "metadata": {},
          "execution_count": 25
        }
      ],
      "source": [
        "len(my_set)"
      ]
    },
    {
      "cell_type": "code",
      "execution_count": 26,
      "id": "4dacc8e7",
      "metadata": {
        "colab": {
          "base_uri": "https://localhost:8080/"
        },
        "id": "4dacc8e7",
        "outputId": "6e58aa3e-4119-4f22-eb26-9b65c4c6a9b5"
      },
      "outputs": [
        {
          "output_type": "stream",
          "name": "stdout",
          "text": [
            "{1, 2}\n"
          ]
        }
      ],
      "source": [
        "my_set = {1,1,2,2}   # 중복이 없는... \n",
        "len(my_set)\n",
        "print(my_set)"
      ]
    },
    {
      "cell_type": "code",
      "execution_count": 22,
      "id": "04796b0e",
      "metadata": {
        "colab": {
          "base_uri": "https://localhost:8080/"
        },
        "id": "04796b0e",
        "outputId": "7a345050-b138-4132-e79b-b16026c84768"
      },
      "outputs": [
        {
          "output_type": "execute_result",
          "data": {
            "text/plain": [
              "False"
            ]
          },
          "metadata": {},
          "execution_count": 22
        }
      ],
      "source": [
        "[1,2] == [2,1]   # 리스트는 순서가 있는 자료구조이기 때문에 두 리스트는 다른 리스트이다. "
      ]
    },
    {
      "cell_type": "code",
      "execution_count": null,
      "id": "542b7600",
      "metadata": {
        "id": "542b7600",
        "outputId": "11a41eee-bfbc-481d-d8b2-cebb217cb395"
      },
      "outputs": [
        {
          "data": {
            "text/plain": [
              "True"
            ]
          },
          "execution_count": 17,
          "metadata": {},
          "output_type": "execute_result"
        }
      ],
      "source": [
        "{1,2,3} == {3,2,1,1,1} # 집합(set)은 순서가 없고, 중복된 값이 허용되지 않기 때문에 두 집합은 같다. "
      ]
    },
    {
      "cell_type": "markdown",
      "id": "2d54cd5f",
      "metadata": {
        "id": "2d54cd5f"
      },
      "source": [
        "## 튜플 (Tuples) : 변하지 않는(immutable), 순서가 있는(ordered) 값의 집합 "
      ]
    },
    {
      "cell_type": "code",
      "execution_count": 16,
      "id": "f8d946cf",
      "metadata": {
        "id": "f8d946cf"
      },
      "outputs": [],
      "source": [
        "my_tuple = (1,2,3)"
      ]
    },
    {
      "cell_type": "code",
      "execution_count": 17,
      "id": "2b1218e0",
      "metadata": {
        "colab": {
          "base_uri": "https://localhost:8080/"
        },
        "id": "2b1218e0",
        "outputId": "6d50cbe7-acc1-47a7-9792-5ccfb35aa449"
      },
      "outputs": [
        {
          "output_type": "execute_result",
          "data": {
            "text/plain": [
              "3"
            ]
          },
          "metadata": {},
          "execution_count": 17
        }
      ],
      "source": [
        "len(my_tuple)"
      ]
    },
    {
      "cell_type": "code",
      "execution_count": 18,
      "id": "0b11e898",
      "metadata": {
        "colab": {
          "base_uri": "https://localhost:8080/"
        },
        "id": "0b11e898",
        "outputId": "32788f6a-00d8-4c1b-a596-ae5803d66b9a"
      },
      "outputs": [
        {
          "output_type": "execute_result",
          "data": {
            "text/plain": [
              "False"
            ]
          },
          "metadata": {},
          "execution_count": 18
        }
      ],
      "source": [
        "(1,2) == (2,1)"
      ]
    },
    {
      "cell_type": "code",
      "execution_count": 19,
      "id": "f4f0164e",
      "metadata": {
        "colab": {
          "base_uri": "https://localhost:8080/"
        },
        "id": "f4f0164e",
        "outputId": "d0c7f466-0cc2-49d3-b886-c7ea8b1208d6"
      },
      "outputs": [
        {
          "output_type": "stream",
          "name": "stdout",
          "text": [
            "[[1, 2, 3], [False, True], [], 6]\n"
          ]
        }
      ],
      "source": [
        "my_list.append(6)    # 리스트는 mutable하기 때문에 원소 추가 가능 \n",
        "print(my_list)"
      ]
    },
    {
      "cell_type": "code",
      "execution_count": 20,
      "id": "3fc754a7",
      "metadata": {
        "colab": {
          "base_uri": "https://localhost:8080/",
          "height": 166
        },
        "id": "3fc754a7",
        "outputId": "38cd3e24-56e8-45cf-fdbf-27a1f3753c8b"
      },
      "outputs": [
        {
          "output_type": "error",
          "ename": "AttributeError",
          "evalue": "ignored",
          "traceback": [
            "\u001b[0;31m---------------------------------------------------------------------------\u001b[0m",
            "\u001b[0;31mAttributeError\u001b[0m                            Traceback (most recent call last)",
            "\u001b[0;32m<ipython-input-20-5cb3df206248>\u001b[0m in \u001b[0;36m<module>\u001b[0;34m\u001b[0m\n\u001b[0;32m----> 1\u001b[0;31m \u001b[0mmy_tuple\u001b[0m\u001b[0;34m.\u001b[0m\u001b[0mappend\u001b[0m\u001b[0;34m(\u001b[0m\u001b[0;36m4\u001b[0m\u001b[0;34m)\u001b[0m\u001b[0;34m\u001b[0m\u001b[0;34m\u001b[0m\u001b[0m\n\u001b[0m",
            "\u001b[0;31mAttributeError\u001b[0m: 'tuple' object has no attribute 'append'"
          ]
        }
      ],
      "source": [
        "my_tuple.append(4)   # 튜플은 immutable하기 때문에 원소 추가 불가능 "
      ]
    },
    {
      "cell_type": "markdown",
      "id": "491e40c6",
      "metadata": {
        "id": "491e40c6"
      },
      "source": [
        "## 디셔너리 (Dictionaries) : key-value 쌍(pair)를 원소로 하는 집합\n",
        "* 예) 영한사전 : 영어(key), 한글(value)\n",
        "* 영어 단어(key)를 통해 대응되는 한글 단어(value)에 접근 \n",
        "* 키(key)와 값(value)을 매핑한 \"key:value\"의 형태로 원소들을 저장 "
      ]
    },
    {
      "cell_type": "code",
      "execution_count": 6,
      "id": "07eacb6d",
      "metadata": {
        "id": "07eacb6d"
      },
      "outputs": [],
      "source": [
        "my_dictionary = {\n",
        "    'apple': 'A red fruit', \n",
        "    'bear': 'A scary animal'\n",
        "}"
      ]
    },
    {
      "cell_type": "code",
      "execution_count": 7,
      "id": "e62a0f43",
      "metadata": {
        "colab": {
          "base_uri": "https://localhost:8080/",
          "height": 35
        },
        "id": "e62a0f43",
        "outputId": "db1f048d-a798-488f-a2af-ba5eedb7a05d"
      },
      "outputs": [
        {
          "output_type": "execute_result",
          "data": {
            "text/plain": [
              "'A red fruit'"
            ],
            "application/vnd.google.colaboratory.intrinsic+json": {
              "type": "string"
            }
          },
          "metadata": {},
          "execution_count": 7
        }
      ],
      "source": [
        "my_dictionary['apple']"
      ]
    },
    {
      "cell_type": "code",
      "execution_count": 9,
      "id": "40a2a490",
      "metadata": {
        "id": "40a2a490"
      },
      "outputs": [],
      "source": [
        "my_dictionary = {\n",
        "    'apple': 'A red fruit', \n",
        "    'bear': 'A scary animal',\n",
        "    'apple': 'Sometimes a green fruit'     # 기존 키와 동일 -> 기존 원소를 덮어쓴다. \n",
        "}                            "
      ]
    },
    {
      "cell_type": "code",
      "execution_count": null,
      "id": "97ccc4aa",
      "metadata": {
        "id": "97ccc4aa",
        "outputId": "e45b0ae9-7d9f-4bf7-c9d7-c2527a9d67b0"
      },
      "outputs": [
        {
          "data": {
            "text/plain": [
              "'Sometimes a green fruit'"
            ]
          },
          "execution_count": 29,
          "metadata": {},
          "output_type": "execute_result"
        }
      ],
      "source": [
        "my_dictionary['apple']"
      ]
    },
    {
      "cell_type": "code",
      "execution_count": 13,
      "id": "cb8ac863",
      "metadata": {
        "colab": {
          "base_uri": "https://localhost:8080/",
          "height": 35
        },
        "id": "cb8ac863",
        "outputId": "822ddaf8-1992-4568-f7da-8dbca48dc937"
      },
      "outputs": [
        {
          "output_type": "execute_result",
          "data": {
            "text/plain": [
              "'Sometimes a green fruit'"
            ],
            "application/vnd.google.colaboratory.intrinsic+json": {
              "type": "string"
            }
          },
          "metadata": {},
          "execution_count": 13
        }
      ],
      "source": [
        "my_dictionary['apple']"
      ]
    },
    {
      "cell_type": "code",
      "source": [
        "my_dictionary"
      ],
      "metadata": {
        "colab": {
          "base_uri": "https://localhost:8080/"
        },
        "id": "4JJlQGD_SQDG",
        "outputId": "6d37f1ea-44e4-46df-938a-84a4926f1ab3"
      },
      "id": "4JJlQGD_SQDG",
      "execution_count": 14,
      "outputs": [
        {
          "output_type": "execute_result",
          "data": {
            "text/plain": [
              "{'apple': 'Sometimes a green fruit', 'bear': 'A scary animal'}"
            ]
          },
          "metadata": {},
          "execution_count": 14
        }
      ]
    },
    {
      "cell_type": "code",
      "source": [],
      "metadata": {
        "id": "sarfF5DrSWA5"
      },
      "id": "sarfF5DrSWA5",
      "execution_count": null,
      "outputs": []
    }
  ],
  "metadata": {
    "kernelspec": {
      "display_name": "Python 3 (ipykernel)",
      "language": "python",
      "name": "python3"
    },
    "language_info": {
      "codemirror_mode": {
        "name": "ipython",
        "version": 3
      },
      "file_extension": ".py",
      "mimetype": "text/x-python",
      "name": "python",
      "nbconvert_exporter": "python",
      "pygments_lexer": "ipython3",
      "version": "3.10.2"
    },
    "colab": {
      "provenance": []
    }
  },
  "nbformat": 4,
  "nbformat_minor": 5
}