{
  "nbformat": 4,
  "nbformat_minor": 0,
  "metadata": {
    "colab": {
      "provenance": []
    },
    "kernelspec": {
      "name": "python3",
      "display_name": "Python 3"
    },
    "language_info": {
      "name": "python"
    }
  },
  "cells": [
    {
      "cell_type": "code",
      "execution_count": 3,
      "metadata": {
        "colab": {
          "base_uri": "https://localhost:8080/"
        },
        "id": "ET2UQH-wrGhY",
        "outputId": "4e17bb1a-74d0-4b0c-a35e-c9d5bae92100"
      },
      "outputs": [
        {
          "output_type": "stream",
          "name": "stdout",
          "text": [
            "a :  0.8949507264094417\n",
            "b : [0.7642254  0.78715285]\n",
            "c :  [[0.26503559 0.2183595 ]\n",
            " [0.59119139 0.65273971]]\n"
          ]
        }
      ],
      "source": [
        "import numpy as np\n",
        "import random\n",
        "\n",
        "a = np.random.rand() # 0부터 1사이에서 균일한 확률 분포로 실수 난수 생성(random.random()과 동일)\n",
        "print(\"a : \", a)\n",
        "\n",
        "b = np.random.rand(2) # 0부터 1사이 균일 분포 난수 n개 배열 생성\n",
        "print(\"b :\", b)\n",
        "\n",
        "c = np.random.rand(2,2) # 0부터 1사이 균일 분포 난수를 행렬 array(p, q)로 생성\n",
        "print(\"c : \", c)"
      ]
    }
  ]
}