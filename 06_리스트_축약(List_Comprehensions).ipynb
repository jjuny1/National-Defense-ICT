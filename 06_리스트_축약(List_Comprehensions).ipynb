{
  "cells": [
    {
      "cell_type": "markdown",
      "id": "345ce831",
      "metadata": {
        "id": "345ce831"
      },
      "source": [
        "## List Comprehensions\n",
        "\n"
      ]
    },
    {
      "cell_type": "code",
      "execution_count": null,
      "id": "1ac3c215",
      "metadata": {
        "id": "1ac3c215",
        "outputId": "db6d77cf-11ac-4b4d-cb21-cad67767351c"
      },
      "outputs": [
        {
          "data": {
            "text/plain": [
              "[2, 4, 6, 8, 10]"
            ]
          },
          "execution_count": 1,
          "metadata": {},
          "output_type": "execute_result"
        }
      ],
      "source": [
        "myList = [1,2,3,4,5]\n",
        "[2*item for item in myList]"
      ]
    },
    {
      "cell_type": "markdown",
      "id": "21948942",
      "metadata": {
        "id": "21948942"
      },
      "source": [
        "### List comprehensions with filters"
      ]
    },
    {
      "cell_type": "code",
      "execution_count": null,
      "id": "4d3e4c21",
      "metadata": {
        "id": "4d3e4c21",
        "outputId": "7db8c580-8d58-4a8c-bd51-628f784cf58c"
      },
      "outputs": [
        {
          "data": {
            "text/plain": [
              "[0, 10, 20, 30, 40, 50, 60, 70, 80, 90]"
            ]
          },
          "execution_count": 3,
          "metadata": {},
          "output_type": "execute_result"
        }
      ],
      "source": [
        "myList = list(range(100))\n",
        "filteredList = [item for item in myList if item % 10 == 0]\n",
        "filteredList"
      ]
    },
    {
      "cell_type": "code",
      "execution_count": null,
      "id": "677c0c15",
      "metadata": {
        "id": "677c0c15",
        "outputId": "8dca4335-c241-41ed-9171-d0892bb1f8f4"
      },
      "outputs": [
        {
          "name": "stdout",
          "output_type": "stream",
          "text": [
            "[0, 1, 2, 10, 11, 12, 20, 21, 22, 30, 31, 32, 40, 41, 42, 50, 51, 52, 60, 61, 62, 70, 71, 72, 80, 81, 82, 90, 91, 92]\n"
          ]
        }
      ],
      "source": [
        "filteredList = [item for item in myList if item % 10 < 3]\n",
        "print(filteredList)"
      ]
    },
    {
      "cell_type": "markdown",
      "id": "6463db7f",
      "metadata": {
        "id": "6463db7f"
      },
      "source": [
        "### List comprehensions with functions"
      ]
    },
    {
      "cell_type": "code",
      "execution_count": null,
      "id": "18b7d353",
      "metadata": {
        "id": "18b7d353",
        "outputId": "5f62225b-fe27-455c-b36a-7cc244e979a4"
      },
      "outputs": [
        {
          "data": {
            "text/plain": [
              "['My name is Ryan Mitchell', ' I live in Boston']"
            ]
          },
          "execution_count": 6,
          "metadata": {},
          "output_type": "execute_result"
        }
      ],
      "source": [
        "myString = 'My name is Ryan Mitchell. I live in Boston'\n",
        "myString.split('.')"
      ]
    },
    {
      "cell_type": "code",
      "execution_count": null,
      "id": "097bb41d",
      "metadata": {
        "id": "097bb41d",
        "outputId": "ea22b943-d68e-4a7e-ad84-b425e9228251"
      },
      "outputs": [
        {
          "data": {
            "text/plain": [
              "['My', 'name', 'is', 'Ryan', 'Mitchell.', 'I', 'live', 'in', 'Boston']"
            ]
          },
          "execution_count": 7,
          "metadata": {},
          "output_type": "execute_result"
        }
      ],
      "source": [
        "myString.split()"
      ]
    },
    {
      "cell_type": "code",
      "execution_count": null,
      "id": "bbcdc319",
      "metadata": {
        "id": "bbcdc319",
        "outputId": "1415b990-fd6a-44bf-fe50-920732d5d663"
      },
      "outputs": [
        {
          "data": {
            "text/plain": [
              "['my', 'name', 'is', 'ryan', 'mitchell', 'i', 'live', 'in', 'boston']"
            ]
          },
          "execution_count": 8,
          "metadata": {},
          "output_type": "execute_result"
        }
      ],
      "source": [
        "def cleanWord(word):\n",
        "    return word.replace('.', '').lower()\n",
        "\n",
        "[cleanWord(word) for word in myString.split()]"
      ]
    },
    {
      "cell_type": "code",
      "execution_count": null,
      "id": "34281955",
      "metadata": {
        "id": "34281955",
        "outputId": "c878c8cc-ba7c-4ffb-9fee-5adc28d643a7"
      },
      "outputs": [
        {
          "data": {
            "text/plain": [
              "['my', 'is', 'i', 'in']"
            ]
          },
          "execution_count": 9,
          "metadata": {},
          "output_type": "execute_result"
        }
      ],
      "source": [
        "[cleanWord(word) for word in myString.split() if len(cleanWord(word)) < 3]"
      ]
    },
    {
      "cell_type": "markdown",
      "id": "fcdadece",
      "metadata": {
        "id": "fcdadece"
      },
      "source": [
        "### Nested list comprehensions"
      ]
    },
    {
      "cell_type": "code",
      "execution_count": null,
      "id": "08a10fed",
      "metadata": {
        "id": "08a10fed",
        "outputId": "72ae71ac-e602-40f6-8d3c-d681e2947156"
      },
      "outputs": [
        {
          "data": {
            "text/plain": [
              "[['my', 'name', 'is', 'ryan', 'mitchell'], ['i', 'live', 'in', 'boston']]"
            ]
          },
          "execution_count": 10,
          "metadata": {},
          "output_type": "execute_result"
        }
      ],
      "source": [
        "[[cleanWord(word) for word in sentence.split()] for sentence in myString.split('.')]"
      ]
    },
    {
      "cell_type": "code",
      "execution_count": null,
      "id": "9653eb8d",
      "metadata": {
        "id": "9653eb8d"
      },
      "outputs": [],
      "source": []
    }
  ],
  "metadata": {
    "kernelspec": {
      "display_name": "Python 3 (ipykernel)",
      "language": "python",
      "name": "python3"
    },
    "language_info": {
      "codemirror_mode": {
        "name": "ipython",
        "version": 3
      },
      "file_extension": ".py",
      "mimetype": "text/x-python",
      "name": "python",
      "nbconvert_exporter": "python",
      "pygments_lexer": "ipython3",
      "version": "3.10.2"
    },
    "colab": {
      "provenance": []
    }
  },
  "nbformat": 4,
  "nbformat_minor": 5
}