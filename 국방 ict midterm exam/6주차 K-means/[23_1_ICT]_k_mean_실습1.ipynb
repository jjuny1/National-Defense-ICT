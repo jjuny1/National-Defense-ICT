{
  "nbformat": 4,
  "nbformat_minor": 0,
  "metadata": {
    "kernelspec": {
      "display_name": "Python 3",
      "language": "python",
      "name": "python3"
    },
    "language_info": {
      "codemirror_mode": {
        "name": "ipython",
        "version": 3
      },
      "file_extension": ".py",
      "mimetype": "text/x-python",
      "name": "python",
      "nbconvert_exporter": "python",
      "pygments_lexer": "ipython3",
      "version": "3.7.7"
    },
    "varInspector": {
      "cols": {
        "lenName": 16,
        "lenType": 16,
        "lenVar": 40
      },
      "kernels_config": {
        "python": {
          "delete_cmd_postfix": "",
          "delete_cmd_prefix": "del ",
          "library": "var_list.py",
          "varRefreshCmd": "print(var_dic_list())"
        },
        "r": {
          "delete_cmd_postfix": ") ",
          "delete_cmd_prefix": "rm(",
          "library": "var_list.r",
          "varRefreshCmd": "cat(var_dic_list()) "
        }
      },
      "types_to_exclude": [
        "module",
        "function",
        "builtin_function_or_method",
        "instance",
        "_Feature"
      ],
      "window_display": false
    },
    "colab": {
      "provenance": [],
      "toc_visible": true
    }
  },
  "cells": [
    {
      "cell_type": "markdown",
      "source": [
        "#1 모듈 불러오기 "
      ],
      "metadata": {
        "id": "Sq3_rWoUG0E8"
      }
    },
    {
      "cell_type": "code",
      "metadata": {
        "ExecuteTime": {
          "end_time": "2020-04-26T03:11:27.892621Z",
          "start_time": "2020-04-26T03:11:19.438919Z"
        },
        "id": "UjkJzqH_1qfj"
      },
      "source": [
        "import numpy as np\n",
        "from sklearn.cluster import KMeans  # Scikit 패키지 import\n",
        "import matplotlib.pyplot as plt     # 그래프 패키지 \n",
        "\n",
        "%matplotlib inline"
      ],
      "execution_count": null,
      "outputs": []
    },
    {
      "cell_type": "markdown",
      "metadata": {
        "id": "Q5Iwl_XX1qfu"
      },
      "source": [
        "#2 데이터 생성 \n",
        "- numpy 배열로 임의 데이터 생성 "
      ]
    },
    {
      "cell_type": "code",
      "source": [
        "data = np.array([(3,1),(4, 1), (3, 2), (4, 2), (10, 5), (10, 6), (11, 5), (11, 6), (15, 1), (15, 2), (16, 1), (16, 2)])\n",
        "data"
      ],
      "metadata": {
        "colab": {
          "base_uri": "https://localhost:8080/"
        },
        "id": "QekonttixFDx",
        "outputId": "5a05ee20-b8cf-4a53-826e-73496457ec2f"
      },
      "execution_count": null,
      "outputs": [
        {
          "output_type": "execute_result",
          "data": {
            "text/plain": [
              "array([[ 3,  1],\n",
              "       [ 4,  1],\n",
              "       [ 3,  2],\n",
              "       [ 4,  2],\n",
              "       [10,  5],\n",
              "       [10,  6],\n",
              "       [11,  5],\n",
              "       [11,  6],\n",
              "       [15,  1],\n",
              "       [15,  2],\n",
              "       [16,  1],\n",
              "       [16,  2]])"
            ]
          },
          "metadata": {},
          "execution_count": 33
        }
      ]
    },
    {
      "cell_type": "markdown",
      "source": [
        "#3 그래프로 데이터 표현하기\n",
        "- matplotlib 패키지의 scatter 함수를 이용하여 그래프 생성"
      ],
      "metadata": {
        "id": "8EJ_Bo9sysPm"
      }
    },
    {
      "cell_type": "code",
      "source": [
        "x = [i for i, j in data]  # x 좌표 값들만 추출\n",
        "y = [j for i, j in data]  # y 좌표 값들만 추출\n",
        "plt.scatter(x, y, marker='o')\n",
        "plt.title('after kmean clustering')\n",
        "plt.xlabel(\"x\")\n",
        "plt.ylabel(\"y\")"
      ],
      "metadata": {
        "colab": {
          "base_uri": "https://localhost:8080/",
          "height": 298
        },
        "id": "kofWY2BOxTFY",
        "outputId": "1682ffde-2877-4bc1-8e44-293431cecb03"
      },
      "execution_count": null,
      "outputs": [
        {
          "output_type": "execute_result",
          "data": {
            "text/plain": [
              "Text(0.5, 1.0, 'after kmean clustering')"
            ]
          },
          "metadata": {},
          "execution_count": 31
        },
        {
          "output_type": "display_data",
          "data": {
            "text/plain": [
              "<Figure size 432x288 with 1 Axes>"
            ],
            "image/png": "[encoded data removed]"
          },
          "metadata": {
            "needs_background": "light"
          }
        }
      ]
    },
    {
      "cell_type": "markdown",
      "metadata": {
        "id": "4u7DlJXg1qfz"
      },
      "source": [
        "#4 k-mean clustering\n",
        "- k-means 알고리즘을 이용하여 분류 실시\n",
        "- 랜덤하게 초기값을 설정"
      ]
    },
    {
      "cell_type": "markdown",
      "source": [
        "![image.png](data:image/png;base64,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)"
      ],
      "metadata": {
        "id": "77k0OdtOHZ5M"
      }
    },
    {
      "cell_type": "code",
      "source": [
        "#코드를 직접 입력하세요.\n",
        "#sklearn에서 이미 정의된 모델을 사용한다. \n"
      ],
      "metadata": {
        "id": "6h93xP5My0Iu"
      },
      "execution_count": null,
      "outputs": []
    },
    {
      "cell_type": "code",
      "source": [
        "# 각 데이터별 cluster id를 확인한다. \n",
        "kmeans.labels_"
      ],
      "metadata": {
        "colab": {
          "base_uri": "https://localhost:8080/"
        },
        "id": "Ofdyh3ekzCgQ",
        "outputId": "a4bf9c85-dd56-44be-f369-22e305dc814f"
      },
      "execution_count": null,
      "outputs": [
        {
          "output_type": "execute_result",
          "data": {
            "text/plain": [
              "array([0, 0, 0, 0, 2, 2, 2, 2, 1, 1, 1, 1], dtype=int32)"
            ]
          },
          "metadata": {},
          "execution_count": 93
        }
      ]
    },
    {
      "cell_type": "code",
      "source": [
        "# 클러스터별 centroid를 확인한다. \n",
        "kmeans.cluster_centers_"
      ],
      "metadata": {
        "colab": {
          "base_uri": "https://localhost:8080/"
        },
        "id": "TjWOA016zJ2c",
        "outputId": "5db907f9-8ca6-4e8e-d08e-5067510c8579"
      },
      "execution_count": null,
      "outputs": [
        {
          "output_type": "execute_result",
          "data": {
            "text/plain": [
              "array([[ 3.5,  1.5],\n",
              "       [15.5,  1.5],\n",
              "       [10.5,  5.5]])"
            ]
          },
          "metadata": {},
          "execution_count": 94
        }
      ]
    },
    {
      "cell_type": "markdown",
      "metadata": {
        "id": "4x7RpW5S4h6q"
      },
      "source": [
        "#5 클러스터링 결과 확인"
      ]
    },
    {
      "cell_type": "code",
      "source": [
        "plt.scatter(x, y, s=40, c=kmeans.labels_)\n",
        "plt.title('after kmean clustering')\n",
        "plt.xlabel(\"x\")\n",
        "plt.ylabel(\"y\")"
      ],
      "metadata": {
        "colab": {
          "base_uri": "https://localhost:8080/",
          "height": 312
        },
        "id": "1IG_bL52zxBE",
        "outputId": "dfb071b1-72da-4439-a76b-9b3276fcaaaf"
      },
      "execution_count": null,
      "outputs": [
        {
          "output_type": "execute_result",
          "data": {
            "text/plain": [
              "Text(0, 0.5, 'y')"
            ]
          },
          "metadata": {},
          "execution_count": 91
        },
        {
          "output_type": "display_data",
          "data": {
            "text/plain": [
              "<Figure size 432x288 with 1 Axes>"
            ],
            "image/png": "[encoded data removed]"
          },
          "metadata": {
            "needs_background": "light"
          }
        }
      ]
    },
    {
      "cell_type": "markdown",
      "metadata": {
        "id": "3upsqoTD1qf2"
      },
      "source": [
        "## (생도실습 1) cluster의 개수를 2개, 4개로 변경하면서 결과를 확인하시오. \n"
      ]
    },
    {
      "cell_type": "code",
      "source": [
        "## 아래 부터 코드를 작성하시오. "
      ],
      "metadata": {
        "id": "uLP-dN0uI9kR"
      },
      "execution_count": null,
      "outputs": []
    },
    {
      "cell_type": "markdown",
      "source": [
        "## (생도실습 2) cluster의 개수를 4개로 할 때, 코드를 실행 할 때마다  centroid의 결과가 다른 이유를 생각해보시오."
      ],
      "metadata": {
        "id": "qIoqMCgKHwl6"
      }
    },
    {
      "cell_type": "markdown",
      "source": [
        "[문제] 아래 그림과 같이 분포하는 데이터를 2개의 그룹으로 클러스터링하시오. \n"
      ],
      "metadata": {
        "id": "nIvpS3_qKpr8"
      }
    },
    {
      "cell_type": "code",
      "metadata": {
        "id": "GAKSX7iW1qf3"
      },
      "source": [
        "mu_x1, mu_y1 = 5, 10\n",
        "sigma_x1, sigma_y1 = 3, 5\n",
        "\n",
        "x1 = np.random.normal(mu_x1, sigma_x1, 100)\n",
        "y1 = np.random.normal(mu_y1, sigma_y1, 100)\n",
        "\n",
        "mu_x1, mu_y1 = 20, 30\n",
        "sigma_x1, sigma_y1 = 3, 5\n",
        "\n",
        "x2 = np.random.normal(mu_x1, sigma_x1, 100)\n",
        "y2 = np.random.normal(mu_y1, sigma_y1, 100)\n"
      ],
      "execution_count": null,
      "outputs": []
    },
    {
      "cell_type": "code",
      "source": [
        "plt.scatter(x1, y1, marker='o', color='blue')\n",
        "plt.scatter(x2, y2, marker='o', color='blue')\n",
        "plt.title('data distribution')\n",
        "plt.xlabel(\"x\")\n",
        "plt.ylabel(\"y\")"
      ],
      "metadata": {
        "colab": {
          "base_uri": "https://localhost:8080/",
          "height": 312
        },
        "id": "WoInwjqPJmbz",
        "outputId": "1e6467db-de55-4684-811b-ba6affb9a74c"
      },
      "execution_count": null,
      "outputs": [
        {
          "output_type": "execute_result",
          "data": {
            "text/plain": [
              "Text(0, 0.5, 'y')"
            ]
          },
          "metadata": {},
          "execution_count": 110
        },
        {
          "output_type": "display_data",
          "data": {
            "text/plain": [
              "<Figure size 432x288 with 1 Axes>"
            ],
            "image/png": "[encoded data removed]"
          },
          "metadata": {
            "needs_background": "light"
          }
        }
      ]
    },
    {
      "cell_type": "code",
      "source": [
        "#####################################\n",
        "###  아래 부터 코드를 작성하시오 ####\n",
        "#####################################\n",
        "\n",
        "## 데이터 전처리 \n"
      ],
      "metadata": {
        "id": "2uL1xKCmLMIZ"
      },
      "execution_count": null,
      "outputs": []
    },
    {
      "cell_type": "code",
      "source": [
        "## 모델 학습 \n"
      ],
      "metadata": {
        "id": "srcFh-asKBVv"
      },
      "execution_count": null,
      "outputs": []
    },
    {
      "cell_type": "code",
      "source": [
        "## 결과 확인\n"
      ],
      "metadata": {
        "id": "QIgQ09MgNAuC"
      },
      "execution_count": null,
      "outputs": []
    }
  ]
}