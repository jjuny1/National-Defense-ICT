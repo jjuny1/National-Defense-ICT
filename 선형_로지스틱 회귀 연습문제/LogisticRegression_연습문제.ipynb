{
  "nbformat": 4,
  "nbformat_minor": 0,
  "metadata": {
    "colab": {
      "provenance": []
    },
    "kernelspec": {
      "name": "python3",
      "display_name": "Python 3"
    },
    "language_info": {
      "name": "python"
    }
  },
  "cells": [
    {
      "cell_type": "markdown",
      "source": [
        "## 문제 1 : 로지스틱 회귀 \n",
        "- titanic.csv 파일의 데이터를 이용하여 각 문제의 요구조건에 따라 답하시오. "
      ],
      "metadata": {
        "id": "g3CA_6-lzmeO"
      }
    },
    {
      "cell_type": "code",
      "metadata": {
        "id": "B9LNBgRvN3Kh"
      },
      "source": [
        "##################################################\n",
        "## 아래 코드를 실행하시오 (변경 금지)\n",
        "##################################################\n",
        "import pandas as pd\n",
        "import numpy as np\n",
        "\n",
        "#사이킷런의 로지스틱 회귀 라이브러리\n",
        "from sklearn.linear_model import LogisticRegression\n",
        "from sklearn.model_selection import train_test_split\n"
      ],
      "execution_count": 1,
      "outputs": []
    },
    {
      "cell_type": "markdown",
      "source": [
        "### 문제 1-1) 타이타닉 데이터를 불러와서 앞의 5개만 보여주세요. (10점)"
      ],
      "metadata": {
        "id": "cXhhYev-0GtG"
      }
    },
    {
      "cell_type": "code",
      "metadata": {
        "id": "89i02T08O_Fe"
      },
      "source": [
        "\n",
        "\n",
        "\n",
        "\n",
        "\n"
      ],
      "execution_count": null,
      "outputs": []
    },
    {
      "cell_type": "markdown",
      "source": [
        "### 문제 1-2) 타겟 데이터에 생존자 데이터를 저장하고 'Name', 'Survived'를 삭제하시오. 성별을  남자는 0, 여자는 1로 저장하시오 (10점)"
      ],
      "metadata": {
        "id": "EMvVX-u-0zZN"
      }
    },
    {
      "cell_type": "code",
      "metadata": {
        "id": "ISEKZwmBPwBT"
      },
      "source": [
        "\n",
        "\n",
        "\n",
        "\n",
        "\n"
      ],
      "execution_count": null,
      "outputs": []
    },
    {
      "cell_type": "markdown",
      "source": [
        "### 문제 1-3) 훈련데이터와 테스트데이터를 나눈시오. (테스트데이터 20%, random_state=42). (10점)"
      ],
      "metadata": {
        "id": "Gne7I7uU1agZ"
      }
    },
    {
      "cell_type": "code",
      "metadata": {
        "id": "ObZsMZVKMOMe"
      },
      "source": [
        "\n",
        "\n",
        "\n",
        "\n"
      ],
      "execution_count": 5,
      "outputs": []
    },
    {
      "cell_type": "markdown",
      "source": [
        "### 문제 1-4) 로지스틱 회귀 인스턴스 생성하고 모델을 훈련하시오 (10점"
      ],
      "metadata": {
        "id": "Ni_AaYz4MBmQ"
      }
    },
    {
      "cell_type": "code",
      "metadata": {
        "id": "iuLnTZnOimmx"
      },
      "source": [
        "\n",
        "\n"
      ],
      "execution_count": null,
      "outputs": []
    },
    {
      "cell_type": "markdown",
      "source": [
        "### 문제 1-5) 데이터세트의 결과를 예측하고 출력하시. (10점)"
      ],
      "metadata": {
        "id": "AY1WbvLV1cRX"
      }
    },
    {
      "cell_type": "code",
      "metadata": {
        "id": "DBFXcJQCMYw1"
      },
      "source": [
        "\n",
        "\n",
        "\n",
        "\n"
      ],
      "execution_count": null,
      "outputs": []
    },
    {
      "cell_type": "markdown",
      "source": [
        "### 문제 1-6) 모델의 계수를 구하시오. (10점)"
      ],
      "metadata": {
        "id": "Qs3kVT_O1ejl"
      }
    },
    {
      "cell_type": "code",
      "metadata": {
        "id": "AxCWelveM0MX"
      },
      "source": [
        "\n",
        "\n",
        "\n"
      ],
      "execution_count": null,
      "outputs": []
    },
    {
      "cell_type": "markdown",
      "source": [
        "### 문제 1-7) 내가 탔을 때를 가정한 조건 - (2등석 배에 탔고, 성별은 남자이며, 나이는 23세, 동생 1명과 함께 배를 탔고, 요금은 30.5$를 지불하였다.) 생존여부를 예측해보자.. (10점)"
      ],
      "metadata": {
        "id": "J5hO-tVv1f7u"
      }
    },
    {
      "cell_type": "code",
      "metadata": {
        "id": "NtsP6w1iyO6e"
      },
      "source": [
        "\n",
        "\n"
      ],
      "execution_count": null,
      "outputs": []
    },
    {
      "cell_type": "code",
      "source": [
        "if(pred[0] == 0):\n",
        "    print('AI : 사망하실 것으로 예측됩니다.\\n')\n",
        "else:\n",
        "    print('AI : 생존하실 것으로 예측됩니다.\\n')\n",
        "\n",
        "#음성 클래스 / 양성 클래스의 확률\n",
        "print('양성 클래스 / 음성 클래스 : {}'.                                            ))"
      ],
      "metadata": {
        "id": "31eWW0QvPWhp"
      },
      "execution_count": null,
      "outputs": []
    }
  ]
}