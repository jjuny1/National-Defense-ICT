{
  "nbformat": 4,
  "nbformat_minor": 0,
  "metadata": {
    "colab": {
      "provenance": []
    },
    "kernelspec": {
      "name": "python3",
      "display_name": "Python 3"
    },
    "language_info": {
      "name": "python"
    }
  },
  "cells": [
    {
      "cell_type": "markdown",
      "source": [
        "# [시험 유의사항]\n",
        "1. 명예시험 절차를 준수하여 작성하시오.\n",
        "2. 본 시험은 **총 8개 문제**로 구성되어 있으며, **시험 시간은 30분**이다.\n",
        "3. 답안은 반드시 답안셀에 기입할 것.\n",
        "4. 휴대하고 있는 **모든 자료(강의슬라이드, 교재 등)의 열람이 가능**하다.\n",
        "5. **인터넷은 제한없이 사용이 가능**하다. 단, 채팅 등을 통한 **타인과의 대화는 불가능**하다. \n",
        "6. 답안 코드 작성 후 실행 여부를 반드시 확인하라. \n",
        "7. 시험 시작 후 노트북 충전 등의 목적으로 자리 이동은 불가하다. \n",
        "8. 주피터 노트북 파일의 **파일명**은 아래 예시와 같이 **자신의 교번과 이름**으로 하라. <br/>\n",
        "    예) 23_1학기_수시2_교번_13525_이름_홍길동\n",
        "9. 시험 종료 후 파일을 **LMS에 제출**하라 <br/>\n",
        "  - **지연 제출시 10점 감점**"
      ],
      "metadata": {
        "id": "xtmf0n0lejNl"
      }
    },
    {
      "cell_type": "markdown",
      "source": [
        "## 문제 1. Numpy \n",
        "\n",
        "\n",
        "\n",
        "\n",
        "\n",
        "\n",
        "\n",
        " "
      ],
      "metadata": {
        "id": "nVSZOSSlJwry"
      }
    },
    {
      "cell_type": "markdown",
      "source": [
        "### 문제 1.1. 모든 원소가 1인 3x3 크기의 numpy 배열을 생성하여 answer1 변수에 할당하고 출력하는 코드를 작성하시오. "
      ],
      "metadata": {
        "id": "t5vy-J-NYTUE"
      }
    },
    {
      "cell_type": "code",
      "source": [
        "###### 아래 부터 코드를 작성하시오. ###############\n",
        "\n",
        "\n",
        "\n"
      ],
      "metadata": {
        "id": "Q0SGFBjSfMVt"
      },
      "execution_count": null,
      "outputs": []
    },
    {
      "cell_type": "code",
      "source": [
        "import numpy as np\n",
        "answer1 = np.ones((3, 3))\n",
        "answer1"
      ],
      "metadata": {
        "colab": {
          "base_uri": "https://localhost:8080/"
        },
        "id": "mD7UfInoYKRL",
        "outputId": "cdc45054-6d4b-471a-86ec-46e324fa0c87"
      },
      "execution_count": null,
      "outputs": [
        {
          "output_type": "execute_result",
          "data": {
            "text/plain": [
              "array([[1., 1., 1.],\n",
              "       [1., 1., 1.],\n",
              "       [1., 1., 1.]])"
            ]
          },
          "metadata": {},
          "execution_count": 2
        }
      ]
    },
    {
      "cell_type": "markdown",
      "source": [
        "### 문제 1.2. 아래 numpy 배열에서 2행 3열의 값을 answer2 변수에 할당하고 출력하는 코드를 작성하시오. \n"
      ],
      "metadata": {
        "id": "_GOQELx6YZFg"
      }
    },
    {
      "cell_type": "code",
      "source": [
        "import numpy as np\n",
        "import random \n",
        "\n",
        "data1 = np.array([[random.randint(1, 10) for x in range(10)] for x in range(10)])\n",
        "\n",
        "###### 아래 부터 코드를 작성하시오. ###############\n",
        "\n",
        "answer2 = data1[1, 2]\n",
        "answer2"
      ],
      "metadata": {
        "id": "Tt-dNfzGWAsz"
      },
      "execution_count": null,
      "outputs": []
    },
    {
      "cell_type": "markdown",
      "source": [
        "### 문제 1.3. 아래 numpy 배열에서 2행의 평균값을 계산하여 answer3 변수에 할당하고 출력하는 코드를 작성하시오. \n"
      ],
      "metadata": {
        "id": "fA7qcGzdYacA"
      }
    },
    {
      "cell_type": "code",
      "source": [
        "import numpy as np\n",
        "import random \n",
        "\n",
        "data3 = np.array([[random.randint(1, 10) for x in range(10)] for x in range(10)])\n",
        "\n",
        "###### 아래 부터 코드를 작성하시오. ###############\n",
        "\n",
        "answer3 = np.mean(data3[1,:])\n",
        "print(answer3)"
      ],
      "metadata": {
        "colab": {
          "base_uri": "https://localhost:8080/"
        },
        "id": "mLd7TfKQWdHL",
        "outputId": "010480a8-56df-40cd-f8b8-f8a46c0e40b8"
      },
      "execution_count": null,
      "outputs": [
        {
          "output_type": "stream",
          "name": "stdout",
          "text": [
            "5.0\n"
          ]
        }
      ]
    },
    {
      "cell_type": "markdown",
      "source": [
        "### 문제 1.4. 아래 numpy 배열을 6행으로 구성된 2차원 배열로 변경하여 answer4에 할당하고 출력하는 코드를 작성하시오. \n"
      ],
      "metadata": {
        "id": "EBp2R7CzZMp1"
      }
    },
    {
      "cell_type": "code",
      "source": [
        "import numpy as np\n",
        "import random \n",
        "\n",
        "data4 = np.array([[random.randint(1, 10) for x in range(60)] for x in range(10)])\n",
        "\n",
        "###### 아래 부터 코드를 작성하시오. ###############\n",
        "\n",
        "answer4 = data4.reshape(6, -1)\n",
        "answer4"
      ],
      "metadata": {
        "id": "WGQdZxYqZkhY"
      },
      "execution_count": null,
      "outputs": []
    },
    {
      "cell_type": "markdown",
      "source": [
        "## 2. matplotlib  \n",
        "### 2.1. 아래 조건을 참고하여 함수 f(x)= $x^{2}$에 대한 선그래프를 출력하는 코드를 작성하시오. \n",
        "* matploblib 라이브러리를 사용할 것. \n",
        "* 선그래프가 부드러운 형태로 나타나게 할 것. \n",
        "* x 축의 범위 : -2 ~ 2 \n",
        "* 선의 형태 : 점선 \n",
        "* 선의 색상 : blue \n",
        "* grid 추가 \n",
        "* x축 이름 : 'x'\n",
        "* y축 이름 : 'f(x)'\n",
        "* 챠트 제목 : 'f(x) = x^2'\n",
        "\n",
        "\n"
      ],
      "metadata": {
        "id": "DgzsTozKUr2b"
      }
    },
    {
      "cell_type": "code",
      "source": [
        "import matplotlib.pyplot as plt\n",
        "import numpy as np\n",
        "\n",
        "x = np.linspace(-2, 2, 100)\n",
        "y = x ** 2\n",
        "\n",
        "plt.plot(x, y, 'b:')\n",
        "plt.title('f(x)=x^2')\n",
        "plt.xlabel('x')\n",
        "plt.ylabel('f(x)')\n",
        "\n",
        "plt.grid()\n",
        "plt.show()\n"
      ],
      "metadata": {
        "colab": {
          "base_uri": "https://localhost:8080/",
          "height": 472
        },
        "id": "_nJEItKGcZLc",
        "outputId": "1974a109-8ad3-4c70-82ba-e9743ce8892a"
      },
      "execution_count": null,
      "outputs": [
        {
          "output_type": "display_data",
          "data": {
            "text/plain": [
              "<Figure size 640x480 with 1 Axes>"
            ],
            "image/png": "[encoded data removed]"
          },
          "metadata": {}
        }
      ]
    },
    {
      "cell_type": "markdown",
      "source": [
        "## 3. Pandas  \n"
      ],
      "metadata": {
        "id": "EqWYmRj2VNVc"
      }
    },
    {
      "cell_type": "markdown",
      "source": [
        "### 문제 3.1. DataFrame으로 아래의 그림에 해당하는 출력하는 코드를 작성하시오. "
      ],
      "metadata": {
        "id": "NgU8FvNBbm7u"
      }
    },
    {
      "cell_type": "markdown",
      "source": [
        "![image.png](data:image/png;base64,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)"
      ],
      "metadata": {
        "id": "tHHKO8wgeKQO"
      }
    },
    {
      "cell_type": "code",
      "source": [
        "import pandas as pd\n",
        "mydict = [{'a': 10, 'b': 20, 'c': 30, 'd': 40},\n",
        "          {'a': 100, 'b': 200, 'c': 300, 'd': 400},\n",
        "          {'a': 1000, 'b': 2000, 'c': 3000, 'd': 4000 }]\n",
        "\n",
        "###### 아래 부터 코드를 작성하시오. ###############\n",
        "df = pd.DataFrame(mydict)\n",
        "\n",
        "df.iloc[:3]"
      ],
      "metadata": {
        "colab": {
          "base_uri": "https://localhost:8080/",
          "height": 143
        },
        "id": "goVhfR8abs05",
        "outputId": "0e0a1b6a-43f5-44ec-a12d-a454c9b67dd3"
      },
      "execution_count": null,
      "outputs": [
        {
          "output_type": "execute_result",
          "data": {
            "text/plain": [
              "      a     b     c     d\n",
              "0    10    20    30    40\n",
              "1   100   200   300   400\n",
              "2  1000  2000  3000  4000"
            ],
            "text/html": [
              "\n",
              "  <div id=\"df-513753ab-3d7b-43ae-a9b1-27207e9a9a0a\">\n",
              "    <div class=\"colab-df-container\">\n",
              "      <div>\n",
              "<style scoped>\n",
              "    .dataframe tbody tr th:only-of-type {\n",
              "        vertical-align: middle;\n",
              "    }\n",
              "\n",
              "    .dataframe tbody tr th {\n",
              "        vertical-align: top;\n",
              "    }\n",
              "\n",
              "    .dataframe thead th {\n",
              "        text-align: right;\n",
              "    }\n",
              "</style>\n",
              "<table border=\"1\" class=\"dataframe\">\n",
              "  <thead>\n",
              "    <tr style=\"text-align: right;\">\n",
              "      <th></th>\n",
              "      <th>a</th>\n",
              "      <th>b</th>\n",
              "      <th>c</th>\n",
              "      <th>d</th>\n",
              "    </tr>\n",
              "  </thead>\n",
              "  <tbody>\n",
              "    <tr>\n",
              "      <th>0</th>\n",
              "      <td>10</td>\n",
              "      <td>20</td>\n",
              "      <td>30</td>\n",
              "      <td>40</td>\n",
              "    </tr>\n",
              "    <tr>\n",
              "      <th>1</th>\n",
              "      <td>100</td>\n",
              "      <td>200</td>\n",
              "      <td>300</td>\n",
              "      <td>400</td>\n",
              "    </tr>\n",
              "    <tr>\n",
              "      <th>2</th>\n",
              "      <td>1000</td>\n",
              "      <td>2000</td>\n",
              "      <td>3000</td>\n",
              "      <td>4000</td>\n",
              "    </tr>\n",
              "  </tbody>\n",
              "</table>\n",
              "</div>\n",
              "      <button class=\"colab-df-convert\" onclick=\"convertToInteractive('df-513753ab-3d7b-43ae-a9b1-27207e9a9a0a')\"\n",
              "              title=\"Convert this dataframe to an interactive table.\"\n",
              "              style=\"display:none;\">\n",
              "        \n",
              "  <svg xmlns=\"http://www.w3.org/2000/svg\" height=\"24px\"viewBox=\"0 0 24 24\"\n",
              "       width=\"24px\">\n",
              "    <path d=\"M0 0h24v24H0V0z\" fill=\"none\"/>\n",
              "    <path d=\"M18.56 5.44l.94 2.06.94-2.06 2.06-.94-2.06-.94-.94-2.06-.94 2.06-2.06.94zm-11 1L8.5 8.5l.94-2.06 2.06-.94-2.06-.94L8.5 2.5l-.94 2.06-2.06.94zm10 10l.94 2.06.94-2.06 2.06-.94-2.06-.94-.94-2.06-.94 2.06-2.06.94z\"/><path d=\"M17.41 7.96l-1.37-1.37c-.4-.4-.92-.59-1.43-.59-.52 0-1.04.2-1.43.59L10.3 9.45l-7.72 7.72c-.78.78-.78 2.05 0 2.83L4 21.41c.39.39.9.59 1.41.59.51 0 1.02-.2 1.41-.59l7.78-7.78 2.81-2.81c.8-.78.8-2.07 0-2.86zM5.41 20L4 18.59l7.72-7.72 1.47 1.35L5.41 20z\"/>\n",
              "  </svg>\n",
              "      </button>\n",
              "      \n",
              "  <style>\n",
              "    .colab-df-container {\n",
              "      display:flex;\n",
              "      flex-wrap:wrap;\n",
              "      gap: 12px;\n",
              "    }\n",
              "\n",
              "    .colab-df-convert {\n",
              "      background-color: #E8F0FE;\n",
              "      border: none;\n",
              "      border-radius: 50%;\n",
              "      cursor: pointer;\n",
              "      display: none;\n",
              "      fill: #1967D2;\n",
              "      height: 32px;\n",
              "      padding: 0 0 0 0;\n",
              "      width: 32px;\n",
              "    }\n",
              "\n",
              "    .colab-df-convert:hover {\n",
              "      background-color: #E2EBFA;\n",
              "      box-shadow: 0px 1px 2px rgba(60, 64, 67, 0.3), 0px 1px 3px 1px rgba(60, 64, 67, 0.15);\n",
              "      fill: #174EA6;\n",
              "    }\n",
              "\n",
              "    [theme=dark] .colab-df-convert {\n",
              "      background-color: #3B4455;\n",
              "      fill: #D2E3FC;\n",
              "    }\n",
              "\n",
              "    [theme=dark] .colab-df-convert:hover {\n",
              "      background-color: #434B5C;\n",
              "      box-shadow: 0px 1px 3px 1px rgba(0, 0, 0, 0.15);\n",
              "      filter: drop-shadow(0px 1px 2px rgba(0, 0, 0, 0.3));\n",
              "      fill: #FFFFFF;\n",
              "    }\n",
              "  </style>\n",
              "\n",
              "      <script>\n",
              "        const buttonEl =\n",
              "          document.querySelector('#df-513753ab-3d7b-43ae-a9b1-27207e9a9a0a button.colab-df-convert');\n",
              "        buttonEl.style.display =\n",
              "          google.colab.kernel.accessAllowed ? 'block' : 'none';\n",
              "\n",
              "        async function convertToInteractive(key) {\n",
              "          const element = document.querySelector('#df-513753ab-3d7b-43ae-a9b1-27207e9a9a0a');\n",
              "          const dataTable =\n",
              "            await google.colab.kernel.invokeFunction('convertToInteractive',\n",
              "                                                     [key], {});\n",
              "          if (!dataTable) return;\n",
              "\n",
              "          const docLinkHtml = 'Like what you see? Visit the ' +\n",
              "            '<a target=\"_blank\" href=https://colab.research.google.com/notebooks/data_table.ipynb>data table notebook</a>'\n",
              "            + ' to learn more about interactive tables.';\n",
              "          element.innerHTML = '';\n",
              "          dataTable['output_type'] = 'display_data';\n",
              "          await google.colab.output.renderOutput(dataTable, element);\n",
              "          const docLink = document.createElement('div');\n",
              "          docLink.innerHTML = docLinkHtml;\n",
              "          element.appendChild(docLink);\n",
              "        }\n",
              "      </script>\n",
              "    </div>\n",
              "  </div>\n",
              "  "
            ]
          },
          "metadata": {},
          "execution_count": 1
        }
      ]
    },
    {
      "cell_type": "markdown",
      "source": [
        "### 문제 3.2. 위 1.1의 문제에서 아래 그림처럼 나오도록 iloc를 사용하여 출력하는 코드를 작성하시오 "
      ],
      "metadata": {
        "id": "epgzgTBEfN8o"
      }
    },
    {
      "cell_type": "markdown",
      "source": [
        "![image.png](data:image/png;base64,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)"
      ],
      "metadata": {
        "id": "-VItxsIefeDx"
      }
    },
    {
      "cell_type": "code",
      "source": [
        "###### 아래 부터 코드를 작성하시오. ###############\n",
        "import pandas as pd\n",
        "mydict = [{'a': 10, 'b': 20, 'c': 30, 'd': 40},\n",
        "          {'a': 100, 'b': 200, 'c': 300, 'd': 400},\n",
        "          {'a': 1000, 'b': 2000, 'c': 3000, 'd': 4000 }]\n",
        "\n",
        "df = pd.DataFrame(mydict)\n",
        "\n",
        "df.iloc[1:3]"
      ],
      "metadata": {
        "colab": {
          "base_uri": "https://localhost:8080/",
          "height": 112
        },
        "id": "Hv8xm9fRfQuw",
        "outputId": "1107f3e9-d8c3-43ed-9f9b-7c5542545dd3"
      },
      "execution_count": null,
      "outputs": [
        {
          "output_type": "execute_result",
          "data": {
            "text/plain": [
              "      a     b     c     d\n",
              "1   100   200   300   400\n",
              "2  1000  2000  3000  4000"
            ],
            "text/html": [
              "\n",
              "  <div id=\"df-1960afb0-d118-4d42-b4e4-845e1b5a555b\">\n",
              "    <div class=\"colab-df-container\">\n",
              "      <div>\n",
              "<style scoped>\n",
              "    .dataframe tbody tr th:only-of-type {\n",
              "        vertical-align: middle;\n",
              "    }\n",
              "\n",
              "    .dataframe tbody tr th {\n",
              "        vertical-align: top;\n",
              "    }\n",
              "\n",
              "    .dataframe thead th {\n",
              "        text-align: right;\n",
              "    }\n",
              "</style>\n",
              "<table border=\"1\" class=\"dataframe\">\n",
              "  <thead>\n",
              "    <tr style=\"text-align: right;\">\n",
              "      <th></th>\n",
              "      <th>a</th>\n",
              "      <th>b</th>\n",
              "      <th>c</th>\n",
              "      <th>d</th>\n",
              "    </tr>\n",
              "  </thead>\n",
              "  <tbody>\n",
              "    <tr>\n",
              "      <th>1</th>\n",
              "      <td>100</td>\n",
              "      <td>200</td>\n",
              "      <td>300</td>\n",
              "      <td>400</td>\n",
              "    </tr>\n",
              "    <tr>\n",
              "      <th>2</th>\n",
              "      <td>1000</td>\n",
              "      <td>2000</td>\n",
              "      <td>3000</td>\n",
              "      <td>4000</td>\n",
              "    </tr>\n",
              "  </tbody>\n",
              "</table>\n",
              "</div>\n",
              "      <button class=\"colab-df-convert\" onclick=\"convertToInteractive('df-1960afb0-d118-4d42-b4e4-845e1b5a555b')\"\n",
              "              title=\"Convert this dataframe to an interactive table.\"\n",
              "              style=\"display:none;\">\n",
              "        \n",
              "  <svg xmlns=\"http://www.w3.org/2000/svg\" height=\"24px\"viewBox=\"0 0 24 24\"\n",
              "       width=\"24px\">\n",
              "    <path d=\"M0 0h24v24H0V0z\" fill=\"none\"/>\n",
              "    <path d=\"M18.56 5.44l.94 2.06.94-2.06 2.06-.94-2.06-.94-.94-2.06-.94 2.06-2.06.94zm-11 1L8.5 8.5l.94-2.06 2.06-.94-2.06-.94L8.5 2.5l-.94 2.06-2.06.94zm10 10l.94 2.06.94-2.06 2.06-.94-2.06-.94-.94-2.06-.94 2.06-2.06.94z\"/><path d=\"M17.41 7.96l-1.37-1.37c-.4-.4-.92-.59-1.43-.59-.52 0-1.04.2-1.43.59L10.3 9.45l-7.72 7.72c-.78.78-.78 2.05 0 2.83L4 21.41c.39.39.9.59 1.41.59.51 0 1.02-.2 1.41-.59l7.78-7.78 2.81-2.81c.8-.78.8-2.07 0-2.86zM5.41 20L4 18.59l7.72-7.72 1.47 1.35L5.41 20z\"/>\n",
              "  </svg>\n",
              "      </button>\n",
              "      \n",
              "  <style>\n",
              "    .colab-df-container {\n",
              "      display:flex;\n",
              "      flex-wrap:wrap;\n",
              "      gap: 12px;\n",
              "    }\n",
              "\n",
              "    .colab-df-convert {\n",
              "      background-color: #E8F0FE;\n",
              "      border: none;\n",
              "      border-radius: 50%;\n",
              "      cursor: pointer;\n",
              "      display: none;\n",
              "      fill: #1967D2;\n",
              "      height: 32px;\n",
              "      padding: 0 0 0 0;\n",
              "      width: 32px;\n",
              "    }\n",
              "\n",
              "    .colab-df-convert:hover {\n",
              "      background-color: #E2EBFA;\n",
              "      box-shadow: 0px 1px 2px rgba(60, 64, 67, 0.3), 0px 1px 3px 1px rgba(60, 64, 67, 0.15);\n",
              "      fill: #174EA6;\n",
              "    }\n",
              "\n",
              "    [theme=dark] .colab-df-convert {\n",
              "      background-color: #3B4455;\n",
              "      fill: #D2E3FC;\n",
              "    }\n",
              "\n",
              "    [theme=dark] .colab-df-convert:hover {\n",
              "      background-color: #434B5C;\n",
              "      box-shadow: 0px 1px 3px 1px rgba(0, 0, 0, 0.15);\n",
              "      filter: drop-shadow(0px 1px 2px rgba(0, 0, 0, 0.3));\n",
              "      fill: #FFFFFF;\n",
              "    }\n",
              "  </style>\n",
              "\n",
              "      <script>\n",
              "        const buttonEl =\n",
              "          document.querySelector('#df-1960afb0-d118-4d42-b4e4-845e1b5a555b button.colab-df-convert');\n",
              "        buttonEl.style.display =\n",
              "          google.colab.kernel.accessAllowed ? 'block' : 'none';\n",
              "\n",
              "        async function convertToInteractive(key) {\n",
              "          const element = document.querySelector('#df-1960afb0-d118-4d42-b4e4-845e1b5a555b');\n",
              "          const dataTable =\n",
              "            await google.colab.kernel.invokeFunction('convertToInteractive',\n",
              "                                                     [key], {});\n",
              "          if (!dataTable) return;\n",
              "\n",
              "          const docLinkHtml = 'Like what you see? Visit the ' +\n",
              "            '<a target=\"_blank\" href=https://colab.research.google.com/notebooks/data_table.ipynb>data table notebook</a>'\n",
              "            + ' to learn more about interactive tables.';\n",
              "          element.innerHTML = '';\n",
              "          dataTable['output_type'] = 'display_data';\n",
              "          await google.colab.output.renderOutput(dataTable, element);\n",
              "          const docLink = document.createElement('div');\n",
              "          docLink.innerHTML = docLinkHtml;\n",
              "          element.appendChild(docLink);\n",
              "        }\n",
              "      </script>\n",
              "    </div>\n",
              "  </div>\n",
              "  "
            ]
          },
          "metadata": {},
          "execution_count": 2
        }
      ]
    },
    {
      "cell_type": "markdown",
      "source": [
        "## 문제 3. KNN, 의사결정트리 알고리즘을 적용하여 iris(붓꽃) 종류를 분류하는 모델을 각각 만들고자 한다. 다음 물음에 코드를 작성하여 답안을 제시하시오. </br>\n",
        "- 시험문제와 함께 제공된 iris 데이터셋 파일(iris.csv)을 학습 및 평가에 활용하시오.\n",
        "- 제공된 iris(붓꽃) 데이터셋을 직접 확인하고 문제를 해결하시오. \n",
        "- 데이터셋 요약  \n",
        "  - 꽃잎의 각 부분의 너비와 길이 등을 측정한 데이터\n",
        "  - 총 150개의 데이터로 구성 \n",
        "  - 붓꽃 종류 : \"Iris-setona\", \"Iris-virginica\", \"Iris-versicolor\"  "
      ],
      "metadata": {
        "id": "Wl0ly8AlMCOz"
      }
    },
    {
      "cell_type": "code",
      "source": [
        "## 아래 코드를 실행한 후 답안을 작성하시오. (수정 금지) ##\n",
        "\n",
        "import pandas as pd\n",
        "from sklearn.tree import DecisionTreeClassifier\n",
        "from sklearn.neighbors import KNeighborsClassifier\n",
        "from sklearn.model_selection import train_test_split\n",
        "from sklearn.metrics import accuracy_score\n",
        "\n",
        "import pandas as pd\n",
        "from google.colab import files\n",
        "files.upload()\n",
        "data = pd.read_csv('Iris.csv')\n",
        "data\n"
      ],
      "metadata": {
        "id": "FBggROEvJu0e",
        "colab": {
          "base_uri": "https://localhost:8080/",
          "height": 483
        },
        "outputId": "37fd43bd-b449-429d-a04d-b403d98a37c1"
      },
      "execution_count": 1,
      "outputs": [
        {
          "output_type": "display_data",
          "data": {
            "text/plain": [
              "<IPython.core.display.HTML object>"
            ],
            "text/html": [
              "\n",
              "     <input type=\"file\" id=\"files-19f53370-ef33-4d60-8b21-c5c463201dde\" name=\"files[]\" multiple disabled\n",
              "        style=\"border:none\" />\n",
              "     <output id=\"result-19f53370-ef33-4d60-8b21-c5c463201dde\">\n",
              "      Upload widget is only available when the cell has been executed in the\n",
              "      current browser session. Please rerun this cell to enable.\n",
              "      </output>\n",
              "      <script>// Copyright 2017 Google LLC\n",
              "//\n",
              "// Licensed under the Apache License, Version 2.0 (the \"License\");\n",
              "// you may not use this file except in compliance with the License.\n",
              "// You may obtain a copy of the License at\n",
              "//\n",
              "//      http://www.apache.org/licenses/LICENSE-2.0\n",
              "//\n",
              "// Unless required by applicable law or agreed to in writing, software\n",
              "// distributed under the License is distributed on an \"AS IS\" BASIS,\n",
              "// WITHOUT WARRANTIES OR CONDITIONS OF ANY KIND, either express or implied.\n",
              "// See the License for the specific language governing permissions and\n",
              "// limitations under the License.\n",
              "\n",
              "/**\n",
              " * @fileoverview Helpers for google.colab Python module.\n",
              " */\n",
              "(function(scope) {\n",
              "function span(text, styleAttributes = {}) {\n",
              "  const element = document.createElement('span');\n",
              "  element.textContent = text;\n",
              "  for (const key of Object.keys(styleAttributes)) {\n",
              "    element.style[key] = styleAttributes[key];\n",
              "  }\n",
              "  return element;\n",
              "}\n",
              "\n",
              "// Max number of bytes which will be uploaded at a time.\n",
              "const MAX_PAYLOAD_SIZE = 100 * 1024;\n",
              "\n",
              "function _uploadFiles(inputId, outputId) {\n",
              "  const steps = uploadFilesStep(inputId, outputId);\n",
              "  const outputElement = document.getElementById(outputId);\n",
              "  // Cache steps on the outputElement to make it available for the next call\n",
              "  // to uploadFilesContinue from Python.\n",
              "  outputElement.steps = steps;\n",
              "\n",
              "  return _uploadFilesContinue(outputId);\n",
              "}\n",
              "\n",
              "// This is roughly an async generator (not supported in the browser yet),\n",
              "// where there are multiple asynchronous steps and the Python side is going\n",
              "// to poll for completion of each step.\n",
              "// This uses a Promise to block the python side on completion of each step,\n",
              "// then passes the result of the previous step as the input to the next step.\n",
              "function _uploadFilesContinue(outputId) {\n",
              "  const outputElement = document.getElementById(outputId);\n",
              "  const steps = outputElement.steps;\n",
              "\n",
              "  const next = steps.next(outputElement.lastPromiseValue);\n",
              "  return Promise.resolve(next.value.promise).then((value) => {\n",
              "    // Cache the last promise value to make it available to the next\n",
              "    // step of the generator.\n",
              "    outputElement.lastPromiseValue = value;\n",
              "    return next.value.response;\n",
              "  });\n",
              "}\n",
              "\n",
              "/**\n",
              " * Generator function which is called between each async step of the upload\n",
              " * process.\n",
              " * @param {string} inputId Element ID of the input file picker element.\n",
              " * @param {string} outputId Element ID of the output display.\n",
              " * @return {!Iterable<!Object>} Iterable of next steps.\n",
              " */\n",
              "function* uploadFilesStep(inputId, outputId) {\n",
              "  const inputElement = document.getElementById(inputId);\n",
              "  inputElement.disabled = false;\n",
              "\n",
              "  const outputElement = document.getElementById(outputId);\n",
              "  outputElement.innerHTML = '';\n",
              "\n",
              "  const pickedPromise = new Promise((resolve) => {\n",
              "    inputElement.addEventListener('change', (e) => {\n",
              "      resolve(e.target.files);\n",
              "    });\n",
              "  });\n",
              "\n",
              "  const cancel = document.createElement('button');\n",
              "  inputElement.parentElement.appendChild(cancel);\n",
              "  cancel.textContent = 'Cancel upload';\n",
              "  const cancelPromise = new Promise((resolve) => {\n",
              "    cancel.onclick = () => {\n",
              "      resolve(null);\n",
              "    };\n",
              "  });\n",
              "\n",
              "  // Wait for the user to pick the files.\n",
              "  const files = yield {\n",
              "    promise: Promise.race([pickedPromise, cancelPromise]),\n",
              "    response: {\n",
              "      action: 'starting',\n",
              "    }\n",
              "  };\n",
              "\n",
              "  cancel.remove();\n",
              "\n",
              "  // Disable the input element since further picks are not allowed.\n",
              "  inputElement.disabled = true;\n",
              "\n",
              "  if (!files) {\n",
              "    return {\n",
              "      response: {\n",
              "        action: 'complete',\n",
              "      }\n",
              "    };\n",
              "  }\n",
              "\n",
              "  for (const file of files) {\n",
              "    const li = document.createElement('li');\n",
              "    li.append(span(file.name, {fontWeight: 'bold'}));\n",
              "    li.append(span(\n",
              "        `(${file.type || 'n/a'}) - ${file.size} bytes, ` +\n",
              "        `last modified: ${\n",
              "            file.lastModifiedDate ? file.lastModifiedDate.toLocaleDateString() :\n",
              "                                    'n/a'} - `));\n",
              "    const percent = span('0% done');\n",
              "    li.appendChild(percent);\n",
              "\n",
              "    outputElement.appendChild(li);\n",
              "\n",
              "    const fileDataPromise = new Promise((resolve) => {\n",
              "      const reader = new FileReader();\n",
              "      reader.onload = (e) => {\n",
              "        resolve(e.target.result);\n",
              "      };\n",
              "      reader.readAsArrayBuffer(file);\n",
              "    });\n",
              "    // Wait for the data to be ready.\n",
              "    let fileData = yield {\n",
              "      promise: fileDataPromise,\n",
              "      response: {\n",
              "        action: 'continue',\n",
              "      }\n",
              "    };\n",
              "\n",
              "    // Use a chunked sending to avoid message size limits. See b/62115660.\n",
              "    let position = 0;\n",
              "    do {\n",
              "      const length = Math.min(fileData.byteLength - position, MAX_PAYLOAD_SIZE);\n",
              "      const chunk = new Uint8Array(fileData, position, length);\n",
              "      position += length;\n",
              "\n",
              "      const base64 = btoa(String.fromCharCode.apply(null, chunk));\n",
              "      yield {\n",
              "        response: {\n",
              "          action: 'append',\n",
              "          file: file.name,\n",
              "          data: base64,\n",
              "        },\n",
              "      };\n",
              "\n",
              "      let percentDone = fileData.byteLength === 0 ?\n",
              "          100 :\n",
              "          Math.round((position / fileData.byteLength) * 100);\n",
              "      percent.textContent = `${percentDone}% done`;\n",
              "\n",
              "    } while (position < fileData.byteLength);\n",
              "  }\n",
              "\n",
              "  // All done.\n",
              "  yield {\n",
              "    response: {\n",
              "      action: 'complete',\n",
              "    }\n",
              "  };\n",
              "}\n",
              "\n",
              "scope.google = scope.google || {};\n",
              "scope.google.colab = scope.google.colab || {};\n",
              "scope.google.colab._files = {\n",
              "  _uploadFiles,\n",
              "  _uploadFilesContinue,\n",
              "};\n",
              "})(self);\n",
              "</script> "
            ]
          },
          "metadata": {}
        },
        {
          "output_type": "stream",
          "name": "stdout",
          "text": [
            "Saving Iris.csv to Iris.csv\n"
          ]
        },
        {
          "output_type": "execute_result",
          "data": {
            "text/plain": [
              "      Id  SepalLengthCm  SepalWidthCm  PetalLengthCm  PetalWidthCm  \\\n",
              "0      1            5.1           3.5            1.4           0.2   \n",
              "1      2            4.9           3.0            1.4           0.2   \n",
              "2      3            4.7           3.2            1.3           0.2   \n",
              "3      4            4.6           3.1            1.5           0.2   \n",
              "4      5            5.0           3.6            1.4           0.2   \n",
              "..   ...            ...           ...            ...           ...   \n",
              "145  146            6.7           3.0            5.2           2.3   \n",
              "146  147            6.3           2.5            5.0           1.9   \n",
              "147  148            6.5           3.0            5.2           2.0   \n",
              "148  149            6.2           3.4            5.4           2.3   \n",
              "149  150            5.9           3.0            5.1           1.8   \n",
              "\n",
              "            Species  \n",
              "0       Iris-setosa  \n",
              "1       Iris-setosa  \n",
              "2       Iris-setosa  \n",
              "3       Iris-setosa  \n",
              "4       Iris-setosa  \n",
              "..              ...  \n",
              "145  Iris-virginica  \n",
              "146  Iris-virginica  \n",
              "147  Iris-virginica  \n",
              "148  Iris-virginica  \n",
              "149  Iris-virginica  \n",
              "\n",
              "[150 rows x 6 columns]"
            ],
            "text/html": [
              "\n",
              "  <div id=\"df-748a7bd2-2366-49c3-80f6-b7b2de364536\">\n",
              "    <div class=\"colab-df-container\">\n",
              "      <div>\n",
              "<style scoped>\n",
              "    .dataframe tbody tr th:only-of-type {\n",
              "        vertical-align: middle;\n",
              "    }\n",
              "\n",
              "    .dataframe tbody tr th {\n",
              "        vertical-align: top;\n",
              "    }\n",
              "\n",
              "    .dataframe thead th {\n",
              "        text-align: right;\n",
              "    }\n",
              "</style>\n",
              "<table border=\"1\" class=\"dataframe\">\n",
              "  <thead>\n",
              "    <tr style=\"text-align: right;\">\n",
              "      <th></th>\n",
              "      <th>Id</th>\n",
              "      <th>SepalLengthCm</th>\n",
              "      <th>SepalWidthCm</th>\n",
              "      <th>PetalLengthCm</th>\n",
              "      <th>PetalWidthCm</th>\n",
              "      <th>Species</th>\n",
              "    </tr>\n",
              "  </thead>\n",
              "  <tbody>\n",
              "    <tr>\n",
              "      <th>0</th>\n",
              "      <td>1</td>\n",
              "      <td>5.1</td>\n",
              "      <td>3.5</td>\n",
              "      <td>1.4</td>\n",
              "      <td>0.2</td>\n",
              "      <td>Iris-setosa</td>\n",
              "    </tr>\n",
              "    <tr>\n",
              "      <th>1</th>\n",
              "      <td>2</td>\n",
              "      <td>4.9</td>\n",
              "      <td>3.0</td>\n",
              "      <td>1.4</td>\n",
              "      <td>0.2</td>\n",
              "      <td>Iris-setosa</td>\n",
              "    </tr>\n",
              "    <tr>\n",
              "      <th>2</th>\n",
              "      <td>3</td>\n",
              "      <td>4.7</td>\n",
              "      <td>3.2</td>\n",
              "      <td>1.3</td>\n",
              "      <td>0.2</td>\n",
              "      <td>Iris-setosa</td>\n",
              "    </tr>\n",
              "    <tr>\n",
              "      <th>3</th>\n",
              "      <td>4</td>\n",
              "      <td>4.6</td>\n",
              "      <td>3.1</td>\n",
              "      <td>1.5</td>\n",
              "      <td>0.2</td>\n",
              "      <td>Iris-setosa</td>\n",
              "    </tr>\n",
              "    <tr>\n",
              "      <th>4</th>\n",
              "      <td>5</td>\n",
              "      <td>5.0</td>\n",
              "      <td>3.6</td>\n",
              "      <td>1.4</td>\n",
              "      <td>0.2</td>\n",
              "      <td>Iris-setosa</td>\n",
              "    </tr>\n",
              "    <tr>\n",
              "      <th>...</th>\n",
              "      <td>...</td>\n",
              "      <td>...</td>\n",
              "      <td>...</td>\n",
              "      <td>...</td>\n",
              "      <td>...</td>\n",
              "      <td>...</td>\n",
              "    </tr>\n",
              "    <tr>\n",
              "      <th>145</th>\n",
              "      <td>146</td>\n",
              "      <td>6.7</td>\n",
              "      <td>3.0</td>\n",
              "      <td>5.2</td>\n",
              "      <td>2.3</td>\n",
              "      <td>Iris-virginica</td>\n",
              "    </tr>\n",
              "    <tr>\n",
              "      <th>146</th>\n",
              "      <td>147</td>\n",
              "      <td>6.3</td>\n",
              "      <td>2.5</td>\n",
              "      <td>5.0</td>\n",
              "      <td>1.9</td>\n",
              "      <td>Iris-virginica</td>\n",
              "    </tr>\n",
              "    <tr>\n",
              "      <th>147</th>\n",
              "      <td>148</td>\n",
              "      <td>6.5</td>\n",
              "      <td>3.0</td>\n",
              "      <td>5.2</td>\n",
              "      <td>2.0</td>\n",
              "      <td>Iris-virginica</td>\n",
              "    </tr>\n",
              "    <tr>\n",
              "      <th>148</th>\n",
              "      <td>149</td>\n",
              "      <td>6.2</td>\n",
              "      <td>3.4</td>\n",
              "      <td>5.4</td>\n",
              "      <td>2.3</td>\n",
              "      <td>Iris-virginica</td>\n",
              "    </tr>\n",
              "    <tr>\n",
              "      <th>149</th>\n",
              "      <td>150</td>\n",
              "      <td>5.9</td>\n",
              "      <td>3.0</td>\n",
              "      <td>5.1</td>\n",
              "      <td>1.8</td>\n",
              "      <td>Iris-virginica</td>\n",
              "    </tr>\n",
              "  </tbody>\n",
              "</table>\n",
              "<p>150 rows × 6 columns</p>\n",
              "</div>\n",
              "      <button class=\"colab-df-convert\" onclick=\"convertToInteractive('df-748a7bd2-2366-49c3-80f6-b7b2de364536')\"\n",
              "              title=\"Convert this dataframe to an interactive table.\"\n",
              "              style=\"display:none;\">\n",
              "        \n",
              "  <svg xmlns=\"http://www.w3.org/2000/svg\" height=\"24px\"viewBox=\"0 0 24 24\"\n",
              "       width=\"24px\">\n",
              "    <path d=\"M0 0h24v24H0V0z\" fill=\"none\"/>\n",
              "    <path d=\"M18.56 5.44l.94 2.06.94-2.06 2.06-.94-2.06-.94-.94-2.06-.94 2.06-2.06.94zm-11 1L8.5 8.5l.94-2.06 2.06-.94-2.06-.94L8.5 2.5l-.94 2.06-2.06.94zm10 10l.94 2.06.94-2.06 2.06-.94-2.06-.94-.94-2.06-.94 2.06-2.06.94z\"/><path d=\"M17.41 7.96l-1.37-1.37c-.4-.4-.92-.59-1.43-.59-.52 0-1.04.2-1.43.59L10.3 9.45l-7.72 7.72c-.78.78-.78 2.05 0 2.83L4 21.41c.39.39.9.59 1.41.59.51 0 1.02-.2 1.41-.59l7.78-7.78 2.81-2.81c.8-.78.8-2.07 0-2.86zM5.41 20L4 18.59l7.72-7.72 1.47 1.35L5.41 20z\"/>\n",
              "  </svg>\n",
              "      </button>\n",
              "      \n",
              "  <style>\n",
              "    .colab-df-container {\n",
              "      display:flex;\n",
              "      flex-wrap:wrap;\n",
              "      gap: 12px;\n",
              "    }\n",
              "\n",
              "    .colab-df-convert {\n",
              "      background-color: #E8F0FE;\n",
              "      border: none;\n",
              "      border-radius: 50%;\n",
              "      cursor: pointer;\n",
              "      display: none;\n",
              "      fill: #1967D2;\n",
              "      height: 32px;\n",
              "      padding: 0 0 0 0;\n",
              "      width: 32px;\n",
              "    }\n",
              "\n",
              "    .colab-df-convert:hover {\n",
              "      background-color: #E2EBFA;\n",
              "      box-shadow: 0px 1px 2px rgba(60, 64, 67, 0.3), 0px 1px 3px 1px rgba(60, 64, 67, 0.15);\n",
              "      fill: #174EA6;\n",
              "    }\n",
              "\n",
              "    [theme=dark] .colab-df-convert {\n",
              "      background-color: #3B4455;\n",
              "      fill: #D2E3FC;\n",
              "    }\n",
              "\n",
              "    [theme=dark] .colab-df-convert:hover {\n",
              "      background-color: #434B5C;\n",
              "      box-shadow: 0px 1px 3px 1px rgba(0, 0, 0, 0.15);\n",
              "      filter: drop-shadow(0px 1px 2px rgba(0, 0, 0, 0.3));\n",
              "      fill: #FFFFFF;\n",
              "    }\n",
              "  </style>\n",
              "\n",
              "      <script>\n",
              "        const buttonEl =\n",
              "          document.querySelector('#df-748a7bd2-2366-49c3-80f6-b7b2de364536 button.colab-df-convert');\n",
              "        buttonEl.style.display =\n",
              "          google.colab.kernel.accessAllowed ? 'block' : 'none';\n",
              "\n",
              "        async function convertToInteractive(key) {\n",
              "          const element = document.querySelector('#df-748a7bd2-2366-49c3-80f6-b7b2de364536');\n",
              "          const dataTable =\n",
              "            await google.colab.kernel.invokeFunction('convertToInteractive',\n",
              "                                                     [key], {});\n",
              "          if (!dataTable) return;\n",
              "\n",
              "          const docLinkHtml = 'Like what you see? Visit the ' +\n",
              "            '<a target=\"_blank\" href=https://colab.research.google.com/notebooks/data_table.ipynb>data table notebook</a>'\n",
              "            + ' to learn more about interactive tables.';\n",
              "          element.innerHTML = '';\n",
              "          dataTable['output_type'] = 'display_data';\n",
              "          await google.colab.output.renderOutput(dataTable, element);\n",
              "          const docLink = document.createElement('div');\n",
              "          docLink.innerHTML = docLinkHtml;\n",
              "          element.appendChild(docLink);\n",
              "        }\n",
              "      </script>\n",
              "    </div>\n",
              "  </div>\n",
              "  "
            ]
          },
          "metadata": {},
          "execution_count": 1
        }
      ]
    },
    {
      "cell_type": "markdown",
      "source": [
        "###(a) 'train_test_split' 함수를 이용하여, 제공된 데이터(data)를 7:3의 비율로 학습용 데이터와 테스트용 데이터로 구분하고 각각 train_test, test_data 변수에 저장하시오. "
      ],
      "metadata": {
        "id": "n6od-Nqajq1Q"
      }
    },
    {
      "cell_type": "code",
      "source": [
        "################ (a) 답안 (아래에 코드 작성)##############\n",
        "\n",
        "train_test, test_data = train_test_split(data, test_size = 0.3, random_state=1)\n",
        "\n",
        "\n"
      ],
      "metadata": {
        "id": "V9GUIC1bLFGl"
      },
      "execution_count": null,
      "outputs": []
    },
    {
      "cell_type": "markdown",
      "source": [
        "###(b) 아래 조건에 따라 의사결정트리를 생성하고 학습시키시오. \n",
        "- 사용할 속성(4가지)\n",
        "  - \"SepalLengthCm\"\n",
        "  - \"SepalWidthCm\"\n",
        "  - \"PetalLengthCm\"\n",
        "  - \"PetalWidthCm\"\n",
        "- criterion : \"entropy\"\n",
        "- max_depth : 3"
      ],
      "metadata": {
        "id": "UwdEGWkUjx8p"
      }
    },
    {
      "cell_type": "code",
      "source": [
        "################7번(b) 답안 (아래에 코드 작성)##############\n",
        "\n",
        "from sklearn.tree import DecisionTreeClassifier\n",
        "from sklearn import tree\n",
        "\n",
        "# 모델 생성 및 학습\n",
        "#tree = DecisionTreeClassifier(criterion = 'entropy')\n",
        "clf = DecisionTreeClassifier(criterion = 'entropy', max_depth = 3)\n",
        "clf.fit(train_test[['SepalLengthCm','SepalWidthCm', 'PetalLengthCm', 'PetalWidthCm']], train_test[\"Species\"])\n"
      ],
      "metadata": {
        "id": "tTfthtKTjzkL"
      },
      "execution_count": null,
      "outputs": []
    },
    {
      "cell_type": "markdown",
      "source": [
        "###(c) 학습시킨 의사트리결정 모델의 정확도를 test_data를 이용하여 출력하시오. "
      ],
      "metadata": {
        "id": "guyJBzxSj7iC"
      }
    },
    {
      "cell_type": "code",
      "source": [
        "################7번(c) 답안 (아래에 코드 작성)##############\n",
        "\n",
        "y_pred = clf.predict(test_data[['SepalLengthCm','SepalWidthCm', 'PetalLengthCm', 'PetalWidthCm']])\n",
        "test_data[\"pred\"]=y_pred\n",
        "accuracy_score(test_data[\"Species\"], test_data[\"pred\"])\n",
        "\n"
      ],
      "metadata": {
        "id": "lKGN3Mqej_5g"
      },
      "execution_count": null,
      "outputs": []
    },
    {
      "cell_type": "markdown",
      "source": [
        "###(d) 아래 조건에 따라 KNN를 생성하고 학습시키시오. \n",
        "- 사용할 속성(4가지)\n",
        "  - \"SepalLengthCm\"\n",
        "  - \"SepalWidthCm\"\n",
        "  - \"PetalLengthCm\"\n",
        "  - \"PetalWidthCm\"\n",
        "- k 값 : 3\n",
        "- 거리 : \"euclidean\""
      ],
      "metadata": {
        "id": "Krt8btL5kHrj"
      }
    },
    {
      "cell_type": "code",
      "source": [
        "################7번(d) 답안 (아래에 코드 작성)##############\n",
        "\n",
        "knn = KNeighborsClassifier(n_neighbors=3, metric='euclidean') #5는 하이퍼파라미터, 유클리드는 방식 , 바꿀수 있음 ! \n",
        "knn.fit(train_test[['SepalLengthCm','SepalWidthCm', 'PetalLengthCm', 'PetalWidthCm']], train_test[\"Species\"])\n",
        "\n",
        "\n"
      ],
      "metadata": {
        "id": "oQ8YTyQYkMEp"
      },
      "execution_count": null,
      "outputs": []
    },
    {
      "cell_type": "markdown",
      "source": [
        "###(e) 학습시킨 KNN의 정확도를 test_data를 이용하여 출력하시오. "
      ],
      "metadata": {
        "id": "CZZ66wNDkQjZ"
      }
    },
    {
      "cell_type": "code",
      "source": [
        "################7번(e) 답안 (아래에 코드 작성)##############\n",
        "\n",
        "from sklearn.metrics import accuracy_score # confusion_matrix 등 다양한 성능평가 함수 존재 \n",
        "import numpy as np\n",
        "\n",
        "y_pred = knn.predict(test_data[['SepalLengthCm','SepalWidthCm', 'PetalLengthCm', 'PetalWidthCm']])\n",
        "test_data[\"pred\"] = y_pred\n",
        "accuracy_score(test_data[\"Species\"], test_data[\"pred\"])"
      ],
      "metadata": {
        "id": "83p9sVHKkTc5"
      },
      "execution_count": null,
      "outputs": []
    }
  ]
}