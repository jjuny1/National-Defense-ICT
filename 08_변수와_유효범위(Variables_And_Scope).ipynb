{
  "cells": [
    {
      "cell_type": "markdown",
      "id": "a3234b19",
      "metadata": {
        "id": "a3234b19"
      },
      "source": [
        "## Function Scope"
      ]
    },
    {
      "cell_type": "code",
      "source": [
        "# Example 1: *args\n",
        "\n",
        "def my_function(*args): # 여러 개의 인자를 받는다. \n",
        "    for arg in args:\n",
        "        print(arg)\n",
        "\n",
        "my_function(\"hello\", \"world\", \"how\", \"are\", \"you\")"
      ],
      "metadata": {
        "colab": {
          "base_uri": "https://localhost:8080/"
        },
        "id": "8596_4qPly3L",
        "outputId": "5c0de559-005e-4e28-fb36-e6970dbedade"
      },
      "id": "8596_4qPly3L",
      "execution_count": 2,
      "outputs": [
        {
          "output_type": "stream",
          "name": "stdout",
          "text": [
            "hello\n",
            "world\n",
            "how\n",
            "are\n",
            "you\n"
          ]
        }
      ]
    },
    {
      "cell_type": "code",
      "source": [
        "# Example 2: **kwargs\n",
        "\n",
        "def my_function(**kwargs):   # 여러개의 키워드 인자를 받는다. \n",
        "    for key, value in kwargs.items():\n",
        "        print(f\"{key}: {value}\")\n",
        "\n",
        "my_function(name=\"John\", age=30, city=\"New York\")\n"
      ],
      "metadata": {
        "colab": {
          "base_uri": "https://localhost:8080/"
        },
        "id": "Oc1Hc74kl1ie",
        "outputId": "6d05f78c-def7-4ca1-89c5-d01189ea4844"
      },
      "id": "Oc1Hc74kl1ie",
      "execution_count": 3,
      "outputs": [
        {
          "output_type": "stream",
          "name": "stdout",
          "text": [
            "name: John\n",
            "age: 30\n",
            "city: New York\n"
          ]
        }
      ]
    },
    {
      "cell_type": "code",
      "source": [
        "# Example 3: Combining *args and **kwargs\n",
        "\n",
        "def my_function(*args, **kwargs):\n",
        "    for arg in args:\n",
        "        print(arg)\n",
        "    for key, value in kwargs.items():\n",
        "        print(f\"{key}: {value}\")\n",
        "\n",
        "my_function(\"hello\", \"world\", name=\"John\", age=30)\n"
      ],
      "metadata": {
        "colab": {
          "base_uri": "https://localhost:8080/"
        },
        "id": "KzymzBzxmF9n",
        "outputId": "37096eb2-4d38-41b4-a99f-7c88a228a9da"
      },
      "id": "KzymzBzxmF9n",
      "execution_count": 4,
      "outputs": [
        {
          "output_type": "stream",
          "name": "stdout",
          "text": [
            "hello\n",
            "world\n",
            "name: John\n",
            "age: 30\n"
          ]
        }
      ]
    },
    {
      "cell_type": "code",
      "execution_count": null,
      "id": "7e8c7923",
      "metadata": {
        "id": "7e8c7923",
        "outputId": "27979845-da16-4216-bc19-18a0f8af3158"
      },
      "outputs": [
        {
          "name": "stdout",
          "output_type": "stream",
          "text": [
            "(1, 2)\n",
            "{'operation': 'sum'}\n"
          ]
        }
      ],
      "source": [
        "def performOperation(*args, **kwargs):\n",
        "    print(args)\n",
        "    print(kwargs)\n",
        "\n",
        "performOperation(1, 2, operation='sum')"
      ]
    },
    {
      "cell_type": "code",
      "source": [],
      "metadata": {
        "id": "rDIvB4r1lwPf"
      },
      "id": "rDIvB4r1lwPf",
      "execution_count": null,
      "outputs": []
    },
    {
      "cell_type": "markdown",
      "id": "3c713aa1",
      "metadata": {
        "id": "3c713aa1"
      },
      "source": [
        "### locals()\n",
        "* 지역 변수의 상태를 반환하는 함수 "
      ]
    },
    {
      "cell_type": "code",
      "execution_count": null,
      "id": "1d65e494",
      "metadata": {
        "id": "1d65e494",
        "outputId": "5ec257cd-204b-43d2-c5c3-93a9de3e05f6"
      },
      "outputs": [
        {
          "name": "stdout",
          "output_type": "stream",
          "text": [
            "{'num1': 1, 'num2': 2, 'operation': 'multiply'}\n"
          ]
        },
        {
          "ename": "NameError",
          "evalue": "name 'num1' is not defined",
          "output_type": "error",
          "traceback": [
            "\u001b[0;31m---------------------------------------------------------------------------\u001b[0m",
            "\u001b[0;31mNameError\u001b[0m                                 Traceback (most recent call last)",
            "Input \u001b[0;32mIn [3]\u001b[0m, in \u001b[0;36m<module>\u001b[0;34m\u001b[0m\n\u001b[1;32m      2\u001b[0m     \u001b[38;5;28mprint\u001b[39m(\u001b[38;5;28mlocals\u001b[39m())\n\u001b[1;32m      4\u001b[0m performOperation(\u001b[38;5;241m1\u001b[39m, \u001b[38;5;241m2\u001b[39m, operation\u001b[38;5;241m=\u001b[39m\u001b[38;5;124m'\u001b[39m\u001b[38;5;124mmultiply\u001b[39m\u001b[38;5;124m'\u001b[39m)\n\u001b[0;32m----> 5\u001b[0m \u001b[38;5;28mprint\u001b[39m(\u001b[43mnum1\u001b[49m)\n",
            "\u001b[0;31mNameError\u001b[0m: name 'num1' is not defined"
          ]
        }
      ],
      "source": [
        "def performOperation(num1, num2, operation='sum'):\n",
        "    print(locals())\n",
        "    \n",
        "performOperation(1, 2, operation='multiply')\n",
        "print(num1)"
      ]
    },
    {
      "cell_type": "markdown",
      "id": "cb7460d3",
      "metadata": {
        "id": "cb7460d3"
      },
      "source": [
        "### globals()\n",
        "* 전역 변수의 상태를 반환하는 함수 "
      ]
    },
    {
      "cell_type": "code",
      "execution_count": null,
      "id": "224306e8",
      "metadata": {
        "id": "224306e8",
        "outputId": "da0388e4-dd30-457b-e4c5-c7c74775ff27"
      },
      "outputs": [
        {
          "data": {
            "text/plain": [
              "{'__name__': '__main__',\n",
              " '__doc__': 'Automatically created module for IPython interactive environment',\n",
              " '__package__': None,\n",
              " '__loader__': None,\n",
              " '__spec__': None,\n",
              " '__builtin__': <module 'builtins' (built-in)>,\n",
              " '__builtins__': <module 'builtins' (built-in)>,\n",
              " '_ih': ['',\n",
              "  \"def performOperation(*args, **kwargs):\\n    print(args)\\n    print(kwargs)\\n\\nperformOperation(1, 2, operation='sum')\",\n",
              "  \"def performOperation(num1, num2, operation='sum'):\\n    print(locals())\\n    \\nperformOperation(1, 2, operation='multiply')\",\n",
              "  \"def performOperation(num1, num2, operation='sum'):\\n    print(locals())\\n    \\nperformOperation(1, 2, operation='multiply')\\nprint(num1)\",\n",
              "  'globals()'],\n",
              " '_oh': {},\n",
              " '_dh': [PosixPath('/Users/ryanmitchell/Documents/GitHub/python-essential-training-2449125/exercise_files')],\n",
              " 'In': ['',\n",
              "  \"def performOperation(*args, **kwargs):\\n    print(args)\\n    print(kwargs)\\n\\nperformOperation(1, 2, operation='sum')\",\n",
              "  \"def performOperation(num1, num2, operation='sum'):\\n    print(locals())\\n    \\nperformOperation(1, 2, operation='multiply')\",\n",
              "  \"def performOperation(num1, num2, operation='sum'):\\n    print(locals())\\n    \\nperformOperation(1, 2, operation='multiply')\\nprint(num1)\",\n",
              "  'globals()'],\n",
              " 'Out': {},\n",
              " 'get_ipython': <bound method InteractiveShell.get_ipython of <ipykernel.zmqshell.ZMQInteractiveShell object at 0x107176ad0>>,\n",
              " 'exit': <IPython.core.autocall.ZMQExitAutocall at 0x1071d43d0>,\n",
              " 'quit': <IPython.core.autocall.ZMQExitAutocall at 0x1071d43d0>,\n",
              " '_': '',\n",
              " '__': '',\n",
              " '___': '',\n",
              " '_i': \"def performOperation(num1, num2, operation='sum'):\\n    print(locals())\\n    \\nperformOperation(1, 2, operation='multiply')\\nprint(num1)\",\n",
              " '_ii': \"def performOperation(num1, num2, operation='sum'):\\n    print(locals())\\n    \\nperformOperation(1, 2, operation='multiply')\",\n",
              " '_iii': \"def performOperation(*args, **kwargs):\\n    print(args)\\n    print(kwargs)\\n\\nperformOperation(1, 2, operation='sum')\",\n",
              " '_i1': \"def performOperation(*args, **kwargs):\\n    print(args)\\n    print(kwargs)\\n\\nperformOperation(1, 2, operation='sum')\",\n",
              " 'performOperation': <function __main__.performOperation(num1, num2, operation='sum')>,\n",
              " '_i2': \"def performOperation(num1, num2, operation='sum'):\\n    print(locals())\\n    \\nperformOperation(1, 2, operation='multiply')\",\n",
              " '_i3': \"def performOperation(num1, num2, operation='sum'):\\n    print(locals())\\n    \\nperformOperation(1, 2, operation='multiply')\\nprint(num1)\",\n",
              " '_i4': 'globals()'}"
            ]
          },
          "execution_count": 4,
          "metadata": {},
          "output_type": "execute_result"
        }
      ],
      "source": [
        "globals()"
      ]
    },
    {
      "cell_type": "markdown",
      "id": "e4f3ceba",
      "metadata": {
        "id": "e4f3ceba"
      },
      "source": [
        "### Global and Local scope"
      ]
    },
    {
      "cell_type": "code",
      "execution_count": 1,
      "id": "ac5ac1b9",
      "metadata": {
        "colab": {
          "base_uri": "https://localhost:8080/"
        },
        "id": "ac5ac1b9",
        "outputId": "1903c3a7-2536-46e1-f99f-4517e29ed7d1"
      },
      "outputs": [
        {
          "output_type": "stream",
          "name": "stdout",
          "text": [
            "Some global data\n",
            "{'varA': 1, 'varB': 2}\n",
            "Some global data\n",
            "{'varC': 3, 'varB': 4}\n"
          ]
        }
      ],
      "source": [
        "message = 'Some global data'\n",
        "\n",
        "def function1(varA, varB):\n",
        "    print(message)        # 전역변수의 값을 출력, message라는 지역변수가 없으므로. \n",
        "    print(locals())       # 지역변수의 상태를 dictionary 타입으로 출력            \n",
        "    \n",
        "    \n",
        "def function2(varC, varB):\n",
        "    print(message)        # 전역변수의 값을 출력, message라는 지역변수가 없으므로. \n",
        "    print(locals())       # 지역변수의 상태를 dictionary 타입으로 출력            \n",
        "    \n",
        "function1(1, 2)      \n",
        "function2(3, 4)"
      ]
    },
    {
      "cell_type": "code",
      "execution_count": null,
      "id": "34839606",
      "metadata": {
        "id": "34839606",
        "outputId": "3f717fcf-b140-4f7d-fab4-91c01f867761"
      },
      "outputs": [
        {
          "name": "stdout",
          "output_type": "stream",
          "text": [
            "1\n",
            "Some local data\n",
            "{'varA': 1, 'varB': 2, 'message': 'Some local data'}\n",
            "2\n",
            "Some global data\n",
            "{'varC': 3, 'varB': 4}\n"
          ]
        }
      ],
      "source": [
        "message = 'Some global data'\n",
        "varA = 2\n",
        "def function1(varA, varB):\n",
        "    message = 'Some local data'  \n",
        "    print(varA)        # 지역변수의 값을 출력, varA라는 지역변수가 있기 때문... \n",
        "    print(message)     # 지역변수의 값을 출력, message라는 지역변수가 있기 때문... \n",
        "    print(locals())    # 지역변수의 상태를 dictionary 타입으로 출력            \n",
        "    \n",
        "    \n",
        "def function2(varC, varB):\n",
        "    print(varA)        # 전역변수의 값이 출력, varA라는 지역변수가 없기 때문\n",
        "    print(message)     # 전역변수의 값을 출력, message라는 지역변수가 없기 때문... \n",
        "    print(locals())    # 지역변수의 상태를 dictionary 타입으로 출력            \n",
        "    \n",
        "function1(1, 2)\n",
        "function2(3, 4)"
      ]
    },
    {
      "cell_type": "code",
      "execution_count": null,
      "id": "fb5b1343",
      "metadata": {
        "id": "fb5b1343",
        "outputId": "b9192d38-75d7-4d3e-ba0f-9eb9ba55229c"
      },
      "outputs": [
        {
          "name": "stdout",
          "output_type": "stream",
          "text": [
            "1\n",
            "inner_function local scope: {'varA': 123, 'varB': 456}\n"
          ]
        }
      ],
      "source": [
        "def function1(varA, varB):\n",
        "    message = 'Some local data'\n",
        "    print(varA)     # 지역변수 varA의 값이 출력 \n",
        "    def inner_function(varA, varB):\n",
        "        print(f'inner_function local scope: {locals()}')   # 지역변수(varA, varB)의 상태를 출력 \n",
        "        \n",
        "    inner_function(123, 456)\n",
        "    \n",
        "\n",
        "function1(1, 2) \n"
      ]
    },
    {
      "cell_type": "code",
      "execution_count": null,
      "id": "8930f2aa",
      "metadata": {
        "id": "8930f2aa",
        "outputId": "e54d02fa-fc0c-4384-e41b-4a88961f7322"
      },
      "outputs": [
        {
          "name": "stdout",
          "output_type": "stream",
          "text": [
            "1\n",
            "{'varA': 1, 'varB': 2, 'message': 'Some local data', 'inner_function': <function function1.<locals>.inner_function at 0x107b6af80>}\n",
            "inner_function local scope: {'varA': 123, 'varB': 456}\n"
          ]
        }
      ],
      "source": [
        "def function1(varA, varB):\n",
        "    message = 'Some local data'\n",
        "    print(varA)\n",
        "    def inner_function(varA, varB):\n",
        "        print(f'inner_function local scope: {locals()}')\n",
        "    \n",
        "    print(locals())\n",
        "    inner_function(123, 456)\n",
        "    \n",
        "\n",
        "function1(1, 2) \n"
      ]
    },
    {
      "cell_type": "code",
      "execution_count": null,
      "id": "e12c6b2e",
      "metadata": {
        "id": "e12c6b2e"
      },
      "outputs": [],
      "source": []
    }
  ],
  "metadata": {
    "kernelspec": {
      "display_name": "Python 3 (ipykernel)",
      "language": "python",
      "name": "python3"
    },
    "language_info": {
      "codemirror_mode": {
        "name": "ipython",
        "version": 3
      },
      "file_extension": ".py",
      "mimetype": "text/x-python",
      "name": "python",
      "nbconvert_exporter": "python",
      "pygments_lexer": "ipython3",
      "version": "3.10.2"
    },
    "colab": {
      "provenance": []
    }
  },
  "nbformat": 4,
  "nbformat_minor": 5
}