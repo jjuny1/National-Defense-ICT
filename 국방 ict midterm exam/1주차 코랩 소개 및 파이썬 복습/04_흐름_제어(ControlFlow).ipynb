{
  "cells": [
    {
      "cell_type": "markdown",
      "id": "4e835ee3",
      "metadata": {
        "id": "4e835ee3"
      },
      "source": [
        "## 흐름 제어 (Control Flow) - if/else, for, while "
      ]
    },
    {
      "cell_type": "markdown",
      "id": "2a65107b",
      "metadata": {
        "id": "2a65107b"
      },
      "source": [
        "### 조건문 (If / Else statements)"
      ]
    },
    {
      "cell_type": "code",
      "execution_count": 1,
      "id": "03d16962",
      "metadata": {
        "colab": {
          "base_uri": "https://localhost:8080/"
        },
        "id": "03d16962",
        "outputId": "b6dc85a9-4a1e-4c7f-a42d-abd00592c4b8"
      },
      "outputs": [
        {
          "output_type": "stream",
          "name": "stdout",
          "text": [
            "It is true!\n",
            "Also print this\n",
            "Always print this\n"
          ]
        }
      ],
      "source": [
        "a = True\n",
        "if a:                     # 조건이 참이면 아래 구문을 수행\n",
        "    print('It is true!')\n",
        "    print('Also print this')\n",
        "else:                     # 조건이 거짓이면 아래 구문을 수행\n",
        "    print('It is false!')\n",
        "\n",
        "print('Always print this') # 위 조건(즉, a)과 무관하게 수행 "
      ]
    },
    {
      "cell_type": "code",
      "execution_count": 2,
      "id": "c250abc7",
      "metadata": {
        "colab": {
          "base_uri": "https://localhost:8080/"
        },
        "id": "c250abc7",
        "outputId": "a53c09f4-f641-4716-9baa-7ddc2d0fe0b9"
      },
      "outputs": [
        {
          "output_type": "stream",
          "name": "stdout",
          "text": [
            "It is true!\n",
            "Also print this\n",
            "Always print this\n"
          ]
        }
      ],
      "source": [
        "a = True\n",
        "b = False\n",
        "c = True\n",
        "if a:\n",
        "    print('It is true!')\n",
        "    print('Also print this')\n",
        "    if b:\n",
        "        print('Both are true')\n",
        "        if c:\n",
        "            print('All three are true')\n",
        "else:\n",
        "    print('It is false!')\n",
        "print('Always print this')"
      ]
    },
    {
      "cell_type": "code",
      "source": [
        "## simple 'if/else' statement \n",
        "\n",
        "x = 10\n",
        "if x > 5:\n",
        "    print(\"x is greater than 5\")\n",
        "else:\n",
        "    print(\"x is less than or equal to 5\")\n"
      ],
      "metadata": {
        "colab": {
          "base_uri": "https://localhost:8080/"
        },
        "id": "rveuJgnXYV5-",
        "outputId": "3e4249e9-3b67-4182-ea28-d6000c3ce4e1"
      },
      "id": "rveuJgnXYV5-",
      "execution_count": 4,
      "outputs": [
        {
          "output_type": "stream",
          "name": "stdout",
          "text": [
            "x is greater than 5\n"
          ]
        }
      ]
    },
    {
      "cell_type": "code",
      "source": [
        "## multiple 'if/elif/else' statements \n",
        "\n",
        "x = 10\n",
        "if x > 20:\n",
        "    print(\"x is greater than 20\")\n",
        "elif x > 10:\n",
        "    print(\"x is between 11 and 20\")\n",
        "else:\n",
        "    print(\"x is less than or equal to 10\")\n"
      ],
      "metadata": {
        "id": "UfdiYgjZYfIM"
      },
      "id": "UfdiYgjZYfIM",
      "execution_count": null,
      "outputs": []
    },
    {
      "cell_type": "markdown",
      "source": [
        "## nested 'if/else' statement \n",
        "\n",
        "x = 10\n",
        "y = 5\n",
        "if x > 5:\n",
        "    if y > 3:\n",
        "        print(\"x is greater than 5 and y is greater than 3\")\n",
        "    else:\n",
        "        print(\"x is greater than 5 but y is less than or equal to 3\")\n",
        "else:\n",
        "    print(\"x is less than or equal to 5\")\n"
      ],
      "metadata": {
        "id": "BXtM4VfMYm1w"
      },
      "id": "BXtM4VfMYm1w"
    },
    {
      "cell_type": "markdown",
      "id": "ecc930e8",
      "metadata": {
        "id": "ecc930e8"
      },
      "source": [
        "### 반복문 1 : For loops"
      ]
    },
    {
      "cell_type": "code",
      "execution_count": 3,
      "id": "8b49fa67",
      "metadata": {
        "colab": {
          "base_uri": "https://localhost:8080/"
        },
        "id": "8b49fa67",
        "outputId": "18be035a-faa2-466e-bee1-166fc76fbba1"
      },
      "outputs": [
        {
          "output_type": "stream",
          "name": "stdout",
          "text": [
            "1\n",
            "2\n",
            "3\n",
            "4\n",
            "5\n"
          ]
        }
      ],
      "source": [
        "a = [1,2,3,4,5]\n",
        "for number in a:    # 리스트의 원소들이 차례로 number에 할당되면서 반복 \n",
        "    print(number)"
      ]
    },
    {
      "cell_type": "code",
      "execution_count": 5,
      "id": "55d76100",
      "metadata": {
        "colab": {
          "base_uri": "https://localhost:8080/"
        },
        "id": "55d76100",
        "outputId": "60b70541-2741-4b04-88e6-9804410a3090"
      },
      "outputs": [
        {
          "output_type": "stream",
          "name": "stdout",
          "text": [
            "apple\n",
            "banana\n",
            "cherry\n"
          ]
        }
      ],
      "source": [
        "# Example 1: Iterating over a list\n",
        "\n",
        "fruits = [\"apple\", \"banana\", \"cherry\"]\n",
        "for fruit in fruits:\n",
        "    print(fruit)\n"
      ]
    },
    {
      "cell_type": "code",
      "source": [
        "# Example 2: Iterating over a range of numbers\n",
        "\n",
        "for i in range(5):\n",
        "    print(i)\n"
      ],
      "metadata": {
        "id": "ncmbX5hWY6L5"
      },
      "id": "ncmbX5hWY6L5",
      "execution_count": null,
      "outputs": []
    },
    {
      "cell_type": "code",
      "source": [
        "# Example 3: Iterating over a dictionary\n",
        "\n",
        "person = {\"name\": \"John\", \"age\": 30, \"city\": \"New York\"}\n",
        "for key, value in person.items():\n",
        "    print(key, value)\n"
      ],
      "metadata": {
        "id": "x7qPx19bZDLH"
      },
      "id": "x7qPx19bZDLH",
      "execution_count": null,
      "outputs": []
    },
    {
      "cell_type": "code",
      "source": [
        "# Example 4: Using break statement\n",
        "\n",
        "fruits = [\"apple\", \"banana\", \"cherry\"]\n",
        "for fruit in fruits:\n",
        "    if fruit == \"banana\":\n",
        "        break\n",
        "    print(fruit)\n"
      ],
      "metadata": {
        "id": "drn0g-wqZGQX"
      },
      "id": "drn0g-wqZGQX",
      "execution_count": null,
      "outputs": []
    },
    {
      "cell_type": "code",
      "source": [
        "# Example 5: Using continue statement\n",
        "\n",
        "for i in range(5):\n",
        "    if i == 2:\n",
        "        continue\n",
        "    print(i)"
      ],
      "metadata": {
        "id": "0YMtGDZGZJ87"
      },
      "id": "0YMtGDZGZJ87",
      "execution_count": null,
      "outputs": []
    },
    {
      "cell_type": "markdown",
      "id": "8b4d6361",
      "metadata": {
        "id": "8b4d6361"
      },
      "source": [
        "### 반복문 2 (While loops)"
      ]
    },
    {
      "cell_type": "code",
      "execution_count": null,
      "id": "053eb644",
      "metadata": {
        "id": "053eb644",
        "outputId": "c27a1095-9bb6-49db-c435-3f5b4719cf59"
      },
      "outputs": [
        {
          "name": "stdout",
          "output_type": "stream",
          "text": [
            "0\n",
            "1\n",
            "2\n",
            "3\n",
            "4\n"
          ]
        }
      ],
      "source": [
        "# Example 1: Simple while loop\n",
        "\n",
        "a = 0\n",
        "while a < 5:   # 조건이 만족할 때까지 계속 아래 구문들을 반복 \n",
        "    print(a)\n",
        "    a = a + 1"
      ]
    },
    {
      "cell_type": "code",
      "execution_count": 6,
      "id": "f8052766",
      "metadata": {
        "colab": {
          "base_uri": "https://localhost:8080/"
        },
        "id": "f8052766",
        "outputId": "8488bc1b-a601-4a3d-ff74-84fcf6588006"
      },
      "outputs": [
        {
          "output_type": "stream",
          "name": "stdout",
          "text": [
            "1\n",
            "2\n"
          ]
        }
      ],
      "source": [
        "# Example 2: Using break statement\n",
        "\n",
        "i = 1\n",
        "while i <= 5:\n",
        "    if i == 3:\n",
        "        break\n",
        "    print(i)\n",
        "    i += 1\n"
      ]
    },
    {
      "cell_type": "code",
      "source": [
        "# Example 3: Using continue statement\n",
        "\n",
        "i = 0\n",
        "while i < 5:\n",
        "    i += 1\n",
        "    if i == 3:\n",
        "        continue    # continue을 만나면 아래 구문을 실행하지 않고 반복문 처음 부분으로 이동\n",
        "    print(i)\n"
      ],
      "metadata": {
        "colab": {
          "base_uri": "https://localhost:8080/"
        },
        "id": "u6vXhY0pZhSL",
        "outputId": "33594bdb-0899-4fed-fbca-df621cde41b5"
      },
      "id": "u6vXhY0pZhSL",
      "execution_count": 7,
      "outputs": [
        {
          "output_type": "stream",
          "name": "stdout",
          "text": [
            "1\n",
            "2\n",
            "4\n",
            "5\n"
          ]
        }
      ]
    },
    {
      "cell_type": "code",
      "source": [
        "# Example 4: Using while loop with else statement\n",
        "\n",
        "i = 1\n",
        "while i <= 5:\n",
        "    print(i)\n",
        "    i += 1\n",
        "else:\n",
        "    print(\"The loop is finished.\")\n"
      ],
      "metadata": {
        "colab": {
          "base_uri": "https://localhost:8080/"
        },
        "id": "HGgT1iPnZjyl",
        "outputId": "4f191ee4-6350-4fb5-ac53-0062330a79c2"
      },
      "id": "HGgT1iPnZjyl",
      "execution_count": 9,
      "outputs": [
        {
          "output_type": "stream",
          "name": "stdout",
          "text": [
            "1\n",
            "2\n",
            "3\n",
            "4\n",
            "5\n",
            "The loop is finished.\n"
          ]
        }
      ]
    },
    {
      "cell_type": "code",
      "source": [],
      "metadata": {
        "id": "cOiBN3inZl4t"
      },
      "id": "cOiBN3inZl4t",
      "execution_count": null,
      "outputs": []
    }
  ],
  "metadata": {
    "kernelspec": {
      "display_name": "Python 3 (ipykernel)",
      "language": "python",
      "name": "python3"
    },
    "language_info": {
      "codemirror_mode": {
        "name": "ipython",
        "version": 3
      },
      "file_extension": ".py",
      "mimetype": "text/x-python",
      "name": "python",
      "nbconvert_exporter": "python",
      "pygments_lexer": "ipython3",
      "version": "3.10.2"
    },
    "colab": {
      "provenance": []
    }
  },
  "nbformat": 4,
  "nbformat_minor": 5
}