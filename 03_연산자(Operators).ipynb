{
  "cells": [
    {
      "cell_type": "markdown",
      "id": "30d9684d",
      "metadata": {
        "id": "30d9684d"
      },
      "source": [
        "## 산술연산(Arithmetic Operators )"
      ]
    },
    {
      "cell_type": "code",
      "execution_count": null,
      "id": "f4a9a1bc",
      "metadata": {
        "id": "f4a9a1bc",
        "outputId": "f9d039ea-3178-48a5-d33a-94b8b2d187e1"
      },
      "outputs": [
        {
          "data": {
            "text/plain": [
              "2"
            ]
          },
          "execution_count": 1,
          "metadata": {},
          "output_type": "execute_result"
        }
      ],
      "source": [
        "1 + 1"
      ]
    },
    {
      "cell_type": "code",
      "execution_count": null,
      "id": "6e14dea6",
      "metadata": {
        "id": "6e14dea6",
        "outputId": "5eb738c0-d8fd-4dfd-f814-29f26f8ee84a"
      },
      "outputs": [
        {
          "data": {
            "text/plain": [
              "20"
            ]
          },
          "execution_count": 2,
          "metadata": {},
          "output_type": "execute_result"
        }
      ],
      "source": [
        "4 * 5"
      ]
    },
    {
      "cell_type": "code",
      "execution_count": null,
      "id": "5b1a4e73",
      "metadata": {
        "id": "5b1a4e73",
        "outputId": "e4ab980c-865b-4cce-9e37-6fb48dc3b0a7"
      },
      "outputs": [
        {
          "data": {
            "text/plain": [
              "25"
            ]
          },
          "execution_count": 3,
          "metadata": {},
          "output_type": "execute_result"
        }
      ],
      "source": [
        "5 ** 2"
      ]
    },
    {
      "cell_type": "code",
      "execution_count": null,
      "id": "e8d2c9be",
      "metadata": {
        "id": "e8d2c9be",
        "outputId": "c7263c2f-9940-4a79-e0bd-eb5686b8a21f"
      },
      "outputs": [
        {
          "data": {
            "text/plain": [
              "4.0"
            ]
          },
          "execution_count": 4,
          "metadata": {},
          "output_type": "execute_result"
        }
      ],
      "source": [
        "20 / 5"
      ]
    },
    {
      "cell_type": "code",
      "execution_count": null,
      "id": "7c1cc1d2",
      "metadata": {
        "id": "7c1cc1d2",
        "outputId": "53c568b7-a09d-4595-f020-3e1c010e24c7"
      },
      "outputs": [
        {
          "data": {
            "text/plain": [
              "3.3333333333333335"
            ]
          },
          "execution_count": 5,
          "metadata": {},
          "output_type": "execute_result"
        }
      ],
      "source": [
        "20 / 6"
      ]
    },
    {
      "cell_type": "code",
      "execution_count": null,
      "id": "09a73309",
      "metadata": {
        "id": "09a73309",
        "outputId": "8886cf9c-0255-4276-913b-b7511092f2ed"
      },
      "outputs": [
        {
          "data": {
            "text/plain": [
              "2"
            ]
          },
          "execution_count": 6,
          "metadata": {},
          "output_type": "execute_result"
        }
      ],
      "source": [
        "20 % 6   # 나머지 연산 "
      ]
    },
    {
      "cell_type": "markdown",
      "id": "d161fedb",
      "metadata": {
        "id": "d161fedb"
      },
      "source": [
        "### 문자열 산술 연산 (Arithmetic Operators with Strings )"
      ]
    },
    {
      "cell_type": "code",
      "execution_count": null,
      "id": "f63375d4",
      "metadata": {
        "id": "f63375d4",
        "outputId": "92272bc2-759b-4cb4-f271-f3838ee51dfe"
      },
      "outputs": [
        {
          "data": {
            "text/plain": [
              "'string 1 string 2'"
            ]
          },
          "execution_count": 7,
          "metadata": {},
          "output_type": "execute_result"
        }
      ],
      "source": [
        "'string 1 ' + 'string 2' # 문자열 결합 (concatenate)"
      ]
    },
    {
      "cell_type": "code",
      "execution_count": null,
      "id": "825db314",
      "metadata": {
        "id": "825db314",
        "outputId": "409d367b-77b7-4d76-928e-1fa920dfd837"
      },
      "outputs": [
        {
          "data": {
            "text/plain": [
              "'- string 1 - - string 1 - - string 1 - - string 1 - '"
            ]
          },
          "execution_count": 8,
          "metadata": {},
          "output_type": "execute_result"
        }
      ],
      "source": [
        "'- string 1 - ' * 4     # 동일한 문자열의 반복 "
      ]
    },
    {
      "cell_type": "code",
      "execution_count": null,
      "id": "5f6b6a00",
      "metadata": {
        "id": "5f6b6a00",
        "outputId": "ec2097b2-e66d-497e-bf9e-c909006f7610"
      },
      "outputs": [
        {
          "ename": "TypeError",
          "evalue": "can only concatenate str (not \"int\") to str",
          "output_type": "error",
          "traceback": [
            "\u001b[0;31m---------------------------------------------------------------------------\u001b[0m",
            "\u001b[0;31mTypeError\u001b[0m                                 Traceback (most recent call last)",
            "Input \u001b[0;32mIn [9]\u001b[0m, in \u001b[0;36m<module>\u001b[0;34m\u001b[0m\n\u001b[0;32m----> 1\u001b[0m \u001b[38;5;124;43m'\u001b[39;49m\u001b[38;5;124;43m 1\u001b[39;49m\u001b[38;5;124;43m'\u001b[39;49m\u001b[43m \u001b[49m\u001b[38;5;241;43m+\u001b[39;49m\u001b[43m \u001b[49m\u001b[38;5;241;43m4\u001b[39;49m\n",
            "\u001b[0;31mTypeError\u001b[0m: can only concatenate str (not \"int\") to str"
          ]
        }
      ],
      "source": [
        "' 1' + 4   # 데이터 타입이 동일해야 한다. "
      ]
    },
    {
      "cell_type": "markdown",
      "id": "5508c805",
      "metadata": {
        "id": "5508c805"
      },
      "source": [
        "## 비교, 논리, 소속 연산자 (Comparison, Logical, and Membership Operators)"
      ]
    },
    {
      "cell_type": "markdown",
      "id": "d9ce3a09",
      "metadata": {
        "id": "d9ce3a09"
      },
      "source": [
        "### 비교 연산자 (Comparison Operators)"
      ]
    },
    {
      "cell_type": "code",
      "execution_count": null,
      "id": "3f56da71",
      "metadata": {
        "id": "3f56da71",
        "outputId": "4e8202b7-26ca-415e-9667-b3bbaf0c9bd1"
      },
      "outputs": [
        {
          "data": {
            "text/plain": [
              "True"
            ]
          },
          "execution_count": 10,
          "metadata": {},
          "output_type": "execute_result"
        }
      ],
      "source": [
        "True == True"
      ]
    },
    {
      "cell_type": "code",
      "execution_count": null,
      "id": "a881ca52",
      "metadata": {
        "id": "a881ca52",
        "outputId": "f6f012c3-dff8-4234-b91d-535e1a3f8d0b"
      },
      "outputs": [
        {
          "data": {
            "text/plain": [
              "True"
            ]
          },
          "execution_count": 11,
          "metadata": {},
          "output_type": "execute_result"
        }
      ],
      "source": [
        "4 < 5 "
      ]
    },
    {
      "cell_type": "code",
      "execution_count": null,
      "id": "f69e4f6f",
      "metadata": {
        "id": "f69e4f6f",
        "outputId": "8114b767-5f1d-40b9-e881-7c0aa2e76ac9"
      },
      "outputs": [
        {
          "data": {
            "text/plain": [
              "True"
            ]
          },
          "execution_count": 12,
          "metadata": {},
          "output_type": "execute_result"
        }
      ],
      "source": [
        "5 <= 5"
      ]
    },
    {
      "cell_type": "code",
      "execution_count": null,
      "id": "ee8391b9",
      "metadata": {
        "id": "ee8391b9",
        "outputId": "64356270-92a0-4fee-b943-4b7fd12a5fc3"
      },
      "outputs": [
        {
          "data": {
            "text/plain": [
              "True"
            ]
          },
          "execution_count": 13,
          "metadata": {},
          "output_type": "execute_result"
        }
      ],
      "source": [
        "5 > 2"
      ]
    },
    {
      "cell_type": "code",
      "execution_count": null,
      "id": "8e26b646",
      "metadata": {
        "id": "8e26b646",
        "outputId": "4d78d6b5-ad89-4257-8e99-382cdaadc6c4"
      },
      "outputs": [
        {
          "data": {
            "text/plain": [
              "True"
            ]
          },
          "execution_count": 14,
          "metadata": {},
          "output_type": "execute_result"
        }
      ],
      "source": [
        "5 >=2"
      ]
    },
    {
      "cell_type": "markdown",
      "id": "81123eb2",
      "metadata": {
        "id": "81123eb2"
      },
      "source": [
        "### 논리 연산자 (Logical Operators) - and, or, not"
      ]
    },
    {
      "cell_type": "code",
      "execution_count": null,
      "id": "edae2069",
      "metadata": {
        "id": "edae2069",
        "outputId": "edec475a-9d45-4b93-bd8b-36be0e269058"
      },
      "outputs": [
        {
          "data": {
            "text/plain": [
              "True"
            ]
          },
          "execution_count": 15,
          "metadata": {},
          "output_type": "execute_result"
        }
      ],
      "source": [
        "True and True"
      ]
    },
    {
      "cell_type": "code",
      "execution_count": null,
      "id": "39808456",
      "metadata": {
        "id": "39808456",
        "outputId": "5d27e946-4f05-411c-89c1-d7352eada675"
      },
      "outputs": [
        {
          "data": {
            "text/plain": [
              "False"
            ]
          },
          "execution_count": 16,
          "metadata": {},
          "output_type": "execute_result"
        }
      ],
      "source": [
        "True and False"
      ]
    },
    {
      "cell_type": "code",
      "execution_count": null,
      "id": "e105cfae",
      "metadata": {
        "id": "e105cfae",
        "outputId": "a31a3e7b-7455-4665-e618-f6122510b2be"
      },
      "outputs": [
        {
          "data": {
            "text/plain": [
              "True"
            ]
          },
          "execution_count": 18,
          "metadata": {},
          "output_type": "execute_result"
        }
      ],
      "source": [
        "True or False"
      ]
    },
    {
      "cell_type": "code",
      "execution_count": null,
      "id": "9efc6572",
      "metadata": {
        "id": "9efc6572",
        "outputId": "c6918a3e-792b-4a32-c166-6bf3e6aaf331"
      },
      "outputs": [
        {
          "data": {
            "text/plain": [
              "False"
            ]
          },
          "execution_count": 19,
          "metadata": {},
          "output_type": "execute_result"
        }
      ],
      "source": [
        "False or False"
      ]
    },
    {
      "cell_type": "code",
      "execution_count": null,
      "id": "7e730018",
      "metadata": {
        "id": "7e730018",
        "outputId": "62cf303b-df3a-489e-ba36-0229f2d7970d"
      },
      "outputs": [
        {
          "data": {
            "text/plain": [
              "False"
            ]
          },
          "execution_count": 20,
          "metadata": {},
          "output_type": "execute_result"
        }
      ],
      "source": [
        "not True"
      ]
    },
    {
      "cell_type": "code",
      "execution_count": null,
      "id": "7ce9131d",
      "metadata": {
        "id": "7ce9131d",
        "outputId": "e7f3d8c2-c6fe-4218-ee1a-38a96fa030d7"
      },
      "outputs": [
        {
          "data": {
            "text/plain": [
              "True"
            ]
          },
          "execution_count": 21,
          "metadata": {},
          "output_type": "execute_result"
        }
      ],
      "source": [
        "not False"
      ]
    },
    {
      "cell_type": "markdown",
      "id": "70fa4623",
      "metadata": {
        "id": "70fa4623"
      },
      "source": [
        "### 소속 연산자 (Membership Operators) - in, not in, is"
      ]
    },
    {
      "cell_type": "code",
      "execution_count": null,
      "id": "d7fcbe12",
      "metadata": {
        "id": "d7fcbe12",
        "outputId": "b198eb62-a52e-4298-ce3b-c735aa4c19ac"
      },
      "outputs": [
        {
          "data": {
            "text/plain": [
              "True"
            ]
          },
          "execution_count": 22,
          "metadata": {},
          "output_type": "execute_result"
        }
      ],
      "source": [
        "1 in [1,2,3,4,5]"
      ]
    },
    {
      "cell_type": "code",
      "source": [
        "my_list = [1, 2, 3, 4, 5]\n",
        "if 3 in my_list:\n",
        "    print(\"3 is in the list\")\n",
        "else:\n",
        "    print(\"3 is not in the list\")\n"
      ],
      "metadata": {
        "id": "Y2u3La-pV_Np"
      },
      "id": "Y2u3La-pV_Np",
      "execution_count": null,
      "outputs": []
    },
    {
      "cell_type": "code",
      "execution_count": null,
      "id": "051cb18c",
      "metadata": {
        "id": "051cb18c",
        "outputId": "1fd8ba15-d474-4d4a-a094-dfed8d8f8471"
      },
      "outputs": [
        {
          "data": {
            "text/plain": [
              "True"
            ]
          },
          "execution_count": 24,
          "metadata": {},
          "output_type": "execute_result"
        }
      ],
      "source": [
        "10 not in [1,2,3,4,5]"
      ]
    },
    {
      "cell_type": "code",
      "source": [
        "my_string = \"hello world\"\n",
        "if \"x\" not in my_string:\n",
        "    print(\"x is not in the string\")\n",
        "else:\n",
        "    print(\"x is in the string\")\n"
      ],
      "metadata": {
        "id": "qShZ5IfbWC5F"
      },
      "id": "qShZ5IfbWC5F",
      "execution_count": null,
      "outputs": []
    },
    {
      "cell_type": "code",
      "execution_count": null,
      "id": "e032e25c",
      "metadata": {
        "id": "e032e25c",
        "outputId": "daa3fb97-e455-4fa3-a1e6-900a7b915bc5"
      },
      "outputs": [
        {
          "data": {
            "text/plain": [
              "False"
            ]
          },
          "execution_count": 26,
          "metadata": {},
          "output_type": "execute_result"
        }
      ],
      "source": [
        "'cat' not in 'my pet cat'"
      ]
    },
    {
      "cell_type": "code",
      "execution_count": 1,
      "id": "142e2fca",
      "metadata": {
        "colab": {
          "base_uri": "https://localhost:8080/"
        },
        "id": "142e2fca",
        "outputId": "f8761a9e-0e52-4125-b032-eb30e3294375"
      },
      "outputs": [
        {
          "output_type": "stream",
          "name": "stdout",
          "text": [
            "x and y are different objects\n",
            "x and z are the same object\n"
          ]
        }
      ],
      "source": [
        "x = [1, 2, 3]\n",
        "y = [1, 2, 3]\n",
        "z = x\n",
        "if x is y:                                 # The is operator is used to check if two objects are the same object in memory.\n",
        "    print(\"x and y are the same object\")\n",
        "else:\n",
        "    print(\"x and y are different objects\")\n",
        "if x is z:\n",
        "    print(\"x and z are the same object\")\n",
        "else:\n",
        "    print(\"x and z are different objects\")\n"
      ]
    }
  ],
  "metadata": {
    "kernelspec": {
      "display_name": "Python 3 (ipykernel)",
      "language": "python",
      "name": "python3"
    },
    "language_info": {
      "codemirror_mode": {
        "name": "ipython",
        "version": 3
      },
      "file_extension": ".py",
      "mimetype": "text/x-python",
      "name": "python",
      "nbconvert_exporter": "python",
      "pygments_lexer": "ipython3",
      "version": "3.10.2"
    },
    "colab": {
      "provenance": []
    }
  },
  "nbformat": 4,
  "nbformat_minor": 5
}