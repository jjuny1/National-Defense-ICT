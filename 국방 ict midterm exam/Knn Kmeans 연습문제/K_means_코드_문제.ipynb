{
  "nbformat": 4,
  "nbformat_minor": 0,
  "metadata": {
    "colab": {
      "provenance": []
    },
    "kernelspec": {
      "name": "python3",
      "display_name": "Python 3"
    },
    "language_info": {
      "name": "python"
    }
  },
  "cells": [
    {
      "cell_type": "markdown",
      "source": [
        "# K-means\n",
        "## 문제 3. k-means 알고리즘을 이용하여 iris 데이터셋을 클러스터링하는 코드를 작성하여 아래 물음에 답하시오. 이때, 아래 사항을 참고할 것. \n",
        "* 데이터셋 구조를 확인할 것. \n",
        "  * 예시) feature name 확인 => iris.feature_naems 또는 iris['feature_neams']\n",
        "* scikit-learn 라이브러리 사용 가능 \n",
        "* 4개 feature를 모두 사용하여 클러스터링하시오. \n",
        "* centroid의 수는 3개 하시오. \n",
        "\n",
        "### 문제 3-1. iris 데이터셋에 포함되어 있는 데이터의 수는 몇 개인가?\n",
        "\n",
        "### 문제 3-2. k-means 학습 종료 후 최종 centroid들에 대한 정보를 출력하시오. \n",
        "\n",
        "### 문제 3-3. 아래의 꽃들은 몇 번째 클러스터에 속하는가?\n",
        "* 첫번째 꽃 \n",
        "  * sepal_leangth : 1\n",
        "  * sepal_width : 1\n",
        "  * petal_length : 1\n",
        "  * petal_width : 1\n",
        "\n",
        "* 두번째 꽃 \n",
        "  * sepal_leangth : 6\n",
        "  * sepal_width : 6\n",
        "  * petal_length : 6\n",
        "  * petal_width : 6"
      ],
      "metadata": {
        "id": "Kz9sREkUWxi1"
      }
    },
    {
      "cell_type": "code",
      "source": [
        "from sklearn.datasets import load_iris\n",
        "from sklearn.cluster import KMeans\n",
        "import matplotlib.pyplot as plt\n",
        "\n",
        "# Load the Iris dataset\n",
        "iris = load_iris()\n",
        "X = iris.data \n",
        "                                                   \n",
        "#### 아래 부터 코드를 작성하시오. ########\n",
        "# Apply the k-means algorithm with k=3 clusters\n",
        "kmeans = KMeans(n_clusters=3, random_state=42)\n",
        "kmeans.fit(X)\n",
        "results = kmeans.predict([[1, 1, 1, 1], [6, 6, 6, 6]]) \n",
        "\n",
        "print(f\"iris 데이터셋에 포함된 데이터는 총 {len(X)}개입니다.\")\n",
        "\n",
        "print(\"첫번째 클러스터의 중심 : \", kmeans.cluster_centers_[0])\n",
        "\n",
        "print(f\"첫번째 꽃은 {results[0]} 번째 클러스터에 속합니다.\")\n",
        "\n",
        "print(f\"두번째 꽃은 {results[1]} 번째 클러스터에 속합니다.\")\n"
      ],
      "metadata": {
        "id": "iKoX75BNW3Cc"
      },
      "execution_count": null,
      "outputs": []
    }
  ]
}