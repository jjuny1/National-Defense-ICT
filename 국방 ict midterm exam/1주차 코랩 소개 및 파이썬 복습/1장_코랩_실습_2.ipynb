{
  "nbformat": 4,
  "nbformat_minor": 0,
  "metadata": {
    "colab": {
      "name": "4장_PPT 실습_(3).ipynb",
      "provenance": [],
      "collapsed_sections": []
    },
    "kernelspec": {
      "name": "python3",
      "display_name": "Python 3"
    },
    "language_info": {
      "name": "python"
    }
  },
  "cells": [
    {
      "cell_type": "code",
      "metadata": {
        "colab": {
          "base_uri": "https://localhost:8080/"
        },
        "id": "MLr6WRHjk5w4",
        "outputId": "ab8ad70a-890c-4ec3-d931-6c01588c8dbc"
      },
      "source": [
        "print(\"Welcome to colab\")"
      ],
      "execution_count": null,
      "outputs": [
        {
          "output_type": "stream",
          "text": [
            "Welcome to colab\n"
          ],
          "name": "stdout"
        }
      ]
    },
    {
      "cell_type": "markdown",
      "metadata": {
        "id": "A4THqISllEvQ"
      },
      "source": [
        "**아래 코드는 1부터 10까지를 세는 코드입니다**"
      ]
    },
    {
      "cell_type": "code",
      "metadata": {
        "colab": {
          "base_uri": "https://localhost:8080/"
        },
        "id": "_LaUe4d-k5jR",
        "outputId": "24440f10-20a7-4ac3-b907-4c9ebe060187"
      },
      "source": [
        "for x in range(1, 11):\n",
        "  print(x)"
      ],
      "execution_count": null,
      "outputs": [
        {
          "output_type": "stream",
          "text": [
            "1\n",
            "2\n",
            "3\n",
            "4\n",
            "5\n",
            "6\n",
            "7\n",
            "8\n",
            "9\n",
            "10\n"
          ],
          "name": "stdout"
        }
      ]
    },
    {
      "cell_type": "markdown",
      "metadata": {
        "id": "5NUeXMYdu6Ce"
      },
      "source": [
        "- pandas 라이브러리를 이용하여 웹사이트에서 표를 가져올 수 도 있음"
      ]
    },
    {
      "cell_type": "code",
      "metadata": {
        "colab": {
          "base_uri": "https://localhost:8080/"
        },
        "id": "JwsfUhMsf8dH",
        "outputId": "53ec02a8-0d92-4057-ae9e-de12d210f246"
      },
      "source": [
        "import pandas as pd\n",
        "table = pd. read_html('http://mizykk.tistory.com/39', header=0, encoding='utf-8')\n",
        "table"
      ],
      "execution_count": null,
      "outputs": [
        {
          "output_type": "execute_result",
          "data": {
            "text/plain": [
              "[    과일  색상     가격\n",
              " 0   사과  빨강  1500원\n",
              " 1   사과  초록  1000원\n",
              " 2  바나나  노랑  3000원\n",
              " 3  바나나  초록  2000원,      국가   도시     언어\n",
              " 0    한국   서울    한국어\n",
              " 1    미국   뉴욕     영어\n",
              " 2  이탈리아  피렌체  이탈리아어\n",
              " 3   프랑스   파리     불어,   한국어        영어\n",
              " 0  1월   January\n",
              " 1  2월  Feburary\n",
              " 2  3월     March,               [Python] 리스트 정렬하기 :: sort / sorted (0)  2021.02.10\n",
              " 0    [Python] 영문 > 한글 키보드 입력 변환하기 :: 자모결합 / 자소결합 (0)  2021.01.29\n",
              " 1  [Python] for문(반복문) 진행상황 표시 :: tqdm / tqdm_note...  2021.01.28\n",
              " 2  [Python] has no attribute 'compat' (most likel...  2020.10.05\n",
              " 3                               pd.read_table 예제 (0)  2020.03.31\n",
              " 4               [Python] 위경도 거리 구하기 :: haversine (1)  2020.01.28]"
            ]
          },
          "metadata": {},
          "execution_count": 2
        }
      ]
    },
    {
      "cell_type": "markdown",
      "metadata": {
        "id": "rHEgUVbjsbX2"
      },
      "source": [
        "### Colab에서 그림을 업로드하여 보여줄 수 있음\n",
        " - 왼쪽 파일의 업로드에 사진을 업로드한 후 아래 명령어를 작성하여 불러움"
      ]
    },
    {
      "cell_type": "code",
      "metadata": {
        "id": "zD59qadYh0tV"
      },
      "source": [
        "from IPython.display import Image\n",
        "Image('/content/IU.jpg')"
      ],
      "execution_count": null,
      "outputs": []
    },
    {
      "cell_type": "markdown",
      "metadata": {
        "id": "ksI4RZZqyNd-"
      },
      "source": [
        "### 그림 파일이 /content 폴더에 업로드 되었는지 확인"
      ]
    },
    {
      "cell_type": "code",
      "metadata": {
        "id": "rbFvoiLqybBn"
      },
      "source": [
        "!ls -al"
      ],
      "execution_count": null,
      "outputs": []
    },
    {
      "cell_type": "markdown",
      "metadata": {
        "id": "SLhHAiknp4I9"
      },
      "source": [
        "### Colab의 files, upload() 메서드를 통해서 Local PC에 있는 일반 파일을 업로드 할 수 있음"
      ]
    },
    {
      "cell_type": "code",
      "metadata": {
        "id": "ZJSwys78p4k1"
      },
      "source": [
        "from google.colab import files\n",
        "\n",
        "uploaded = files.upload()\n",
        "\n",
        "for fn in uploaded.keys():\n",
        "  print('User uploaded file \"{name}\" with length {length} bytes', format(\n",
        "      name=fn, length=len(uploaded[fn])))\n",
        "  \n",
        "  "
      ],
      "execution_count": null,
      "outputs": []
    },
    {
      "cell_type": "markdown",
      "metadata": {
        "id": "VvqsJ4FYr1j-"
      },
      "source": [
        "#### Colab에 파일이 올라왔는지 확인"
      ]
    },
    {
      "cell_type": "code",
      "metadata": {
        "id": "p05Nm5l6rvpl"
      },
      "source": [
        "!ls -al"
      ],
      "execution_count": null,
      "outputs": []
    },
    {
      "cell_type": "markdown",
      "metadata": {
        "id": "Vbm4zGyks5Dj"
      },
      "source": [
        "### 로컬 PC로 파일 다운로드\n",
        " - 코랩의 files.download() 메서드를 통해서 파일을 다운로드 할 수 있음\n",
        " - pandas 라이브러리를 이용해서 표를 만들어서 저장하는 방법"
      ]
    },
    {
      "cell_type": "code",
      "metadata": {
        "colab": {
          "base_uri": "https://localhost:8080/",
          "height": 111
        },
        "id": "_Codh-jRtGAM",
        "outputId": "fe9aeb63-24e0-4720-ba4f-d0f068f2ea27"
      },
      "source": [
        "from google.colab import files\n",
        "import pandas as pd\n",
        "\n",
        "df = pd.DataFrame([[1, 2, 3], [10, 20, 3]])\n",
        "\n",
        "df"
      ],
      "execution_count": null,
      "outputs": [
        {
          "output_type": "execute_result",
          "data": {
            "text/html": [
              "<div>\n",
              "<style scoped>\n",
              "    .dataframe tbody tr th:only-of-type {\n",
              "        vertical-align: middle;\n",
              "    }\n",
              "\n",
              "    .dataframe tbody tr th {\n",
              "        vertical-align: top;\n",
              "    }\n",
              "\n",
              "    .dataframe thead th {\n",
              "        text-align: right;\n",
              "    }\n",
              "</style>\n",
              "<table border=\"1\" class=\"dataframe\">\n",
              "  <thead>\n",
              "    <tr style=\"text-align: right;\">\n",
              "      <th></th>\n",
              "      <th>0</th>\n",
              "      <th>1</th>\n",
              "      <th>2</th>\n",
              "    </tr>\n",
              "  </thead>\n",
              "  <tbody>\n",
              "    <tr>\n",
              "      <th>0</th>\n",
              "      <td>1</td>\n",
              "      <td>2</td>\n",
              "      <td>3</td>\n",
              "    </tr>\n",
              "    <tr>\n",
              "      <th>1</th>\n",
              "      <td>10</td>\n",
              "      <td>20</td>\n",
              "      <td>3</td>\n",
              "    </tr>\n",
              "  </tbody>\n",
              "</table>\n",
              "</div>"
            ],
            "text/plain": [
              "    0   1  2\n",
              "0   1   2  3\n",
              "1  10  20  3"
            ]
          },
          "metadata": {},
          "execution_count": 8
        }
      ]
    },
    {
      "cell_type": "markdown",
      "metadata": {
        "id": "TYWgqUePuY6W"
      },
      "source": [
        "### DataFrame로 만든 파일을 csv로 저장함"
      ]
    },
    {
      "cell_type": "code",
      "metadata": {
        "id": "P3f7ifY8tqjs"
      },
      "source": [
        "df.to_csv('test.csv')"
      ],
      "execution_count": null,
      "outputs": []
    },
    {
      "cell_type": "markdown",
      "metadata": {
        "id": "0ri1JrTeuGXT"
      },
      "source": [
        "### 코랩에 파일이 저장되었는지 디렉토리 확인"
      ]
    },
    {
      "cell_type": "code",
      "metadata": {
        "colab": {
          "base_uri": "https://localhost:8080/"
        },
        "id": "_4gDrIbUtyPj",
        "outputId": "1f00b0ca-fb1f-4079-a700-5e268b0a3c1d"
      },
      "source": [
        "!ls -al\n"
      ],
      "execution_count": null,
      "outputs": [
        {
          "output_type": "stream",
          "text": [
            "total 200\n",
            "drwxr-xr-x 1 root root  4096 Aug 24 05:51  .\n",
            "drwxr-xr-x 1 root root  4096 Aug 24 05:35  ..\n",
            "drwxr-xr-x 4 root root  4096 Aug 13 13:34  .config\n",
            "-rw-r--r-- 1 root root 59302 Aug 24 05:41 'IU (1).jpg'\n",
            "-rw-r--r-- 1 root root 59302 Aug 24 05:42 'IU (2).jpg'\n",
            "-rw-r--r-- 1 root root 59302 Aug 24 05:39  IU.jpg\n",
            "drwxr-xr-x 1 root root  4096 Aug 13 13:35  sample_data\n",
            "-rw-r--r-- 1 root root    25 Aug 24 05:51  test.csv\n"
          ],
          "name": "stdout"
        }
      ]
    },
    {
      "cell_type": "markdown",
      "metadata": {
        "id": "VzgtdvKpt-3q"
      },
      "source": [
        "### 코랩에 저장된 csv 파일을 로컬 PC로 다운로드"
      ]
    },
    {
      "cell_type": "code",
      "metadata": {
        "colab": {
          "base_uri": "https://localhost:8080/",
          "height": 17
        },
        "id": "rii_41Ott2vz",
        "outputId": "cfa37509-ca11-4ad8-e6ae-65dbc2e53945"
      },
      "source": [
        "files.download('test.csv')"
      ],
      "execution_count": null,
      "outputs": [
        {
          "output_type": "display_data",
          "data": {
            "application/javascript": [
              "\n",
              "    async function download(id, filename, size) {\n",
              "      if (!google.colab.kernel.accessAllowed) {\n",
              "        return;\n",
              "      }\n",
              "      const div = document.createElement('div');\n",
              "      const label = document.createElement('label');\n",
              "      label.textContent = `Downloading \"${filename}\": `;\n",
              "      div.appendChild(label);\n",
              "      const progress = document.createElement('progress');\n",
              "      progress.max = size;\n",
              "      div.appendChild(progress);\n",
              "      document.body.appendChild(div);\n",
              "\n",
              "      const buffers = [];\n",
              "      let downloaded = 0;\n",
              "\n",
              "      const channel = await google.colab.kernel.comms.open(id);\n",
              "      // Send a message to notify the kernel that we're ready.\n",
              "      channel.send({})\n",
              "\n",
              "      for await (const message of channel.messages) {\n",
              "        // Send a message to notify the kernel that we're ready.\n",
              "        channel.send({})\n",
              "        if (message.buffers) {\n",
              "          for (const buffer of message.buffers) {\n",
              "            buffers.push(buffer);\n",
              "            downloaded += buffer.byteLength;\n",
              "            progress.value = downloaded;\n",
              "          }\n",
              "        }\n",
              "      }\n",
              "      const blob = new Blob(buffers, {type: 'application/binary'});\n",
              "      const a = document.createElement('a');\n",
              "      a.href = window.URL.createObjectURL(blob);\n",
              "      a.download = filename;\n",
              "      div.appendChild(a);\n",
              "      a.click();\n",
              "      div.remove();\n",
              "    }\n",
              "  "
            ],
            "text/plain": [
              "<IPython.core.display.Javascript object>"
            ]
          },
          "metadata": {}
        },
        {
          "output_type": "display_data",
          "data": {
            "application/javascript": [
              "download(\"download_da72c2d0-a6bc-45ec-b3de-76d9e08506a3\", \"test.csv\", 25)"
            ],
            "text/plain": [
              "<IPython.core.display.Javascript object>"
            ]
          },
          "metadata": {}
        }
      ]
    }
  ]
}