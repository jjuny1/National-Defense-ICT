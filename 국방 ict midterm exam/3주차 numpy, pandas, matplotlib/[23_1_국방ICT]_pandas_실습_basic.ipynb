{
  "nbformat": 4,
  "nbformat_minor": 0,
  "metadata": {
    "celltoolbar": "Edit Metadata",
    "kernelspec": {
      "display_name": "Python 3",
      "language": "python",
      "name": "python3"
    },
    "language_info": {
      "codemirror_mode": {
        "name": "ipython",
        "version": 3
      },
      "file_extension": ".py",
      "mimetype": "text/x-python",
      "name": "python",
      "nbconvert_exporter": "python",
      "pygments_lexer": "ipython3",
      "version": "3.7.6"
    },
    "latex_envs": {
      "LaTeX_envs_menu_present": true,
      "autoclose": false,
      "autocomplete": true,
      "bibliofile": "biblio.bib",
      "cite_by": "apalike",
      "current_citInitial": 1,
      "eqLabelWithNumbers": true,
      "eqNumInitial": 1,
      "hotkeys": {
        "equation": "Ctrl-E",
        "itemize": "Ctrl-I"
      },
      "labels_anchors": false,
      "latex_user_defs": false,
      "report_style_numbering": false,
      "user_envs_cfg": false
    },
    "toc": {
      "base_numbering": 1,
      "nav_menu": {},
      "number_sections": false,
      "sideBar": true,
      "skip_h1_title": false,
      "title_cell": "Table of Contents",
      "title_sidebar": "Contents",
      "toc_cell": false,
      "toc_position": {},
      "toc_section_display": true,
      "toc_window_display": false
    },
    "colab": {
      "provenance": [],
      "toc_visible": true
    }
  },
  "cells": [
    {
      "cell_type": "markdown",
      "metadata": {
        "school_cell_uuid": "dc6b83ffa8d24ceab4fc4ffa0d5ad13c",
        "id": "Zpe0Ag1BSo9r"
      },
      "source": [
        "# 1 판다스 패키지의 소개"
      ]
    },
    {
      "cell_type": "markdown",
      "metadata": {
        "school_cell_uuid": "e4f141832df248648077306c4715b7e1",
        "id": "WUUxKiDVSo9v"
      },
      "source": [
        "* 대부분의 데이터는 시계열(series)이나 표(table)의 형태로 나타낼 수 있다. \n",
        "* 판다스(Pandas) 패키지는 이러한 데이터를 다루기 위한 시리즈(``Series``) 클래스와 데이터프레임(``DataFrame``) 클래스를 제공한다."
      ]
    },
    {
      "cell_type": "markdown",
      "metadata": {
        "id": "ppoWbI5QSo9y"
      },
      "source": [
        "## 판다스 패키지 임포트"
      ]
    },
    {
      "cell_type": "markdown",
      "metadata": {
        "id": "gQ4KB0fASo91"
      },
      "source": [
        "* 판다스 패키지를 사용하기 위해 우선 임포트를 해야 한다. \n",
        "* 판다스 패키지는 `pd`라는 별칭으로 임포트하는 것이 관례이다. \n"
      ]
    },
    {
      "cell_type": "code",
      "metadata": {
        "id": "czhFrtprSo94"
      },
      "source": [
        "import pandas as pd"
      ],
      "execution_count": 5,
      "outputs": []
    },
    {
      "cell_type": "markdown",
      "metadata": {
        "school_cell_uuid": "a6ed8b46916e4ef1b2bf35d32f40067a",
        "id": "NC8xgSIYSo96"
      },
      "source": [
        "## 시리즈 클래스"
      ]
    },
    {
      "cell_type": "markdown",
      "metadata": {
        "id": "huQJ9h3jSo97"
      },
      "source": [
        "```{margin}\n",
        "`Series`\n",
        "```"
      ]
    },
    {
      "cell_type": "markdown",
      "metadata": {
        "id": "bkW4SKuJSo99"
      },
      "source": [
        "```{margin}\n",
        "인덱스(index)\n",
        "```"
      ]
    },
    {
      "cell_type": "markdown",
      "metadata": {
        "id": "kNgzjjk6So9_"
      },
      "source": [
        "```{margin}\n",
        "값(value)\n",
        "```"
      ]
    },
    {
      "cell_type": "markdown",
      "metadata": {
        "school_cell_uuid": "3a712e9e0a034dbc8baa3d407d9d4387",
        "id": "VAwybZLsSo-D"
      },
      "source": [
        "* 시리즈 ``Series`` 클래스는 넘파이에서 제공하는 1차원 배열과 비슷하지만 각 데이터의 의미를 표시하는 인덱스(index)를 붙일 수 있다. \n",
        "* 데이터 자체는 값(value)라고 한다.\n",
        "\n",
        "> 시리즈 = 값(value) + 인덱스(index)"
      ]
    },
    {
      "cell_type": "markdown",
      "metadata": {
        "school_cell_uuid": "5abd1aa1c4d24870a06f9815af803680",
        "id": "duvudjJZSo-E"
      },
      "source": [
        "### 시리즈 생성"
      ]
    },
    {
      "cell_type": "markdown",
      "metadata": {
        "id": "1l1S5T0TSo-E"
      },
      "source": [
        "```{margin}\n",
        "인덱스 라벨(index label)\n",
        "```"
      ]
    },
    {
      "cell_type": "markdown",
      "metadata": {
        "school_cell_uuid": "6de67d6baff546469bb6d37faff21ee6",
        "id": "aJvMh6INSo-G"
      },
      "source": [
        "* 데이터를 리스트나 1차원 배열 형식으로 ``Series`` 클래스 생성자에 넣어주면 시리즈 클래스 객체를 만들 수 있다. \n",
        "* 이 때 인덱스의 길이는 데이터의 길이와 같아야 한다. \n",
        "* 다음 예에서 이 \"서울\", \"부산\" 등의 문자열이 인덱스의 값이다. \n",
        "* 인덱스의 값을 인덱스 라벨(label)이라고도 한다. \n",
        "* 인덱스 라벨은 문자열 뿐 아니라 날짜, 시간, 정수 등도 가능하다.\n",
        "\n",
        "다음 예제는 각 도시의 2015년 인구 데이터를 시리즈로 만든 것이다."
      ]
    },
    {
      "cell_type": "code",
      "metadata": {
        "school_cell_uuid": "9fa08e75d4e14cb098b1d380642cb058",
        "id": "RcRTGjLRSo-H",
        "outputId": "f25d7c74-f5e3-4a61-b2eb-4b4675cd88a1",
        "colab": {
          "base_uri": "https://localhost:8080/"
        }
      },
      "source": [
        "s = pd.Series([9904312, 3448737, 2890451, 2466052],\n",
        "              index=[\"서울\", \"부산\", \"인천\", \"대구\"])\n",
        "s"
      ],
      "execution_count": 6,
      "outputs": [
        {
          "output_type": "execute_result",
          "data": {
            "text/plain": [
              "서울    9904312\n",
              "부산    3448737\n",
              "인천    2890451\n",
              "대구    2466052\n",
              "dtype: int64"
            ]
          },
          "metadata": {},
          "execution_count": 6
        }
      ]
    },
    {
      "cell_type": "markdown",
      "metadata": {
        "school_cell_uuid": "3008b812f3204c9eb6a01f4668108607",
        "id": "BCgaVmsvSo-J"
      },
      "source": [
        "만약 인덱스를 지정하지 않고 시리즈를 만들면 시리즈의 인덱스는 0부터 시작하는 정수값이 된다."
      ]
    },
    {
      "cell_type": "code",
      "metadata": {
        "school_cell_uuid": "0c9f9f59dabb49b5a18eb5bd386ddf1b",
        "id": "WAyhuXd2So-K",
        "outputId": "878d0f1e-cc8d-4aa5-b763-d7b22e51faee",
        "colab": {
          "base_uri": "https://localhost:8080/"
        }
      },
      "source": [
        "pd.Series(range(10, 14))"
      ],
      "execution_count": 7,
      "outputs": [
        {
          "output_type": "execute_result",
          "data": {
            "text/plain": [
              "0    10\n",
              "1    11\n",
              "2    12\n",
              "3    13\n",
              "dtype: int64"
            ]
          },
          "metadata": {},
          "execution_count": 7
        }
      ]
    },
    {
      "cell_type": "markdown",
      "metadata": {
        "id": "NZ9b8SyISo-L"
      },
      "source": [
        "```{margin}\n",
        "`Series.index` 속성\n",
        "```"
      ]
    },
    {
      "cell_type": "code",
      "source": [],
      "metadata": {
        "id": "sjUedqzBZdxH"
      },
      "execution_count": null,
      "outputs": []
    },
    {
      "cell_type": "markdown",
      "metadata": {
        "id": "VwnF70ZDSo-L"
      },
      "source": [
        "```{margin}\n",
        "`Series.values` 속성\n",
        "```"
      ]
    },
    {
      "cell_type": "code",
      "source": [],
      "metadata": {
        "id": "0C7I6OClZeyq"
      },
      "execution_count": null,
      "outputs": []
    },
    {
      "cell_type": "markdown",
      "metadata": {
        "school_cell_uuid": "d6b2f6b5c86e4f9a845615312d18996a",
        "id": "usW_XzW3So-M"
      },
      "source": [
        "시리즈의 인덱스는 ``index`` 속성으로 접근할 수 있다. 시리즈의 값은 1차원 배열이며 ``values`` 속성으로 접근할 수 있다."
      ]
    },
    {
      "cell_type": "code",
      "metadata": {
        "school_cell_uuid": "1403d31d9a7240b88e953ecac8fd2d7d",
        "id": "6C4gX-EqSo-M",
        "outputId": "84fb9179-fffd-41f8-bf26-beaebaff4b1a",
        "colab": {
          "base_uri": "https://localhost:8080/"
        }
      },
      "source": [
        "s.index"
      ],
      "execution_count": 8,
      "outputs": [
        {
          "output_type": "execute_result",
          "data": {
            "text/plain": [
              "Index(['서울', '부산', '인천', '대구'], dtype='object')"
            ]
          },
          "metadata": {},
          "execution_count": 8
        }
      ]
    },
    {
      "cell_type": "code",
      "metadata": {
        "school_cell_uuid": "4a2a95c6b7c941f3ac29e083c583f1d5",
        "id": "AK3XCUsvSo-N",
        "outputId": "7890bdad-762a-4d6a-d908-30ca0d210194",
        "colab": {
          "base_uri": "https://localhost:8080/"
        }
      },
      "source": [
        "s.values"
      ],
      "execution_count": 9,
      "outputs": [
        {
          "output_type": "execute_result",
          "data": {
            "text/plain": [
              "array([9904312, 3448737, 2890451, 2466052])"
            ]
          },
          "metadata": {},
          "execution_count": 9
        }
      ]
    },
    {
      "cell_type": "markdown",
      "metadata": {
        "id": "ddP8qo6pSo-O"
      },
      "source": [
        "```{margin}\n",
        "`Series.name` 속성\n",
        "```"
      ]
    },
    {
      "cell_type": "markdown",
      "metadata": {
        "id": "o6wq8h33So-P"
      },
      "source": [
        "```{margin}\n",
        "`Series.index.name` 속성\n",
        "```"
      ]
    },
    {
      "cell_type": "markdown",
      "metadata": {
        "school_cell_uuid": "f820fac1fbb34477b7ef9e8523318fa6",
        "id": "i8Rn6fyWSo-P"
      },
      "source": [
        "`name` 속성을 이용하여  시리즈 데이터에 이름을 붙일 수 있다. `index.name` 속성으로 시리즈의 인덱스에도 이름을 붙일 수 있다. "
      ]
    },
    {
      "cell_type": "code",
      "metadata": {
        "school_cell_uuid": "c57a4327b374492db5d8638f1cca2d7d",
        "id": "4b2YjjnqSo-Q",
        "outputId": "5f30006b-1585-4130-a0df-7cdfa6b5af84",
        "colab": {
          "base_uri": "https://localhost:8080/"
        }
      },
      "source": [
        "s.name = \"인구\"\n",
        "s.index.name = \"도시\"\n",
        "s"
      ],
      "execution_count": 10,
      "outputs": [
        {
          "output_type": "execute_result",
          "data": {
            "text/plain": [
              "도시\n",
              "서울    9904312\n",
              "부산    3448737\n",
              "인천    2890451\n",
              "대구    2466052\n",
              "Name: 인구, dtype: int64"
            ]
          },
          "metadata": {},
          "execution_count": 10
        }
      ]
    },
    {
      "cell_type": "markdown",
      "metadata": {
        "school_cell_uuid": "9bbe04e711054f68ae0b4acc73f60069",
        "id": "0KDn2qBOSo-R"
      },
      "source": [
        "### 시리즈 연산"
      ]
    },
    {
      "cell_type": "markdown",
      "metadata": {
        "school_cell_uuid": "fc0d49204c084ea3a7b16dc8d7fed7de",
        "id": "6J4PF_c4So-R"
      },
      "source": [
        "* 넘파이 배열처럼 시리즈도 벡터화 연산을 할 수 있다. \n",
        "* 다만 연산은 시리즈의 값에만 적용되며 인덱스 값은 변하지 않는다. \n",
        "* 예를 들어 인구 숫자를 백만 단위로 만들기 위해 시리즈 객체를 1,000,000 으로 나누어도 인덱스 라벨에는 영향을 미치지 않는 것을 볼 수 있다."
      ]
    },
    {
      "cell_type": "code",
      "metadata": {
        "school_cell_uuid": "01523227d18d444c82e92889ee66ba9b",
        "id": "bLcobqhDSo-S",
        "outputId": "5c35409d-e459-4787-870d-cdc1bdd2680e",
        "colab": {
          "base_uri": "https://localhost:8080/"
        }
      },
      "source": [
        "s / 1000000"
      ],
      "execution_count": 11,
      "outputs": [
        {
          "output_type": "execute_result",
          "data": {
            "text/plain": [
              "도시\n",
              "서울    9.904312\n",
              "부산    3.448737\n",
              "인천    2.890451\n",
              "대구    2.466052\n",
              "Name: 인구, dtype: float64"
            ]
          },
          "metadata": {},
          "execution_count": 11
        }
      ]
    },
    {
      "cell_type": "markdown",
      "metadata": {
        "school_cell_uuid": "0a460761c538494392521958340f3db2",
        "id": "DAt3xNUoSo-T"
      },
      "source": [
        "### 시리즈 인덱싱"
      ]
    },
    {
      "cell_type": "markdown",
      "metadata": {
        "school_cell_uuid": "5d691e1912ab4b31bd374e393a3a76b4",
        "id": "KBoYUh7tSo-T"
      },
      "source": [
        "* 시리즈는 넘파이 배열에서 가능한 인덱스 방법 이외에도 인덱스 라벨을 이용한 인덱싱도 할 수 있다. \n",
        "* 배열 인덱싱이나 인덱스 라벨을 이용한 슬라이싱(slicing)도 가능하다. "
      ]
    },
    {
      "cell_type": "markdown",
      "metadata": {
        "id": "gEKu1QCWSo-T"
      },
      "source": [
        "시리즈 데이터를 인덱싱하면 값이 나온다."
      ]
    },
    {
      "cell_type": "code",
      "metadata": {
        "school_cell_uuid": "b8ea4f47a1a74f9a9dcdd5766bafbe4a",
        "id": "vXmMhw7cSo-U",
        "outputId": "254c254b-4ae5-4a1e-d826-5990bc1d4afc",
        "colab": {
          "base_uri": "https://localhost:8080/"
        }
      },
      "source": [
        "s[1], s[\"부산\"]"
      ],
      "execution_count": 12,
      "outputs": [
        {
          "output_type": "execute_result",
          "data": {
            "text/plain": [
              "(3448737, 3448737)"
            ]
          },
          "metadata": {},
          "execution_count": 12
        }
      ]
    },
    {
      "cell_type": "code",
      "metadata": {
        "school_cell_uuid": "738b84d048d24932a67a44b824730ed4",
        "id": "d4Xj8c8FSo-V",
        "outputId": "ecd39cb5-aa8f-43a6-e263-05682589d60d",
        "colab": {
          "base_uri": "https://localhost:8080/"
        }
      },
      "source": [
        "s[3], s[\"대구\"]"
      ],
      "execution_count": 13,
      "outputs": [
        {
          "output_type": "execute_result",
          "data": {
            "text/plain": [
              "(2466052, 2466052)"
            ]
          },
          "metadata": {},
          "execution_count": 13
        }
      ]
    },
    {
      "cell_type": "markdown",
      "metadata": {
        "school_cell_uuid": "ea3b2ccf4429416387049789e64199b0",
        "id": "xNeTllASSo-V"
      },
      "source": [
        "배열 인덱싱을 하면 부분적인 값을 가지는 시리즈 자료형을 반환한다. 자료의 순서를 바꾸거나 특정한 자료만 선택할 수 있다."
      ]
    },
    {
      "cell_type": "code",
      "metadata": {
        "school_cell_uuid": "1a1244671264480aaa2441ccbd8393f8",
        "id": "NKy382eJSo-W",
        "outputId": "91eaac74-a4d3-4606-b44c-5f398ae2bd58",
        "colab": {
          "base_uri": "https://localhost:8080/"
        }
      },
      "source": [
        "s[[0, 3, 1]]"
      ],
      "execution_count": 14,
      "outputs": [
        {
          "output_type": "execute_result",
          "data": {
            "text/plain": [
              "도시\n",
              "서울    9904312\n",
              "대구    2466052\n",
              "부산    3448737\n",
              "Name: 인구, dtype: int64"
            ]
          },
          "metadata": {},
          "execution_count": 14
        }
      ]
    },
    {
      "cell_type": "code",
      "metadata": {
        "school_cell_uuid": "2e443412204a4a908a484f8ccc556dc8",
        "id": "zQqLHf6GSo-X",
        "outputId": "407d24d0-b698-4b3d-d37d-1bf79af423b1",
        "colab": {
          "base_uri": "https://localhost:8080/"
        }
      },
      "source": [
        "s[[\"서울\", \"대구\", \"부산\"]]"
      ],
      "execution_count": 15,
      "outputs": [
        {
          "output_type": "execute_result",
          "data": {
            "text/plain": [
              "도시\n",
              "서울    9904312\n",
              "대구    2466052\n",
              "부산    3448737\n",
              "Name: 인구, dtype: int64"
            ]
          },
          "metadata": {},
          "execution_count": 15
        }
      ]
    },
    {
      "cell_type": "code",
      "metadata": {
        "school_cell_uuid": "791016a6790f4c65b29b4bc189db6f2f",
        "id": "dD68r-GmSo-Y",
        "outputId": "3018509c-23d5-486a-e2f4-4dfdf874be24",
        "colab": {
          "base_uri": "https://localhost:8080/"
        }
      },
      "source": [
        "s[(250e4 < s) & (s < 500e4)]  # 인구가 250만 초과, 500만 미만인 경우"
      ],
      "execution_count": 16,
      "outputs": [
        {
          "output_type": "execute_result",
          "data": {
            "text/plain": [
              "도시\n",
              "부산    3448737\n",
              "인천    2890451\n",
              "Name: 인구, dtype: int64"
            ]
          },
          "metadata": {},
          "execution_count": 16
        }
      ]
    },
    {
      "cell_type": "markdown",
      "metadata": {
        "school_cell_uuid": "a8b0a57bccbb4c7fae9c1c9af24cd8c0",
        "id": "StpCZxC1So-Z"
      },
      "source": [
        "* 슬라이싱을 해도 부분적인 시리즈를 반환한다. \n",
        "* 이 때 문자열 라벨을 이용한 슬라이싱을 하는 경우에는 숫자 인덱싱과 달리 콜론(:) 기호 뒤에 오는 값도 결과에 포함되므로 주의해야 한다."
      ]
    },
    {
      "cell_type": "code",
      "metadata": {
        "school_cell_uuid": "9b72912399f64946868ca7db285e7815",
        "id": "CsCSDoleSo-Z",
        "outputId": "2cd1cef4-16fd-4602-8bd9-29420ba8bf60",
        "colab": {
          "base_uri": "https://localhost:8080/"
        }
      },
      "source": [
        "s[1:3]  # 두번째(1)부터 세번째(2)까지 (네번째(3) 미포함)"
      ],
      "execution_count": null,
      "outputs": [
        {
          "output_type": "execute_result",
          "data": {
            "text/plain": [
              "도시\n",
              "부산    3448737\n",
              "인천    2890451\n",
              "Name: 인구, dtype: int64"
            ]
          },
          "metadata": {},
          "execution_count": 14
        }
      ]
    },
    {
      "cell_type": "code",
      "metadata": {
        "school_cell_uuid": "976705921b664f2aa13384fad2011b34",
        "id": "SDbkWCjqSo-a",
        "outputId": "287011e3-4db3-4271-a8a4-9302b244a3c5",
        "colab": {
          "base_uri": "https://localhost:8080/"
        }
      },
      "source": [
        "s[\"부산\":\"대구\"]  # 부산에서 대구까지 (대구도 포함)"
      ],
      "execution_count": 17,
      "outputs": [
        {
          "output_type": "execute_result",
          "data": {
            "text/plain": [
              "도시\n",
              "부산    3448737\n",
              "인천    2890451\n",
              "대구    2466052\n",
              "Name: 인구, dtype: int64"
            ]
          },
          "metadata": {},
          "execution_count": 17
        }
      ]
    },
    {
      "cell_type": "markdown",
      "metadata": {
        "school_cell_uuid": "5d9774e7ae9e451bb0506abee40ea9d4",
        "id": "BG-AIL2tSo-a"
      },
      "source": [
        "만약 라벨 값이 영문 문자열인 경우에는 인덱스 라벨이 속성인것처럼 점(.)을 이용하여 해당 인덱스 값에 접근할 수도 있다."
      ]
    },
    {
      "cell_type": "code",
      "metadata": {
        "school_cell_uuid": "b6cd36b562c9435781d5c850c2904c2f",
        "id": "fpqkOvmZSo-b",
        "outputId": "1aef2abe-a45a-42d0-c6b5-33e8e16df6c1",
        "colab": {
          "base_uri": "https://localhost:8080/"
        }
      },
      "source": [
        "s0 = pd.Series(range(3), index=[\"a\", \"b\", \"c\"])\n",
        "s0"
      ],
      "execution_count": 18,
      "outputs": [
        {
          "output_type": "execute_result",
          "data": {
            "text/plain": [
              "a    0\n",
              "b    1\n",
              "c    2\n",
              "dtype: int64"
            ]
          },
          "metadata": {},
          "execution_count": 18
        }
      ]
    },
    {
      "cell_type": "code",
      "metadata": {
        "school_cell_uuid": "70da807ffc714a0ca308351fa09f2a8d",
        "id": "3meH8jhmSo-b",
        "outputId": "8ca03de3-5013-48da-967a-0a0315c9c382",
        "colab": {
          "base_uri": "https://localhost:8080/"
        }
      },
      "source": [
        "s0.a"
      ],
      "execution_count": 19,
      "outputs": [
        {
          "output_type": "execute_result",
          "data": {
            "text/plain": [
              "0"
            ]
          },
          "metadata": {},
          "execution_count": 19
        }
      ]
    },
    {
      "cell_type": "code",
      "metadata": {
        "school_cell_uuid": "bceb889ef43d4ffd8505ef2da02cdada",
        "id": "g0DJ6ehxSo-c",
        "outputId": "2e66a32d-2110-40c3-9895-a3c2ed1b182d",
        "colab": {
          "base_uri": "https://localhost:8080/"
        }
      },
      "source": [
        "s0.b"
      ],
      "execution_count": 20,
      "outputs": [
        {
          "output_type": "execute_result",
          "data": {
            "text/plain": [
              "1"
            ]
          },
          "metadata": {},
          "execution_count": 20
        }
      ]
    },
    {
      "cell_type": "markdown",
      "metadata": {
        "school_cell_uuid": "bc306946bdc74b3094b17207a6582aac",
        "id": "MT31WUumSo-d"
      },
      "source": [
        "### 시리즈와 딕셔너리 자료형"
      ]
    },
    {
      "cell_type": "markdown",
      "metadata": {
        "school_cell_uuid": "564dcaad40c541daa8b6fe4f51045184",
        "id": "B8DcQKoNSo-d"
      },
      "source": [
        "* 시리즈 객체는 라벨 값에 의해 인덱싱이 가능하므로 실질적으로 인덱스 라벨 값을 키(key)로 가지는 딕셔너리 자료형과 같다고 볼 수 있다. \n",
        "* 따라서 딕셔너리 자료형에서 제공하는 ``in`` 연산도 가능하고 ``items`` 메서드를 사용하면 ``for`` 루프를 통해 각 원소의 키(key)와 값(value)을 접근할 수도 있다."
      ]
    },
    {
      "cell_type": "code",
      "metadata": {
        "school_cell_uuid": "c6348495d2c74d54b31ffd303b96f16a",
        "id": "JOh8ms0SSo-d",
        "outputId": "22cc59fc-39d9-444d-d071-03be7d8185ac",
        "colab": {
          "base_uri": "https://localhost:8080/"
        }
      },
      "source": [
        "\"서울\" in s  # 인덱스 라벨 중에 서울이 있는가"
      ],
      "execution_count": 21,
      "outputs": [
        {
          "output_type": "execute_result",
          "data": {
            "text/plain": [
              "True"
            ]
          },
          "metadata": {},
          "execution_count": 21
        }
      ]
    },
    {
      "cell_type": "code",
      "metadata": {
        "school_cell_uuid": "c9aafec8ff874ee1994aa4df0ea4eb90",
        "id": "SyDUpJQfSo-e",
        "outputId": "2345fa03-b1c4-4cc2-fd2f-3642ca0b7ceb",
        "colab": {
          "base_uri": "https://localhost:8080/"
        }
      },
      "source": [
        "\"대전\" in s  # 인덱스 라벨 중에 대전이 있는가"
      ],
      "execution_count": 22,
      "outputs": [
        {
          "output_type": "execute_result",
          "data": {
            "text/plain": [
              "False"
            ]
          },
          "metadata": {},
          "execution_count": 22
        }
      ]
    },
    {
      "cell_type": "code",
      "metadata": {
        "school_cell_uuid": "a739f2afa225410b98afdcc29fca8ebb",
        "id": "J2lHGEeJSo-f",
        "outputId": "58505fe5-2141-4fd0-f56c-a8a5fa12e7a8",
        "colab": {
          "base_uri": "https://localhost:8080/"
        }
      },
      "source": [
        "for k, v in s.items():\n",
        "    print(\"%s = %d\" % (k, v))"
      ],
      "execution_count": 23,
      "outputs": [
        {
          "output_type": "stream",
          "name": "stdout",
          "text": [
            "서울 = 9904312\n",
            "부산 = 3448737\n",
            "인천 = 2890451\n",
            "대구 = 2466052\n"
          ]
        }
      ]
    },
    {
      "cell_type": "markdown",
      "metadata": {
        "school_cell_uuid": "98c066a53d6c4cd1ba26e144e7187626",
        "id": "jRVmp-isSo-f"
      },
      "source": [
        "* 또 딕셔너리 객체에서 시리즈를 만들 수도 있다. \n",
        "* 이번에는 2010년의 인구 자료를 `s2`라는 이름의 시리즈로 만들어 보자. \n",
        "* 이 데이터에는 대구의 인구 자료는 없지만 대신 대전의 인구 자료가 포함되어 있다."
      ]
    },
    {
      "cell_type": "code",
      "metadata": {
        "school_cell_uuid": "691d7d5a387f43078681e61f3859d666",
        "id": "7JuLKGIzSo-f",
        "outputId": "7f4ef9cd-276c-4f48-f630-6775007e72cf",
        "colab": {
          "base_uri": "https://localhost:8080/"
        }
      },
      "source": [
        "s2 = pd.Series({\"서울\": 9631482, \"부산\": 3393191, \"인천\": 2632035, \"대전\": 1490158})\n",
        "s2"
      ],
      "execution_count": 24,
      "outputs": [
        {
          "output_type": "execute_result",
          "data": {
            "text/plain": [
              "서울    9631482\n",
              "부산    3393191\n",
              "인천    2632035\n",
              "대전    1490158\n",
              "dtype: int64"
            ]
          },
          "metadata": {},
          "execution_count": 24
        }
      ]
    },
    {
      "cell_type": "markdown",
      "metadata": {
        "school_cell_uuid": "1ceffd252c634b81a246c2e316a4294e",
        "id": "IOWzs96gSo-g"
      },
      "source": [
        "* 딕셔너리의 원소는 순서를 가지지 않으므로 시리즈의 데이터도 순서가 보장되지 않는다. \n",
        "* 만약 순서를 정하고 싶다면 인덱스를 리스트로 지정해야 한다."
      ]
    },
    {
      "cell_type": "code",
      "metadata": {
        "school_cell_uuid": "f89abbbf147b44f9a59e8d5a40ae172c",
        "id": "Rh3EDdJmSo-g",
        "outputId": "5bfb9896-a9ff-437d-a7ce-be2e10b6e649",
        "colab": {
          "base_uri": "https://localhost:8080/"
        }
      },
      "source": [
        "s2 = pd.Series({\"서울\": 9631482, \"부산\": 3393191, \"인천\": 2632035, \"대전\": 1490158},\n",
        "               index=[\"부산\", \"서울\", \"인천\", \"대전\"])\n",
        "s2"
      ],
      "execution_count": 25,
      "outputs": [
        {
          "output_type": "execute_result",
          "data": {
            "text/plain": [
              "부산    3393191\n",
              "서울    9631482\n",
              "인천    2632035\n",
              "대전    1490158\n",
              "dtype: int64"
            ]
          },
          "metadata": {},
          "execution_count": 25
        }
      ]
    },
    {
      "cell_type": "markdown",
      "metadata": {
        "school_cell_uuid": "dc8ea13ac9d64e36b8b0e1b8e81d1a66",
        "id": "SimKkx54So-h"
      },
      "source": [
        "### 인덱스 기반 연산"
      ]
    },
    {
      "cell_type": "markdown",
      "metadata": {
        "school_cell_uuid": "27256ea15a404ed586d35fbe1c83c31a",
        "id": "w8I97GhlSo-h"
      },
      "source": [
        "* 이번에는 2015년도와 2010년의 인구 증가를 계산해 보자. \n",
        "* 두 개의 시리즈의 차이를 구하면 된다. \n",
        "* 두 시리즈에 대해 연산을 하는 경우 인덱스가 같은 데이터에 대해서만 차이를 구한다."
      ]
    },
    {
      "cell_type": "code",
      "metadata": {
        "school_cell_uuid": "53f81342b44f4bb28b3ea0f8a4d1778d",
        "id": "2LBHJrGcSo-i",
        "outputId": "68358793-485a-4a8a-fcfc-d70444eb60ad",
        "colab": {
          "base_uri": "https://localhost:8080/"
        }
      },
      "source": [
        "ds = s - s2\n",
        "ds"
      ],
      "execution_count": 26,
      "outputs": [
        {
          "output_type": "execute_result",
          "data": {
            "text/plain": [
              "대구         NaN\n",
              "대전         NaN\n",
              "부산     55546.0\n",
              "서울    272830.0\n",
              "인천    258416.0\n",
              "dtype: float64"
            ]
          },
          "metadata": {},
          "execution_count": 26
        }
      ]
    },
    {
      "cell_type": "code",
      "metadata": {
        "school_cell_uuid": "953fbb01da8743ebaabe897eec3eef19",
        "id": "2vqRJXooSo-j",
        "outputId": "1465e041-542c-4c5c-d0e6-e7c059ff6896",
        "colab": {
          "base_uri": "https://localhost:8080/"
        }
      },
      "source": [
        "s.values - s2.values"
      ],
      "execution_count": 27,
      "outputs": [
        {
          "output_type": "execute_result",
          "data": {
            "text/plain": [
              "array([ 6511121, -6182745,   258416,   975894])"
            ]
          },
          "metadata": {},
          "execution_count": 27
        }
      ]
    },
    {
      "cell_type": "markdown",
      "metadata": {
        "id": "DcKZUGJaSo-j"
      },
      "source": [
        "```{margin}\n",
        "`Series.notnull`\n",
        "```"
      ]
    },
    {
      "cell_type": "markdown",
      "metadata": {
        "school_cell_uuid": "0699a244243e4d6394e82b0a9a1aa745",
        "id": "2n_ee55qSo-k"
      },
      "source": [
        "* 대구와 대전의 경우에는 2010년 자료와 2015년 자료가 모두 존재하지 않기 때문에 계산이 불가능하므로 ``NaN``(Not a Number)이라는 값을 가지게 된다. \n",
        "* 또한 ``NaN`` 값이 ``float`` 자료형에서만 가능하므로 다른 계산 결과도 모두 ``float`` 자료형이 되었다는 점에 주의한다. \n",
        "* ``NaN``이 아닌 값을 구하려면 ``notnull`` 메서드를 사용한다."
      ]
    },
    {
      "cell_type": "code",
      "metadata": {
        "school_cell_uuid": "4f0860edcc90436497f469e0d7ec890a",
        "id": "_92heUlOSo-k",
        "outputId": "272affc7-6c15-4fae-d87f-6492a25b3c3b",
        "colab": {
          "base_uri": "https://localhost:8080/"
        }
      },
      "source": [
        "ds.notnull()"
      ],
      "execution_count": 31,
      "outputs": [
        {
          "output_type": "execute_result",
          "data": {
            "text/plain": [
              "대구    False\n",
              "대전    False\n",
              "부산     True\n",
              "서울     True\n",
              "인천     True\n",
              "dtype: bool"
            ]
          },
          "metadata": {},
          "execution_count": 31
        }
      ]
    },
    {
      "cell_type": "code",
      "metadata": {
        "school_cell_uuid": "a7104df98e104d00a64cc09b1044b876",
        "id": "L2zFh7mHSo-l",
        "outputId": "417592e5-c809-4d53-e635-13270a938214",
        "colab": {
          "base_uri": "https://localhost:8080/"
        }
      },
      "source": [
        "ds[ds.notnull()]"
      ],
      "execution_count": 32,
      "outputs": [
        {
          "output_type": "execute_result",
          "data": {
            "text/plain": [
              "부산     55546.0\n",
              "서울    272830.0\n",
              "인천    258416.0\n",
              "dtype: float64"
            ]
          },
          "metadata": {},
          "execution_count": 32
        }
      ]
    },
    {
      "cell_type": "markdown",
      "metadata": {
        "school_cell_uuid": "8540d53b10dd49fabc85f284e6ab4352",
        "id": "9JcifRt0So-l"
      },
      "source": [
        "마찬가지로 인구 증가율(%)은 다음과 같이 구할 수 있다."
      ]
    },
    {
      "cell_type": "code",
      "metadata": {
        "school_cell_uuid": "0df4457dc3174341a01887ce167b0009",
        "id": "uc9_VhviSo-m",
        "outputId": "5c5bc73e-3671-471f-901e-e2c6a0941d48",
        "colab": {
          "base_uri": "https://localhost:8080/"
        }
      },
      "source": [
        "rs = (s - s2) / s2 * 100\n",
        "rs = rs[rs.notnull()]\n",
        "rs"
      ],
      "execution_count": 33,
      "outputs": [
        {
          "output_type": "execute_result",
          "data": {
            "text/plain": [
              "부산    1.636984\n",
              "서울    2.832690\n",
              "인천    9.818107\n",
              "dtype: float64"
            ]
          },
          "metadata": {},
          "execution_count": 33
        }
      ]
    },
    {
      "cell_type": "markdown",
      "metadata": {
        "school_cell_uuid": "3726aba0c5734c22a8ed620db33c3074",
        "id": "bHZO8WoJSo-m"
      },
      "source": [
        "### 데이터의 갱신, 추가, 삭제"
      ]
    },
    {
      "cell_type": "markdown",
      "metadata": {
        "school_cell_uuid": "5bdb56ee5555453e84d5f9a7956b1cae",
        "id": "FYTsoqluSo-m"
      },
      "source": [
        "인덱싱을 이용하면 딕셔너리처럼 데이터를 갱신(update)하거나 추가(add)할 수 있다."
      ]
    },
    {
      "cell_type": "code",
      "metadata": {
        "school_cell_uuid": "225cd381ff2c4cfca1c4f0519ea257d5",
        "id": "VkKj9qBsSo-n",
        "outputId": "9b7e5d7c-7ef9-4052-c5eb-d07b7700d374",
        "colab": {
          "base_uri": "https://localhost:8080/"
        }
      },
      "source": [
        "rs[\"부산\"] = 1.63\n",
        "rs"
      ],
      "execution_count": 34,
      "outputs": [
        {
          "output_type": "execute_result",
          "data": {
            "text/plain": [
              "부산    1.630000\n",
              "서울    2.832690\n",
              "인천    9.818107\n",
              "dtype: float64"
            ]
          },
          "metadata": {},
          "execution_count": 34
        }
      ]
    },
    {
      "cell_type": "code",
      "metadata": {
        "school_cell_uuid": "e4f1b489a3a64d07ba32c9f38a4255dd",
        "id": "otc1-mJdSo-n",
        "outputId": "1c5e0bb4-ae78-444a-a535-881d32e7534b",
        "colab": {
          "base_uri": "https://localhost:8080/"
        }
      },
      "source": [
        "rs[\"대구\"] = 1.41\n",
        "rs"
      ],
      "execution_count": 35,
      "outputs": [
        {
          "output_type": "execute_result",
          "data": {
            "text/plain": [
              "부산    1.630000\n",
              "서울    2.832690\n",
              "인천    9.818107\n",
              "대구    1.410000\n",
              "dtype: float64"
            ]
          },
          "metadata": {},
          "execution_count": 35
        }
      ]
    },
    {
      "cell_type": "markdown",
      "metadata": {
        "school_cell_uuid": "dd1d397fd51a4926b11f2a2048a7fea9",
        "id": "LcJgnhffSo-o"
      },
      "source": [
        "데이터를 삭제할 때도 딕셔너리처럼 ``del`` 명령을 사용한다."
      ]
    },
    {
      "cell_type": "code",
      "metadata": {
        "school_cell_uuid": "8bde53108bf44e1dbade9d5074fb488b",
        "id": "jM-q6qjVSo-o",
        "outputId": "c614a2e9-2775-44d8-a13a-3382a88f9036",
        "colab": {
          "base_uri": "https://localhost:8080/"
        }
      },
      "source": [
        "del rs[\"서울\"]\n",
        "rs"
      ],
      "execution_count": 36,
      "outputs": [
        {
          "output_type": "execute_result",
          "data": {
            "text/plain": [
              "부산    1.630000\n",
              "인천    9.818107\n",
              "대구    1.410000\n",
              "dtype: float64"
            ]
          },
          "metadata": {},
          "execution_count": 36
        }
      ]
    },
    {
      "cell_type": "markdown",
      "metadata": {
        "bootstrap": {
          "panel": {
            "class": "panel-default"
          }
        },
        "school_cell_uuid": "e37624aaec0540468047652aa8d31e40",
        "id": "0K6pVJepSo-o"
      },
      "source": [
        "````{admonition} 연습 문제 4.1.1\n",
        "\n",
        "(1) 임의로 두 개의 시리즈 객체를 만든다. 모두 문자열 인덱스를 가져야 하며 두 시리즈에 공통적으로 포함되지 않는 라벨이 있어야 한다.\n",
        "\n",
        "\n",
        "(2) 위에서 만든 두 시리즈 객체를 이용하여 사칙 연산을 한다.\n",
        "\n",
        "````"
      ]
    },
    {
      "cell_type": "markdown",
      "metadata": {
        "school_cell_uuid": "79de6d0a0c8b499c8163397ada893f78",
        "id": "MQpNEahBSo-p"
      },
      "source": [
        "## 데이터프레임 클래스"
      ]
    },
    {
      "cell_type": "markdown",
      "metadata": {
        "id": "O95Xg4w4So-p"
      },
      "source": [
        "```{margin}\n",
        "`DataFrame`\n",
        "```"
      ]
    },
    {
      "cell_type": "markdown",
      "metadata": {
        "id": "qy9E1wTxSo-p"
      },
      "source": [
        "```{margin}\n",
        "행 인덱스(row index, index)\n",
        "```"
      ]
    },
    {
      "cell_type": "markdown",
      "metadata": {
        "id": "G4WNm0pXSo-q"
      },
      "source": [
        "```{margin}\n",
        "열 인덱스(cplumn index, columns)\n",
        "```"
      ]
    },
    {
      "cell_type": "markdown",
      "metadata": {
        "school_cell_uuid": "fa06411e78094e32b6b07a3a6dfe34cb",
        "id": "9tXQW7O3So-q"
      },
      "source": [
        "* 시리즈가 1차원 벡터 데이터에 행방향 인덱스(row index)를 붙인 것이라면 데이터프레임 `DataFrame` 클래스는 2차원 행렬 데이터에 인덱스를 붙인 것과 비슷하다. \n",
        "* 2차원이므로 각각의 행 데이터의 이름이 되는 행 인덱스(row index) 뿐 아니라 각각의 열 데이터의 이름이 되는 열 인덱스(column index)도 붙일 수 있다."
      ]
    },
    {
      "cell_type": "markdown",
      "metadata": {
        "school_cell_uuid": "0107de19770349c7857370bad3bae07c",
        "id": "rX0fC9qGSo-q"
      },
      "source": [
        "### 데이터프레임 생성"
      ]
    },
    {
      "cell_type": "markdown",
      "metadata": {
        "school_cell_uuid": "04584100e0fe4242953ab6fb75d56af9",
        "id": "X8eAClmRSo-q"
      },
      "source": [
        "데이터프레임을 만드는 방법은 다양하다. 가장 간단한 방법은 다음과 같다.\n",
        "\n",
        "1. 우선 하나의 열이 되는 데이터를 리스트나 일차원 배열을 준비한다. \n",
        "2. 이 각각의 열에 대한 이름(라벨)을 키로 가지는 딕셔너리를 만든다.\n",
        "3. 이 데이터를 ``DataFrame`` 함수를 이용하여 데이터 프레임을 생성한다. 동시에 행방향 인덱스는 ``index`` 인수로, 열방향 인덱스는 ``columns`` 인수로 지정한다."
      ]
    },
    {
      "cell_type": "code",
      "metadata": {
        "school_cell_uuid": "ad56dd6a97c849a6ba1df6cacaad4716",
        "id": "WoV04uDbSo-r",
        "outputId": "57a54900-cee0-4962-9942-45c9a74db750",
        "colab": {
          "base_uri": "https://localhost:8080/",
          "height": 175
        }
      },
      "source": [
        "import pandas as pd\n",
        "columns = [\"지역\", \"2015\", \"2010\", \"2005\", \"2000\", \"2010-2015 증가율\"]\n",
        "index = [\"서울\", \"부산\", \"인천\", \"대구\"]\n",
        "data = {\n",
        "    \"2015\": [9904312, 3448737, 2890451, 2466052],\n",
        "    \"2010\": [9631482, 3393191, 2632035, 2431774],\n",
        "    \"2005\": [9762546, 3512547, 2517680, 2456016],\n",
        "    \"2000\": [9853972, 3655437, 2466338, 2473990],\n",
        "    \"지역\": [\"수도권\", \"경상권\", \"수도권\", \"경상권\"],\n",
        "    \"2010-2015 증가율\": [0.0283, 0.0163, 0.0982, 0.0141]\n",
        "}\n",
        "df = pd.DataFrame(data, index=index, columns=columns)\n",
        "df"
      ],
      "execution_count": 37,
      "outputs": [
        {
          "output_type": "execute_result",
          "data": {
            "text/plain": [
              "     지역     2015     2010     2005     2000  2010-2015 증가율\n",
              "서울  수도권  9904312  9631482  9762546  9853972         0.0283\n",
              "부산  경상권  3448737  3393191  3512547  3655437         0.0163\n",
              "인천  수도권  2890451  2632035  2517680  2466338         0.0982\n",
              "대구  경상권  2466052  2431774  2456016  2473990         0.0141"
            ],
            "text/html": [
              "\n",
              "  <div id=\"df-a5a4a7c6-e87e-44f2-8cb7-405b58c38a5d\">\n",
              "    <div class=\"colab-df-container\">\n",
              "      <div>\n",
              "<style scoped>\n",
              "    .dataframe tbody tr th:only-of-type {\n",
              "        vertical-align: middle;\n",
              "    }\n",
              "\n",
              "    .dataframe tbody tr th {\n",
              "        vertical-align: top;\n",
              "    }\n",
              "\n",
              "    .dataframe thead th {\n",
              "        text-align: right;\n",
              "    }\n",
              "</style>\n",
              "<table border=\"1\" class=\"dataframe\">\n",
              "  <thead>\n",
              "    <tr style=\"text-align: right;\">\n",
              "      <th></th>\n",
              "      <th>지역</th>\n",
              "      <th>2015</th>\n",
              "      <th>2010</th>\n",
              "      <th>2005</th>\n",
              "      <th>2000</th>\n",
              "      <th>2010-2015 증가율</th>\n",
              "    </tr>\n",
              "  </thead>\n",
              "  <tbody>\n",
              "    <tr>\n",
              "      <th>서울</th>\n",
              "      <td>수도권</td>\n",
              "      <td>9904312</td>\n",
              "      <td>9631482</td>\n",
              "      <td>9762546</td>\n",
              "      <td>9853972</td>\n",
              "      <td>0.0283</td>\n",
              "    </tr>\n",
              "    <tr>\n",
              "      <th>부산</th>\n",
              "      <td>경상권</td>\n",
              "      <td>3448737</td>\n",
              "      <td>3393191</td>\n",
              "      <td>3512547</td>\n",
              "      <td>3655437</td>\n",
              "      <td>0.0163</td>\n",
              "    </tr>\n",
              "    <tr>\n",
              "      <th>인천</th>\n",
              "      <td>수도권</td>\n",
              "      <td>2890451</td>\n",
              "      <td>2632035</td>\n",
              "      <td>2517680</td>\n",
              "      <td>2466338</td>\n",
              "      <td>0.0982</td>\n",
              "    </tr>\n",
              "    <tr>\n",
              "      <th>대구</th>\n",
              "      <td>경상권</td>\n",
              "      <td>2466052</td>\n",
              "      <td>2431774</td>\n",
              "      <td>2456016</td>\n",
              "      <td>2473990</td>\n",
              "      <td>0.0141</td>\n",
              "    </tr>\n",
              "  </tbody>\n",
              "</table>\n",
              "</div>\n",
              "      <button class=\"colab-df-convert\" onclick=\"convertToInteractive('df-a5a4a7c6-e87e-44f2-8cb7-405b58c38a5d')\"\n",
              "              title=\"Convert this dataframe to an interactive table.\"\n",
              "              style=\"display:none;\">\n",
              "        \n",
              "  <svg xmlns=\"http://www.w3.org/2000/svg\" height=\"24px\"viewBox=\"0 0 24 24\"\n",
              "       width=\"24px\">\n",
              "    <path d=\"M0 0h24v24H0V0z\" fill=\"none\"/>\n",
              "    <path d=\"M18.56 5.44l.94 2.06.94-2.06 2.06-.94-2.06-.94-.94-2.06-.94 2.06-2.06.94zm-11 1L8.5 8.5l.94-2.06 2.06-.94-2.06-.94L8.5 2.5l-.94 2.06-2.06.94zm10 10l.94 2.06.94-2.06 2.06-.94-2.06-.94-.94-2.06-.94 2.06-2.06.94z\"/><path d=\"M17.41 7.96l-1.37-1.37c-.4-.4-.92-.59-1.43-.59-.52 0-1.04.2-1.43.59L10.3 9.45l-7.72 7.72c-.78.78-.78 2.05 0 2.83L4 21.41c.39.39.9.59 1.41.59.51 0 1.02-.2 1.41-.59l7.78-7.78 2.81-2.81c.8-.78.8-2.07 0-2.86zM5.41 20L4 18.59l7.72-7.72 1.47 1.35L5.41 20z\"/>\n",
              "  </svg>\n",
              "      </button>\n",
              "      \n",
              "  <style>\n",
              "    .colab-df-container {\n",
              "      display:flex;\n",
              "      flex-wrap:wrap;\n",
              "      gap: 12px;\n",
              "    }\n",
              "\n",
              "    .colab-df-convert {\n",
              "      background-color: #E8F0FE;\n",
              "      border: none;\n",
              "      border-radius: 50%;\n",
              "      cursor: pointer;\n",
              "      display: none;\n",
              "      fill: #1967D2;\n",
              "      height: 32px;\n",
              "      padding: 0 0 0 0;\n",
              "      width: 32px;\n",
              "    }\n",
              "\n",
              "    .colab-df-convert:hover {\n",
              "      background-color: #E2EBFA;\n",
              "      box-shadow: 0px 1px 2px rgba(60, 64, 67, 0.3), 0px 1px 3px 1px rgba(60, 64, 67, 0.15);\n",
              "      fill: #174EA6;\n",
              "    }\n",
              "\n",
              "    [theme=dark] .colab-df-convert {\n",
              "      background-color: #3B4455;\n",
              "      fill: #D2E3FC;\n",
              "    }\n",
              "\n",
              "    [theme=dark] .colab-df-convert:hover {\n",
              "      background-color: #434B5C;\n",
              "      box-shadow: 0px 1px 3px 1px rgba(0, 0, 0, 0.15);\n",
              "      filter: drop-shadow(0px 1px 2px rgba(0, 0, 0, 0.3));\n",
              "      fill: #FFFFFF;\n",
              "    }\n",
              "  </style>\n",
              "\n",
              "      <script>\n",
              "        const buttonEl =\n",
              "          document.querySelector('#df-a5a4a7c6-e87e-44f2-8cb7-405b58c38a5d button.colab-df-convert');\n",
              "        buttonEl.style.display =\n",
              "          google.colab.kernel.accessAllowed ? 'block' : 'none';\n",
              "\n",
              "        async function convertToInteractive(key) {\n",
              "          const element = document.querySelector('#df-a5a4a7c6-e87e-44f2-8cb7-405b58c38a5d');\n",
              "          const dataTable =\n",
              "            await google.colab.kernel.invokeFunction('convertToInteractive',\n",
              "                                                     [key], {});\n",
              "          if (!dataTable) return;\n",
              "\n",
              "          const docLinkHtml = 'Like what you see? Visit the ' +\n",
              "            '<a target=\"_blank\" href=https://colab.research.google.com/notebooks/data_table.ipynb>data table notebook</a>'\n",
              "            + ' to learn more about interactive tables.';\n",
              "          element.innerHTML = '';\n",
              "          dataTable['output_type'] = 'display_data';\n",
              "          await google.colab.output.renderOutput(dataTable, element);\n",
              "          const docLink = document.createElement('div');\n",
              "          docLink.innerHTML = docLinkHtml;\n",
              "          element.appendChild(docLink);\n",
              "        }\n",
              "      </script>\n",
              "    </div>\n",
              "  </div>\n",
              "  "
            ]
          },
          "metadata": {},
          "execution_count": 37
        }
      ]
    },
    {
      "cell_type": "markdown",
      "metadata": {
        "school_cell_uuid": "1df257b1de834ff58d4352f86071807e",
        "id": "HAk1TWJ3So-s"
      },
      "source": [
        "* 앞에서 데이터프레임은 2차원 배열 데이터를 기반으로 한다고 했지만 사실은 공통 인덱스를 가지는 열 시리즈(column series)를 딕셔너리로 묶어놓은 것이라고 보는 것이 더 정확하다. \n",
        "* 2차원 배열 데이터는 모든 원소가 같은 자료형을 가져야 하지만 데이터프레임은 각 열(column)마다 자료형이 다를 수 있기 때문이다. \n",
        "* 위 예제에서도 지역과 인구와 증가율은 각각 문자열, 정수, 부동소수점 실수이다."
      ]
    },
    {
      "cell_type": "markdown",
      "metadata": {
        "id": "lkP7VDsPSo-s"
      },
      "source": [
        "```{margin}\n",
        "`DataFrame.values`\n",
        "```"
      ]
    },
    {
      "cell_type": "markdown",
      "metadata": {
        "id": "xt_A4s_YSo-t"
      },
      "source": [
        "```{margin}\n",
        "`DataFrame.columns`\n",
        "```"
      ]
    },
    {
      "cell_type": "markdown",
      "metadata": {
        "id": "gK5qI6uYSo-t"
      },
      "source": [
        "```{margin}\n",
        "`DataFrame.index`\n",
        "```"
      ]
    },
    {
      "cell_type": "markdown",
      "metadata": {
        "school_cell_uuid": "a2d92affda1f4913af6fdd07ac3424aa",
        "id": "xshhuWjSSo-t"
      },
      "source": [
        "시리즈와 마찬가지로 데이터만 접근하려면 ``values`` 속성을 사용한다. 열방향 인덱스와 행방향 인덱스는 각각 ``columns``, ``index`` 속성으로 접근한다."
      ]
    },
    {
      "cell_type": "code",
      "metadata": {
        "school_cell_uuid": "304c384949634af288540e1a2c95337e",
        "id": "ji7Xg7XdSo-u",
        "outputId": "afeaa51d-8572-4d16-f083-4c4c26486641",
        "colab": {
          "base_uri": "https://localhost:8080/"
        }
      },
      "source": [
        "df.values"
      ],
      "execution_count": 38,
      "outputs": [
        {
          "output_type": "execute_result",
          "data": {
            "text/plain": [
              "array([['수도권', 9904312, 9631482, 9762546, 9853972, 0.0283],\n",
              "       ['경상권', 3448737, 3393191, 3512547, 3655437, 0.0163],\n",
              "       ['수도권', 2890451, 2632035, 2517680, 2466338, 0.0982],\n",
              "       ['경상권', 2466052, 2431774, 2456016, 2473990, 0.0141]], dtype=object)"
            ]
          },
          "metadata": {},
          "execution_count": 38
        }
      ]
    },
    {
      "cell_type": "code",
      "metadata": {
        "school_cell_uuid": "302fa44ffa464f4fa12fe5354b4af9f2",
        "id": "xWbdJVxMSo-v",
        "outputId": "c046a266-c5fe-4bf2-c1f1-7dacb0863267",
        "colab": {
          "base_uri": "https://localhost:8080/"
        }
      },
      "source": [
        "df.columns"
      ],
      "execution_count": 39,
      "outputs": [
        {
          "output_type": "execute_result",
          "data": {
            "text/plain": [
              "Index(['지역', '2015', '2010', '2005', '2000', '2010-2015 증가율'], dtype='object')"
            ]
          },
          "metadata": {},
          "execution_count": 39
        }
      ]
    },
    {
      "cell_type": "code",
      "metadata": {
        "school_cell_uuid": "99de7f0a3b6d4dad8f5d6b3b9cfce153",
        "id": "lfQ-YYooSo-v",
        "outputId": "86ccdf4f-98ea-4bb3-bbc4-90785ddf965d",
        "colab": {
          "base_uri": "https://localhost:8080/"
        }
      },
      "source": [
        "df.index"
      ],
      "execution_count": 40,
      "outputs": [
        {
          "output_type": "execute_result",
          "data": {
            "text/plain": [
              "Index(['서울', '부산', '인천', '대구'], dtype='object')"
            ]
          },
          "metadata": {},
          "execution_count": 40
        }
      ]
    },
    {
      "cell_type": "markdown",
      "metadata": {
        "id": "7EkjKAbXSo-w"
      },
      "source": [
        "```{margin}\n",
        "`DataFrame.columns.name`\n",
        "```"
      ]
    },
    {
      "cell_type": "markdown",
      "metadata": {
        "id": "9Cck9XVESo-w"
      },
      "source": [
        "```{margin}\n",
        "`DataFrame.index.name`\n",
        "```"
      ]
    },
    {
      "cell_type": "markdown",
      "metadata": {
        "school_cell_uuid": "c8d07e451acd4222befd8ae9d57f09c9",
        "id": "Hf4CtwANSo-x"
      },
      "source": [
        "시리즈에서 처럼 열방향 인덱스와 행방향 인덱스에 이름을 붙이는 것도 가능하다."
      ]
    },
    {
      "cell_type": "code",
      "metadata": {
        "school_cell_uuid": "fe7f799f91754b3d89bdd25eeee35b1a",
        "id": "Sco9ca3LSo-x",
        "outputId": "f356e1fc-5ab1-4260-dfd4-1fe4f4be5767",
        "colab": {
          "base_uri": "https://localhost:8080/",
          "height": 206
        }
      },
      "source": [
        "df.index.name = \"도시\"\n",
        "df.columns.name = \"특성\"\n",
        "df"
      ],
      "execution_count": 41,
      "outputs": [
        {
          "output_type": "execute_result",
          "data": {
            "text/plain": [
              "특성   지역     2015     2010     2005     2000  2010-2015 증가율\n",
              "도시                                                        \n",
              "서울  수도권  9904312  9631482  9762546  9853972         0.0283\n",
              "부산  경상권  3448737  3393191  3512547  3655437         0.0163\n",
              "인천  수도권  2890451  2632035  2517680  2466338         0.0982\n",
              "대구  경상권  2466052  2431774  2456016  2473990         0.0141"
            ],
            "text/html": [
              "\n",
              "  <div id=\"df-df05130b-b3c7-4a72-9c4a-410da500f379\">\n",
              "    <div class=\"colab-df-container\">\n",
              "      <div>\n",
              "<style scoped>\n",
              "    .dataframe tbody tr th:only-of-type {\n",
              "        vertical-align: middle;\n",
              "    }\n",
              "\n",
              "    .dataframe tbody tr th {\n",
              "        vertical-align: top;\n",
              "    }\n",
              "\n",
              "    .dataframe thead th {\n",
              "        text-align: right;\n",
              "    }\n",
              "</style>\n",
              "<table border=\"1\" class=\"dataframe\">\n",
              "  <thead>\n",
              "    <tr style=\"text-align: right;\">\n",
              "      <th>특성</th>\n",
              "      <th>지역</th>\n",
              "      <th>2015</th>\n",
              "      <th>2010</th>\n",
              "      <th>2005</th>\n",
              "      <th>2000</th>\n",
              "      <th>2010-2015 증가율</th>\n",
              "    </tr>\n",
              "    <tr>\n",
              "      <th>도시</th>\n",
              "      <th></th>\n",
              "      <th></th>\n",
              "      <th></th>\n",
              "      <th></th>\n",
              "      <th></th>\n",
              "      <th></th>\n",
              "    </tr>\n",
              "  </thead>\n",
              "  <tbody>\n",
              "    <tr>\n",
              "      <th>서울</th>\n",
              "      <td>수도권</td>\n",
              "      <td>9904312</td>\n",
              "      <td>9631482</td>\n",
              "      <td>9762546</td>\n",
              "      <td>9853972</td>\n",
              "      <td>0.0283</td>\n",
              "    </tr>\n",
              "    <tr>\n",
              "      <th>부산</th>\n",
              "      <td>경상권</td>\n",
              "      <td>3448737</td>\n",
              "      <td>3393191</td>\n",
              "      <td>3512547</td>\n",
              "      <td>3655437</td>\n",
              "      <td>0.0163</td>\n",
              "    </tr>\n",
              "    <tr>\n",
              "      <th>인천</th>\n",
              "      <td>수도권</td>\n",
              "      <td>2890451</td>\n",
              "      <td>2632035</td>\n",
              "      <td>2517680</td>\n",
              "      <td>2466338</td>\n",
              "      <td>0.0982</td>\n",
              "    </tr>\n",
              "    <tr>\n",
              "      <th>대구</th>\n",
              "      <td>경상권</td>\n",
              "      <td>2466052</td>\n",
              "      <td>2431774</td>\n",
              "      <td>2456016</td>\n",
              "      <td>2473990</td>\n",
              "      <td>0.0141</td>\n",
              "    </tr>\n",
              "  </tbody>\n",
              "</table>\n",
              "</div>\n",
              "      <button class=\"colab-df-convert\" onclick=\"convertToInteractive('df-df05130b-b3c7-4a72-9c4a-410da500f379')\"\n",
              "              title=\"Convert this dataframe to an interactive table.\"\n",
              "              style=\"display:none;\">\n",
              "        \n",
              "  <svg xmlns=\"http://www.w3.org/2000/svg\" height=\"24px\"viewBox=\"0 0 24 24\"\n",
              "       width=\"24px\">\n",
              "    <path d=\"M0 0h24v24H0V0z\" fill=\"none\"/>\n",
              "    <path d=\"M18.56 5.44l.94 2.06.94-2.06 2.06-.94-2.06-.94-.94-2.06-.94 2.06-2.06.94zm-11 1L8.5 8.5l.94-2.06 2.06-.94-2.06-.94L8.5 2.5l-.94 2.06-2.06.94zm10 10l.94 2.06.94-2.06 2.06-.94-2.06-.94-.94-2.06-.94 2.06-2.06.94z\"/><path d=\"M17.41 7.96l-1.37-1.37c-.4-.4-.92-.59-1.43-.59-.52 0-1.04.2-1.43.59L10.3 9.45l-7.72 7.72c-.78.78-.78 2.05 0 2.83L4 21.41c.39.39.9.59 1.41.59.51 0 1.02-.2 1.41-.59l7.78-7.78 2.81-2.81c.8-.78.8-2.07 0-2.86zM5.41 20L4 18.59l7.72-7.72 1.47 1.35L5.41 20z\"/>\n",
              "  </svg>\n",
              "      </button>\n",
              "      \n",
              "  <style>\n",
              "    .colab-df-container {\n",
              "      display:flex;\n",
              "      flex-wrap:wrap;\n",
              "      gap: 12px;\n",
              "    }\n",
              "\n",
              "    .colab-df-convert {\n",
              "      background-color: #E8F0FE;\n",
              "      border: none;\n",
              "      border-radius: 50%;\n",
              "      cursor: pointer;\n",
              "      display: none;\n",
              "      fill: #1967D2;\n",
              "      height: 32px;\n",
              "      padding: 0 0 0 0;\n",
              "      width: 32px;\n",
              "    }\n",
              "\n",
              "    .colab-df-convert:hover {\n",
              "      background-color: #E2EBFA;\n",
              "      box-shadow: 0px 1px 2px rgba(60, 64, 67, 0.3), 0px 1px 3px 1px rgba(60, 64, 67, 0.15);\n",
              "      fill: #174EA6;\n",
              "    }\n",
              "\n",
              "    [theme=dark] .colab-df-convert {\n",
              "      background-color: #3B4455;\n",
              "      fill: #D2E3FC;\n",
              "    }\n",
              "\n",
              "    [theme=dark] .colab-df-convert:hover {\n",
              "      background-color: #434B5C;\n",
              "      box-shadow: 0px 1px 3px 1px rgba(0, 0, 0, 0.15);\n",
              "      filter: drop-shadow(0px 1px 2px rgba(0, 0, 0, 0.3));\n",
              "      fill: #FFFFFF;\n",
              "    }\n",
              "  </style>\n",
              "\n",
              "      <script>\n",
              "        const buttonEl =\n",
              "          document.querySelector('#df-df05130b-b3c7-4a72-9c4a-410da500f379 button.colab-df-convert');\n",
              "        buttonEl.style.display =\n",
              "          google.colab.kernel.accessAllowed ? 'block' : 'none';\n",
              "\n",
              "        async function convertToInteractive(key) {\n",
              "          const element = document.querySelector('#df-df05130b-b3c7-4a72-9c4a-410da500f379');\n",
              "          const dataTable =\n",
              "            await google.colab.kernel.invokeFunction('convertToInteractive',\n",
              "                                                     [key], {});\n",
              "          if (!dataTable) return;\n",
              "\n",
              "          const docLinkHtml = 'Like what you see? Visit the ' +\n",
              "            '<a target=\"_blank\" href=https://colab.research.google.com/notebooks/data_table.ipynb>data table notebook</a>'\n",
              "            + ' to learn more about interactive tables.';\n",
              "          element.innerHTML = '';\n",
              "          dataTable['output_type'] = 'display_data';\n",
              "          await google.colab.output.renderOutput(dataTable, element);\n",
              "          const docLink = document.createElement('div');\n",
              "          docLink.innerHTML = docLinkHtml;\n",
              "          element.appendChild(docLink);\n",
              "        }\n",
              "      </script>\n",
              "    </div>\n",
              "  </div>\n",
              "  "
            ]
          },
          "metadata": {},
          "execution_count": 41
        }
      ]
    },
    {
      "cell_type": "markdown",
      "metadata": {
        "school_cell_uuid": "fe47c0e2dea04ec3ae0564ff78e9c881",
        "id": "T_8vc54NSo-y"
      },
      "source": [
        "데이터프레임은 전치(transpose)를 포함하여 넘파이 2차원 배열이 가지는 대부분의 속성이나 메서드를 지원한다."
      ]
    },
    {
      "cell_type": "code",
      "metadata": {
        "school_cell_uuid": "a344bf84667e43618339bcaa9f5ab7b9",
        "id": "NIZ3ZMgLSo-y",
        "outputId": "14e737ae-9da0-4042-fa57-ce3f70cfcda4",
        "colab": {
          "base_uri": "https://localhost:8080/",
          "height": 269
        }
      },
      "source": [
        "df.T"
      ],
      "execution_count": 42,
      "outputs": [
        {
          "output_type": "execute_result",
          "data": {
            "text/plain": [
              "도시                  서울       부산       인천       대구\n",
              "특성                                               \n",
              "지역                 수도권      경상권      수도권      경상권\n",
              "2015           9904312  3448737  2890451  2466052\n",
              "2010           9631482  3393191  2632035  2431774\n",
              "2005           9762546  3512547  2517680  2456016\n",
              "2000           9853972  3655437  2466338  2473990\n",
              "2010-2015 증가율   0.0283   0.0163   0.0982   0.0141"
            ],
            "text/html": [
              "\n",
              "  <div id=\"df-ad6b9e0d-bfb5-48bc-a8f6-219ed26f0f62\">\n",
              "    <div class=\"colab-df-container\">\n",
              "      <div>\n",
              "<style scoped>\n",
              "    .dataframe tbody tr th:only-of-type {\n",
              "        vertical-align: middle;\n",
              "    }\n",
              "\n",
              "    .dataframe tbody tr th {\n",
              "        vertical-align: top;\n",
              "    }\n",
              "\n",
              "    .dataframe thead th {\n",
              "        text-align: right;\n",
              "    }\n",
              "</style>\n",
              "<table border=\"1\" class=\"dataframe\">\n",
              "  <thead>\n",
              "    <tr style=\"text-align: right;\">\n",
              "      <th>도시</th>\n",
              "      <th>서울</th>\n",
              "      <th>부산</th>\n",
              "      <th>인천</th>\n",
              "      <th>대구</th>\n",
              "    </tr>\n",
              "    <tr>\n",
              "      <th>특성</th>\n",
              "      <th></th>\n",
              "      <th></th>\n",
              "      <th></th>\n",
              "      <th></th>\n",
              "    </tr>\n",
              "  </thead>\n",
              "  <tbody>\n",
              "    <tr>\n",
              "      <th>지역</th>\n",
              "      <td>수도권</td>\n",
              "      <td>경상권</td>\n",
              "      <td>수도권</td>\n",
              "      <td>경상권</td>\n",
              "    </tr>\n",
              "    <tr>\n",
              "      <th>2015</th>\n",
              "      <td>9904312</td>\n",
              "      <td>3448737</td>\n",
              "      <td>2890451</td>\n",
              "      <td>2466052</td>\n",
              "    </tr>\n",
              "    <tr>\n",
              "      <th>2010</th>\n",
              "      <td>9631482</td>\n",
              "      <td>3393191</td>\n",
              "      <td>2632035</td>\n",
              "      <td>2431774</td>\n",
              "    </tr>\n",
              "    <tr>\n",
              "      <th>2005</th>\n",
              "      <td>9762546</td>\n",
              "      <td>3512547</td>\n",
              "      <td>2517680</td>\n",
              "      <td>2456016</td>\n",
              "    </tr>\n",
              "    <tr>\n",
              "      <th>2000</th>\n",
              "      <td>9853972</td>\n",
              "      <td>3655437</td>\n",
              "      <td>2466338</td>\n",
              "      <td>2473990</td>\n",
              "    </tr>\n",
              "    <tr>\n",
              "      <th>2010-2015 증가율</th>\n",
              "      <td>0.0283</td>\n",
              "      <td>0.0163</td>\n",
              "      <td>0.0982</td>\n",
              "      <td>0.0141</td>\n",
              "    </tr>\n",
              "  </tbody>\n",
              "</table>\n",
              "</div>\n",
              "      <button class=\"colab-df-convert\" onclick=\"convertToInteractive('df-ad6b9e0d-bfb5-48bc-a8f6-219ed26f0f62')\"\n",
              "              title=\"Convert this dataframe to an interactive table.\"\n",
              "              style=\"display:none;\">\n",
              "        \n",
              "  <svg xmlns=\"http://www.w3.org/2000/svg\" height=\"24px\"viewBox=\"0 0 24 24\"\n",
              "       width=\"24px\">\n",
              "    <path d=\"M0 0h24v24H0V0z\" fill=\"none\"/>\n",
              "    <path d=\"M18.56 5.44l.94 2.06.94-2.06 2.06-.94-2.06-.94-.94-2.06-.94 2.06-2.06.94zm-11 1L8.5 8.5l.94-2.06 2.06-.94-2.06-.94L8.5 2.5l-.94 2.06-2.06.94zm10 10l.94 2.06.94-2.06 2.06-.94-2.06-.94-.94-2.06-.94 2.06-2.06.94z\"/><path d=\"M17.41 7.96l-1.37-1.37c-.4-.4-.92-.59-1.43-.59-.52 0-1.04.2-1.43.59L10.3 9.45l-7.72 7.72c-.78.78-.78 2.05 0 2.83L4 21.41c.39.39.9.59 1.41.59.51 0 1.02-.2 1.41-.59l7.78-7.78 2.81-2.81c.8-.78.8-2.07 0-2.86zM5.41 20L4 18.59l7.72-7.72 1.47 1.35L5.41 20z\"/>\n",
              "  </svg>\n",
              "      </button>\n",
              "      \n",
              "  <style>\n",
              "    .colab-df-container {\n",
              "      display:flex;\n",
              "      flex-wrap:wrap;\n",
              "      gap: 12px;\n",
              "    }\n",
              "\n",
              "    .colab-df-convert {\n",
              "      background-color: #E8F0FE;\n",
              "      border: none;\n",
              "      border-radius: 50%;\n",
              "      cursor: pointer;\n",
              "      display: none;\n",
              "      fill: #1967D2;\n",
              "      height: 32px;\n",
              "      padding: 0 0 0 0;\n",
              "      width: 32px;\n",
              "    }\n",
              "\n",
              "    .colab-df-convert:hover {\n",
              "      background-color: #E2EBFA;\n",
              "      box-shadow: 0px 1px 2px rgba(60, 64, 67, 0.3), 0px 1px 3px 1px rgba(60, 64, 67, 0.15);\n",
              "      fill: #174EA6;\n",
              "    }\n",
              "\n",
              "    [theme=dark] .colab-df-convert {\n",
              "      background-color: #3B4455;\n",
              "      fill: #D2E3FC;\n",
              "    }\n",
              "\n",
              "    [theme=dark] .colab-df-convert:hover {\n",
              "      background-color: #434B5C;\n",
              "      box-shadow: 0px 1px 3px 1px rgba(0, 0, 0, 0.15);\n",
              "      filter: drop-shadow(0px 1px 2px rgba(0, 0, 0, 0.3));\n",
              "      fill: #FFFFFF;\n",
              "    }\n",
              "  </style>\n",
              "\n",
              "      <script>\n",
              "        const buttonEl =\n",
              "          document.querySelector('#df-ad6b9e0d-bfb5-48bc-a8f6-219ed26f0f62 button.colab-df-convert');\n",
              "        buttonEl.style.display =\n",
              "          google.colab.kernel.accessAllowed ? 'block' : 'none';\n",
              "\n",
              "        async function convertToInteractive(key) {\n",
              "          const element = document.querySelector('#df-ad6b9e0d-bfb5-48bc-a8f6-219ed26f0f62');\n",
              "          const dataTable =\n",
              "            await google.colab.kernel.invokeFunction('convertToInteractive',\n",
              "                                                     [key], {});\n",
              "          if (!dataTable) return;\n",
              "\n",
              "          const docLinkHtml = 'Like what you see? Visit the ' +\n",
              "            '<a target=\"_blank\" href=https://colab.research.google.com/notebooks/data_table.ipynb>data table notebook</a>'\n",
              "            + ' to learn more about interactive tables.';\n",
              "          element.innerHTML = '';\n",
              "          dataTable['output_type'] = 'display_data';\n",
              "          await google.colab.output.renderOutput(dataTable, element);\n",
              "          const docLink = document.createElement('div');\n",
              "          docLink.innerHTML = docLinkHtml;\n",
              "          element.appendChild(docLink);\n",
              "        }\n",
              "      </script>\n",
              "    </div>\n",
              "  </div>\n",
              "  "
            ]
          },
          "metadata": {},
          "execution_count": 42
        }
      ]
    },
    {
      "cell_type": "markdown",
      "metadata": {
        "bootstrap": {
          "panel": {
            "class": "panel-default"
          }
        },
        "school_cell_uuid": "1adc8742e99c42419d8ad2f539ef362c",
        "id": "0io7q0MTSo-x"
      },
      "source": [
        "````{admonition} 연습 문제 4.1.2\n",
        "\n",
        "다음 조건을 만족하는 임의의 데이터프레임을 하나 만든다.\n",
        "\n",
        "(1) 열의 갯수와 행의 갯수가 각각 5개 이상이어야 한다.\n",
        "\n",
        "\n",
        "(2) 열에는 정수, 문자열, 실수 자료형 데이터가 각각 1개 이상씩 포함되어 있어야 한다.\n",
        "````"
      ]
    },
    {
      "cell_type": "markdown",
      "metadata": {
        "school_cell_uuid": "2a3a6d464e6b4433bd5174559fd19a5b",
        "id": "9ZnLjLHtSo-z"
      },
      "source": [
        "### 열 데이터의 갱신, 추가, 삭제"
      ]
    },
    {
      "cell_type": "markdown",
      "metadata": {
        "school_cell_uuid": "6fd687f1f7d34fd1a97eaba03409dfbd",
        "id": "M_4H7vsjSo-z"
      },
      "source": [
        "데이터프레임은 열 시리즈의 딕셔너리으로 볼 수 있으므로 열 단위로 데이터를 갱신하거나 추가, 삭제할 수 있다."
      ]
    },
    {
      "cell_type": "code",
      "metadata": {
        "school_cell_uuid": "118e7896d2a04b1991857b59411a7a7a",
        "id": "HQZGmIwuSo-z",
        "outputId": "67990285-2f6c-4d5f-881b-e6ce51457193",
        "colab": {
          "base_uri": "https://localhost:8080/",
          "height": 206
        }
      },
      "source": [
        "# \"2010-2015 증가율\"이라는 이름의 열 추가\n",
        "df[\"2010-2015 증가율\"] = df[\"2010-2015 증가율\"] * 100\n",
        "df"
      ],
      "execution_count": 43,
      "outputs": [
        {
          "output_type": "execute_result",
          "data": {
            "text/plain": [
              "특성   지역     2015     2010     2005     2000  2010-2015 증가율\n",
              "도시                                                        \n",
              "서울  수도권  9904312  9631482  9762546  9853972           2.83\n",
              "부산  경상권  3448737  3393191  3512547  3655437           1.63\n",
              "인천  수도권  2890451  2632035  2517680  2466338           9.82\n",
              "대구  경상권  2466052  2431774  2456016  2473990           1.41"
            ],
            "text/html": [
              "\n",
              "  <div id=\"df-9a8e7b9f-108f-4bb8-8dbe-0b3db3fca8d2\">\n",
              "    <div class=\"colab-df-container\">\n",
              "      <div>\n",
              "<style scoped>\n",
              "    .dataframe tbody tr th:only-of-type {\n",
              "        vertical-align: middle;\n",
              "    }\n",
              "\n",
              "    .dataframe tbody tr th {\n",
              "        vertical-align: top;\n",
              "    }\n",
              "\n",
              "    .dataframe thead th {\n",
              "        text-align: right;\n",
              "    }\n",
              "</style>\n",
              "<table border=\"1\" class=\"dataframe\">\n",
              "  <thead>\n",
              "    <tr style=\"text-align: right;\">\n",
              "      <th>특성</th>\n",
              "      <th>지역</th>\n",
              "      <th>2015</th>\n",
              "      <th>2010</th>\n",
              "      <th>2005</th>\n",
              "      <th>2000</th>\n",
              "      <th>2010-2015 증가율</th>\n",
              "    </tr>\n",
              "    <tr>\n",
              "      <th>도시</th>\n",
              "      <th></th>\n",
              "      <th></th>\n",
              "      <th></th>\n",
              "      <th></th>\n",
              "      <th></th>\n",
              "      <th></th>\n",
              "    </tr>\n",
              "  </thead>\n",
              "  <tbody>\n",
              "    <tr>\n",
              "      <th>서울</th>\n",
              "      <td>수도권</td>\n",
              "      <td>9904312</td>\n",
              "      <td>9631482</td>\n",
              "      <td>9762546</td>\n",
              "      <td>9853972</td>\n",
              "      <td>2.83</td>\n",
              "    </tr>\n",
              "    <tr>\n",
              "      <th>부산</th>\n",
              "      <td>경상권</td>\n",
              "      <td>3448737</td>\n",
              "      <td>3393191</td>\n",
              "      <td>3512547</td>\n",
              "      <td>3655437</td>\n",
              "      <td>1.63</td>\n",
              "    </tr>\n",
              "    <tr>\n",
              "      <th>인천</th>\n",
              "      <td>수도권</td>\n",
              "      <td>2890451</td>\n",
              "      <td>2632035</td>\n",
              "      <td>2517680</td>\n",
              "      <td>2466338</td>\n",
              "      <td>9.82</td>\n",
              "    </tr>\n",
              "    <tr>\n",
              "      <th>대구</th>\n",
              "      <td>경상권</td>\n",
              "      <td>2466052</td>\n",
              "      <td>2431774</td>\n",
              "      <td>2456016</td>\n",
              "      <td>2473990</td>\n",
              "      <td>1.41</td>\n",
              "    </tr>\n",
              "  </tbody>\n",
              "</table>\n",
              "</div>\n",
              "      <button class=\"colab-df-convert\" onclick=\"convertToInteractive('df-9a8e7b9f-108f-4bb8-8dbe-0b3db3fca8d2')\"\n",
              "              title=\"Convert this dataframe to an interactive table.\"\n",
              "              style=\"display:none;\">\n",
              "        \n",
              "  <svg xmlns=\"http://www.w3.org/2000/svg\" height=\"24px\"viewBox=\"0 0 24 24\"\n",
              "       width=\"24px\">\n",
              "    <path d=\"M0 0h24v24H0V0z\" fill=\"none\"/>\n",
              "    <path d=\"M18.56 5.44l.94 2.06.94-2.06 2.06-.94-2.06-.94-.94-2.06-.94 2.06-2.06.94zm-11 1L8.5 8.5l.94-2.06 2.06-.94-2.06-.94L8.5 2.5l-.94 2.06-2.06.94zm10 10l.94 2.06.94-2.06 2.06-.94-2.06-.94-.94-2.06-.94 2.06-2.06.94z\"/><path d=\"M17.41 7.96l-1.37-1.37c-.4-.4-.92-.59-1.43-.59-.52 0-1.04.2-1.43.59L10.3 9.45l-7.72 7.72c-.78.78-.78 2.05 0 2.83L4 21.41c.39.39.9.59 1.41.59.51 0 1.02-.2 1.41-.59l7.78-7.78 2.81-2.81c.8-.78.8-2.07 0-2.86zM5.41 20L4 18.59l7.72-7.72 1.47 1.35L5.41 20z\"/>\n",
              "  </svg>\n",
              "      </button>\n",
              "      \n",
              "  <style>\n",
              "    .colab-df-container {\n",
              "      display:flex;\n",
              "      flex-wrap:wrap;\n",
              "      gap: 12px;\n",
              "    }\n",
              "\n",
              "    .colab-df-convert {\n",
              "      background-color: #E8F0FE;\n",
              "      border: none;\n",
              "      border-radius: 50%;\n",
              "      cursor: pointer;\n",
              "      display: none;\n",
              "      fill: #1967D2;\n",
              "      height: 32px;\n",
              "      padding: 0 0 0 0;\n",
              "      width: 32px;\n",
              "    }\n",
              "\n",
              "    .colab-df-convert:hover {\n",
              "      background-color: #E2EBFA;\n",
              "      box-shadow: 0px 1px 2px rgba(60, 64, 67, 0.3), 0px 1px 3px 1px rgba(60, 64, 67, 0.15);\n",
              "      fill: #174EA6;\n",
              "    }\n",
              "\n",
              "    [theme=dark] .colab-df-convert {\n",
              "      background-color: #3B4455;\n",
              "      fill: #D2E3FC;\n",
              "    }\n",
              "\n",
              "    [theme=dark] .colab-df-convert:hover {\n",
              "      background-color: #434B5C;\n",
              "      box-shadow: 0px 1px 3px 1px rgba(0, 0, 0, 0.15);\n",
              "      filter: drop-shadow(0px 1px 2px rgba(0, 0, 0, 0.3));\n",
              "      fill: #FFFFFF;\n",
              "    }\n",
              "  </style>\n",
              "\n",
              "      <script>\n",
              "        const buttonEl =\n",
              "          document.querySelector('#df-9a8e7b9f-108f-4bb8-8dbe-0b3db3fca8d2 button.colab-df-convert');\n",
              "        buttonEl.style.display =\n",
              "          google.colab.kernel.accessAllowed ? 'block' : 'none';\n",
              "\n",
              "        async function convertToInteractive(key) {\n",
              "          const element = document.querySelector('#df-9a8e7b9f-108f-4bb8-8dbe-0b3db3fca8d2');\n",
              "          const dataTable =\n",
              "            await google.colab.kernel.invokeFunction('convertToInteractive',\n",
              "                                                     [key], {});\n",
              "          if (!dataTable) return;\n",
              "\n",
              "          const docLinkHtml = 'Like what you see? Visit the ' +\n",
              "            '<a target=\"_blank\" href=https://colab.research.google.com/notebooks/data_table.ipynb>data table notebook</a>'\n",
              "            + ' to learn more about interactive tables.';\n",
              "          element.innerHTML = '';\n",
              "          dataTable['output_type'] = 'display_data';\n",
              "          await google.colab.output.renderOutput(dataTable, element);\n",
              "          const docLink = document.createElement('div');\n",
              "          docLink.innerHTML = docLinkHtml;\n",
              "          element.appendChild(docLink);\n",
              "        }\n",
              "      </script>\n",
              "    </div>\n",
              "  </div>\n",
              "  "
            ]
          },
          "metadata": {},
          "execution_count": 43
        }
      ]
    },
    {
      "cell_type": "code",
      "metadata": {
        "school_cell_uuid": "f06e0eb3cc234b458e6005c5daeff851",
        "id": "VPvdLGXsSo-0",
        "outputId": "1b16b4b5-0571-4136-b549-fc1f982cc31b",
        "colab": {
          "base_uri": "https://localhost:8080/",
          "height": 206
        }
      },
      "source": [
        "# \"2005-2010 증가율\"이라는 이름의 열 추가\n",
        "df[\"2005-2010 증가율\"] = ((df[\"2010\"] - df[\"2005\"]) / df[\"2005\"] * 100).round(2)\n",
        "df"
      ],
      "execution_count": 44,
      "outputs": [
        {
          "output_type": "execute_result",
          "data": {
            "text/plain": [
              "특성   지역     2015     2010     2005     2000  2010-2015 증가율  2005-2010 증가율\n",
              "도시                                                                       \n",
              "서울  수도권  9904312  9631482  9762546  9853972           2.83          -1.34\n",
              "부산  경상권  3448737  3393191  3512547  3655437           1.63          -3.40\n",
              "인천  수도권  2890451  2632035  2517680  2466338           9.82           4.54\n",
              "대구  경상권  2466052  2431774  2456016  2473990           1.41          -0.99"
            ],
            "text/html": [
              "\n",
              "  <div id=\"df-c6406d74-513f-4a10-9243-465017063bec\">\n",
              "    <div class=\"colab-df-container\">\n",
              "      <div>\n",
              "<style scoped>\n",
              "    .dataframe tbody tr th:only-of-type {\n",
              "        vertical-align: middle;\n",
              "    }\n",
              "\n",
              "    .dataframe tbody tr th {\n",
              "        vertical-align: top;\n",
              "    }\n",
              "\n",
              "    .dataframe thead th {\n",
              "        text-align: right;\n",
              "    }\n",
              "</style>\n",
              "<table border=\"1\" class=\"dataframe\">\n",
              "  <thead>\n",
              "    <tr style=\"text-align: right;\">\n",
              "      <th>특성</th>\n",
              "      <th>지역</th>\n",
              "      <th>2015</th>\n",
              "      <th>2010</th>\n",
              "      <th>2005</th>\n",
              "      <th>2000</th>\n",
              "      <th>2010-2015 증가율</th>\n",
              "      <th>2005-2010 증가율</th>\n",
              "    </tr>\n",
              "    <tr>\n",
              "      <th>도시</th>\n",
              "      <th></th>\n",
              "      <th></th>\n",
              "      <th></th>\n",
              "      <th></th>\n",
              "      <th></th>\n",
              "      <th></th>\n",
              "      <th></th>\n",
              "    </tr>\n",
              "  </thead>\n",
              "  <tbody>\n",
              "    <tr>\n",
              "      <th>서울</th>\n",
              "      <td>수도권</td>\n",
              "      <td>9904312</td>\n",
              "      <td>9631482</td>\n",
              "      <td>9762546</td>\n",
              "      <td>9853972</td>\n",
              "      <td>2.83</td>\n",
              "      <td>-1.34</td>\n",
              "    </tr>\n",
              "    <tr>\n",
              "      <th>부산</th>\n",
              "      <td>경상권</td>\n",
              "      <td>3448737</td>\n",
              "      <td>3393191</td>\n",
              "      <td>3512547</td>\n",
              "      <td>3655437</td>\n",
              "      <td>1.63</td>\n",
              "      <td>-3.40</td>\n",
              "    </tr>\n",
              "    <tr>\n",
              "      <th>인천</th>\n",
              "      <td>수도권</td>\n",
              "      <td>2890451</td>\n",
              "      <td>2632035</td>\n",
              "      <td>2517680</td>\n",
              "      <td>2466338</td>\n",
              "      <td>9.82</td>\n",
              "      <td>4.54</td>\n",
              "    </tr>\n",
              "    <tr>\n",
              "      <th>대구</th>\n",
              "      <td>경상권</td>\n",
              "      <td>2466052</td>\n",
              "      <td>2431774</td>\n",
              "      <td>2456016</td>\n",
              "      <td>2473990</td>\n",
              "      <td>1.41</td>\n",
              "      <td>-0.99</td>\n",
              "    </tr>\n",
              "  </tbody>\n",
              "</table>\n",
              "</div>\n",
              "      <button class=\"colab-df-convert\" onclick=\"convertToInteractive('df-c6406d74-513f-4a10-9243-465017063bec')\"\n",
              "              title=\"Convert this dataframe to an interactive table.\"\n",
              "              style=\"display:none;\">\n",
              "        \n",
              "  <svg xmlns=\"http://www.w3.org/2000/svg\" height=\"24px\"viewBox=\"0 0 24 24\"\n",
              "       width=\"24px\">\n",
              "    <path d=\"M0 0h24v24H0V0z\" fill=\"none\"/>\n",
              "    <path d=\"M18.56 5.44l.94 2.06.94-2.06 2.06-.94-2.06-.94-.94-2.06-.94 2.06-2.06.94zm-11 1L8.5 8.5l.94-2.06 2.06-.94-2.06-.94L8.5 2.5l-.94 2.06-2.06.94zm10 10l.94 2.06.94-2.06 2.06-.94-2.06-.94-.94-2.06-.94 2.06-2.06.94z\"/><path d=\"M17.41 7.96l-1.37-1.37c-.4-.4-.92-.59-1.43-.59-.52 0-1.04.2-1.43.59L10.3 9.45l-7.72 7.72c-.78.78-.78 2.05 0 2.83L4 21.41c.39.39.9.59 1.41.59.51 0 1.02-.2 1.41-.59l7.78-7.78 2.81-2.81c.8-.78.8-2.07 0-2.86zM5.41 20L4 18.59l7.72-7.72 1.47 1.35L5.41 20z\"/>\n",
              "  </svg>\n",
              "      </button>\n",
              "      \n",
              "  <style>\n",
              "    .colab-df-container {\n",
              "      display:flex;\n",
              "      flex-wrap:wrap;\n",
              "      gap: 12px;\n",
              "    }\n",
              "\n",
              "    .colab-df-convert {\n",
              "      background-color: #E8F0FE;\n",
              "      border: none;\n",
              "      border-radius: 50%;\n",
              "      cursor: pointer;\n",
              "      display: none;\n",
              "      fill: #1967D2;\n",
              "      height: 32px;\n",
              "      padding: 0 0 0 0;\n",
              "      width: 32px;\n",
              "    }\n",
              "\n",
              "    .colab-df-convert:hover {\n",
              "      background-color: #E2EBFA;\n",
              "      box-shadow: 0px 1px 2px rgba(60, 64, 67, 0.3), 0px 1px 3px 1px rgba(60, 64, 67, 0.15);\n",
              "      fill: #174EA6;\n",
              "    }\n",
              "\n",
              "    [theme=dark] .colab-df-convert {\n",
              "      background-color: #3B4455;\n",
              "      fill: #D2E3FC;\n",
              "    }\n",
              "\n",
              "    [theme=dark] .colab-df-convert:hover {\n",
              "      background-color: #434B5C;\n",
              "      box-shadow: 0px 1px 3px 1px rgba(0, 0, 0, 0.15);\n",
              "      filter: drop-shadow(0px 1px 2px rgba(0, 0, 0, 0.3));\n",
              "      fill: #FFFFFF;\n",
              "    }\n",
              "  </style>\n",
              "\n",
              "      <script>\n",
              "        const buttonEl =\n",
              "          document.querySelector('#df-c6406d74-513f-4a10-9243-465017063bec button.colab-df-convert');\n",
              "        buttonEl.style.display =\n",
              "          google.colab.kernel.accessAllowed ? 'block' : 'none';\n",
              "\n",
              "        async function convertToInteractive(key) {\n",
              "          const element = document.querySelector('#df-c6406d74-513f-4a10-9243-465017063bec');\n",
              "          const dataTable =\n",
              "            await google.colab.kernel.invokeFunction('convertToInteractive',\n",
              "                                                     [key], {});\n",
              "          if (!dataTable) return;\n",
              "\n",
              "          const docLinkHtml = 'Like what you see? Visit the ' +\n",
              "            '<a target=\"_blank\" href=https://colab.research.google.com/notebooks/data_table.ipynb>data table notebook</a>'\n",
              "            + ' to learn more about interactive tables.';\n",
              "          element.innerHTML = '';\n",
              "          dataTable['output_type'] = 'display_data';\n",
              "          await google.colab.output.renderOutput(dataTable, element);\n",
              "          const docLink = document.createElement('div');\n",
              "          docLink.innerHTML = docLinkHtml;\n",
              "          element.appendChild(docLink);\n",
              "        }\n",
              "      </script>\n",
              "    </div>\n",
              "  </div>\n",
              "  "
            ]
          },
          "metadata": {},
          "execution_count": 44
        }
      ]
    },
    {
      "cell_type": "code",
      "metadata": {
        "school_cell_uuid": "53766b5a5edd4c24bd9f42a867bdc25c",
        "id": "kmJwTrHlSo-0",
        "outputId": "8f2e2656-0514-4e24-f588-281541fa06fa",
        "colab": {
          "base_uri": "https://localhost:8080/",
          "height": 206
        }
      },
      "source": [
        "# \"2010-2015 증가율\"이라는 이름의 열 삭제\n",
        "del df[\"2010-2015 증가율\"]\n",
        "df"
      ],
      "execution_count": 45,
      "outputs": [
        {
          "output_type": "execute_result",
          "data": {
            "text/plain": [
              "특성   지역     2015     2010     2005     2000  2005-2010 증가율\n",
              "도시                                                        \n",
              "서울  수도권  9904312  9631482  9762546  9853972          -1.34\n",
              "부산  경상권  3448737  3393191  3512547  3655437          -3.40\n",
              "인천  수도권  2890451  2632035  2517680  2466338           4.54\n",
              "대구  경상권  2466052  2431774  2456016  2473990          -0.99"
            ],
            "text/html": [
              "\n",
              "  <div id=\"df-17d05617-dee9-418f-bd29-81767bfa67ac\">\n",
              "    <div class=\"colab-df-container\">\n",
              "      <div>\n",
              "<style scoped>\n",
              "    .dataframe tbody tr th:only-of-type {\n",
              "        vertical-align: middle;\n",
              "    }\n",
              "\n",
              "    .dataframe tbody tr th {\n",
              "        vertical-align: top;\n",
              "    }\n",
              "\n",
              "    .dataframe thead th {\n",
              "        text-align: right;\n",
              "    }\n",
              "</style>\n",
              "<table border=\"1\" class=\"dataframe\">\n",
              "  <thead>\n",
              "    <tr style=\"text-align: right;\">\n",
              "      <th>특성</th>\n",
              "      <th>지역</th>\n",
              "      <th>2015</th>\n",
              "      <th>2010</th>\n",
              "      <th>2005</th>\n",
              "      <th>2000</th>\n",
              "      <th>2005-2010 증가율</th>\n",
              "    </tr>\n",
              "    <tr>\n",
              "      <th>도시</th>\n",
              "      <th></th>\n",
              "      <th></th>\n",
              "      <th></th>\n",
              "      <th></th>\n",
              "      <th></th>\n",
              "      <th></th>\n",
              "    </tr>\n",
              "  </thead>\n",
              "  <tbody>\n",
              "    <tr>\n",
              "      <th>서울</th>\n",
              "      <td>수도권</td>\n",
              "      <td>9904312</td>\n",
              "      <td>9631482</td>\n",
              "      <td>9762546</td>\n",
              "      <td>9853972</td>\n",
              "      <td>-1.34</td>\n",
              "    </tr>\n",
              "    <tr>\n",
              "      <th>부산</th>\n",
              "      <td>경상권</td>\n",
              "      <td>3448737</td>\n",
              "      <td>3393191</td>\n",
              "      <td>3512547</td>\n",
              "      <td>3655437</td>\n",
              "      <td>-3.40</td>\n",
              "    </tr>\n",
              "    <tr>\n",
              "      <th>인천</th>\n",
              "      <td>수도권</td>\n",
              "      <td>2890451</td>\n",
              "      <td>2632035</td>\n",
              "      <td>2517680</td>\n",
              "      <td>2466338</td>\n",
              "      <td>4.54</td>\n",
              "    </tr>\n",
              "    <tr>\n",
              "      <th>대구</th>\n",
              "      <td>경상권</td>\n",
              "      <td>2466052</td>\n",
              "      <td>2431774</td>\n",
              "      <td>2456016</td>\n",
              "      <td>2473990</td>\n",
              "      <td>-0.99</td>\n",
              "    </tr>\n",
              "  </tbody>\n",
              "</table>\n",
              "</div>\n",
              "      <button class=\"colab-df-convert\" onclick=\"convertToInteractive('df-17d05617-dee9-418f-bd29-81767bfa67ac')\"\n",
              "              title=\"Convert this dataframe to an interactive table.\"\n",
              "              style=\"display:none;\">\n",
              "        \n",
              "  <svg xmlns=\"http://www.w3.org/2000/svg\" height=\"24px\"viewBox=\"0 0 24 24\"\n",
              "       width=\"24px\">\n",
              "    <path d=\"M0 0h24v24H0V0z\" fill=\"none\"/>\n",
              "    <path d=\"M18.56 5.44l.94 2.06.94-2.06 2.06-.94-2.06-.94-.94-2.06-.94 2.06-2.06.94zm-11 1L8.5 8.5l.94-2.06 2.06-.94-2.06-.94L8.5 2.5l-.94 2.06-2.06.94zm10 10l.94 2.06.94-2.06 2.06-.94-2.06-.94-.94-2.06-.94 2.06-2.06.94z\"/><path d=\"M17.41 7.96l-1.37-1.37c-.4-.4-.92-.59-1.43-.59-.52 0-1.04.2-1.43.59L10.3 9.45l-7.72 7.72c-.78.78-.78 2.05 0 2.83L4 21.41c.39.39.9.59 1.41.59.51 0 1.02-.2 1.41-.59l7.78-7.78 2.81-2.81c.8-.78.8-2.07 0-2.86zM5.41 20L4 18.59l7.72-7.72 1.47 1.35L5.41 20z\"/>\n",
              "  </svg>\n",
              "      </button>\n",
              "      \n",
              "  <style>\n",
              "    .colab-df-container {\n",
              "      display:flex;\n",
              "      flex-wrap:wrap;\n",
              "      gap: 12px;\n",
              "    }\n",
              "\n",
              "    .colab-df-convert {\n",
              "      background-color: #E8F0FE;\n",
              "      border: none;\n",
              "      border-radius: 50%;\n",
              "      cursor: pointer;\n",
              "      display: none;\n",
              "      fill: #1967D2;\n",
              "      height: 32px;\n",
              "      padding: 0 0 0 0;\n",
              "      width: 32px;\n",
              "    }\n",
              "\n",
              "    .colab-df-convert:hover {\n",
              "      background-color: #E2EBFA;\n",
              "      box-shadow: 0px 1px 2px rgba(60, 64, 67, 0.3), 0px 1px 3px 1px rgba(60, 64, 67, 0.15);\n",
              "      fill: #174EA6;\n",
              "    }\n",
              "\n",
              "    [theme=dark] .colab-df-convert {\n",
              "      background-color: #3B4455;\n",
              "      fill: #D2E3FC;\n",
              "    }\n",
              "\n",
              "    [theme=dark] .colab-df-convert:hover {\n",
              "      background-color: #434B5C;\n",
              "      box-shadow: 0px 1px 3px 1px rgba(0, 0, 0, 0.15);\n",
              "      filter: drop-shadow(0px 1px 2px rgba(0, 0, 0, 0.3));\n",
              "      fill: #FFFFFF;\n",
              "    }\n",
              "  </style>\n",
              "\n",
              "      <script>\n",
              "        const buttonEl =\n",
              "          document.querySelector('#df-17d05617-dee9-418f-bd29-81767bfa67ac button.colab-df-convert');\n",
              "        buttonEl.style.display =\n",
              "          google.colab.kernel.accessAllowed ? 'block' : 'none';\n",
              "\n",
              "        async function convertToInteractive(key) {\n",
              "          const element = document.querySelector('#df-17d05617-dee9-418f-bd29-81767bfa67ac');\n",
              "          const dataTable =\n",
              "            await google.colab.kernel.invokeFunction('convertToInteractive',\n",
              "                                                     [key], {});\n",
              "          if (!dataTable) return;\n",
              "\n",
              "          const docLinkHtml = 'Like what you see? Visit the ' +\n",
              "            '<a target=\"_blank\" href=https://colab.research.google.com/notebooks/data_table.ipynb>data table notebook</a>'\n",
              "            + ' to learn more about interactive tables.';\n",
              "          element.innerHTML = '';\n",
              "          dataTable['output_type'] = 'display_data';\n",
              "          await google.colab.output.renderOutput(dataTable, element);\n",
              "          const docLink = document.createElement('div');\n",
              "          docLink.innerHTML = docLinkHtml;\n",
              "          element.appendChild(docLink);\n",
              "        }\n",
              "      </script>\n",
              "    </div>\n",
              "  </div>\n",
              "  "
            ]
          },
          "metadata": {},
          "execution_count": 45
        }
      ]
    },
    {
      "cell_type": "markdown",
      "metadata": {
        "school_cell_uuid": "054e8a8453344e1f82cddb291b8979ee",
        "id": "nZ088DaiSo-1"
      },
      "source": [
        "### 열 인덱싱"
      ]
    },
    {
      "cell_type": "markdown",
      "metadata": {
        "school_cell_uuid": "11f4d33758d349c996d2df220849bf65",
        "id": "WqBYDNjtSo-1"
      },
      "source": [
        "* 데이터프레임은 열 라벨을 키로, 열 시리즈를 값으로 가지는 딕셔너리와 비슷하다고 하였다. \n",
        "* 따라서 데이터프레임을 인덱싱을 할 때도 열 라벨(column label)을 키값으로 생각하여 인덱싱을 할 수 있다. \n",
        "* 인덱스로 라벨 값을 하나만 넣으면 시리즈 객체가 반환되고 라벨의 배열 또는 리스트를 넣으면 부분적인 데이터프레임이 반환된다. "
      ]
    },
    {
      "cell_type": "code",
      "metadata": {
        "school_cell_uuid": "cd1711c77b124743b903a95f11aa36f9",
        "id": "ySt8onEMSo-2",
        "outputId": "bb977d58-93fd-49ca-ae04-c4a45c07b7b8",
        "colab": {
          "base_uri": "https://localhost:8080/"
        }
      },
      "source": [
        "# 하나의 열만 인덱싱하면 시리즈가 반환된다.\n",
        "df[\"지역\"]"
      ],
      "execution_count": null,
      "outputs": [
        {
          "output_type": "execute_result",
          "data": {
            "text/plain": [
              "도시\n",
              "서울    수도권\n",
              "부산    경상권\n",
              "인천    수도권\n",
              "대구    경상권\n",
              "Name: 지역, dtype: object"
            ]
          },
          "metadata": {},
          "execution_count": 41
        }
      ]
    },
    {
      "cell_type": "code",
      "metadata": {
        "school_cell_uuid": "1a466758ba714775aa408dcf8094d1f2",
        "id": "A96JuW8ESo-2",
        "outputId": "b0e018be-e5f8-4364-bcf8-a9af25f3181a",
        "colab": {
          "base_uri": "https://localhost:8080/",
          "height": 206
        }
      },
      "source": [
        "# 여러개의 열을 인덱싱하면 부분적인 데이터프레임이 반환된다.\n",
        "df[[\"2010\", \"2015\"]]"
      ],
      "execution_count": 46,
      "outputs": [
        {
          "output_type": "execute_result",
          "data": {
            "text/plain": [
              "특성     2010     2015\n",
              "도시                  \n",
              "서울  9631482  9904312\n",
              "부산  3393191  3448737\n",
              "인천  2632035  2890451\n",
              "대구  2431774  2466052"
            ],
            "text/html": [
              "\n",
              "  <div id=\"df-46f017be-5a83-48c0-a98d-b1d0196c6453\">\n",
              "    <div class=\"colab-df-container\">\n",
              "      <div>\n",
              "<style scoped>\n",
              "    .dataframe tbody tr th:only-of-type {\n",
              "        vertical-align: middle;\n",
              "    }\n",
              "\n",
              "    .dataframe tbody tr th {\n",
              "        vertical-align: top;\n",
              "    }\n",
              "\n",
              "    .dataframe thead th {\n",
              "        text-align: right;\n",
              "    }\n",
              "</style>\n",
              "<table border=\"1\" class=\"dataframe\">\n",
              "  <thead>\n",
              "    <tr style=\"text-align: right;\">\n",
              "      <th>특성</th>\n",
              "      <th>2010</th>\n",
              "      <th>2015</th>\n",
              "    </tr>\n",
              "    <tr>\n",
              "      <th>도시</th>\n",
              "      <th></th>\n",
              "      <th></th>\n",
              "    </tr>\n",
              "  </thead>\n",
              "  <tbody>\n",
              "    <tr>\n",
              "      <th>서울</th>\n",
              "      <td>9631482</td>\n",
              "      <td>9904312</td>\n",
              "    </tr>\n",
              "    <tr>\n",
              "      <th>부산</th>\n",
              "      <td>3393191</td>\n",
              "      <td>3448737</td>\n",
              "    </tr>\n",
              "    <tr>\n",
              "      <th>인천</th>\n",
              "      <td>2632035</td>\n",
              "      <td>2890451</td>\n",
              "    </tr>\n",
              "    <tr>\n",
              "      <th>대구</th>\n",
              "      <td>2431774</td>\n",
              "      <td>2466052</td>\n",
              "    </tr>\n",
              "  </tbody>\n",
              "</table>\n",
              "</div>\n",
              "      <button class=\"colab-df-convert\" onclick=\"convertToInteractive('df-46f017be-5a83-48c0-a98d-b1d0196c6453')\"\n",
              "              title=\"Convert this dataframe to an interactive table.\"\n",
              "              style=\"display:none;\">\n",
              "        \n",
              "  <svg xmlns=\"http://www.w3.org/2000/svg\" height=\"24px\"viewBox=\"0 0 24 24\"\n",
              "       width=\"24px\">\n",
              "    <path d=\"M0 0h24v24H0V0z\" fill=\"none\"/>\n",
              "    <path d=\"M18.56 5.44l.94 2.06.94-2.06 2.06-.94-2.06-.94-.94-2.06-.94 2.06-2.06.94zm-11 1L8.5 8.5l.94-2.06 2.06-.94-2.06-.94L8.5 2.5l-.94 2.06-2.06.94zm10 10l.94 2.06.94-2.06 2.06-.94-2.06-.94-.94-2.06-.94 2.06-2.06.94z\"/><path d=\"M17.41 7.96l-1.37-1.37c-.4-.4-.92-.59-1.43-.59-.52 0-1.04.2-1.43.59L10.3 9.45l-7.72 7.72c-.78.78-.78 2.05 0 2.83L4 21.41c.39.39.9.59 1.41.59.51 0 1.02-.2 1.41-.59l7.78-7.78 2.81-2.81c.8-.78.8-2.07 0-2.86zM5.41 20L4 18.59l7.72-7.72 1.47 1.35L5.41 20z\"/>\n",
              "  </svg>\n",
              "      </button>\n",
              "      \n",
              "  <style>\n",
              "    .colab-df-container {\n",
              "      display:flex;\n",
              "      flex-wrap:wrap;\n",
              "      gap: 12px;\n",
              "    }\n",
              "\n",
              "    .colab-df-convert {\n",
              "      background-color: #E8F0FE;\n",
              "      border: none;\n",
              "      border-radius: 50%;\n",
              "      cursor: pointer;\n",
              "      display: none;\n",
              "      fill: #1967D2;\n",
              "      height: 32px;\n",
              "      padding: 0 0 0 0;\n",
              "      width: 32px;\n",
              "    }\n",
              "\n",
              "    .colab-df-convert:hover {\n",
              "      background-color: #E2EBFA;\n",
              "      box-shadow: 0px 1px 2px rgba(60, 64, 67, 0.3), 0px 1px 3px 1px rgba(60, 64, 67, 0.15);\n",
              "      fill: #174EA6;\n",
              "    }\n",
              "\n",
              "    [theme=dark] .colab-df-convert {\n",
              "      background-color: #3B4455;\n",
              "      fill: #D2E3FC;\n",
              "    }\n",
              "\n",
              "    [theme=dark] .colab-df-convert:hover {\n",
              "      background-color: #434B5C;\n",
              "      box-shadow: 0px 1px 3px 1px rgba(0, 0, 0, 0.15);\n",
              "      filter: drop-shadow(0px 1px 2px rgba(0, 0, 0, 0.3));\n",
              "      fill: #FFFFFF;\n",
              "    }\n",
              "  </style>\n",
              "\n",
              "      <script>\n",
              "        const buttonEl =\n",
              "          document.querySelector('#df-46f017be-5a83-48c0-a98d-b1d0196c6453 button.colab-df-convert');\n",
              "        buttonEl.style.display =\n",
              "          google.colab.kernel.accessAllowed ? 'block' : 'none';\n",
              "\n",
              "        async function convertToInteractive(key) {\n",
              "          const element = document.querySelector('#df-46f017be-5a83-48c0-a98d-b1d0196c6453');\n",
              "          const dataTable =\n",
              "            await google.colab.kernel.invokeFunction('convertToInteractive',\n",
              "                                                     [key], {});\n",
              "          if (!dataTable) return;\n",
              "\n",
              "          const docLinkHtml = 'Like what you see? Visit the ' +\n",
              "            '<a target=\"_blank\" href=https://colab.research.google.com/notebooks/data_table.ipynb>data table notebook</a>'\n",
              "            + ' to learn more about interactive tables.';\n",
              "          element.innerHTML = '';\n",
              "          dataTable['output_type'] = 'display_data';\n",
              "          await google.colab.output.renderOutput(dataTable, element);\n",
              "          const docLink = document.createElement('div');\n",
              "          docLink.innerHTML = docLinkHtml;\n",
              "          element.appendChild(docLink);\n",
              "        }\n",
              "      </script>\n",
              "    </div>\n",
              "  </div>\n",
              "  "
            ]
          },
          "metadata": {},
          "execution_count": 46
        }
      ]
    },
    {
      "cell_type": "markdown",
      "metadata": {
        "school_cell_uuid": "a7e0e861ca524b049abf9f37305c9d1d",
        "id": "TcAZrb89So-3"
      },
      "source": [
        "만약 하나의 열만 빼내면서 데이터프레임 자료형을 유지하고 싶다면 원소가 하나인 **리스트를 써서 인덱싱**하면 된다."
      ]
    },
    {
      "cell_type": "code",
      "metadata": {
        "school_cell_uuid": "98d4093da4bf47519e43e0e542bb81a7",
        "id": "CE-87K5lSo-3",
        "outputId": "23310ee5-8620-484b-f538-fcf7c8b0087c",
        "colab": {
          "base_uri": "https://localhost:8080/",
          "height": 206
        }
      },
      "source": [
        "# 2010이라는 열을 반환하면서 데이터프레임 자료형을 유지\n",
        "df[[\"2010\"]]"
      ],
      "execution_count": 47,
      "outputs": [
        {
          "output_type": "execute_result",
          "data": {
            "text/plain": [
              "특성     2010\n",
              "도시         \n",
              "서울  9631482\n",
              "부산  3393191\n",
              "인천  2632035\n",
              "대구  2431774"
            ],
            "text/html": [
              "\n",
              "  <div id=\"df-366d02b8-59e9-4407-9bcc-e1851e93b881\">\n",
              "    <div class=\"colab-df-container\">\n",
              "      <div>\n",
              "<style scoped>\n",
              "    .dataframe tbody tr th:only-of-type {\n",
              "        vertical-align: middle;\n",
              "    }\n",
              "\n",
              "    .dataframe tbody tr th {\n",
              "        vertical-align: top;\n",
              "    }\n",
              "\n",
              "    .dataframe thead th {\n",
              "        text-align: right;\n",
              "    }\n",
              "</style>\n",
              "<table border=\"1\" class=\"dataframe\">\n",
              "  <thead>\n",
              "    <tr style=\"text-align: right;\">\n",
              "      <th>특성</th>\n",
              "      <th>2010</th>\n",
              "    </tr>\n",
              "    <tr>\n",
              "      <th>도시</th>\n",
              "      <th></th>\n",
              "    </tr>\n",
              "  </thead>\n",
              "  <tbody>\n",
              "    <tr>\n",
              "      <th>서울</th>\n",
              "      <td>9631482</td>\n",
              "    </tr>\n",
              "    <tr>\n",
              "      <th>부산</th>\n",
              "      <td>3393191</td>\n",
              "    </tr>\n",
              "    <tr>\n",
              "      <th>인천</th>\n",
              "      <td>2632035</td>\n",
              "    </tr>\n",
              "    <tr>\n",
              "      <th>대구</th>\n",
              "      <td>2431774</td>\n",
              "    </tr>\n",
              "  </tbody>\n",
              "</table>\n",
              "</div>\n",
              "      <button class=\"colab-df-convert\" onclick=\"convertToInteractive('df-366d02b8-59e9-4407-9bcc-e1851e93b881')\"\n",
              "              title=\"Convert this dataframe to an interactive table.\"\n",
              "              style=\"display:none;\">\n",
              "        \n",
              "  <svg xmlns=\"http://www.w3.org/2000/svg\" height=\"24px\"viewBox=\"0 0 24 24\"\n",
              "       width=\"24px\">\n",
              "    <path d=\"M0 0h24v24H0V0z\" fill=\"none\"/>\n",
              "    <path d=\"M18.56 5.44l.94 2.06.94-2.06 2.06-.94-2.06-.94-.94-2.06-.94 2.06-2.06.94zm-11 1L8.5 8.5l.94-2.06 2.06-.94-2.06-.94L8.5 2.5l-.94 2.06-2.06.94zm10 10l.94 2.06.94-2.06 2.06-.94-2.06-.94-.94-2.06-.94 2.06-2.06.94z\"/><path d=\"M17.41 7.96l-1.37-1.37c-.4-.4-.92-.59-1.43-.59-.52 0-1.04.2-1.43.59L10.3 9.45l-7.72 7.72c-.78.78-.78 2.05 0 2.83L4 21.41c.39.39.9.59 1.41.59.51 0 1.02-.2 1.41-.59l7.78-7.78 2.81-2.81c.8-.78.8-2.07 0-2.86zM5.41 20L4 18.59l7.72-7.72 1.47 1.35L5.41 20z\"/>\n",
              "  </svg>\n",
              "      </button>\n",
              "      \n",
              "  <style>\n",
              "    .colab-df-container {\n",
              "      display:flex;\n",
              "      flex-wrap:wrap;\n",
              "      gap: 12px;\n",
              "    }\n",
              "\n",
              "    .colab-df-convert {\n",
              "      background-color: #E8F0FE;\n",
              "      border: none;\n",
              "      border-radius: 50%;\n",
              "      cursor: pointer;\n",
              "      display: none;\n",
              "      fill: #1967D2;\n",
              "      height: 32px;\n",
              "      padding: 0 0 0 0;\n",
              "      width: 32px;\n",
              "    }\n",
              "\n",
              "    .colab-df-convert:hover {\n",
              "      background-color: #E2EBFA;\n",
              "      box-shadow: 0px 1px 2px rgba(60, 64, 67, 0.3), 0px 1px 3px 1px rgba(60, 64, 67, 0.15);\n",
              "      fill: #174EA6;\n",
              "    }\n",
              "\n",
              "    [theme=dark] .colab-df-convert {\n",
              "      background-color: #3B4455;\n",
              "      fill: #D2E3FC;\n",
              "    }\n",
              "\n",
              "    [theme=dark] .colab-df-convert:hover {\n",
              "      background-color: #434B5C;\n",
              "      box-shadow: 0px 1px 3px 1px rgba(0, 0, 0, 0.15);\n",
              "      filter: drop-shadow(0px 1px 2px rgba(0, 0, 0, 0.3));\n",
              "      fill: #FFFFFF;\n",
              "    }\n",
              "  </style>\n",
              "\n",
              "      <script>\n",
              "        const buttonEl =\n",
              "          document.querySelector('#df-366d02b8-59e9-4407-9bcc-e1851e93b881 button.colab-df-convert');\n",
              "        buttonEl.style.display =\n",
              "          google.colab.kernel.accessAllowed ? 'block' : 'none';\n",
              "\n",
              "        async function convertToInteractive(key) {\n",
              "          const element = document.querySelector('#df-366d02b8-59e9-4407-9bcc-e1851e93b881');\n",
              "          const dataTable =\n",
              "            await google.colab.kernel.invokeFunction('convertToInteractive',\n",
              "                                                     [key], {});\n",
              "          if (!dataTable) return;\n",
              "\n",
              "          const docLinkHtml = 'Like what you see? Visit the ' +\n",
              "            '<a target=\"_blank\" href=https://colab.research.google.com/notebooks/data_table.ipynb>data table notebook</a>'\n",
              "            + ' to learn more about interactive tables.';\n",
              "          element.innerHTML = '';\n",
              "          dataTable['output_type'] = 'display_data';\n",
              "          await google.colab.output.renderOutput(dataTable, element);\n",
              "          const docLink = document.createElement('div');\n",
              "          docLink.innerHTML = docLinkHtml;\n",
              "          element.appendChild(docLink);\n",
              "        }\n",
              "      </script>\n",
              "    </div>\n",
              "  </div>\n",
              "  "
            ]
          },
          "metadata": {},
          "execution_count": 47
        }
      ]
    },
    {
      "cell_type": "code",
      "metadata": {
        "school_cell_uuid": "56a3e0fac9f94d4fb44a9d0f6f0ae7c7",
        "id": "Xi4V8Za_So-4",
        "outputId": "02649fc7-5844-4c4e-9c4d-b3cd0bce4684",
        "colab": {
          "base_uri": "https://localhost:8080/"
        }
      },
      "source": [
        "type(df[[\"2010\"]])"
      ],
      "execution_count": 48,
      "outputs": [
        {
          "output_type": "execute_result",
          "data": {
            "text/plain": [
              "pandas.core.frame.DataFrame"
            ]
          },
          "metadata": {},
          "execution_count": 48
        }
      ]
    },
    {
      "cell_type": "code",
      "metadata": {
        "school_cell_uuid": "31990ea645a64d8fa62abd6359c7bc54",
        "id": "efiVkk9FSo-4",
        "outputId": "aedee89a-a6d9-4ed3-eaaa-4ef3ad447d81",
        "colab": {
          "base_uri": "https://localhost:8080/"
        }
      },
      "source": [
        "# 2010이라는 열을 반환하면서 시리즈 자료형으로 변환\n",
        "df[\"2010\"]"
      ],
      "execution_count": 49,
      "outputs": [
        {
          "output_type": "execute_result",
          "data": {
            "text/plain": [
              "도시\n",
              "서울    9631482\n",
              "부산    3393191\n",
              "인천    2632035\n",
              "대구    2431774\n",
              "Name: 2010, dtype: int64"
            ]
          },
          "metadata": {},
          "execution_count": 49
        }
      ]
    },
    {
      "cell_type": "code",
      "metadata": {
        "school_cell_uuid": "ea3cd8cadad846929de81f636b2bceba",
        "id": "o_u7642PSo-5",
        "outputId": "b2687290-f33a-408a-993f-b1ea3de59078",
        "colab": {
          "base_uri": "https://localhost:8080/"
        }
      },
      "source": [
        "type(df[\"2010\"])"
      ],
      "execution_count": 50,
      "outputs": [
        {
          "output_type": "execute_result",
          "data": {
            "text/plain": [
              "pandas.core.series.Series"
            ]
          },
          "metadata": {},
          "execution_count": 50
        }
      ]
    },
    {
      "cell_type": "markdown",
      "metadata": {
        "school_cell_uuid": "1892bf3290f64bdc9ddb3dad2cf2ce09",
        "id": "5_72yqt1So-6"
      },
      "source": [
        " 다만 원래부터 문자열이 아닌 정수형 열 인덱스를 가지는 경우에는 인덱스 값으로 정수를 사용할 수 있다."
      ]
    },
    {
      "cell_type": "code",
      "metadata": {
        "school_cell_uuid": "420c2a76640549cbaab9b31f17915d2f",
        "id": "Yc9Wvbx1So-7",
        "outputId": "f7fa6248-cf32-458d-a5a0-feb25075d810",
        "colab": {
          "base_uri": "https://localhost:8080/",
          "height": 143
        }
      },
      "source": [
        "import numpy as np\n",
        "df2 = pd.DataFrame(np.arange(12).reshape(3, 4))\n",
        "df2"
      ],
      "execution_count": 51,
      "outputs": [
        {
          "output_type": "execute_result",
          "data": {
            "text/plain": [
              "   0  1   2   3\n",
              "0  0  1   2   3\n",
              "1  4  5   6   7\n",
              "2  8  9  10  11"
            ],
            "text/html": [
              "\n",
              "  <div id=\"df-7d4e5c93-6586-42cc-9a97-b676e9c8603d\">\n",
              "    <div class=\"colab-df-container\">\n",
              "      <div>\n",
              "<style scoped>\n",
              "    .dataframe tbody tr th:only-of-type {\n",
              "        vertical-align: middle;\n",
              "    }\n",
              "\n",
              "    .dataframe tbody tr th {\n",
              "        vertical-align: top;\n",
              "    }\n",
              "\n",
              "    .dataframe thead th {\n",
              "        text-align: right;\n",
              "    }\n",
              "</style>\n",
              "<table border=\"1\" class=\"dataframe\">\n",
              "  <thead>\n",
              "    <tr style=\"text-align: right;\">\n",
              "      <th></th>\n",
              "      <th>0</th>\n",
              "      <th>1</th>\n",
              "      <th>2</th>\n",
              "      <th>3</th>\n",
              "    </tr>\n",
              "  </thead>\n",
              "  <tbody>\n",
              "    <tr>\n",
              "      <th>0</th>\n",
              "      <td>0</td>\n",
              "      <td>1</td>\n",
              "      <td>2</td>\n",
              "      <td>3</td>\n",
              "    </tr>\n",
              "    <tr>\n",
              "      <th>1</th>\n",
              "      <td>4</td>\n",
              "      <td>5</td>\n",
              "      <td>6</td>\n",
              "      <td>7</td>\n",
              "    </tr>\n",
              "    <tr>\n",
              "      <th>2</th>\n",
              "      <td>8</td>\n",
              "      <td>9</td>\n",
              "      <td>10</td>\n",
              "      <td>11</td>\n",
              "    </tr>\n",
              "  </tbody>\n",
              "</table>\n",
              "</div>\n",
              "      <button class=\"colab-df-convert\" onclick=\"convertToInteractive('df-7d4e5c93-6586-42cc-9a97-b676e9c8603d')\"\n",
              "              title=\"Convert this dataframe to an interactive table.\"\n",
              "              style=\"display:none;\">\n",
              "        \n",
              "  <svg xmlns=\"http://www.w3.org/2000/svg\" height=\"24px\"viewBox=\"0 0 24 24\"\n",
              "       width=\"24px\">\n",
              "    <path d=\"M0 0h24v24H0V0z\" fill=\"none\"/>\n",
              "    <path d=\"M18.56 5.44l.94 2.06.94-2.06 2.06-.94-2.06-.94-.94-2.06-.94 2.06-2.06.94zm-11 1L8.5 8.5l.94-2.06 2.06-.94-2.06-.94L8.5 2.5l-.94 2.06-2.06.94zm10 10l.94 2.06.94-2.06 2.06-.94-2.06-.94-.94-2.06-.94 2.06-2.06.94z\"/><path d=\"M17.41 7.96l-1.37-1.37c-.4-.4-.92-.59-1.43-.59-.52 0-1.04.2-1.43.59L10.3 9.45l-7.72 7.72c-.78.78-.78 2.05 0 2.83L4 21.41c.39.39.9.59 1.41.59.51 0 1.02-.2 1.41-.59l7.78-7.78 2.81-2.81c.8-.78.8-2.07 0-2.86zM5.41 20L4 18.59l7.72-7.72 1.47 1.35L5.41 20z\"/>\n",
              "  </svg>\n",
              "      </button>\n",
              "      \n",
              "  <style>\n",
              "    .colab-df-container {\n",
              "      display:flex;\n",
              "      flex-wrap:wrap;\n",
              "      gap: 12px;\n",
              "    }\n",
              "\n",
              "    .colab-df-convert {\n",
              "      background-color: #E8F0FE;\n",
              "      border: none;\n",
              "      border-radius: 50%;\n",
              "      cursor: pointer;\n",
              "      display: none;\n",
              "      fill: #1967D2;\n",
              "      height: 32px;\n",
              "      padding: 0 0 0 0;\n",
              "      width: 32px;\n",
              "    }\n",
              "\n",
              "    .colab-df-convert:hover {\n",
              "      background-color: #E2EBFA;\n",
              "      box-shadow: 0px 1px 2px rgba(60, 64, 67, 0.3), 0px 1px 3px 1px rgba(60, 64, 67, 0.15);\n",
              "      fill: #174EA6;\n",
              "    }\n",
              "\n",
              "    [theme=dark] .colab-df-convert {\n",
              "      background-color: #3B4455;\n",
              "      fill: #D2E3FC;\n",
              "    }\n",
              "\n",
              "    [theme=dark] .colab-df-convert:hover {\n",
              "      background-color: #434B5C;\n",
              "      box-shadow: 0px 1px 3px 1px rgba(0, 0, 0, 0.15);\n",
              "      filter: drop-shadow(0px 1px 2px rgba(0, 0, 0, 0.3));\n",
              "      fill: #FFFFFF;\n",
              "    }\n",
              "  </style>\n",
              "\n",
              "      <script>\n",
              "        const buttonEl =\n",
              "          document.querySelector('#df-7d4e5c93-6586-42cc-9a97-b676e9c8603d button.colab-df-convert');\n",
              "        buttonEl.style.display =\n",
              "          google.colab.kernel.accessAllowed ? 'block' : 'none';\n",
              "\n",
              "        async function convertToInteractive(key) {\n",
              "          const element = document.querySelector('#df-7d4e5c93-6586-42cc-9a97-b676e9c8603d');\n",
              "          const dataTable =\n",
              "            await google.colab.kernel.invokeFunction('convertToInteractive',\n",
              "                                                     [key], {});\n",
              "          if (!dataTable) return;\n",
              "\n",
              "          const docLinkHtml = 'Like what you see? Visit the ' +\n",
              "            '<a target=\"_blank\" href=https://colab.research.google.com/notebooks/data_table.ipynb>data table notebook</a>'\n",
              "            + ' to learn more about interactive tables.';\n",
              "          element.innerHTML = '';\n",
              "          dataTable['output_type'] = 'display_data';\n",
              "          await google.colab.output.renderOutput(dataTable, element);\n",
              "          const docLink = document.createElement('div');\n",
              "          docLink.innerHTML = docLinkHtml;\n",
              "          element.appendChild(docLink);\n",
              "        }\n",
              "      </script>\n",
              "    </div>\n",
              "  </div>\n",
              "  "
            ]
          },
          "metadata": {},
          "execution_count": 51
        }
      ]
    },
    {
      "cell_type": "code",
      "metadata": {
        "school_cell_uuid": "d48c1f097ce548cc8e57bb36829397ab",
        "id": "kpJOqEYISo-7",
        "outputId": "5db8369e-10a0-4cd8-a4d9-b7f8b6511ca9",
        "colab": {
          "base_uri": "https://localhost:8080/"
        }
      },
      "source": [
        "df2[2]"
      ],
      "execution_count": 52,
      "outputs": [
        {
          "output_type": "execute_result",
          "data": {
            "text/plain": [
              "0     2\n",
              "1     6\n",
              "2    10\n",
              "Name: 2, dtype: int64"
            ]
          },
          "metadata": {},
          "execution_count": 52
        }
      ]
    },
    {
      "cell_type": "code",
      "metadata": {
        "school_cell_uuid": "d48c1f097ce548cc8e57bb36829397ab",
        "id": "wK2Hv1ikSo-8",
        "outputId": "fc7533c9-9e62-44b9-c252-32d00376ea77",
        "colab": {
          "base_uri": "https://localhost:8080/",
          "height": 143
        }
      },
      "source": [
        "df2[[1, 2]]"
      ],
      "execution_count": 53,
      "outputs": [
        {
          "output_type": "execute_result",
          "data": {
            "text/plain": [
              "   1   2\n",
              "0  1   2\n",
              "1  5   6\n",
              "2  9  10"
            ],
            "text/html": [
              "\n",
              "  <div id=\"df-5713ec28-ce32-41f7-968f-07ad72625f4b\">\n",
              "    <div class=\"colab-df-container\">\n",
              "      <div>\n",
              "<style scoped>\n",
              "    .dataframe tbody tr th:only-of-type {\n",
              "        vertical-align: middle;\n",
              "    }\n",
              "\n",
              "    .dataframe tbody tr th {\n",
              "        vertical-align: top;\n",
              "    }\n",
              "\n",
              "    .dataframe thead th {\n",
              "        text-align: right;\n",
              "    }\n",
              "</style>\n",
              "<table border=\"1\" class=\"dataframe\">\n",
              "  <thead>\n",
              "    <tr style=\"text-align: right;\">\n",
              "      <th></th>\n",
              "      <th>1</th>\n",
              "      <th>2</th>\n",
              "    </tr>\n",
              "  </thead>\n",
              "  <tbody>\n",
              "    <tr>\n",
              "      <th>0</th>\n",
              "      <td>1</td>\n",
              "      <td>2</td>\n",
              "    </tr>\n",
              "    <tr>\n",
              "      <th>1</th>\n",
              "      <td>5</td>\n",
              "      <td>6</td>\n",
              "    </tr>\n",
              "    <tr>\n",
              "      <th>2</th>\n",
              "      <td>9</td>\n",
              "      <td>10</td>\n",
              "    </tr>\n",
              "  </tbody>\n",
              "</table>\n",
              "</div>\n",
              "      <button class=\"colab-df-convert\" onclick=\"convertToInteractive('df-5713ec28-ce32-41f7-968f-07ad72625f4b')\"\n",
              "              title=\"Convert this dataframe to an interactive table.\"\n",
              "              style=\"display:none;\">\n",
              "        \n",
              "  <svg xmlns=\"http://www.w3.org/2000/svg\" height=\"24px\"viewBox=\"0 0 24 24\"\n",
              "       width=\"24px\">\n",
              "    <path d=\"M0 0h24v24H0V0z\" fill=\"none\"/>\n",
              "    <path d=\"M18.56 5.44l.94 2.06.94-2.06 2.06-.94-2.06-.94-.94-2.06-.94 2.06-2.06.94zm-11 1L8.5 8.5l.94-2.06 2.06-.94-2.06-.94L8.5 2.5l-.94 2.06-2.06.94zm10 10l.94 2.06.94-2.06 2.06-.94-2.06-.94-.94-2.06-.94 2.06-2.06.94z\"/><path d=\"M17.41 7.96l-1.37-1.37c-.4-.4-.92-.59-1.43-.59-.52 0-1.04.2-1.43.59L10.3 9.45l-7.72 7.72c-.78.78-.78 2.05 0 2.83L4 21.41c.39.39.9.59 1.41.59.51 0 1.02-.2 1.41-.59l7.78-7.78 2.81-2.81c.8-.78.8-2.07 0-2.86zM5.41 20L4 18.59l7.72-7.72 1.47 1.35L5.41 20z\"/>\n",
              "  </svg>\n",
              "      </button>\n",
              "      \n",
              "  <style>\n",
              "    .colab-df-container {\n",
              "      display:flex;\n",
              "      flex-wrap:wrap;\n",
              "      gap: 12px;\n",
              "    }\n",
              "\n",
              "    .colab-df-convert {\n",
              "      background-color: #E8F0FE;\n",
              "      border: none;\n",
              "      border-radius: 50%;\n",
              "      cursor: pointer;\n",
              "      display: none;\n",
              "      fill: #1967D2;\n",
              "      height: 32px;\n",
              "      padding: 0 0 0 0;\n",
              "      width: 32px;\n",
              "    }\n",
              "\n",
              "    .colab-df-convert:hover {\n",
              "      background-color: #E2EBFA;\n",
              "      box-shadow: 0px 1px 2px rgba(60, 64, 67, 0.3), 0px 1px 3px 1px rgba(60, 64, 67, 0.15);\n",
              "      fill: #174EA6;\n",
              "    }\n",
              "\n",
              "    [theme=dark] .colab-df-convert {\n",
              "      background-color: #3B4455;\n",
              "      fill: #D2E3FC;\n",
              "    }\n",
              "\n",
              "    [theme=dark] .colab-df-convert:hover {\n",
              "      background-color: #434B5C;\n",
              "      box-shadow: 0px 1px 3px 1px rgba(0, 0, 0, 0.15);\n",
              "      filter: drop-shadow(0px 1px 2px rgba(0, 0, 0, 0.3));\n",
              "      fill: #FFFFFF;\n",
              "    }\n",
              "  </style>\n",
              "\n",
              "      <script>\n",
              "        const buttonEl =\n",
              "          document.querySelector('#df-5713ec28-ce32-41f7-968f-07ad72625f4b button.colab-df-convert');\n",
              "        buttonEl.style.display =\n",
              "          google.colab.kernel.accessAllowed ? 'block' : 'none';\n",
              "\n",
              "        async function convertToInteractive(key) {\n",
              "          const element = document.querySelector('#df-5713ec28-ce32-41f7-968f-07ad72625f4b');\n",
              "          const dataTable =\n",
              "            await google.colab.kernel.invokeFunction('convertToInteractive',\n",
              "                                                     [key], {});\n",
              "          if (!dataTable) return;\n",
              "\n",
              "          const docLinkHtml = 'Like what you see? Visit the ' +\n",
              "            '<a target=\"_blank\" href=https://colab.research.google.com/notebooks/data_table.ipynb>data table notebook</a>'\n",
              "            + ' to learn more about interactive tables.';\n",
              "          element.innerHTML = '';\n",
              "          dataTable['output_type'] = 'display_data';\n",
              "          await google.colab.output.renderOutput(dataTable, element);\n",
              "          const docLink = document.createElement('div');\n",
              "          docLink.innerHTML = docLinkHtml;\n",
              "          element.appendChild(docLink);\n",
              "        }\n",
              "      </script>\n",
              "    </div>\n",
              "  </div>\n",
              "  "
            ]
          },
          "metadata": {},
          "execution_count": 53
        }
      ]
    },
    {
      "cell_type": "markdown",
      "metadata": {
        "school_cell_uuid": "5c121d8c1b444bf2bfde8690212a5f8e",
        "id": "k2Mg9IcmSo-8"
      },
      "source": [
        "### 행 인덱싱"
      ]
    },
    {
      "cell_type": "markdown",
      "metadata": {
        "school_cell_uuid": "beff7c796fb3438fb9a256538fb3d527",
        "id": "GVy2M4L0So-9"
      },
      "source": [
        "만약 행 단위로 인덱싱을 하고자 하면 항상 슬라이싱(slicing)을 해야 한다. 인덱스의 값이 문자 라벨이면 라벨 슬라이싱도 가능하다."
      ]
    },
    {
      "cell_type": "code",
      "metadata": {
        "school_cell_uuid": "7ee64974f2364281954b9eae041c1c44",
        "id": "j124e-2CSo-9",
        "outputId": "8793490f-a258-465f-875b-a0c93832a76e",
        "colab": {
          "base_uri": "https://localhost:8080/",
          "height": 206
        }
      },
      "source": [
        "df"
      ],
      "execution_count": 54,
      "outputs": [
        {
          "output_type": "execute_result",
          "data": {
            "text/plain": [
              "특성   지역     2015     2010     2005     2000  2005-2010 증가율\n",
              "도시                                                        \n",
              "서울  수도권  9904312  9631482  9762546  9853972          -1.34\n",
              "부산  경상권  3448737  3393191  3512547  3655437          -3.40\n",
              "인천  수도권  2890451  2632035  2517680  2466338           4.54\n",
              "대구  경상권  2466052  2431774  2456016  2473990          -0.99"
            ],
            "text/html": [
              "\n",
              "  <div id=\"df-793543f3-5c59-4ad8-a2be-322bd2996999\">\n",
              "    <div class=\"colab-df-container\">\n",
              "      <div>\n",
              "<style scoped>\n",
              "    .dataframe tbody tr th:only-of-type {\n",
              "        vertical-align: middle;\n",
              "    }\n",
              "\n",
              "    .dataframe tbody tr th {\n",
              "        vertical-align: top;\n",
              "    }\n",
              "\n",
              "    .dataframe thead th {\n",
              "        text-align: right;\n",
              "    }\n",
              "</style>\n",
              "<table border=\"1\" class=\"dataframe\">\n",
              "  <thead>\n",
              "    <tr style=\"text-align: right;\">\n",
              "      <th>특성</th>\n",
              "      <th>지역</th>\n",
              "      <th>2015</th>\n",
              "      <th>2010</th>\n",
              "      <th>2005</th>\n",
              "      <th>2000</th>\n",
              "      <th>2005-2010 증가율</th>\n",
              "    </tr>\n",
              "    <tr>\n",
              "      <th>도시</th>\n",
              "      <th></th>\n",
              "      <th></th>\n",
              "      <th></th>\n",
              "      <th></th>\n",
              "      <th></th>\n",
              "      <th></th>\n",
              "    </tr>\n",
              "  </thead>\n",
              "  <tbody>\n",
              "    <tr>\n",
              "      <th>서울</th>\n",
              "      <td>수도권</td>\n",
              "      <td>9904312</td>\n",
              "      <td>9631482</td>\n",
              "      <td>9762546</td>\n",
              "      <td>9853972</td>\n",
              "      <td>-1.34</td>\n",
              "    </tr>\n",
              "    <tr>\n",
              "      <th>부산</th>\n",
              "      <td>경상권</td>\n",
              "      <td>3448737</td>\n",
              "      <td>3393191</td>\n",
              "      <td>3512547</td>\n",
              "      <td>3655437</td>\n",
              "      <td>-3.40</td>\n",
              "    </tr>\n",
              "    <tr>\n",
              "      <th>인천</th>\n",
              "      <td>수도권</td>\n",
              "      <td>2890451</td>\n",
              "      <td>2632035</td>\n",
              "      <td>2517680</td>\n",
              "      <td>2466338</td>\n",
              "      <td>4.54</td>\n",
              "    </tr>\n",
              "    <tr>\n",
              "      <th>대구</th>\n",
              "      <td>경상권</td>\n",
              "      <td>2466052</td>\n",
              "      <td>2431774</td>\n",
              "      <td>2456016</td>\n",
              "      <td>2473990</td>\n",
              "      <td>-0.99</td>\n",
              "    </tr>\n",
              "  </tbody>\n",
              "</table>\n",
              "</div>\n",
              "      <button class=\"colab-df-convert\" onclick=\"convertToInteractive('df-793543f3-5c59-4ad8-a2be-322bd2996999')\"\n",
              "              title=\"Convert this dataframe to an interactive table.\"\n",
              "              style=\"display:none;\">\n",
              "        \n",
              "  <svg xmlns=\"http://www.w3.org/2000/svg\" height=\"24px\"viewBox=\"0 0 24 24\"\n",
              "       width=\"24px\">\n",
              "    <path d=\"M0 0h24v24H0V0z\" fill=\"none\"/>\n",
              "    <path d=\"M18.56 5.44l.94 2.06.94-2.06 2.06-.94-2.06-.94-.94-2.06-.94 2.06-2.06.94zm-11 1L8.5 8.5l.94-2.06 2.06-.94-2.06-.94L8.5 2.5l-.94 2.06-2.06.94zm10 10l.94 2.06.94-2.06 2.06-.94-2.06-.94-.94-2.06-.94 2.06-2.06.94z\"/><path d=\"M17.41 7.96l-1.37-1.37c-.4-.4-.92-.59-1.43-.59-.52 0-1.04.2-1.43.59L10.3 9.45l-7.72 7.72c-.78.78-.78 2.05 0 2.83L4 21.41c.39.39.9.59 1.41.59.51 0 1.02-.2 1.41-.59l7.78-7.78 2.81-2.81c.8-.78.8-2.07 0-2.86zM5.41 20L4 18.59l7.72-7.72 1.47 1.35L5.41 20z\"/>\n",
              "  </svg>\n",
              "      </button>\n",
              "      \n",
              "  <style>\n",
              "    .colab-df-container {\n",
              "      display:flex;\n",
              "      flex-wrap:wrap;\n",
              "      gap: 12px;\n",
              "    }\n",
              "\n",
              "    .colab-df-convert {\n",
              "      background-color: #E8F0FE;\n",
              "      border: none;\n",
              "      border-radius: 50%;\n",
              "      cursor: pointer;\n",
              "      display: none;\n",
              "      fill: #1967D2;\n",
              "      height: 32px;\n",
              "      padding: 0 0 0 0;\n",
              "      width: 32px;\n",
              "    }\n",
              "\n",
              "    .colab-df-convert:hover {\n",
              "      background-color: #E2EBFA;\n",
              "      box-shadow: 0px 1px 2px rgba(60, 64, 67, 0.3), 0px 1px 3px 1px rgba(60, 64, 67, 0.15);\n",
              "      fill: #174EA6;\n",
              "    }\n",
              "\n",
              "    [theme=dark] .colab-df-convert {\n",
              "      background-color: #3B4455;\n",
              "      fill: #D2E3FC;\n",
              "    }\n",
              "\n",
              "    [theme=dark] .colab-df-convert:hover {\n",
              "      background-color: #434B5C;\n",
              "      box-shadow: 0px 1px 3px 1px rgba(0, 0, 0, 0.15);\n",
              "      filter: drop-shadow(0px 1px 2px rgba(0, 0, 0, 0.3));\n",
              "      fill: #FFFFFF;\n",
              "    }\n",
              "  </style>\n",
              "\n",
              "      <script>\n",
              "        const buttonEl =\n",
              "          document.querySelector('#df-793543f3-5c59-4ad8-a2be-322bd2996999 button.colab-df-convert');\n",
              "        buttonEl.style.display =\n",
              "          google.colab.kernel.accessAllowed ? 'block' : 'none';\n",
              "\n",
              "        async function convertToInteractive(key) {\n",
              "          const element = document.querySelector('#df-793543f3-5c59-4ad8-a2be-322bd2996999');\n",
              "          const dataTable =\n",
              "            await google.colab.kernel.invokeFunction('convertToInteractive',\n",
              "                                                     [key], {});\n",
              "          if (!dataTable) return;\n",
              "\n",
              "          const docLinkHtml = 'Like what you see? Visit the ' +\n",
              "            '<a target=\"_blank\" href=https://colab.research.google.com/notebooks/data_table.ipynb>data table notebook</a>'\n",
              "            + ' to learn more about interactive tables.';\n",
              "          element.innerHTML = '';\n",
              "          dataTable['output_type'] = 'display_data';\n",
              "          await google.colab.output.renderOutput(dataTable, element);\n",
              "          const docLink = document.createElement('div');\n",
              "          docLink.innerHTML = docLinkHtml;\n",
              "          element.appendChild(docLink);\n",
              "        }\n",
              "      </script>\n",
              "    </div>\n",
              "  </div>\n",
              "  "
            ]
          },
          "metadata": {},
          "execution_count": 54
        }
      ]
    },
    {
      "cell_type": "code",
      "metadata": {
        "school_cell_uuid": "0ad013c544644b9b812b297229017f4f",
        "id": "Pr0-BTh2So--",
        "colab": {
          "base_uri": "https://localhost:8080/",
          "height": 143
        },
        "outputId": "a4bc1f00-c93a-4a66-f9f6-e3aedd2d5b7b"
      },
      "source": [
        "df[1:3]"
      ],
      "execution_count": 55,
      "outputs": [
        {
          "output_type": "execute_result",
          "data": {
            "text/plain": [
              "특성   지역     2015     2010     2005     2000  2005-2010 증가율\n",
              "도시                                                        \n",
              "부산  경상권  3448737  3393191  3512547  3655437          -3.40\n",
              "인천  수도권  2890451  2632035  2517680  2466338           4.54"
            ],
            "text/html": [
              "\n",
              "  <div id=\"df-add50e93-2331-410e-b368-982dd2f38d37\">\n",
              "    <div class=\"colab-df-container\">\n",
              "      <div>\n",
              "<style scoped>\n",
              "    .dataframe tbody tr th:only-of-type {\n",
              "        vertical-align: middle;\n",
              "    }\n",
              "\n",
              "    .dataframe tbody tr th {\n",
              "        vertical-align: top;\n",
              "    }\n",
              "\n",
              "    .dataframe thead th {\n",
              "        text-align: right;\n",
              "    }\n",
              "</style>\n",
              "<table border=\"1\" class=\"dataframe\">\n",
              "  <thead>\n",
              "    <tr style=\"text-align: right;\">\n",
              "      <th>특성</th>\n",
              "      <th>지역</th>\n",
              "      <th>2015</th>\n",
              "      <th>2010</th>\n",
              "      <th>2005</th>\n",
              "      <th>2000</th>\n",
              "      <th>2005-2010 증가율</th>\n",
              "    </tr>\n",
              "    <tr>\n",
              "      <th>도시</th>\n",
              "      <th></th>\n",
              "      <th></th>\n",
              "      <th></th>\n",
              "      <th></th>\n",
              "      <th></th>\n",
              "      <th></th>\n",
              "    </tr>\n",
              "  </thead>\n",
              "  <tbody>\n",
              "    <tr>\n",
              "      <th>부산</th>\n",
              "      <td>경상권</td>\n",
              "      <td>3448737</td>\n",
              "      <td>3393191</td>\n",
              "      <td>3512547</td>\n",
              "      <td>3655437</td>\n",
              "      <td>-3.40</td>\n",
              "    </tr>\n",
              "    <tr>\n",
              "      <th>인천</th>\n",
              "      <td>수도권</td>\n",
              "      <td>2890451</td>\n",
              "      <td>2632035</td>\n",
              "      <td>2517680</td>\n",
              "      <td>2466338</td>\n",
              "      <td>4.54</td>\n",
              "    </tr>\n",
              "  </tbody>\n",
              "</table>\n",
              "</div>\n",
              "      <button class=\"colab-df-convert\" onclick=\"convertToInteractive('df-add50e93-2331-410e-b368-982dd2f38d37')\"\n",
              "              title=\"Convert this dataframe to an interactive table.\"\n",
              "              style=\"display:none;\">\n",
              "        \n",
              "  <svg xmlns=\"http://www.w3.org/2000/svg\" height=\"24px\"viewBox=\"0 0 24 24\"\n",
              "       width=\"24px\">\n",
              "    <path d=\"M0 0h24v24H0V0z\" fill=\"none\"/>\n",
              "    <path d=\"M18.56 5.44l.94 2.06.94-2.06 2.06-.94-2.06-.94-.94-2.06-.94 2.06-2.06.94zm-11 1L8.5 8.5l.94-2.06 2.06-.94-2.06-.94L8.5 2.5l-.94 2.06-2.06.94zm10 10l.94 2.06.94-2.06 2.06-.94-2.06-.94-.94-2.06-.94 2.06-2.06.94z\"/><path d=\"M17.41 7.96l-1.37-1.37c-.4-.4-.92-.59-1.43-.59-.52 0-1.04.2-1.43.59L10.3 9.45l-7.72 7.72c-.78.78-.78 2.05 0 2.83L4 21.41c.39.39.9.59 1.41.59.51 0 1.02-.2 1.41-.59l7.78-7.78 2.81-2.81c.8-.78.8-2.07 0-2.86zM5.41 20L4 18.59l7.72-7.72 1.47 1.35L5.41 20z\"/>\n",
              "  </svg>\n",
              "      </button>\n",
              "      \n",
              "  <style>\n",
              "    .colab-df-container {\n",
              "      display:flex;\n",
              "      flex-wrap:wrap;\n",
              "      gap: 12px;\n",
              "    }\n",
              "\n",
              "    .colab-df-convert {\n",
              "      background-color: #E8F0FE;\n",
              "      border: none;\n",
              "      border-radius: 50%;\n",
              "      cursor: pointer;\n",
              "      display: none;\n",
              "      fill: #1967D2;\n",
              "      height: 32px;\n",
              "      padding: 0 0 0 0;\n",
              "      width: 32px;\n",
              "    }\n",
              "\n",
              "    .colab-df-convert:hover {\n",
              "      background-color: #E2EBFA;\n",
              "      box-shadow: 0px 1px 2px rgba(60, 64, 67, 0.3), 0px 1px 3px 1px rgba(60, 64, 67, 0.15);\n",
              "      fill: #174EA6;\n",
              "    }\n",
              "\n",
              "    [theme=dark] .colab-df-convert {\n",
              "      background-color: #3B4455;\n",
              "      fill: #D2E3FC;\n",
              "    }\n",
              "\n",
              "    [theme=dark] .colab-df-convert:hover {\n",
              "      background-color: #434B5C;\n",
              "      box-shadow: 0px 1px 3px 1px rgba(0, 0, 0, 0.15);\n",
              "      filter: drop-shadow(0px 1px 2px rgba(0, 0, 0, 0.3));\n",
              "      fill: #FFFFFF;\n",
              "    }\n",
              "  </style>\n",
              "\n",
              "      <script>\n",
              "        const buttonEl =\n",
              "          document.querySelector('#df-add50e93-2331-410e-b368-982dd2f38d37 button.colab-df-convert');\n",
              "        buttonEl.style.display =\n",
              "          google.colab.kernel.accessAllowed ? 'block' : 'none';\n",
              "\n",
              "        async function convertToInteractive(key) {\n",
              "          const element = document.querySelector('#df-add50e93-2331-410e-b368-982dd2f38d37');\n",
              "          const dataTable =\n",
              "            await google.colab.kernel.invokeFunction('convertToInteractive',\n",
              "                                                     [key], {});\n",
              "          if (!dataTable) return;\n",
              "\n",
              "          const docLinkHtml = 'Like what you see? Visit the ' +\n",
              "            '<a target=\"_blank\" href=https://colab.research.google.com/notebooks/data_table.ipynb>data table notebook</a>'\n",
              "            + ' to learn more about interactive tables.';\n",
              "          element.innerHTML = '';\n",
              "          dataTable['output_type'] = 'display_data';\n",
              "          await google.colab.output.renderOutput(dataTable, element);\n",
              "          const docLink = document.createElement('div');\n",
              "          docLink.innerHTML = docLinkHtml;\n",
              "          element.appendChild(docLink);\n",
              "        }\n",
              "      </script>\n",
              "    </div>\n",
              "  </div>\n",
              "  "
            ]
          },
          "metadata": {},
          "execution_count": 55
        }
      ]
    },
    {
      "cell_type": "code",
      "metadata": {
        "school_cell_uuid": "92ffadb5c2044bd5825ce7c52911c6b3",
        "id": "kpj8lEsOSo--",
        "colab": {
          "base_uri": "https://localhost:8080/",
          "height": 143
        },
        "outputId": "71d7c692-49c4-4c3c-e11c-c1e3dd178dd5"
      },
      "source": [
        "df[\"서울\":\"부산\"]"
      ],
      "execution_count": 56,
      "outputs": [
        {
          "output_type": "execute_result",
          "data": {
            "text/plain": [
              "특성   지역     2015     2010     2005     2000  2005-2010 증가율\n",
              "도시                                                        \n",
              "서울  수도권  9904312  9631482  9762546  9853972          -1.34\n",
              "부산  경상권  3448737  3393191  3512547  3655437          -3.40"
            ],
            "text/html": [
              "\n",
              "  <div id=\"df-e900d969-3955-4847-a3f4-2ae41f06cd96\">\n",
              "    <div class=\"colab-df-container\">\n",
              "      <div>\n",
              "<style scoped>\n",
              "    .dataframe tbody tr th:only-of-type {\n",
              "        vertical-align: middle;\n",
              "    }\n",
              "\n",
              "    .dataframe tbody tr th {\n",
              "        vertical-align: top;\n",
              "    }\n",
              "\n",
              "    .dataframe thead th {\n",
              "        text-align: right;\n",
              "    }\n",
              "</style>\n",
              "<table border=\"1\" class=\"dataframe\">\n",
              "  <thead>\n",
              "    <tr style=\"text-align: right;\">\n",
              "      <th>특성</th>\n",
              "      <th>지역</th>\n",
              "      <th>2015</th>\n",
              "      <th>2010</th>\n",
              "      <th>2005</th>\n",
              "      <th>2000</th>\n",
              "      <th>2005-2010 증가율</th>\n",
              "    </tr>\n",
              "    <tr>\n",
              "      <th>도시</th>\n",
              "      <th></th>\n",
              "      <th></th>\n",
              "      <th></th>\n",
              "      <th></th>\n",
              "      <th></th>\n",
              "      <th></th>\n",
              "    </tr>\n",
              "  </thead>\n",
              "  <tbody>\n",
              "    <tr>\n",
              "      <th>서울</th>\n",
              "      <td>수도권</td>\n",
              "      <td>9904312</td>\n",
              "      <td>9631482</td>\n",
              "      <td>9762546</td>\n",
              "      <td>9853972</td>\n",
              "      <td>-1.34</td>\n",
              "    </tr>\n",
              "    <tr>\n",
              "      <th>부산</th>\n",
              "      <td>경상권</td>\n",
              "      <td>3448737</td>\n",
              "      <td>3393191</td>\n",
              "      <td>3512547</td>\n",
              "      <td>3655437</td>\n",
              "      <td>-3.40</td>\n",
              "    </tr>\n",
              "  </tbody>\n",
              "</table>\n",
              "</div>\n",
              "      <button class=\"colab-df-convert\" onclick=\"convertToInteractive('df-e900d969-3955-4847-a3f4-2ae41f06cd96')\"\n",
              "              title=\"Convert this dataframe to an interactive table.\"\n",
              "              style=\"display:none;\">\n",
              "        \n",
              "  <svg xmlns=\"http://www.w3.org/2000/svg\" height=\"24px\"viewBox=\"0 0 24 24\"\n",
              "       width=\"24px\">\n",
              "    <path d=\"M0 0h24v24H0V0z\" fill=\"none\"/>\n",
              "    <path d=\"M18.56 5.44l.94 2.06.94-2.06 2.06-.94-2.06-.94-.94-2.06-.94 2.06-2.06.94zm-11 1L8.5 8.5l.94-2.06 2.06-.94-2.06-.94L8.5 2.5l-.94 2.06-2.06.94zm10 10l.94 2.06.94-2.06 2.06-.94-2.06-.94-.94-2.06-.94 2.06-2.06.94z\"/><path d=\"M17.41 7.96l-1.37-1.37c-.4-.4-.92-.59-1.43-.59-.52 0-1.04.2-1.43.59L10.3 9.45l-7.72 7.72c-.78.78-.78 2.05 0 2.83L4 21.41c.39.39.9.59 1.41.59.51 0 1.02-.2 1.41-.59l7.78-7.78 2.81-2.81c.8-.78.8-2.07 0-2.86zM5.41 20L4 18.59l7.72-7.72 1.47 1.35L5.41 20z\"/>\n",
              "  </svg>\n",
              "      </button>\n",
              "      \n",
              "  <style>\n",
              "    .colab-df-container {\n",
              "      display:flex;\n",
              "      flex-wrap:wrap;\n",
              "      gap: 12px;\n",
              "    }\n",
              "\n",
              "    .colab-df-convert {\n",
              "      background-color: #E8F0FE;\n",
              "      border: none;\n",
              "      border-radius: 50%;\n",
              "      cursor: pointer;\n",
              "      display: none;\n",
              "      fill: #1967D2;\n",
              "      height: 32px;\n",
              "      padding: 0 0 0 0;\n",
              "      width: 32px;\n",
              "    }\n",
              "\n",
              "    .colab-df-convert:hover {\n",
              "      background-color: #E2EBFA;\n",
              "      box-shadow: 0px 1px 2px rgba(60, 64, 67, 0.3), 0px 1px 3px 1px rgba(60, 64, 67, 0.15);\n",
              "      fill: #174EA6;\n",
              "    }\n",
              "\n",
              "    [theme=dark] .colab-df-convert {\n",
              "      background-color: #3B4455;\n",
              "      fill: #D2E3FC;\n",
              "    }\n",
              "\n",
              "    [theme=dark] .colab-df-convert:hover {\n",
              "      background-color: #434B5C;\n",
              "      box-shadow: 0px 1px 3px 1px rgba(0, 0, 0, 0.15);\n",
              "      filter: drop-shadow(0px 1px 2px rgba(0, 0, 0, 0.3));\n",
              "      fill: #FFFFFF;\n",
              "    }\n",
              "  </style>\n",
              "\n",
              "      <script>\n",
              "        const buttonEl =\n",
              "          document.querySelector('#df-e900d969-3955-4847-a3f4-2ae41f06cd96 button.colab-df-convert');\n",
              "        buttonEl.style.display =\n",
              "          google.colab.kernel.accessAllowed ? 'block' : 'none';\n",
              "\n",
              "        async function convertToInteractive(key) {\n",
              "          const element = document.querySelector('#df-e900d969-3955-4847-a3f4-2ae41f06cd96');\n",
              "          const dataTable =\n",
              "            await google.colab.kernel.invokeFunction('convertToInteractive',\n",
              "                                                     [key], {});\n",
              "          if (!dataTable) return;\n",
              "\n",
              "          const docLinkHtml = 'Like what you see? Visit the ' +\n",
              "            '<a target=\"_blank\" href=https://colab.research.google.com/notebooks/data_table.ipynb>data table notebook</a>'\n",
              "            + ' to learn more about interactive tables.';\n",
              "          element.innerHTML = '';\n",
              "          dataTable['output_type'] = 'display_data';\n",
              "          await google.colab.output.renderOutput(dataTable, element);\n",
              "          const docLink = document.createElement('div');\n",
              "          docLink.innerHTML = docLinkHtml;\n",
              "          element.appendChild(docLink);\n",
              "        }\n",
              "      </script>\n",
              "    </div>\n",
              "  </div>\n",
              "  "
            ]
          },
          "metadata": {},
          "execution_count": 56
        }
      ]
    },
    {
      "cell_type": "markdown",
      "source": [
        "행의 일부를 가져오고 싶을 경우, 아래와 같이 실행하면 된다."
      ],
      "metadata": {
        "id": "HCqXYA1GLJs9"
      }
    },
    {
      "cell_type": "code",
      "source": [
        "df[[\"지역\", \"2015\"]]"
      ],
      "metadata": {
        "id": "Z13tlqgJLH_Y",
        "colab": {
          "base_uri": "https://localhost:8080/",
          "height": 206
        },
        "outputId": "61fb977c-05f2-4c95-d358-9fe128469190"
      },
      "execution_count": 57,
      "outputs": [
        {
          "output_type": "execute_result",
          "data": {
            "text/plain": [
              "특성   지역     2015\n",
              "도시              \n",
              "서울  수도권  9904312\n",
              "부산  경상권  3448737\n",
              "인천  수도권  2890451\n",
              "대구  경상권  2466052"
            ],
            "text/html": [
              "\n",
              "  <div id=\"df-74f1f563-f216-46ad-9ada-69cc75edd492\">\n",
              "    <div class=\"colab-df-container\">\n",
              "      <div>\n",
              "<style scoped>\n",
              "    .dataframe tbody tr th:only-of-type {\n",
              "        vertical-align: middle;\n",
              "    }\n",
              "\n",
              "    .dataframe tbody tr th {\n",
              "        vertical-align: top;\n",
              "    }\n",
              "\n",
              "    .dataframe thead th {\n",
              "        text-align: right;\n",
              "    }\n",
              "</style>\n",
              "<table border=\"1\" class=\"dataframe\">\n",
              "  <thead>\n",
              "    <tr style=\"text-align: right;\">\n",
              "      <th>특성</th>\n",
              "      <th>지역</th>\n",
              "      <th>2015</th>\n",
              "    </tr>\n",
              "    <tr>\n",
              "      <th>도시</th>\n",
              "      <th></th>\n",
              "      <th></th>\n",
              "    </tr>\n",
              "  </thead>\n",
              "  <tbody>\n",
              "    <tr>\n",
              "      <th>서울</th>\n",
              "      <td>수도권</td>\n",
              "      <td>9904312</td>\n",
              "    </tr>\n",
              "    <tr>\n",
              "      <th>부산</th>\n",
              "      <td>경상권</td>\n",
              "      <td>3448737</td>\n",
              "    </tr>\n",
              "    <tr>\n",
              "      <th>인천</th>\n",
              "      <td>수도권</td>\n",
              "      <td>2890451</td>\n",
              "    </tr>\n",
              "    <tr>\n",
              "      <th>대구</th>\n",
              "      <td>경상권</td>\n",
              "      <td>2466052</td>\n",
              "    </tr>\n",
              "  </tbody>\n",
              "</table>\n",
              "</div>\n",
              "      <button class=\"colab-df-convert\" onclick=\"convertToInteractive('df-74f1f563-f216-46ad-9ada-69cc75edd492')\"\n",
              "              title=\"Convert this dataframe to an interactive table.\"\n",
              "              style=\"display:none;\">\n",
              "        \n",
              "  <svg xmlns=\"http://www.w3.org/2000/svg\" height=\"24px\"viewBox=\"0 0 24 24\"\n",
              "       width=\"24px\">\n",
              "    <path d=\"M0 0h24v24H0V0z\" fill=\"none\"/>\n",
              "    <path d=\"M18.56 5.44l.94 2.06.94-2.06 2.06-.94-2.06-.94-.94-2.06-.94 2.06-2.06.94zm-11 1L8.5 8.5l.94-2.06 2.06-.94-2.06-.94L8.5 2.5l-.94 2.06-2.06.94zm10 10l.94 2.06.94-2.06 2.06-.94-2.06-.94-.94-2.06-.94 2.06-2.06.94z\"/><path d=\"M17.41 7.96l-1.37-1.37c-.4-.4-.92-.59-1.43-.59-.52 0-1.04.2-1.43.59L10.3 9.45l-7.72 7.72c-.78.78-.78 2.05 0 2.83L4 21.41c.39.39.9.59 1.41.59.51 0 1.02-.2 1.41-.59l7.78-7.78 2.81-2.81c.8-.78.8-2.07 0-2.86zM5.41 20L4 18.59l7.72-7.72 1.47 1.35L5.41 20z\"/>\n",
              "  </svg>\n",
              "      </button>\n",
              "      \n",
              "  <style>\n",
              "    .colab-df-container {\n",
              "      display:flex;\n",
              "      flex-wrap:wrap;\n",
              "      gap: 12px;\n",
              "    }\n",
              "\n",
              "    .colab-df-convert {\n",
              "      background-color: #E8F0FE;\n",
              "      border: none;\n",
              "      border-radius: 50%;\n",
              "      cursor: pointer;\n",
              "      display: none;\n",
              "      fill: #1967D2;\n",
              "      height: 32px;\n",
              "      padding: 0 0 0 0;\n",
              "      width: 32px;\n",
              "    }\n",
              "\n",
              "    .colab-df-convert:hover {\n",
              "      background-color: #E2EBFA;\n",
              "      box-shadow: 0px 1px 2px rgba(60, 64, 67, 0.3), 0px 1px 3px 1px rgba(60, 64, 67, 0.15);\n",
              "      fill: #174EA6;\n",
              "    }\n",
              "\n",
              "    [theme=dark] .colab-df-convert {\n",
              "      background-color: #3B4455;\n",
              "      fill: #D2E3FC;\n",
              "    }\n",
              "\n",
              "    [theme=dark] .colab-df-convert:hover {\n",
              "      background-color: #434B5C;\n",
              "      box-shadow: 0px 1px 3px 1px rgba(0, 0, 0, 0.15);\n",
              "      filter: drop-shadow(0px 1px 2px rgba(0, 0, 0, 0.3));\n",
              "      fill: #FFFFFF;\n",
              "    }\n",
              "  </style>\n",
              "\n",
              "      <script>\n",
              "        const buttonEl =\n",
              "          document.querySelector('#df-74f1f563-f216-46ad-9ada-69cc75edd492 button.colab-df-convert');\n",
              "        buttonEl.style.display =\n",
              "          google.colab.kernel.accessAllowed ? 'block' : 'none';\n",
              "\n",
              "        async function convertToInteractive(key) {\n",
              "          const element = document.querySelector('#df-74f1f563-f216-46ad-9ada-69cc75edd492');\n",
              "          const dataTable =\n",
              "            await google.colab.kernel.invokeFunction('convertToInteractive',\n",
              "                                                     [key], {});\n",
              "          if (!dataTable) return;\n",
              "\n",
              "          const docLinkHtml = 'Like what you see? Visit the ' +\n",
              "            '<a target=\"_blank\" href=https://colab.research.google.com/notebooks/data_table.ipynb>data table notebook</a>'\n",
              "            + ' to learn more about interactive tables.';\n",
              "          element.innerHTML = '';\n",
              "          dataTable['output_type'] = 'display_data';\n",
              "          await google.colab.output.renderOutput(dataTable, element);\n",
              "          const docLink = document.createElement('div');\n",
              "          docLink.innerHTML = docLinkHtml;\n",
              "          element.appendChild(docLink);\n",
              "        }\n",
              "      </script>\n",
              "    </div>\n",
              "  </div>\n",
              "  "
            ]
          },
          "metadata": {},
          "execution_count": 57
        }
      ]
    },
    {
      "cell_type": "markdown",
      "metadata": {
        "school_cell_uuid": "af381d9b3eec4c949e934ae661bc5342",
        "id": "jUeELFuHSo--"
      },
      "source": [
        "### 개별 데이터 인덱싱"
      ]
    },
    {
      "cell_type": "markdown",
      "metadata": {
        "school_cell_uuid": "f7f20193b17142ac802842cebc0c209e",
        "id": "py6KzSdISo-_"
      },
      "source": [
        "데이터프레임에서 열 라벨로 시리즈를 인덱싱하면 시리즈가 된다. 이 시리즈를 다시 행 라벨로 인덱싱하면 개별 데이터가 나온다."
      ]
    },
    {
      "cell_type": "code",
      "metadata": {
        "school_cell_uuid": "433817f68392487099e06349875af087",
        "id": "LsarXZOPSo-_",
        "colab": {
          "base_uri": "https://localhost:8080/"
        },
        "outputId": "e95eb54d-878f-4f49-a658-bc35d2157c87"
      },
      "source": [
        "df[\"2015\"][\"서울\"]"
      ],
      "execution_count": 58,
      "outputs": [
        {
          "output_type": "execute_result",
          "data": {
            "text/plain": [
              "9904312"
            ]
          },
          "metadata": {},
          "execution_count": 58
        }
      ]
    },
    {
      "cell_type": "markdown",
      "metadata": {
        "id": "NCKRZ_z-So-_"
      },
      "source": [
        "지금까지의 데이터프레임 인덱싱 방법을 정리하면 다음과 같다."
      ]
    },
    {
      "cell_type": "markdown",
      "metadata": {
        "id": "yYr2co6ySo_A"
      },
      "source": [
        "| 인덱싱 값 | 가능 | 결과 | 자료형 | 추가사항 |\n",
        "|-|-|-|-|-|\n",
        "| 라벨 | O | 열 | 시리즈 | |\n",
        "| 라벨 리스트 | O | 열 | 데이터프레임 | |\n",
        "| 인덱스데이터(정수) | X |  |  | 열 라벨이 정수인 경우에는 라벨 인덱싱으로 인정 |\n",
        "| 인덱스데이터(정수) 슬라이스 | O | 행 | 데이터프레임 | |\n"
      ]
    },
    {
      "cell_type": "markdown",
      "source": [
        "#인공지능에서 pandas가 어떻게 쓰일까? \n",
        "- 인공지능의 경우, 기존에 존재하는 데이터들(환자의 간 크기, 간 무게, 간 둘레)을 통해서, 새로운 예측(간 질환 유무)를 하는 경우가 많다.\n",
        "- 예를 들면, 엑셀로 된 데이터를 불러와서, 데이터를 처리하는 경우가 있다.\n",
        "- 아래 그림을 참고하여, 앞으로 배울 내용을 살짝 맛봐보자."
      ],
      "metadata": {
        "id": "35qW6EbwnaTZ"
      }
    },
    {
      "cell_type": "markdown",
      "source": [
        "![pandas_1.png](data:image/png;base64,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)"
      ],
      "metadata": {
        "id": "tUmZlJjAnytp"
      }
    },
    {
      "cell_type": "markdown",
      "source": [
        "![AB.png](data:image/png;base64,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)"
      ],
      "metadata": {
        "id": "p2Qw17aSUvt8"
      }
    },
    {
      "cell_type": "markdown",
      "source": [
        "#연습 문제\n",
        "- 위 그림 A는 2020, 2021, 2022년의 국방 ICT 중간고사 평균점수를 나타낸다.\n",
        "- Q1) 오늘 배운 pandas 모듈을 활용하여, 그림 A와 같은 결과를 출력하시오.\n",
        "- Q2) 그림 B와 같이, 2021년 데이터만 따로 출력하시오."
      ],
      "metadata": {
        "id": "BYFWC85BUzPk"
      }
    },
    {
      "cell_type": "code",
      "source": [
        "#####여기에 연습문제 답안을 작성하세요#####\n",
        "\n",
        "import pandas as pd\n",
        "columns = [\"2020\", \"2021\", \"2022\"]\n",
        "index = [\"A1\", \"B1\", \"C1\"]\n",
        "data = {\n",
        "    \"2020\": [82.5, 84.0, 87.0],\n",
        "    \"2021\": [83.0, 88.2, 79.0],\n",
        "    \"2022\": [69.0, 55.0, 71.0]\n",
        "}\n",
        "df = pd.DataFrame(data, index=index, columns=columns)\n",
        "df"
      ],
      "metadata": {
        "id": "PXy-nchJUImz",
        "colab": {
          "base_uri": "https://localhost:8080/"
        },
        "outputId": "f69e6a80-ef2b-4646-cf7c-a9580c39d12b"
      },
      "execution_count": 60,
      "outputs": [
        {
          "output_type": "execute_result",
          "data": {
            "text/plain": [
              "A1    83.0\n",
              "B1    88.2\n",
              "C1    79.0\n",
              "Name: 2021, dtype: float64"
            ]
          },
          "metadata": {},
          "execution_count": 60
        }
      ]
    },
    {
      "cell_type": "code",
      "source": [
        "df[\"2021\"]"
      ],
      "metadata": {
        "colab": {
          "base_uri": "https://localhost:8080/"
        },
        "id": "h-DtOAC7c1Rv",
        "outputId": "d412c6e7-5aa9-48a2-def5-fdc39b75f833"
      },
      "execution_count": 61,
      "outputs": [
        {
          "output_type": "execute_result",
          "data": {
            "text/plain": [
              "A1    83.0\n",
              "B1    88.2\n",
              "C1    79.0\n",
              "Name: 2021, dtype: float64"
            ]
          },
          "metadata": {},
          "execution_count": 61
        }
      ]
    },
    {
      "cell_type": "code",
      "source": [],
      "metadata": {
        "id": "pIW1LAtpc37x"
      },
      "execution_count": null,
      "outputs": []
    }
  ]
}